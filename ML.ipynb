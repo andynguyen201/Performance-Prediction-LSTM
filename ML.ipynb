{
 "cells": [
  {
   "cell_type": "markdown",
   "metadata": {},
   "source": [
    "### Import Module"
   ]
  },
  {
   "cell_type": "code",
   "execution_count": 1,
   "metadata": {},
   "outputs": [],
   "source": [
    "import matplotlib.pyplot as plt\n",
    "import numpy as np\n",
    "import pandas as pd\n",
    "import seaborn as sns\n",
    "\n",
    "from keras import optimizers\n",
    "from keras.models import Sequential, load_model\n",
    "from keras.layers import Dense,Activation, LSTM, Dropout, TimeDistributed, Flatten\n",
    "# from keras.layers.normalization import BatchNormalization\n",
    "from tensorflow.keras.layers import BatchNormalization\n",
    "from keras.utils import np_utils\n",
    "from keras.callbacks import ModelCheckpoint\n",
    "\n",
    "from sklearn.utils import class_weight\n",
    "from sklearn.linear_model import LinearRegression\n",
    "from sklearn.svm import SVC \n",
    "from sklearn.cluster import KMeans\n",
    "from sklearn.ensemble import RandomForestClassifier\n",
    "from sklearn.metrics import confusion_matrix\n",
    "from sklearn.metrics import classification_report\n",
    "from sklearn.preprocessing import StandardScaler\n",
    "from math import sqrt\n",
    "from sklearn.metrics import mean_absolute_error\n",
    "from sklearn.metrics import mean_squared_error\n",
    "from collections import Counter"
   ]
  },
  {
   "cell_type": "markdown",
   "metadata": {},
   "source": [
    "### Data Preparation"
   ]
  },
  {
   "cell_type": "code",
   "execution_count": 2,
   "metadata": {},
   "outputs": [],
   "source": [
    "training_load = pd.read_csv('training_1961_2016.csv', delimiter=',')\n",
    "testing_2017_load = pd.read_csv('testing_2017.csv', delimiter=',')\n",
    "testing_2018_load = pd.read_csv('testing_2018.csv', delimiter=',')\n",
    "testing_2019_load = pd.read_csv('testing_2019.csv', delimiter=',')"
   ]
  },
  {
   "cell_type": "code",
   "execution_count": 3,
   "metadata": {},
   "outputs": [
    {
     "data": {
      "text/html": [
       "<div>\n",
       "<style scoped>\n",
       "    .dataframe tbody tr th:only-of-type {\n",
       "        vertical-align: middle;\n",
       "    }\n",
       "\n",
       "    .dataframe tbody tr th {\n",
       "        vertical-align: top;\n",
       "    }\n",
       "\n",
       "    .dataframe thead th {\n",
       "        text-align: right;\n",
       "    }\n",
       "</style>\n",
       "<table border=\"1\" class=\"dataframe\">\n",
       "  <thead>\n",
       "    <tr style=\"text-align: right;\">\n",
       "      <th></th>\n",
       "      <th>FirstYear_index</th>\n",
       "      <th>FirstYear_playerID</th>\n",
       "      <th>FirstYear_yearID</th>\n",
       "      <th>FirstYear_teamID</th>\n",
       "      <th>FirstYear_lgID</th>\n",
       "      <th>FirstYear_stint</th>\n",
       "      <th>FirstYear_G</th>\n",
       "      <th>FirstYear_AB</th>\n",
       "      <th>FirstYear_R</th>\n",
       "      <th>FirstYear_H</th>\n",
       "      <th>...</th>\n",
       "      <th>SixthYear_HBP</th>\n",
       "      <th>SixthYear_SH</th>\n",
       "      <th>SixthYear_SF</th>\n",
       "      <th>SixthYear_GIDP</th>\n",
       "      <th>SixthYear_nameFirst</th>\n",
       "      <th>SixthYear_nameLast</th>\n",
       "      <th>SixthYear_nameGiven</th>\n",
       "      <th>SixthYear_weight</th>\n",
       "      <th>SixthYear_height</th>\n",
       "      <th>SixthYear_age</th>\n",
       "    </tr>\n",
       "  </thead>\n",
       "  <tbody>\n",
       "    <tr>\n",
       "      <th>0</th>\n",
       "      <td>41261</td>\n",
       "      <td>aaronha01</td>\n",
       "      <td>1961</td>\n",
       "      <td>ML1</td>\n",
       "      <td>NL</td>\n",
       "      <td>1.0</td>\n",
       "      <td>155.0</td>\n",
       "      <td>603.0</td>\n",
       "      <td>115.0</td>\n",
       "      <td>197.0</td>\n",
       "      <td>...</td>\n",
       "      <td>1.0</td>\n",
       "      <td>0.0</td>\n",
       "      <td>8.0</td>\n",
       "      <td>14.0</td>\n",
       "      <td>Hank</td>\n",
       "      <td>Aaron</td>\n",
       "      <td>Henry Louis</td>\n",
       "      <td>180.0</td>\n",
       "      <td>72.0</td>\n",
       "      <td>32.0</td>\n",
       "    </tr>\n",
       "    <tr>\n",
       "      <th>1</th>\n",
       "      <td>41959</td>\n",
       "      <td>aaronha01</td>\n",
       "      <td>1962</td>\n",
       "      <td>ML1</td>\n",
       "      <td>NL</td>\n",
       "      <td>1.0</td>\n",
       "      <td>156.0</td>\n",
       "      <td>592.0</td>\n",
       "      <td>127.0</td>\n",
       "      <td>191.0</td>\n",
       "      <td>...</td>\n",
       "      <td>0.0</td>\n",
       "      <td>0.0</td>\n",
       "      <td>6.0</td>\n",
       "      <td>11.0</td>\n",
       "      <td>Hank</td>\n",
       "      <td>Aaron</td>\n",
       "      <td>Henry Louis</td>\n",
       "      <td>180.0</td>\n",
       "      <td>72.0</td>\n",
       "      <td>33.0</td>\n",
       "    </tr>\n",
       "    <tr>\n",
       "      <th>2</th>\n",
       "      <td>42719</td>\n",
       "      <td>aaronha01</td>\n",
       "      <td>1963</td>\n",
       "      <td>ML1</td>\n",
       "      <td>NL</td>\n",
       "      <td>1.0</td>\n",
       "      <td>161.0</td>\n",
       "      <td>631.0</td>\n",
       "      <td>121.0</td>\n",
       "      <td>201.0</td>\n",
       "      <td>...</td>\n",
       "      <td>1.0</td>\n",
       "      <td>0.0</td>\n",
       "      <td>5.0</td>\n",
       "      <td>21.0</td>\n",
       "      <td>Hank</td>\n",
       "      <td>Aaron</td>\n",
       "      <td>Henry Louis</td>\n",
       "      <td>180.0</td>\n",
       "      <td>72.0</td>\n",
       "      <td>34.0</td>\n",
       "    </tr>\n",
       "    <tr>\n",
       "      <th>3</th>\n",
       "      <td>43471</td>\n",
       "      <td>aaronha01</td>\n",
       "      <td>1964</td>\n",
       "      <td>ML1</td>\n",
       "      <td>NL</td>\n",
       "      <td>1.0</td>\n",
       "      <td>145.0</td>\n",
       "      <td>570.0</td>\n",
       "      <td>103.0</td>\n",
       "      <td>187.0</td>\n",
       "      <td>...</td>\n",
       "      <td>2.0</td>\n",
       "      <td>0.0</td>\n",
       "      <td>3.0</td>\n",
       "      <td>14.0</td>\n",
       "      <td>Hank</td>\n",
       "      <td>Aaron</td>\n",
       "      <td>Henry Louis</td>\n",
       "      <td>180.0</td>\n",
       "      <td>72.0</td>\n",
       "      <td>35.0</td>\n",
       "    </tr>\n",
       "    <tr>\n",
       "      <th>4</th>\n",
       "      <td>44225</td>\n",
       "      <td>aaronha01</td>\n",
       "      <td>1965</td>\n",
       "      <td>ML1</td>\n",
       "      <td>NL</td>\n",
       "      <td>1.0</td>\n",
       "      <td>150.0</td>\n",
       "      <td>570.0</td>\n",
       "      <td>109.0</td>\n",
       "      <td>181.0</td>\n",
       "      <td>...</td>\n",
       "      <td>2.0</td>\n",
       "      <td>0.0</td>\n",
       "      <td>6.0</td>\n",
       "      <td>13.0</td>\n",
       "      <td>Hank</td>\n",
       "      <td>Aaron</td>\n",
       "      <td>Henry Louis</td>\n",
       "      <td>180.0</td>\n",
       "      <td>72.0</td>\n",
       "      <td>36.0</td>\n",
       "    </tr>\n",
       "  </tbody>\n",
       "</table>\n",
       "<p>5 rows × 174 columns</p>\n",
       "</div>"
      ],
      "text/plain": [
       "   FirstYear_index FirstYear_playerID  FirstYear_yearID FirstYear_teamID  \\\n",
       "0            41261          aaronha01              1961              ML1   \n",
       "1            41959          aaronha01              1962              ML1   \n",
       "2            42719          aaronha01              1963              ML1   \n",
       "3            43471          aaronha01              1964              ML1   \n",
       "4            44225          aaronha01              1965              ML1   \n",
       "\n",
       "  FirstYear_lgID  FirstYear_stint  FirstYear_G  FirstYear_AB  FirstYear_R  \\\n",
       "0             NL              1.0        155.0         603.0        115.0   \n",
       "1             NL              1.0        156.0         592.0        127.0   \n",
       "2             NL              1.0        161.0         631.0        121.0   \n",
       "3             NL              1.0        145.0         570.0        103.0   \n",
       "4             NL              1.0        150.0         570.0        109.0   \n",
       "\n",
       "   FirstYear_H  ...  SixthYear_HBP  SixthYear_SH  SixthYear_SF  \\\n",
       "0        197.0  ...            1.0           0.0           8.0   \n",
       "1        191.0  ...            0.0           0.0           6.0   \n",
       "2        201.0  ...            1.0           0.0           5.0   \n",
       "3        187.0  ...            2.0           0.0           3.0   \n",
       "4        181.0  ...            2.0           0.0           6.0   \n",
       "\n",
       "   SixthYear_GIDP  SixthYear_nameFirst  SixthYear_nameLast  \\\n",
       "0            14.0                 Hank               Aaron   \n",
       "1            11.0                 Hank               Aaron   \n",
       "2            21.0                 Hank               Aaron   \n",
       "3            14.0                 Hank               Aaron   \n",
       "4            13.0                 Hank               Aaron   \n",
       "\n",
       "   SixthYear_nameGiven  SixthYear_weight  SixthYear_height  SixthYear_age  \n",
       "0          Henry Louis             180.0              72.0           32.0  \n",
       "1          Henry Louis             180.0              72.0           33.0  \n",
       "2          Henry Louis             180.0              72.0           34.0  \n",
       "3          Henry Louis             180.0              72.0           35.0  \n",
       "4          Henry Louis             180.0              72.0           36.0  \n",
       "\n",
       "[5 rows x 174 columns]"
      ]
     },
     "execution_count": 3,
     "metadata": {},
     "output_type": "execute_result"
    }
   ],
   "source": [
    "training_load.head(5)"
   ]
  },
  {
   "cell_type": "code",
   "execution_count": 5,
   "metadata": {},
   "outputs": [],
   "source": [
    "var_name = ['index', 'playerID', 'teamID', 'lgID', 'stint','nameFirst', 'nameLast', 'nameGiven']\n",
    "\n",
    "First = []\n",
    "for i in range(len(var_name)):\n",
    "    First.append(f\"FirstYear_{var_name[i]}\")\n",
    "\n",
    "Second = []\n",
    "for i in range(len(var_name)):\n",
    "    Second.append(f\"SecondYear_{var_name[i]}\")\n",
    "\n",
    "Third = []\n",
    "for i in range(len(var_name)):\n",
    "    Third.append(f\"ThirdYear_{var_name[i]}\")\n",
    "    \n",
    "Fourth = []\n",
    "for i in range(len(var_name)):\n",
    "    Fourth.append(f\"FourthYear_{var_name[i]}\")\n",
    "    \n",
    "Fifth = []\n",
    "for i in range(len(var_name)):\n",
    "    Fifth.append(f\"FifthYear_{var_name[i]}\")\n",
    "    \n",
    "FileColumnName = First + Second + Third + Fourth + Fifth"
   ]
  },
  {
   "cell_type": "code",
   "execution_count": 6,
   "metadata": {},
   "outputs": [],
   "source": [
    "x_train = training_load.iloc[:,0:-29].drop(FileColumnName, axis=1).values\n",
    "y_train = training_load['SixthYear_HR'].values\n",
    "x_test_2017 = testing_2017_load.iloc[:,0:-29].drop(FileColumnName, axis=1).values\n",
    "y_test_2017 = testing_2017_load['SixthYear_HR'].values\n",
    "x_test_2018 = testing_2018_load.iloc[:,0:-29].drop(FileColumnName, axis=1).values\n",
    "y_test_2018 = testing_2018_load['SixthYear_HR'].values\n",
    "x_test_2019 = testing_2019_load.iloc[:,0:-29].drop(FileColumnName, axis=1).values\n",
    "y_test_2019 = testing_2019_load['SixthYear_HR'].values"
   ]
  },
  {
   "cell_type": "code",
   "execution_count": 7,
   "metadata": {},
   "outputs": [],
   "source": [
    "y_train_class = np.select([np.floor(y_train/5) < 8, np.floor(y_train/5) > 7], [np.floor(y_train/5), 8])\n",
    "y_test_2017_class = np.select([np.floor(y_test_2017/5) < 8, np.floor(y_test_2017/5) > 7], [np.floor(y_test_2017/5), 8])\n",
    "y_test_2018_class = np.select([np.floor(y_test_2018/5) < 8, np.floor(y_test_2018/5) > 7], [np.floor(y_test_2018/5), 8])\n",
    "y_test_2019_class = np.select([np.floor(y_test_2019/5) < 8, np.floor(y_test_2019/5) > 7], [np.floor(y_test_2019/5), 8])"
   ]
  },
  {
   "cell_type": "code",
   "execution_count": 8,
   "metadata": {},
   "outputs": [],
   "source": [
    "y_train_cat = np_utils.to_categorical(y_train_class, 9)\n",
    "y_test_2017_cat = np_utils.to_categorical(y_test_2017_class, 9)\n",
    "y_test_2018_cat = np_utils.to_categorical(y_test_2018_class, 9)\n",
    "y_test_2019_cat = np_utils.to_categorical(y_test_2019_class, 9)"
   ]
  },
  {
   "cell_type": "code",
   "execution_count": 9,
   "metadata": {},
   "outputs": [],
   "source": [
    "x_train_2017 = np.concatenate((x_train, x_test_2017))\n",
    "y_train_2017 = np.concatenate((y_train, y_test_2017))\n",
    "y_train_2017_class = np.concatenate((y_train_class, y_test_2017_class))\n",
    "y_train_2017_cat = np.concatenate((y_train_cat, y_test_2017_cat))"
   ]
  },
  {
   "cell_type": "code",
   "execution_count": 10,
   "metadata": {},
   "outputs": [],
   "source": [
    "x_train_2018 = np.concatenate((x_train, x_test_2017, x_test_2018))\n",
    "y_train_2018 = np.concatenate((y_train, y_test_2017, y_test_2018))\n",
    "y_train_2018_class = np.concatenate((y_train_class, y_test_2017_class, y_test_2018_class))\n",
    "y_train_2018_cat = np.concatenate((y_train_cat, y_test_2017_cat, y_test_2018_cat))"
   ]
  },
  {
   "cell_type": "code",
   "execution_count": 11,
   "metadata": {},
   "outputs": [],
   "source": [
    "testing_2018 = testing_2018_load.drop(FileColumnName, axis=1).copy()\n",
    "testing_2019 = testing_2019_load.drop(FileColumnName, axis=1).copy()"
   ]
  },
  {
   "cell_type": "code",
   "execution_count": 12,
   "metadata": {},
   "outputs": [],
   "source": [
    "from sklearn.utils import class_weight\n",
    "class_weight = np.array(class_weight.compute_class_weight(class_weight='balanced'\n",
    "                                               ,classes=np.unique(y_train_class)\n",
    "                                               ,y=y_train_class))"
   ]
  },
  {
   "cell_type": "code",
   "execution_count": 13,
   "metadata": {},
   "outputs": [],
   "source": [
    "scaler = StandardScaler().fit(training_load.iloc[:,0:-29].drop(FileColumnName, axis=1).values)"
   ]
  },
  {
   "cell_type": "markdown",
   "metadata": {},
   "source": [
    "### Linear Regression"
   ]
  },
  {
   "cell_type": "code",
   "execution_count": 14,
   "metadata": {},
   "outputs": [
    {
     "data": {
      "text/html": [
       "<style>#sk-container-id-1 {color: black;background-color: white;}#sk-container-id-1 pre{padding: 0;}#sk-container-id-1 div.sk-toggleable {background-color: white;}#sk-container-id-1 label.sk-toggleable__label {cursor: pointer;display: block;width: 100%;margin-bottom: 0;padding: 0.3em;box-sizing: border-box;text-align: center;}#sk-container-id-1 label.sk-toggleable__label-arrow:before {content: \"▸\";float: left;margin-right: 0.25em;color: #696969;}#sk-container-id-1 label.sk-toggleable__label-arrow:hover:before {color: black;}#sk-container-id-1 div.sk-estimator:hover label.sk-toggleable__label-arrow:before {color: black;}#sk-container-id-1 div.sk-toggleable__content {max-height: 0;max-width: 0;overflow: hidden;text-align: left;background-color: #f0f8ff;}#sk-container-id-1 div.sk-toggleable__content pre {margin: 0.2em;color: black;border-radius: 0.25em;background-color: #f0f8ff;}#sk-container-id-1 input.sk-toggleable__control:checked~div.sk-toggleable__content {max-height: 200px;max-width: 100%;overflow: auto;}#sk-container-id-1 input.sk-toggleable__control:checked~label.sk-toggleable__label-arrow:before {content: \"▾\";}#sk-container-id-1 div.sk-estimator input.sk-toggleable__control:checked~label.sk-toggleable__label {background-color: #d4ebff;}#sk-container-id-1 div.sk-label input.sk-toggleable__control:checked~label.sk-toggleable__label {background-color: #d4ebff;}#sk-container-id-1 input.sk-hidden--visually {border: 0;clip: rect(1px 1px 1px 1px);clip: rect(1px, 1px, 1px, 1px);height: 1px;margin: -1px;overflow: hidden;padding: 0;position: absolute;width: 1px;}#sk-container-id-1 div.sk-estimator {font-family: monospace;background-color: #f0f8ff;border: 1px dotted black;border-radius: 0.25em;box-sizing: border-box;margin-bottom: 0.5em;}#sk-container-id-1 div.sk-estimator:hover {background-color: #d4ebff;}#sk-container-id-1 div.sk-parallel-item::after {content: \"\";width: 100%;border-bottom: 1px solid gray;flex-grow: 1;}#sk-container-id-1 div.sk-label:hover label.sk-toggleable__label {background-color: #d4ebff;}#sk-container-id-1 div.sk-serial::before {content: \"\";position: absolute;border-left: 1px solid gray;box-sizing: border-box;top: 0;bottom: 0;left: 50%;z-index: 0;}#sk-container-id-1 div.sk-serial {display: flex;flex-direction: column;align-items: center;background-color: white;padding-right: 0.2em;padding-left: 0.2em;position: relative;}#sk-container-id-1 div.sk-item {position: relative;z-index: 1;}#sk-container-id-1 div.sk-parallel {display: flex;align-items: stretch;justify-content: center;background-color: white;position: relative;}#sk-container-id-1 div.sk-item::before, #sk-container-id-1 div.sk-parallel-item::before {content: \"\";position: absolute;border-left: 1px solid gray;box-sizing: border-box;top: 0;bottom: 0;left: 50%;z-index: -1;}#sk-container-id-1 div.sk-parallel-item {display: flex;flex-direction: column;z-index: 1;position: relative;background-color: white;}#sk-container-id-1 div.sk-parallel-item:first-child::after {align-self: flex-end;width: 50%;}#sk-container-id-1 div.sk-parallel-item:last-child::after {align-self: flex-start;width: 50%;}#sk-container-id-1 div.sk-parallel-item:only-child::after {width: 0;}#sk-container-id-1 div.sk-dashed-wrapped {border: 1px dashed gray;margin: 0 0.4em 0.5em 0.4em;box-sizing: border-box;padding-bottom: 0.4em;background-color: white;}#sk-container-id-1 div.sk-label label {font-family: monospace;font-weight: bold;display: inline-block;line-height: 1.2em;}#sk-container-id-1 div.sk-label-container {text-align: center;}#sk-container-id-1 div.sk-container {/* jupyter's `normalize.less` sets `[hidden] { display: none; }` but bootstrap.min.css set `[hidden] { display: none !important; }` so we also need the `!important` here to be able to override the default hidden behavior on the sphinx rendered scikit-learn.org. See: https://github.com/scikit-learn/scikit-learn/issues/21755 */display: inline-block !important;position: relative;}#sk-container-id-1 div.sk-text-repr-fallback {display: none;}</style><div id=\"sk-container-id-1\" class=\"sk-top-container\"><div class=\"sk-text-repr-fallback\"><pre>LinearRegression()</pre><b>In a Jupyter environment, please rerun this cell to show the HTML representation or trust the notebook. <br />On GitHub, the HTML representation is unable to render, please try loading this page with nbviewer.org.</b></div><div class=\"sk-container\" hidden><div class=\"sk-item\"><div class=\"sk-estimator sk-toggleable\"><input class=\"sk-toggleable__control sk-hidden--visually\" id=\"sk-estimator-id-1\" type=\"checkbox\" checked><label for=\"sk-estimator-id-1\" class=\"sk-toggleable__label sk-toggleable__label-arrow\">LinearRegression</label><div class=\"sk-toggleable__content\"><pre>LinearRegression()</pre></div></div></div></div></div>"
      ],
      "text/plain": [
       "LinearRegression()"
      ]
     },
     "execution_count": 14,
     "metadata": {},
     "output_type": "execute_result"
    }
   ],
   "source": [
    "regr_2017 = LinearRegression()\n",
    "regr_2017.fit(x_train_2017,y_train_2017)"
   ]
  },
  {
   "cell_type": "code",
   "execution_count": 15,
   "metadata": {},
   "outputs": [
    {
     "name": "stdout",
     "output_type": "stream",
     "text": [
      "答對：0.0435\n",
      "正負1：0.1739\n",
      "正負3：0.4130\n",
      "正負5：0.6033\n",
      "正負10：0.9022\n"
     ]
    }
   ],
   "source": [
    "t = 0\n",
    "a = 0\n",
    "b = 0\n",
    "c = 0\n",
    "d = 0\n",
    "g = []\n",
    "l = []\n",
    "m = []\n",
    "m1 = []\n",
    "n = []\n",
    "n1 = []\n",
    "p = []\n",
    "p1 = []\n",
    "q = []\n",
    "q1 = []\n",
    "predictions = regr_2017.predict(x_test_2018)\n",
    "for i in range(len(y_test_2018)):\n",
    "    k = np.round(predictions)[i] - y_test_2018[i]\n",
    "    if abs(k) < 11:\n",
    "        d += 1\n",
    "        g.append(y_test_2018[i])\n",
    "        if abs(k) < 6:\n",
    "            c += 1\n",
    "            l.append(y_test_2018[i])\n",
    "            if abs(k) < 4:\n",
    "                b += 1\n",
    "                m.append(y_test_2018[i])\n",
    "                m1.append(i)\n",
    "                if abs(k) < 2:\n",
    "                    a += 1\n",
    "                    n.append(y_test_2018[i])\n",
    "                    n1.append(i)\n",
    "                    if abs(k) == 0:\n",
    "                        t += 1\n",
    "                        p.append(y_test_2018[i])\n",
    "                        p1.append(i)\n",
    "    else:\n",
    "        q.append(y_test_2018[i])\n",
    "        q1.append(i)\n",
    "print(\"correct answer：%.4f\" % (t/len(y_test_2018)))\n",
    "print(\"plus or minus 1：%.4f\" % (a/len(y_test_2018)))\n",
    "print(\"plus or minus 3：%.4f\" % (b/len(y_test_2018)))\n",
    "print(\"plus or minus 5：%.4f\" % (c/len(y_test_2018)))\n",
    "print(\"plus or minus 10：%.4f\" % (d/len(y_test_2018)))"
   ]
  },
  {
   "cell_type": "code",
   "execution_count": 16,
   "metadata": {},
   "outputs": [
    {
     "name": "stdout",
     "output_type": "stream",
     "text": [
      "mean_absolute_error: 5.205214881378671\n",
      "mean_squared_error: 43.39065000137966\n",
      "rmse: 6.587157960864432\n"
     ]
    }
   ],
   "source": [
    "print(\"mean_absolute_error:\",mean_absolute_error(predictions,y_test_2018))\n",
    "print(\"mean_squared_error:\",mean_squared_error(predictions,y_test_2018))\n",
    "print(\"rmse:\",sqrt(mean_squared_error(predictions,y_test_2018)))"
   ]
  },
  {
   "cell_type": "code",
   "execution_count": 17,
   "metadata": {},
   "outputs": [
    {
     "data": {
      "text/plain": [
       "Counter({10.0: 2, 0.0: 1, 5.0: 1, 16.0: 1, 20.0: 1, 22.0: 1, 23.0: 1})"
      ]
     },
     "execution_count": 17,
     "metadata": {},
     "output_type": "execute_result"
    }
   ],
   "source": [
    "Counter(sorted(p))"
   ]
  },
  {
   "cell_type": "code",
   "execution_count": 18,
   "metadata": {},
   "outputs": [
    {
     "data": {
      "text/plain": [
       "Counter({9.0: 3,\n",
       "         10.0: 3,\n",
       "         0.0: 2,\n",
       "         2.0: 2,\n",
       "         4.0: 2,\n",
       "         5.0: 2,\n",
       "         11.0: 2,\n",
       "         21.0: 2,\n",
       "         23.0: 2,\n",
       "         1.0: 1,\n",
       "         3.0: 1,\n",
       "         6.0: 1,\n",
       "         12.0: 1,\n",
       "         13.0: 1,\n",
       "         14.0: 1,\n",
       "         15.0: 1,\n",
       "         16.0: 1,\n",
       "         19.0: 1,\n",
       "         20.0: 1,\n",
       "         22.0: 1,\n",
       "         32.0: 1})"
      ]
     },
     "execution_count": 18,
     "metadata": {},
     "output_type": "execute_result"
    }
   ],
   "source": [
    "Counter(sorted(n))"
   ]
  },
  {
   "cell_type": "code",
   "execution_count": 19,
   "metadata": {},
   "outputs": [
    {
     "data": {
      "text/plain": [
       "Counter({1.0: 6,\n",
       "         10.0: 6,\n",
       "         6.0: 5,\n",
       "         9.0: 5,\n",
       "         11.0: 5,\n",
       "         4.0: 4,\n",
       "         5.0: 4,\n",
       "         8.0: 4,\n",
       "         14.0: 4,\n",
       "         15.0: 4,\n",
       "         2.0: 3,\n",
       "         12.0: 3,\n",
       "         21.0: 3,\n",
       "         0.0: 2,\n",
       "         3.0: 2,\n",
       "         13.0: 2,\n",
       "         16.0: 2,\n",
       "         19.0: 2,\n",
       "         20.0: 2,\n",
       "         23.0: 2,\n",
       "         7.0: 1,\n",
       "         18.0: 1,\n",
       "         22.0: 1,\n",
       "         24.0: 1,\n",
       "         32.0: 1,\n",
       "         38.0: 1})"
      ]
     },
     "execution_count": 19,
     "metadata": {},
     "output_type": "execute_result"
    }
   ],
   "source": [
    "Counter(sorted(m))"
   ]
  },
  {
   "cell_type": "code",
   "execution_count": 20,
   "metadata": {},
   "outputs": [
    {
     "data": {
      "text/plain": [
       "Counter({9.0: 2,\n",
       "         23.0: 2,\n",
       "         36.0: 2,\n",
       "         2.0: 1,\n",
       "         3.0: 1,\n",
       "         4.0: 1,\n",
       "         6.0: 1,\n",
       "         8.0: 1,\n",
       "         10.0: 1,\n",
       "         12.0: 1,\n",
       "         22.0: 1,\n",
       "         27.0: 1,\n",
       "         39.0: 1,\n",
       "         43.0: 1,\n",
       "         48.0: 1})"
      ]
     },
     "execution_count": 20,
     "metadata": {},
     "output_type": "execute_result"
    }
   ],
   "source": [
    "Counter(sorted(q))"
   ]
  },
  {
   "cell_type": "code",
   "execution_count": 21,
   "metadata": {},
   "outputs": [
    {
     "name": "stdout",
     "output_type": "stream",
     "text": [
      "0: [71, 77, 83, 108, 119, 129, 131, 159]\n",
      "1: [2, 11, 13, 16, 22, 34, 47, 50, 58, 62, 71, 73, 77, 83, 107, 108, 114, 115, 119, 123, 129, 131, 133, 144, 152, 154, 155, 158, 159, 162, 180, 182]\n",
      "3: [1, 2, 8, 10, 11, 13, 15, 16, 17, 22, 23, 28, 34, 39, 47, 48, 49, 50, 51, 54, 58, 59, 60, 62, 69, 70, 71, 73, 77, 78, 81, 83, 86, 90, 91, 92, 94, 97, 98, 99, 107, 108, 113, 114, 115, 116, 119, 120, 123, 124, 129, 131, 133, 136, 142, 144, 146, 152, 154, 155, 157, 158, 159, 160, 161, 162, 165, 166, 169, 171, 173, 176, 177, 178, 180, 182]\n",
      "NA: [9, 18, 21, 24, 25, 30, 38, 41, 44, 52, 87, 88, 104, 111, 145, 167, 175, 179]\n"
     ]
    }
   ],
   "source": [
    "print('0:',p1)\n",
    "print('1:',n1)\n",
    "print('3:',m1)\n",
    "print('NA:',q1)"
   ]
  },
  {
   "cell_type": "code",
   "execution_count": 22,
   "metadata": {},
   "outputs": [],
   "source": [
    "regr_2018_dataframe = testing_2018.copy()\n",
    "regr_2018_dataframe['Prediction'] = np.round(predictions)\n",
    "regr_2018_dataframe['Difference'] = regr_2018_dataframe.SixthYear_HR - regr_2018_dataframe.Prediction"
   ]
  },
  {
   "cell_type": "code",
   "execution_count": 23,
   "metadata": {},
   "outputs": [
    {
     "data": {
      "text/html": [
       "<div>\n",
       "<style scoped>\n",
       "    .dataframe tbody tr th:only-of-type {\n",
       "        vertical-align: middle;\n",
       "    }\n",
       "\n",
       "    .dataframe tbody tr th {\n",
       "        vertical-align: top;\n",
       "    }\n",
       "\n",
       "    .dataframe thead th {\n",
       "        text-align: right;\n",
       "    }\n",
       "</style>\n",
       "<table border=\"1\" class=\"dataframe\">\n",
       "  <thead>\n",
       "    <tr style=\"text-align: right;\">\n",
       "      <th></th>\n",
       "      <th>FirstYear_yearID</th>\n",
       "      <th>FirstYear_G</th>\n",
       "      <th>FirstYear_AB</th>\n",
       "      <th>FirstYear_R</th>\n",
       "      <th>FirstYear_H</th>\n",
       "      <th>FirstYear_2B</th>\n",
       "      <th>FirstYear_3B</th>\n",
       "      <th>FirstYear_HR</th>\n",
       "      <th>FirstYear_RBI</th>\n",
       "      <th>FirstYear_SB</th>\n",
       "      <th>...</th>\n",
       "      <th>SixthYear_SF</th>\n",
       "      <th>SixthYear_GIDP</th>\n",
       "      <th>SixthYear_nameFirst</th>\n",
       "      <th>SixthYear_nameLast</th>\n",
       "      <th>SixthYear_nameGiven</th>\n",
       "      <th>SixthYear_weight</th>\n",
       "      <th>SixthYear_height</th>\n",
       "      <th>SixthYear_age</th>\n",
       "      <th>Prediction</th>\n",
       "      <th>Difference</th>\n",
       "    </tr>\n",
       "  </thead>\n",
       "  <tbody>\n",
       "    <tr>\n",
       "      <th>38</th>\n",
       "      <td>2013</td>\n",
       "      <td>56.0</td>\n",
       "      <td>136.0</td>\n",
       "      <td>27.0</td>\n",
       "      <td>38.0</td>\n",
       "      <td>10.0</td>\n",
       "      <td>0.0</td>\n",
       "      <td>11.0</td>\n",
       "      <td>27.0</td>\n",
       "      <td>3.0</td>\n",
       "      <td>...</td>\n",
       "      <td>7.0</td>\n",
       "      <td>16.0</td>\n",
       "      <td>Khris</td>\n",
       "      <td>Davis</td>\n",
       "      <td>Khristopher Adrian</td>\n",
       "      <td>205.0</td>\n",
       "      <td>71.0</td>\n",
       "      <td>31.0</td>\n",
       "      <td>30.0</td>\n",
       "      <td>18.0</td>\n",
       "    </tr>\n",
       "    <tr>\n",
       "      <th>111</th>\n",
       "      <td>2013</td>\n",
       "      <td>86.0</td>\n",
       "      <td>296.0</td>\n",
       "      <td>24.0</td>\n",
       "      <td>74.0</td>\n",
       "      <td>17.0</td>\n",
       "      <td>0.0</td>\n",
       "      <td>7.0</td>\n",
       "      <td>36.0</td>\n",
       "      <td>2.0</td>\n",
       "      <td>...</td>\n",
       "      <td>7.0</td>\n",
       "      <td>19.0</td>\n",
       "      <td>J. D.</td>\n",
       "      <td>Martinez</td>\n",
       "      <td>Julio Daniel</td>\n",
       "      <td>230.0</td>\n",
       "      <td>75.0</td>\n",
       "      <td>31.0</td>\n",
       "      <td>29.0</td>\n",
       "      <td>14.0</td>\n",
       "    </tr>\n",
       "  </tbody>\n",
       "</table>\n",
       "<p>2 rows × 136 columns</p>\n",
       "</div>"
      ],
      "text/plain": [
       "     FirstYear_yearID  FirstYear_G  FirstYear_AB  FirstYear_R  FirstYear_H  \\\n",
       "38               2013         56.0         136.0         27.0         38.0   \n",
       "111              2013         86.0         296.0         24.0         74.0   \n",
       "\n",
       "     FirstYear_2B  FirstYear_3B  FirstYear_HR  FirstYear_RBI  FirstYear_SB  \\\n",
       "38           10.0           0.0          11.0           27.0           3.0   \n",
       "111          17.0           0.0           7.0           36.0           2.0   \n",
       "\n",
       "     ...  SixthYear_SF  SixthYear_GIDP  SixthYear_nameFirst  \\\n",
       "38   ...           7.0            16.0                Khris   \n",
       "111  ...           7.0            19.0                J. D.   \n",
       "\n",
       "     SixthYear_nameLast  SixthYear_nameGiven  SixthYear_weight  \\\n",
       "38                Davis   Khristopher Adrian             205.0   \n",
       "111            Martinez         Julio Daniel             230.0   \n",
       "\n",
       "     SixthYear_height  SixthYear_age  Prediction  Difference  \n",
       "38               71.0           31.0        30.0        18.0  \n",
       "111              75.0           31.0        29.0        14.0  \n",
       "\n",
       "[2 rows x 136 columns]"
      ]
     },
     "execution_count": 23,
     "metadata": {},
     "output_type": "execute_result"
    }
   ],
   "source": [
    "regr_2018_dataframe[regr_2018_dataframe.SixthYear_HR > 39]"
   ]
  },
  {
   "cell_type": "code",
   "execution_count": 24,
   "metadata": {},
   "outputs": [
    {
     "data": {
      "text/html": [
       "<style>#sk-container-id-2 {color: black;background-color: white;}#sk-container-id-2 pre{padding: 0;}#sk-container-id-2 div.sk-toggleable {background-color: white;}#sk-container-id-2 label.sk-toggleable__label {cursor: pointer;display: block;width: 100%;margin-bottom: 0;padding: 0.3em;box-sizing: border-box;text-align: center;}#sk-container-id-2 label.sk-toggleable__label-arrow:before {content: \"▸\";float: left;margin-right: 0.25em;color: #696969;}#sk-container-id-2 label.sk-toggleable__label-arrow:hover:before {color: black;}#sk-container-id-2 div.sk-estimator:hover label.sk-toggleable__label-arrow:before {color: black;}#sk-container-id-2 div.sk-toggleable__content {max-height: 0;max-width: 0;overflow: hidden;text-align: left;background-color: #f0f8ff;}#sk-container-id-2 div.sk-toggleable__content pre {margin: 0.2em;color: black;border-radius: 0.25em;background-color: #f0f8ff;}#sk-container-id-2 input.sk-toggleable__control:checked~div.sk-toggleable__content {max-height: 200px;max-width: 100%;overflow: auto;}#sk-container-id-2 input.sk-toggleable__control:checked~label.sk-toggleable__label-arrow:before {content: \"▾\";}#sk-container-id-2 div.sk-estimator input.sk-toggleable__control:checked~label.sk-toggleable__label {background-color: #d4ebff;}#sk-container-id-2 div.sk-label input.sk-toggleable__control:checked~label.sk-toggleable__label {background-color: #d4ebff;}#sk-container-id-2 input.sk-hidden--visually {border: 0;clip: rect(1px 1px 1px 1px);clip: rect(1px, 1px, 1px, 1px);height: 1px;margin: -1px;overflow: hidden;padding: 0;position: absolute;width: 1px;}#sk-container-id-2 div.sk-estimator {font-family: monospace;background-color: #f0f8ff;border: 1px dotted black;border-radius: 0.25em;box-sizing: border-box;margin-bottom: 0.5em;}#sk-container-id-2 div.sk-estimator:hover {background-color: #d4ebff;}#sk-container-id-2 div.sk-parallel-item::after {content: \"\";width: 100%;border-bottom: 1px solid gray;flex-grow: 1;}#sk-container-id-2 div.sk-label:hover label.sk-toggleable__label {background-color: #d4ebff;}#sk-container-id-2 div.sk-serial::before {content: \"\";position: absolute;border-left: 1px solid gray;box-sizing: border-box;top: 0;bottom: 0;left: 50%;z-index: 0;}#sk-container-id-2 div.sk-serial {display: flex;flex-direction: column;align-items: center;background-color: white;padding-right: 0.2em;padding-left: 0.2em;position: relative;}#sk-container-id-2 div.sk-item {position: relative;z-index: 1;}#sk-container-id-2 div.sk-parallel {display: flex;align-items: stretch;justify-content: center;background-color: white;position: relative;}#sk-container-id-2 div.sk-item::before, #sk-container-id-2 div.sk-parallel-item::before {content: \"\";position: absolute;border-left: 1px solid gray;box-sizing: border-box;top: 0;bottom: 0;left: 50%;z-index: -1;}#sk-container-id-2 div.sk-parallel-item {display: flex;flex-direction: column;z-index: 1;position: relative;background-color: white;}#sk-container-id-2 div.sk-parallel-item:first-child::after {align-self: flex-end;width: 50%;}#sk-container-id-2 div.sk-parallel-item:last-child::after {align-self: flex-start;width: 50%;}#sk-container-id-2 div.sk-parallel-item:only-child::after {width: 0;}#sk-container-id-2 div.sk-dashed-wrapped {border: 1px dashed gray;margin: 0 0.4em 0.5em 0.4em;box-sizing: border-box;padding-bottom: 0.4em;background-color: white;}#sk-container-id-2 div.sk-label label {font-family: monospace;font-weight: bold;display: inline-block;line-height: 1.2em;}#sk-container-id-2 div.sk-label-container {text-align: center;}#sk-container-id-2 div.sk-container {/* jupyter's `normalize.less` sets `[hidden] { display: none; }` but bootstrap.min.css set `[hidden] { display: none !important; }` so we also need the `!important` here to be able to override the default hidden behavior on the sphinx rendered scikit-learn.org. See: https://github.com/scikit-learn/scikit-learn/issues/21755 */display: inline-block !important;position: relative;}#sk-container-id-2 div.sk-text-repr-fallback {display: none;}</style><div id=\"sk-container-id-2\" class=\"sk-top-container\"><div class=\"sk-text-repr-fallback\"><pre>LinearRegression()</pre><b>In a Jupyter environment, please rerun this cell to show the HTML representation or trust the notebook. <br />On GitHub, the HTML representation is unable to render, please try loading this page with nbviewer.org.</b></div><div class=\"sk-container\" hidden><div class=\"sk-item\"><div class=\"sk-estimator sk-toggleable\"><input class=\"sk-toggleable__control sk-hidden--visually\" id=\"sk-estimator-id-2\" type=\"checkbox\" checked><label for=\"sk-estimator-id-2\" class=\"sk-toggleable__label sk-toggleable__label-arrow\">LinearRegression</label><div class=\"sk-toggleable__content\"><pre>LinearRegression()</pre></div></div></div></div></div>"
      ],
      "text/plain": [
       "LinearRegression()"
      ]
     },
     "execution_count": 24,
     "metadata": {},
     "output_type": "execute_result"
    }
   ],
   "source": [
    "regr_2018 = LinearRegression()\n",
    "regr_2018.fit(x_train_2018,y_train_2018)"
   ]
  },
  {
   "cell_type": "code",
   "execution_count": 25,
   "metadata": {},
   "outputs": [
    {
     "name": "stdout",
     "output_type": "stream",
     "text": [
      "答對：0.0314\n",
      "正負1：0.1466\n",
      "正負3：0.3874\n",
      "正負5：0.5131\n",
      "正負10：0.8010\n"
     ]
    }
   ],
   "source": [
    "t = 0\n",
    "a = 0\n",
    "b = 0\n",
    "c = 0\n",
    "d = 0\n",
    "g = []\n",
    "l = []\n",
    "m = []\n",
    "m1 = []\n",
    "n = []\n",
    "n1 = []\n",
    "p = []\n",
    "p1 = []\n",
    "q = []\n",
    "q1 = []\n",
    "predictions = regr_2018.predict(x_test_2019)\n",
    "for i in range(len(y_test_2019)):\n",
    "    k = np.round(predictions)[i] - y_test_2019[i]\n",
    "    if abs(k) < 11:\n",
    "        d += 1\n",
    "        g.append(y_test_2019[i])\n",
    "        if abs(k) < 6:\n",
    "            c += 1\n",
    "            l.append(y_test_2019[i])\n",
    "            if abs(k) < 4:\n",
    "                b += 1\n",
    "                m.append(y_test_2019[i])\n",
    "                m1.append(i)\n",
    "                if abs(k) < 2:\n",
    "                    a += 1\n",
    "                    n.append(y_test_2019[i])\n",
    "                    n1.append(i)\n",
    "                    if abs(k) == 0:\n",
    "                        t += 1\n",
    "                        p.append(y_test_2019[i])\n",
    "                        p1.append(i)\n",
    "    else:\n",
    "        q.append(y_test_2019[i])\n",
    "        q1.append(i)\n",
    "print(\"correct answer：%.4f\" % (t/len(y_test_2019)))\n",
    "print(\"plus or minus 1：%.4f\" % (a/len(y_test_2019)))\n",
    "print(\"plus or minus 3：%.4f\" % (b/len(y_test_2019)))\n",
    "print(\"plus or minus 5：%.4f\" % (c/len(y_test_2019)))\n",
    "print(\"plus or minus 10：%.4f\" % (d/len(y_test_2019)))"
   ]
  },
  {
   "cell_type": "code",
   "execution_count": 26,
   "metadata": {},
   "outputs": [
    {
     "name": "stdout",
     "output_type": "stream",
     "text": [
      "mean_absolute_error: 6.702257525858455\n",
      "mean_squared_error: 79.74969471323746\n",
      "rmse: 8.930268456952314\n"
     ]
    }
   ],
   "source": [
    "print(\"mean_absolute_error:\",mean_absolute_error(predictions,y_test_2019))\n",
    "print(\"mean_squared_error:\",mean_squared_error(predictions,y_test_2019))\n",
    "print(\"rmse:\",sqrt(mean_squared_error(predictions,y_test_2019)))"
   ]
  },
  {
   "cell_type": "code",
   "execution_count": 27,
   "metadata": {},
   "outputs": [
    {
     "data": {
      "text/plain": [
       "Counter({5.0: 3, 7.0: 1, 12.0: 1, 15.0: 1})"
      ]
     },
     "execution_count": 27,
     "metadata": {},
     "output_type": "execute_result"
    }
   ],
   "source": [
    "Counter(sorted(p))"
   ]
  },
  {
   "cell_type": "code",
   "execution_count": 28,
   "metadata": {},
   "outputs": [
    {
     "data": {
      "text/plain": [
       "Counter({5.0: 4,\n",
       "         12.0: 4,\n",
       "         2.0: 3,\n",
       "         9.0: 3,\n",
       "         7.0: 2,\n",
       "         13.0: 2,\n",
       "         1.0: 1,\n",
       "         3.0: 1,\n",
       "         6.0: 1,\n",
       "         10.0: 1,\n",
       "         11.0: 1,\n",
       "         14.0: 1,\n",
       "         15.0: 1,\n",
       "         16.0: 1,\n",
       "         17.0: 1,\n",
       "         32.0: 1})"
      ]
     },
     "execution_count": 28,
     "metadata": {},
     "output_type": "execute_result"
    }
   ],
   "source": [
    "Counter(sorted(n))"
   ]
  },
  {
   "cell_type": "code",
   "execution_count": 29,
   "metadata": {},
   "outputs": [
    {
     "data": {
      "text/plain": [
       "Counter({12.0: 9,\n",
       "         9.0: 7,\n",
       "         5.0: 5,\n",
       "         7.0: 5,\n",
       "         11.0: 5,\n",
       "         1.0: 4,\n",
       "         2.0: 4,\n",
       "         3.0: 4,\n",
       "         6.0: 3,\n",
       "         8.0: 3,\n",
       "         13.0: 3,\n",
       "         0.0: 2,\n",
       "         10.0: 2,\n",
       "         14.0: 2,\n",
       "         15.0: 2,\n",
       "         17.0: 2,\n",
       "         18.0: 2,\n",
       "         23.0: 2,\n",
       "         4.0: 1,\n",
       "         16.0: 1,\n",
       "         20.0: 1,\n",
       "         21.0: 1,\n",
       "         22.0: 1,\n",
       "         27.0: 1,\n",
       "         29.0: 1,\n",
       "         32.0: 1})"
      ]
     },
     "execution_count": 29,
     "metadata": {},
     "output_type": "execute_result"
    }
   ],
   "source": [
    "Counter(sorted(m))"
   ]
  },
  {
   "cell_type": "code",
   "execution_count": 30,
   "metadata": {},
   "outputs": [
    {
     "data": {
      "text/plain": [
       "Counter({33.0: 4,\n",
       "         2.0: 3,\n",
       "         1.0: 2,\n",
       "         3.0: 2,\n",
       "         23.0: 2,\n",
       "         24.0: 2,\n",
       "         31.0: 2,\n",
       "         34.0: 2,\n",
       "         35.0: 2,\n",
       "         6.0: 1,\n",
       "         12.0: 1,\n",
       "         16.0: 1,\n",
       "         17.0: 1,\n",
       "         18.0: 1,\n",
       "         21.0: 1,\n",
       "         26.0: 1,\n",
       "         27.0: 1,\n",
       "         28.0: 1,\n",
       "         37.0: 1,\n",
       "         38.0: 1,\n",
       "         39.0: 1,\n",
       "         41.0: 1,\n",
       "         44.0: 1,\n",
       "         45.0: 1,\n",
       "         48.0: 1,\n",
       "         49.0: 1})"
      ]
     },
     "execution_count": 30,
     "metadata": {},
     "output_type": "execute_result"
    }
   ],
   "source": [
    "Counter(sorted(q))"
   ]
  },
  {
   "cell_type": "code",
   "execution_count": 31,
   "metadata": {},
   "outputs": [
    {
     "name": "stdout",
     "output_type": "stream",
     "text": [
      "0: [2, 72, 75, 98, 136, 160]\n",
      "1: [2, 21, 22, 25, 36, 42, 59, 67, 72, 75, 80, 91, 97, 98, 108, 111, 113, 114, 117, 119, 123, 130, 136, 148, 153, 160, 165, 177]\n",
      "3: [2, 4, 7, 9, 11, 13, 20, 21, 22, 23, 25, 27, 29, 36, 42, 48, 55, 56, 57, 59, 60, 67, 69, 72, 74, 75, 78, 80, 88, 91, 94, 95, 96, 97, 98, 102, 103, 108, 110, 111, 113, 114, 117, 118, 119, 121, 123, 124, 125, 130, 131, 134, 136, 137, 140, 142, 146, 147, 148, 153, 154, 157, 158, 159, 160, 163, 164, 165, 167, 168, 175, 177, 184, 185]\n",
      "NA: [0, 6, 15, 24, 34, 38, 41, 47, 54, 61, 63, 65, 66, 71, 79, 89, 99, 100, 106, 107, 126, 128, 129, 139, 141, 145, 155, 162, 166, 169, 170, 172, 173, 174, 179, 180, 181, 187]\n"
     ]
    }
   ],
   "source": [
    "print('0:',p1)\n",
    "print('1:',n1)\n",
    "print('3:',m1)\n",
    "print('NA:',q1)"
   ]
  },
  {
   "cell_type": "code",
   "execution_count": 32,
   "metadata": {},
   "outputs": [],
   "source": [
    "regr_2019_dataframe = testing_2019.copy()\n",
    "regr_2019_dataframe['Prediction'] = np.round(predictions)\n",
    "regr_2019_dataframe['Difference'] = regr_2019_dataframe.SixthYear_HR - regr_2019_dataframe.Prediction"
   ]
  },
  {
   "cell_type": "code",
   "execution_count": 33,
   "metadata": {},
   "outputs": [
    {
     "data": {
      "text/html": [
       "<div>\n",
       "<style scoped>\n",
       "    .dataframe tbody tr th:only-of-type {\n",
       "        vertical-align: middle;\n",
       "    }\n",
       "\n",
       "    .dataframe tbody tr th {\n",
       "        vertical-align: top;\n",
       "    }\n",
       "\n",
       "    .dataframe thead th {\n",
       "        text-align: right;\n",
       "    }\n",
       "</style>\n",
       "<table border=\"1\" class=\"dataframe\">\n",
       "  <thead>\n",
       "    <tr style=\"text-align: right;\">\n",
       "      <th></th>\n",
       "      <th>FirstYear_yearID</th>\n",
       "      <th>FirstYear_G</th>\n",
       "      <th>FirstYear_AB</th>\n",
       "      <th>FirstYear_R</th>\n",
       "      <th>FirstYear_H</th>\n",
       "      <th>FirstYear_2B</th>\n",
       "      <th>FirstYear_3B</th>\n",
       "      <th>FirstYear_HR</th>\n",
       "      <th>FirstYear_RBI</th>\n",
       "      <th>FirstYear_SB</th>\n",
       "      <th>...</th>\n",
       "      <th>SixthYear_SF</th>\n",
       "      <th>SixthYear_GIDP</th>\n",
       "      <th>SixthYear_nameFirst</th>\n",
       "      <th>SixthYear_nameLast</th>\n",
       "      <th>SixthYear_nameGiven</th>\n",
       "      <th>SixthYear_weight</th>\n",
       "      <th>SixthYear_height</th>\n",
       "      <th>SixthYear_age</th>\n",
       "      <th>Prediction</th>\n",
       "      <th>Difference</th>\n",
       "    </tr>\n",
       "  </thead>\n",
       "  <tbody>\n",
       "    <tr>\n",
       "      <th>8</th>\n",
       "      <td>2014</td>\n",
       "      <td>111.0</td>\n",
       "      <td>432.0</td>\n",
       "      <td>58.0</td>\n",
       "      <td>124.0</td>\n",
       "      <td>34.0</td>\n",
       "      <td>2.0</td>\n",
       "      <td>18.0</td>\n",
       "      <td>61.0</td>\n",
       "      <td>2.0</td>\n",
       "      <td>...</td>\n",
       "      <td>8.0</td>\n",
       "      <td>14.0</td>\n",
       "      <td>Nolan</td>\n",
       "      <td>Arenado</td>\n",
       "      <td>Nolan James</td>\n",
       "      <td>215.0</td>\n",
       "      <td>74.0</td>\n",
       "      <td>28.0</td>\n",
       "      <td>33.0</td>\n",
       "      <td>8.0</td>\n",
       "    </tr>\n",
       "    <tr>\n",
       "      <th>38</th>\n",
       "      <td>2014</td>\n",
       "      <td>159.0</td>\n",
       "      <td>613.0</td>\n",
       "      <td>87.0</td>\n",
       "      <td>166.0</td>\n",
       "      <td>32.0</td>\n",
       "      <td>2.0</td>\n",
       "      <td>40.0</td>\n",
       "      <td>108.0</td>\n",
       "      <td>4.0</td>\n",
       "      <td>...</td>\n",
       "      <td>3.0</td>\n",
       "      <td>14.0</td>\n",
       "      <td>Nelson</td>\n",
       "      <td>Cruz</td>\n",
       "      <td>Nelson Ramon</td>\n",
       "      <td>230.0</td>\n",
       "      <td>74.0</td>\n",
       "      <td>39.0</td>\n",
       "      <td>28.0</td>\n",
       "      <td>13.0</td>\n",
       "    </tr>\n",
       "    <tr>\n",
       "      <th>170</th>\n",
       "      <td>2014</td>\n",
       "      <td>24.0</td>\n",
       "      <td>89.0</td>\n",
       "      <td>11.0</td>\n",
       "      <td>26.0</td>\n",
       "      <td>8.0</td>\n",
       "      <td>1.0</td>\n",
       "      <td>5.0</td>\n",
       "      <td>20.0</td>\n",
       "      <td>1.0</td>\n",
       "      <td>...</td>\n",
       "      <td>4.0</td>\n",
       "      <td>16.0</td>\n",
       "      <td>Jorge</td>\n",
       "      <td>Soler</td>\n",
       "      <td>Jorge Carlos</td>\n",
       "      <td>235.0</td>\n",
       "      <td>76.0</td>\n",
       "      <td>27.0</td>\n",
       "      <td>10.0</td>\n",
       "      <td>38.0</td>\n",
       "    </tr>\n",
       "    <tr>\n",
       "      <th>174</th>\n",
       "      <td>2014</td>\n",
       "      <td>85.0</td>\n",
       "      <td>244.0</td>\n",
       "      <td>33.0</td>\n",
       "      <td>59.0</td>\n",
       "      <td>9.0</td>\n",
       "      <td>1.0</td>\n",
       "      <td>4.0</td>\n",
       "      <td>23.0</td>\n",
       "      <td>3.0</td>\n",
       "      <td>...</td>\n",
       "      <td>6.0</td>\n",
       "      <td>12.0</td>\n",
       "      <td>Eugenio</td>\n",
       "      <td>Suarez</td>\n",
       "      <td>Eugenio Alejandro</td>\n",
       "      <td>213.0</td>\n",
       "      <td>71.0</td>\n",
       "      <td>28.0</td>\n",
       "      <td>24.0</td>\n",
       "      <td>25.0</td>\n",
       "    </tr>\n",
       "    <tr>\n",
       "      <th>179</th>\n",
       "      <td>2014</td>\n",
       "      <td>157.0</td>\n",
       "      <td>602.0</td>\n",
       "      <td>115.0</td>\n",
       "      <td>173.0</td>\n",
       "      <td>39.0</td>\n",
       "      <td>9.0</td>\n",
       "      <td>36.0</td>\n",
       "      <td>111.0</td>\n",
       "      <td>16.0</td>\n",
       "      <td>...</td>\n",
       "      <td>4.0</td>\n",
       "      <td>5.0</td>\n",
       "      <td>Mike</td>\n",
       "      <td>Trout</td>\n",
       "      <td>Michael Nelson</td>\n",
       "      <td>235.0</td>\n",
       "      <td>74.0</td>\n",
       "      <td>28.0</td>\n",
       "      <td>33.0</td>\n",
       "      <td>12.0</td>\n",
       "    </tr>\n",
       "    <tr>\n",
       "      <th>187</th>\n",
       "      <td>2014</td>\n",
       "      <td>144.0</td>\n",
       "      <td>582.0</td>\n",
       "      <td>94.0</td>\n",
       "      <td>165.0</td>\n",
       "      <td>30.0</td>\n",
       "      <td>6.0</td>\n",
       "      <td>9.0</td>\n",
       "      <td>54.0</td>\n",
       "      <td>21.0</td>\n",
       "      <td>...</td>\n",
       "      <td>3.0</td>\n",
       "      <td>8.0</td>\n",
       "      <td>Christian</td>\n",
       "      <td>Yelich</td>\n",
       "      <td>Christian Stephen</td>\n",
       "      <td>195.0</td>\n",
       "      <td>75.0</td>\n",
       "      <td>28.0</td>\n",
       "      <td>24.0</td>\n",
       "      <td>20.0</td>\n",
       "    </tr>\n",
       "  </tbody>\n",
       "</table>\n",
       "<p>6 rows × 136 columns</p>\n",
       "</div>"
      ],
      "text/plain": [
       "     FirstYear_yearID  FirstYear_G  FirstYear_AB  FirstYear_R  FirstYear_H  \\\n",
       "8                2014        111.0         432.0         58.0        124.0   \n",
       "38               2014        159.0         613.0         87.0        166.0   \n",
       "170              2014         24.0          89.0         11.0         26.0   \n",
       "174              2014         85.0         244.0         33.0         59.0   \n",
       "179              2014        157.0         602.0        115.0        173.0   \n",
       "187              2014        144.0         582.0         94.0        165.0   \n",
       "\n",
       "     FirstYear_2B  FirstYear_3B  FirstYear_HR  FirstYear_RBI  FirstYear_SB  \\\n",
       "8            34.0           2.0          18.0           61.0           2.0   \n",
       "38           32.0           2.0          40.0          108.0           4.0   \n",
       "170           8.0           1.0           5.0           20.0           1.0   \n",
       "174           9.0           1.0           4.0           23.0           3.0   \n",
       "179          39.0           9.0          36.0          111.0          16.0   \n",
       "187          30.0           6.0           9.0           54.0          21.0   \n",
       "\n",
       "     ...  SixthYear_SF  SixthYear_GIDP  SixthYear_nameFirst  \\\n",
       "8    ...           8.0            14.0                Nolan   \n",
       "38   ...           3.0            14.0               Nelson   \n",
       "170  ...           4.0            16.0                Jorge   \n",
       "174  ...           6.0            12.0              Eugenio   \n",
       "179  ...           4.0             5.0                 Mike   \n",
       "187  ...           3.0             8.0            Christian   \n",
       "\n",
       "     SixthYear_nameLast  SixthYear_nameGiven  SixthYear_weight  \\\n",
       "8               Arenado          Nolan James             215.0   \n",
       "38                 Cruz         Nelson Ramon             230.0   \n",
       "170               Soler         Jorge Carlos             235.0   \n",
       "174              Suarez    Eugenio Alejandro             213.0   \n",
       "179               Trout       Michael Nelson             235.0   \n",
       "187              Yelich    Christian Stephen             195.0   \n",
       "\n",
       "     SixthYear_height  SixthYear_age  Prediction  Difference  \n",
       "8                74.0           28.0        33.0         8.0  \n",
       "38               74.0           39.0        28.0        13.0  \n",
       "170              76.0           27.0        10.0        38.0  \n",
       "174              71.0           28.0        24.0        25.0  \n",
       "179              74.0           28.0        33.0        12.0  \n",
       "187              75.0           28.0        24.0        20.0  \n",
       "\n",
       "[6 rows x 136 columns]"
      ]
     },
     "execution_count": 33,
     "metadata": {},
     "output_type": "execute_result"
    }
   ],
   "source": [
    "regr_2019_dataframe[regr_2019_dataframe.SixthYear_HR > 39]"
   ]
  },
  {
   "cell_type": "markdown",
   "metadata": {},
   "source": [
    "### SVM"
   ]
  },
  {
   "cell_type": "code",
   "execution_count": 34,
   "metadata": {},
   "outputs": [
    {
     "data": {
      "text/html": [
       "<style>#sk-container-id-3 {color: black;background-color: white;}#sk-container-id-3 pre{padding: 0;}#sk-container-id-3 div.sk-toggleable {background-color: white;}#sk-container-id-3 label.sk-toggleable__label {cursor: pointer;display: block;width: 100%;margin-bottom: 0;padding: 0.3em;box-sizing: border-box;text-align: center;}#sk-container-id-3 label.sk-toggleable__label-arrow:before {content: \"▸\";float: left;margin-right: 0.25em;color: #696969;}#sk-container-id-3 label.sk-toggleable__label-arrow:hover:before {color: black;}#sk-container-id-3 div.sk-estimator:hover label.sk-toggleable__label-arrow:before {color: black;}#sk-container-id-3 div.sk-toggleable__content {max-height: 0;max-width: 0;overflow: hidden;text-align: left;background-color: #f0f8ff;}#sk-container-id-3 div.sk-toggleable__content pre {margin: 0.2em;color: black;border-radius: 0.25em;background-color: #f0f8ff;}#sk-container-id-3 input.sk-toggleable__control:checked~div.sk-toggleable__content {max-height: 200px;max-width: 100%;overflow: auto;}#sk-container-id-3 input.sk-toggleable__control:checked~label.sk-toggleable__label-arrow:before {content: \"▾\";}#sk-container-id-3 div.sk-estimator input.sk-toggleable__control:checked~label.sk-toggleable__label {background-color: #d4ebff;}#sk-container-id-3 div.sk-label input.sk-toggleable__control:checked~label.sk-toggleable__label {background-color: #d4ebff;}#sk-container-id-3 input.sk-hidden--visually {border: 0;clip: rect(1px 1px 1px 1px);clip: rect(1px, 1px, 1px, 1px);height: 1px;margin: -1px;overflow: hidden;padding: 0;position: absolute;width: 1px;}#sk-container-id-3 div.sk-estimator {font-family: monospace;background-color: #f0f8ff;border: 1px dotted black;border-radius: 0.25em;box-sizing: border-box;margin-bottom: 0.5em;}#sk-container-id-3 div.sk-estimator:hover {background-color: #d4ebff;}#sk-container-id-3 div.sk-parallel-item::after {content: \"\";width: 100%;border-bottom: 1px solid gray;flex-grow: 1;}#sk-container-id-3 div.sk-label:hover label.sk-toggleable__label {background-color: #d4ebff;}#sk-container-id-3 div.sk-serial::before {content: \"\";position: absolute;border-left: 1px solid gray;box-sizing: border-box;top: 0;bottom: 0;left: 50%;z-index: 0;}#sk-container-id-3 div.sk-serial {display: flex;flex-direction: column;align-items: center;background-color: white;padding-right: 0.2em;padding-left: 0.2em;position: relative;}#sk-container-id-3 div.sk-item {position: relative;z-index: 1;}#sk-container-id-3 div.sk-parallel {display: flex;align-items: stretch;justify-content: center;background-color: white;position: relative;}#sk-container-id-3 div.sk-item::before, #sk-container-id-3 div.sk-parallel-item::before {content: \"\";position: absolute;border-left: 1px solid gray;box-sizing: border-box;top: 0;bottom: 0;left: 50%;z-index: -1;}#sk-container-id-3 div.sk-parallel-item {display: flex;flex-direction: column;z-index: 1;position: relative;background-color: white;}#sk-container-id-3 div.sk-parallel-item:first-child::after {align-self: flex-end;width: 50%;}#sk-container-id-3 div.sk-parallel-item:last-child::after {align-self: flex-start;width: 50%;}#sk-container-id-3 div.sk-parallel-item:only-child::after {width: 0;}#sk-container-id-3 div.sk-dashed-wrapped {border: 1px dashed gray;margin: 0 0.4em 0.5em 0.4em;box-sizing: border-box;padding-bottom: 0.4em;background-color: white;}#sk-container-id-3 div.sk-label label {font-family: monospace;font-weight: bold;display: inline-block;line-height: 1.2em;}#sk-container-id-3 div.sk-label-container {text-align: center;}#sk-container-id-3 div.sk-container {/* jupyter's `normalize.less` sets `[hidden] { display: none; }` but bootstrap.min.css set `[hidden] { display: none !important; }` so we also need the `!important` here to be able to override the default hidden behavior on the sphinx rendered scikit-learn.org. See: https://github.com/scikit-learn/scikit-learn/issues/21755 */display: inline-block !important;position: relative;}#sk-container-id-3 div.sk-text-repr-fallback {display: none;}</style><div id=\"sk-container-id-3\" class=\"sk-top-container\"><div class=\"sk-text-repr-fallback\"><pre>SVC(class_weight={0.0: 0.18552147239263803, 1.0: 0.17104072398190046,\n",
       "                  2.0: 0.20712328767123286, 3.0: 0.2507462686567164,\n",
       "                  4.0: 0.301195219123506, 5.0: 0.301195219123506,\n",
       "                  6.0: 0.32238805970149254, 7.0: 0.4053619302949062,\n",
       "                  8.0: 0.4108695652173913, 9.0: 0.45, 10.0: 0.504,\n",
       "                  11.0: 0.5361702127659574, 12.0: 0.5073825503355704,\n",
       "                  13.0: 0.5727272727272728, 14.0: 0.6096774193548387,\n",
       "                  15.0: 0....935483871, 16.0: 0.7411764705882353,\n",
       "                  17.0: 0.723444976076555, 18.0: 0.8307692307692308,\n",
       "                  19.0: 1.0216216216216216, 20.0: 0.8307692307692308,\n",
       "                  21.0: 1.0285714285714285, 22.0: 0.9219512195121952,\n",
       "                  23.0: 1.1368421052631579, 24.0: 1.1454545454545455,\n",
       "                  25.0: 1.3147826086956522, 26.0: 1.6434782608695653,\n",
       "                  27.0: 1.4679611650485438, 28.0: 1.7181818181818183,\n",
       "                  29.0: 1.9894736842105263, ...})</pre><b>In a Jupyter environment, please rerun this cell to show the HTML representation or trust the notebook. <br />On GitHub, the HTML representation is unable to render, please try loading this page with nbviewer.org.</b></div><div class=\"sk-container\" hidden><div class=\"sk-item\"><div class=\"sk-estimator sk-toggleable\"><input class=\"sk-toggleable__control sk-hidden--visually\" id=\"sk-estimator-id-3\" type=\"checkbox\" checked><label for=\"sk-estimator-id-3\" class=\"sk-toggleable__label sk-toggleable__label-arrow\">SVC</label><div class=\"sk-toggleable__content\"><pre>SVC(class_weight={0.0: 0.18552147239263803, 1.0: 0.17104072398190046,\n",
       "                  2.0: 0.20712328767123286, 3.0: 0.2507462686567164,\n",
       "                  4.0: 0.301195219123506, 5.0: 0.301195219123506,\n",
       "                  6.0: 0.32238805970149254, 7.0: 0.4053619302949062,\n",
       "                  8.0: 0.4108695652173913, 9.0: 0.45, 10.0: 0.504,\n",
       "                  11.0: 0.5361702127659574, 12.0: 0.5073825503355704,\n",
       "                  13.0: 0.5727272727272728, 14.0: 0.6096774193548387,\n",
       "                  15.0: 0....935483871, 16.0: 0.7411764705882353,\n",
       "                  17.0: 0.723444976076555, 18.0: 0.8307692307692308,\n",
       "                  19.0: 1.0216216216216216, 20.0: 0.8307692307692308,\n",
       "                  21.0: 1.0285714285714285, 22.0: 0.9219512195121952,\n",
       "                  23.0: 1.1368421052631579, 24.0: 1.1454545454545455,\n",
       "                  25.0: 1.3147826086956522, 26.0: 1.6434782608695653,\n",
       "                  27.0: 1.4679611650485438, 28.0: 1.7181818181818183,\n",
       "                  29.0: 1.9894736842105263, ...})</pre></div></div></div></div></div>"
      ],
      "text/plain": [
       "SVC(class_weight={0.0: 0.18552147239263803, 1.0: 0.17104072398190046,\n",
       "                  2.0: 0.20712328767123286, 3.0: 0.2507462686567164,\n",
       "                  4.0: 0.301195219123506, 5.0: 0.301195219123506,\n",
       "                  6.0: 0.32238805970149254, 7.0: 0.4053619302949062,\n",
       "                  8.0: 0.4108695652173913, 9.0: 0.45, 10.0: 0.504,\n",
       "                  11.0: 0.5361702127659574, 12.0: 0.5073825503355704,\n",
       "                  13.0: 0.5727272727272728, 14.0: 0.6096774193548387,\n",
       "                  15.0: 0....935483871, 16.0: 0.7411764705882353,\n",
       "                  17.0: 0.723444976076555, 18.0: 0.8307692307692308,\n",
       "                  19.0: 1.0216216216216216, 20.0: 0.8307692307692308,\n",
       "                  21.0: 1.0285714285714285, 22.0: 0.9219512195121952,\n",
       "                  23.0: 1.1368421052631579, 24.0: 1.1454545454545455,\n",
       "                  25.0: 1.3147826086956522, 26.0: 1.6434782608695653,\n",
       "                  27.0: 1.4679611650485438, 28.0: 1.7181818181818183,\n",
       "                  29.0: 1.9894736842105263, ...})"
      ]
     },
     "execution_count": 34,
     "metadata": {},
     "output_type": "execute_result"
    }
   ],
   "source": [
    "from sklearn.utils import class_weight\n",
    "class_weight = np.array(class_weight.compute_class_weight(class_weight='balanced'\n",
    "                                               ,classes=np.unique(y_train_2017)\n",
    "                                               ,y=y_train_2017))\n",
    "\n",
    "clf_2017 = SVC(class_weight=dict(zip(list(np.unique(y_train_2017)), list(class_weight))))\n",
    "clf_2017.fit(scaler.transform(x_train_2017), y_train_2017)"
   ]
  },
  {
   "cell_type": "code",
   "execution_count": 35,
   "metadata": {},
   "outputs": [
    {
     "name": "stdout",
     "output_type": "stream",
     "text": [
      "答對：0.0870\n",
      "正負1：0.1467\n",
      "正負3：0.3641\n",
      "正負5：0.5217\n",
      "正負10：0.7880\n"
     ]
    }
   ],
   "source": [
    "t = 0\n",
    "a = 0\n",
    "b = 0\n",
    "c = 0\n",
    "d = 0\n",
    "g = []\n",
    "l = []\n",
    "m = []\n",
    "m1 = []\n",
    "n = []\n",
    "n1 = []\n",
    "p = []\n",
    "p1 = []\n",
    "q = []\n",
    "q1 = []\n",
    "predictions = clf_2017.predict(scaler.transform(x_test_2018))\n",
    "for i in range(len(y_test_2018)):\n",
    "    k = np.round(predictions)[i] - y_test_2018[i]\n",
    "    if abs(k) < 11:\n",
    "        d += 1\n",
    "        g.append(y_test_2018[i])\n",
    "        if abs(k) < 6:\n",
    "            c += 1\n",
    "            l.append(y_test_2018[i])\n",
    "            if abs(k) < 4:\n",
    "                b += 1\n",
    "                m.append(y_test_2018[i])\n",
    "                m1.append(i)\n",
    "                if abs(k) < 2:\n",
    "                    a += 1\n",
    "                    n.append(y_test_2018[i])\n",
    "                    n1.append(i)\n",
    "                    if abs(k) == 0:\n",
    "                        t += 1\n",
    "                        p.append(y_test_2018[i])\n",
    "                        p1.append(i)\n",
    "    else:\n",
    "        q.append(y_test_2018[i])\n",
    "        q1.append(i)\n",
    "print(\"correct answer：%.4f\" % (t/len(y_test_2018)))\n",
    "print(\"plus or minus 1：%.4f\" % (a/len(y_test_2018)))\n",
    "print(\"plus or minus 3：%.4f\" % (b/len(y_test_2018)))\n",
    "print(\"plus or minus 5：%.4f\" % (c/len(y_test_2018)))\n",
    "print(\"plus or minus 10：%.4f\" % (d/len(y_test_2018)))"
   ]
  },
  {
   "cell_type": "code",
   "execution_count": 36,
   "metadata": {},
   "outputs": [
    {
     "name": "stdout",
     "output_type": "stream",
     "text": [
      "mean_absolute_error: 6.706521739130435\n",
      "mean_squared_error: 78.3913043478261\n",
      "rmse: 8.853886397951246\n"
     ]
    }
   ],
   "source": [
    "print(\"mean_absolute_error:\",mean_absolute_error(predictions,y_test_2018))\n",
    "print(\"mean_squared_error:\",mean_squared_error(predictions,y_test_2018))\n",
    "print(\"rmse:\",sqrt(mean_squared_error(predictions,y_test_2018)))"
   ]
  },
  {
   "cell_type": "code",
   "execution_count": 37,
   "metadata": {},
   "outputs": [
    {
     "data": {
      "text/plain": [
       "Counter({14.0: 4,\n",
       "         2.0: 2,\n",
       "         38.0: 2,\n",
       "         0.0: 1,\n",
       "         1.0: 1,\n",
       "         7.0: 1,\n",
       "         8.0: 1,\n",
       "         13.0: 1,\n",
       "         22.0: 1,\n",
       "         27.0: 1,\n",
       "         34.0: 1})"
      ]
     },
     "execution_count": 37,
     "metadata": {},
     "output_type": "execute_result"
    }
   ],
   "source": [
    "Counter(sorted(p))"
   ]
  },
  {
   "cell_type": "code",
   "execution_count": 38,
   "metadata": {},
   "outputs": [
    {
     "data": {
      "text/plain": [
       "Counter({2.0: 4,\n",
       "         14.0: 4,\n",
       "         1.0: 3,\n",
       "         3.0: 2,\n",
       "         13.0: 2,\n",
       "         38.0: 2,\n",
       "         0.0: 1,\n",
       "         5.0: 1,\n",
       "         7.0: 1,\n",
       "         8.0: 1,\n",
       "         10.0: 1,\n",
       "         15.0: 1,\n",
       "         22.0: 1,\n",
       "         27.0: 1,\n",
       "         33.0: 1,\n",
       "         34.0: 1})"
      ]
     },
     "execution_count": 38,
     "metadata": {},
     "output_type": "execute_result"
    }
   ],
   "source": [
    "Counter(sorted(n))"
   ]
  },
  {
   "cell_type": "code",
   "execution_count": 39,
   "metadata": {},
   "outputs": [
    {
     "data": {
      "text/plain": [
       "Counter({1.0: 5,\n",
       "         4.0: 5,\n",
       "         5.0: 5,\n",
       "         11.0: 5,\n",
       "         14.0: 5,\n",
       "         2.0: 4,\n",
       "         10.0: 4,\n",
       "         9.0: 3,\n",
       "         13.0: 3,\n",
       "         16.0: 3,\n",
       "         21.0: 3,\n",
       "         0.0: 2,\n",
       "         3.0: 2,\n",
       "         8.0: 2,\n",
       "         15.0: 2,\n",
       "         27.0: 2,\n",
       "         38.0: 2,\n",
       "         6.0: 1,\n",
       "         7.0: 1,\n",
       "         12.0: 1,\n",
       "         20.0: 1,\n",
       "         22.0: 1,\n",
       "         28.0: 1,\n",
       "         33.0: 1,\n",
       "         34.0: 1,\n",
       "         37.0: 1,\n",
       "         43.0: 1})"
      ]
     },
     "execution_count": 39,
     "metadata": {},
     "output_type": "execute_result"
    }
   ],
   "source": [
    "Counter(sorted(m))"
   ]
  },
  {
   "cell_type": "code",
   "execution_count": 40,
   "metadata": {},
   "outputs": [
    {
     "data": {
      "text/plain": [
       "Counter({13.0: 5,\n",
       "         1.0: 3,\n",
       "         8.0: 3,\n",
       "         9.0: 3,\n",
       "         12.0: 3,\n",
       "         2.0: 2,\n",
       "         6.0: 2,\n",
       "         7.0: 2,\n",
       "         11.0: 2,\n",
       "         15.0: 2,\n",
       "         23.0: 2,\n",
       "         0.0: 1,\n",
       "         3.0: 1,\n",
       "         4.0: 1,\n",
       "         5.0: 1,\n",
       "         10.0: 1,\n",
       "         18.0: 1,\n",
       "         21.0: 1,\n",
       "         27.0: 1,\n",
       "         36.0: 1,\n",
       "         37.0: 1})"
      ]
     },
     "execution_count": 40,
     "metadata": {},
     "output_type": "execute_result"
    }
   ],
   "source": [
    "Counter(sorted(q))"
   ]
  },
  {
   "cell_type": "code",
   "execution_count": 41,
   "metadata": {},
   "outputs": [
    {
     "name": "stdout",
     "output_type": "stream",
     "text": [
      "0: [7, 8, 13, 15, 34, 41, 60, 77, 80, 81, 109, 135, 136, 165, 169, 174]\n",
      "1: [2, 7, 8, 13, 15, 16, 22, 34, 41, 47, 49, 60, 66, 77, 78, 80, 81, 85, 94, 102, 109, 115, 135, 136, 165, 169, 174]\n",
      "3: [0, 2, 4, 7, 8, 13, 15, 16, 17, 22, 32, 33, 34, 35, 41, 43, 47, 48, 49, 51, 59, 60, 62, 66, 67, 71, 76, 77, 78, 79, 80, 81, 83, 85, 94, 98, 99, 102, 107, 109, 111, 112, 113, 115, 117, 123, 126, 129, 130, 132, 135, 136, 138, 152, 154, 155, 156, 160, 162, 164, 165, 169, 171, 172, 173, 174, 177]\n",
      "NA: [9, 18, 21, 24, 27, 28, 30, 40, 42, 44, 45, 52, 55, 56, 57, 68, 69, 74, 82, 86, 87, 88, 104, 106, 118, 121, 124, 125, 127, 128, 137, 139, 141, 145, 151, 175, 176, 179, 181]\n"
     ]
    }
   ],
   "source": [
    "print('0:',p1)\n",
    "print('1:',n1)\n",
    "print('3:',m1)\n",
    "print('NA:',q1)"
   ]
  },
  {
   "cell_type": "code",
   "execution_count": 42,
   "metadata": {},
   "outputs": [],
   "source": [
    "SVM_2018_dataframe = testing_2018.copy()\n",
    "SVM_2018_dataframe['Prediction'] = np.round(predictions)\n",
    "SVM_2018_dataframe['Difference'] = SVM_2018_dataframe.SixthYear_HR - SVM_2018_dataframe.Prediction"
   ]
  },
  {
   "cell_type": "code",
   "execution_count": 43,
   "metadata": {},
   "outputs": [
    {
     "data": {
      "text/html": [
       "<div>\n",
       "<style scoped>\n",
       "    .dataframe tbody tr th:only-of-type {\n",
       "        vertical-align: middle;\n",
       "    }\n",
       "\n",
       "    .dataframe tbody tr th {\n",
       "        vertical-align: top;\n",
       "    }\n",
       "\n",
       "    .dataframe thead th {\n",
       "        text-align: right;\n",
       "    }\n",
       "</style>\n",
       "<table border=\"1\" class=\"dataframe\">\n",
       "  <thead>\n",
       "    <tr style=\"text-align: right;\">\n",
       "      <th></th>\n",
       "      <th>FirstYear_yearID</th>\n",
       "      <th>FirstYear_G</th>\n",
       "      <th>FirstYear_AB</th>\n",
       "      <th>FirstYear_R</th>\n",
       "      <th>FirstYear_H</th>\n",
       "      <th>FirstYear_2B</th>\n",
       "      <th>FirstYear_3B</th>\n",
       "      <th>FirstYear_HR</th>\n",
       "      <th>FirstYear_RBI</th>\n",
       "      <th>FirstYear_SB</th>\n",
       "      <th>...</th>\n",
       "      <th>SixthYear_SF</th>\n",
       "      <th>SixthYear_GIDP</th>\n",
       "      <th>SixthYear_nameFirst</th>\n",
       "      <th>SixthYear_nameLast</th>\n",
       "      <th>SixthYear_nameGiven</th>\n",
       "      <th>SixthYear_weight</th>\n",
       "      <th>SixthYear_height</th>\n",
       "      <th>SixthYear_age</th>\n",
       "      <th>Prediction</th>\n",
       "      <th>Difference</th>\n",
       "    </tr>\n",
       "  </thead>\n",
       "  <tbody>\n",
       "    <tr>\n",
       "      <th>38</th>\n",
       "      <td>2013</td>\n",
       "      <td>56.0</td>\n",
       "      <td>136.0</td>\n",
       "      <td>27.0</td>\n",
       "      <td>38.0</td>\n",
       "      <td>10.0</td>\n",
       "      <td>0.0</td>\n",
       "      <td>11.0</td>\n",
       "      <td>27.0</td>\n",
       "      <td>3.0</td>\n",
       "      <td>...</td>\n",
       "      <td>7.0</td>\n",
       "      <td>16.0</td>\n",
       "      <td>Khris</td>\n",
       "      <td>Davis</td>\n",
       "      <td>Khristopher Adrian</td>\n",
       "      <td>205.0</td>\n",
       "      <td>71.0</td>\n",
       "      <td>31.0</td>\n",
       "      <td>43.0</td>\n",
       "      <td>5.0</td>\n",
       "    </tr>\n",
       "    <tr>\n",
       "      <th>111</th>\n",
       "      <td>2013</td>\n",
       "      <td>86.0</td>\n",
       "      <td>296.0</td>\n",
       "      <td>24.0</td>\n",
       "      <td>74.0</td>\n",
       "      <td>17.0</td>\n",
       "      <td>0.0</td>\n",
       "      <td>7.0</td>\n",
       "      <td>36.0</td>\n",
       "      <td>2.0</td>\n",
       "      <td>...</td>\n",
       "      <td>7.0</td>\n",
       "      <td>19.0</td>\n",
       "      <td>J. D.</td>\n",
       "      <td>Martinez</td>\n",
       "      <td>Julio Daniel</td>\n",
       "      <td>230.0</td>\n",
       "      <td>75.0</td>\n",
       "      <td>31.0</td>\n",
       "      <td>40.0</td>\n",
       "      <td>3.0</td>\n",
       "    </tr>\n",
       "  </tbody>\n",
       "</table>\n",
       "<p>2 rows × 136 columns</p>\n",
       "</div>"
      ],
      "text/plain": [
       "     FirstYear_yearID  FirstYear_G  FirstYear_AB  FirstYear_R  FirstYear_H  \\\n",
       "38               2013         56.0         136.0         27.0         38.0   \n",
       "111              2013         86.0         296.0         24.0         74.0   \n",
       "\n",
       "     FirstYear_2B  FirstYear_3B  FirstYear_HR  FirstYear_RBI  FirstYear_SB  \\\n",
       "38           10.0           0.0          11.0           27.0           3.0   \n",
       "111          17.0           0.0           7.0           36.0           2.0   \n",
       "\n",
       "     ...  SixthYear_SF  SixthYear_GIDP  SixthYear_nameFirst  \\\n",
       "38   ...           7.0            16.0                Khris   \n",
       "111  ...           7.0            19.0                J. D.   \n",
       "\n",
       "     SixthYear_nameLast  SixthYear_nameGiven  SixthYear_weight  \\\n",
       "38                Davis   Khristopher Adrian             205.0   \n",
       "111            Martinez         Julio Daniel             230.0   \n",
       "\n",
       "     SixthYear_height  SixthYear_age  Prediction  Difference  \n",
       "38               71.0           31.0        43.0         5.0  \n",
       "111              75.0           31.0        40.0         3.0  \n",
       "\n",
       "[2 rows x 136 columns]"
      ]
     },
     "execution_count": 43,
     "metadata": {},
     "output_type": "execute_result"
    }
   ],
   "source": [
    "SVM_2018_dataframe[SVM_2018_dataframe.SixthYear_HR > 39]"
   ]
  },
  {
   "cell_type": "code",
   "execution_count": 44,
   "metadata": {},
   "outputs": [
    {
     "data": {
      "text/html": [
       "<style>#sk-container-id-4 {color: black;background-color: white;}#sk-container-id-4 pre{padding: 0;}#sk-container-id-4 div.sk-toggleable {background-color: white;}#sk-container-id-4 label.sk-toggleable__label {cursor: pointer;display: block;width: 100%;margin-bottom: 0;padding: 0.3em;box-sizing: border-box;text-align: center;}#sk-container-id-4 label.sk-toggleable__label-arrow:before {content: \"▸\";float: left;margin-right: 0.25em;color: #696969;}#sk-container-id-4 label.sk-toggleable__label-arrow:hover:before {color: black;}#sk-container-id-4 div.sk-estimator:hover label.sk-toggleable__label-arrow:before {color: black;}#sk-container-id-4 div.sk-toggleable__content {max-height: 0;max-width: 0;overflow: hidden;text-align: left;background-color: #f0f8ff;}#sk-container-id-4 div.sk-toggleable__content pre {margin: 0.2em;color: black;border-radius: 0.25em;background-color: #f0f8ff;}#sk-container-id-4 input.sk-toggleable__control:checked~div.sk-toggleable__content {max-height: 200px;max-width: 100%;overflow: auto;}#sk-container-id-4 input.sk-toggleable__control:checked~label.sk-toggleable__label-arrow:before {content: \"▾\";}#sk-container-id-4 div.sk-estimator input.sk-toggleable__control:checked~label.sk-toggleable__label {background-color: #d4ebff;}#sk-container-id-4 div.sk-label input.sk-toggleable__control:checked~label.sk-toggleable__label {background-color: #d4ebff;}#sk-container-id-4 input.sk-hidden--visually {border: 0;clip: rect(1px 1px 1px 1px);clip: rect(1px, 1px, 1px, 1px);height: 1px;margin: -1px;overflow: hidden;padding: 0;position: absolute;width: 1px;}#sk-container-id-4 div.sk-estimator {font-family: monospace;background-color: #f0f8ff;border: 1px dotted black;border-radius: 0.25em;box-sizing: border-box;margin-bottom: 0.5em;}#sk-container-id-4 div.sk-estimator:hover {background-color: #d4ebff;}#sk-container-id-4 div.sk-parallel-item::after {content: \"\";width: 100%;border-bottom: 1px solid gray;flex-grow: 1;}#sk-container-id-4 div.sk-label:hover label.sk-toggleable__label {background-color: #d4ebff;}#sk-container-id-4 div.sk-serial::before {content: \"\";position: absolute;border-left: 1px solid gray;box-sizing: border-box;top: 0;bottom: 0;left: 50%;z-index: 0;}#sk-container-id-4 div.sk-serial {display: flex;flex-direction: column;align-items: center;background-color: white;padding-right: 0.2em;padding-left: 0.2em;position: relative;}#sk-container-id-4 div.sk-item {position: relative;z-index: 1;}#sk-container-id-4 div.sk-parallel {display: flex;align-items: stretch;justify-content: center;background-color: white;position: relative;}#sk-container-id-4 div.sk-item::before, #sk-container-id-4 div.sk-parallel-item::before {content: \"\";position: absolute;border-left: 1px solid gray;box-sizing: border-box;top: 0;bottom: 0;left: 50%;z-index: -1;}#sk-container-id-4 div.sk-parallel-item {display: flex;flex-direction: column;z-index: 1;position: relative;background-color: white;}#sk-container-id-4 div.sk-parallel-item:first-child::after {align-self: flex-end;width: 50%;}#sk-container-id-4 div.sk-parallel-item:last-child::after {align-self: flex-start;width: 50%;}#sk-container-id-4 div.sk-parallel-item:only-child::after {width: 0;}#sk-container-id-4 div.sk-dashed-wrapped {border: 1px dashed gray;margin: 0 0.4em 0.5em 0.4em;box-sizing: border-box;padding-bottom: 0.4em;background-color: white;}#sk-container-id-4 div.sk-label label {font-family: monospace;font-weight: bold;display: inline-block;line-height: 1.2em;}#sk-container-id-4 div.sk-label-container {text-align: center;}#sk-container-id-4 div.sk-container {/* jupyter's `normalize.less` sets `[hidden] { display: none; }` but bootstrap.min.css set `[hidden] { display: none !important; }` so we also need the `!important` here to be able to override the default hidden behavior on the sphinx rendered scikit-learn.org. See: https://github.com/scikit-learn/scikit-learn/issues/21755 */display: inline-block !important;position: relative;}#sk-container-id-4 div.sk-text-repr-fallback {display: none;}</style><div id=\"sk-container-id-4\" class=\"sk-top-container\"><div class=\"sk-text-repr-fallback\"><pre>SVC(class_weight={0.0: 0.1878424015009381, 1.0: 0.1717176914501329,\n",
       "                  2.0: 0.2092809364548495, 3.0: 0.25375744519072363,\n",
       "                  4.0: 0.30084134615384617, 5.0: 0.3032101756511205,\n",
       "                  6.0: 0.32156736791392326, 7.0: 0.4074888074888075,\n",
       "                  8.0: 0.4107487179487179, 9.0: 0.4464659977703456,\n",
       "                  10.0: 0.5017288900025056, 11.0: 0.5275026343519494,\n",
       "                  12.0: 0.5066801619433199, 13.0: 0.5642152719075796,\n",
       "                  14....20762423417,\n",
       "                  16.0: 0.7334798534798534, 17.0: 0.7300036456434561,\n",
       "                  18.0: 0.8325987525987526, 19.0: 1.0200713194090678,\n",
       "                  20.0: 0.8236939531057178, 21.0: 1.0001998001998003,\n",
       "                  22.0: 0.9278962001853568, 23.0: 1.084723726977248,\n",
       "                  24.0: 1.140968660968661, 25.0: 1.3053455019556715,\n",
       "                  26.0: 1.674247491638796, 27.0: 1.4531204644412192,\n",
       "                  28.0: 1.7306828003457218, 29.0: 2.0003996003996005, ...})</pre><b>In a Jupyter environment, please rerun this cell to show the HTML representation or trust the notebook. <br />On GitHub, the HTML representation is unable to render, please try loading this page with nbviewer.org.</b></div><div class=\"sk-container\" hidden><div class=\"sk-item\"><div class=\"sk-estimator sk-toggleable\"><input class=\"sk-toggleable__control sk-hidden--visually\" id=\"sk-estimator-id-4\" type=\"checkbox\" checked><label for=\"sk-estimator-id-4\" class=\"sk-toggleable__label sk-toggleable__label-arrow\">SVC</label><div class=\"sk-toggleable__content\"><pre>SVC(class_weight={0.0: 0.1878424015009381, 1.0: 0.1717176914501329,\n",
       "                  2.0: 0.2092809364548495, 3.0: 0.25375744519072363,\n",
       "                  4.0: 0.30084134615384617, 5.0: 0.3032101756511205,\n",
       "                  6.0: 0.32156736791392326, 7.0: 0.4074888074888075,\n",
       "                  8.0: 0.4107487179487179, 9.0: 0.4464659977703456,\n",
       "                  10.0: 0.5017288900025056, 11.0: 0.5275026343519494,\n",
       "                  12.0: 0.5066801619433199, 13.0: 0.5642152719075796,\n",
       "                  14....20762423417,\n",
       "                  16.0: 0.7334798534798534, 17.0: 0.7300036456434561,\n",
       "                  18.0: 0.8325987525987526, 19.0: 1.0200713194090678,\n",
       "                  20.0: 0.8236939531057178, 21.0: 1.0001998001998003,\n",
       "                  22.0: 0.9278962001853568, 23.0: 1.084723726977248,\n",
       "                  24.0: 1.140968660968661, 25.0: 1.3053455019556715,\n",
       "                  26.0: 1.674247491638796, 27.0: 1.4531204644412192,\n",
       "                  28.0: 1.7306828003457218, 29.0: 2.0003996003996005, ...})</pre></div></div></div></div></div>"
      ],
      "text/plain": [
       "SVC(class_weight={0.0: 0.1878424015009381, 1.0: 0.1717176914501329,\n",
       "                  2.0: 0.2092809364548495, 3.0: 0.25375744519072363,\n",
       "                  4.0: 0.30084134615384617, 5.0: 0.3032101756511205,\n",
       "                  6.0: 0.32156736791392326, 7.0: 0.4074888074888075,\n",
       "                  8.0: 0.4107487179487179, 9.0: 0.4464659977703456,\n",
       "                  10.0: 0.5017288900025056, 11.0: 0.5275026343519494,\n",
       "                  12.0: 0.5066801619433199, 13.0: 0.5642152719075796,\n",
       "                  14....20762423417,\n",
       "                  16.0: 0.7334798534798534, 17.0: 0.7300036456434561,\n",
       "                  18.0: 0.8325987525987526, 19.0: 1.0200713194090678,\n",
       "                  20.0: 0.8236939531057178, 21.0: 1.0001998001998003,\n",
       "                  22.0: 0.9278962001853568, 23.0: 1.084723726977248,\n",
       "                  24.0: 1.140968660968661, 25.0: 1.3053455019556715,\n",
       "                  26.0: 1.674247491638796, 27.0: 1.4531204644412192,\n",
       "                  28.0: 1.7306828003457218, 29.0: 2.0003996003996005, ...})"
      ]
     },
     "execution_count": 44,
     "metadata": {},
     "output_type": "execute_result"
    }
   ],
   "source": [
    "from sklearn.utils import class_weight\n",
    "class_weight = np.array(class_weight.compute_class_weight(class_weight='balanced'\n",
    "                                               ,classes=np.unique(y_train_2018)\n",
    "                                               ,y=y_train_2018))\n",
    "\n",
    "clf_2018 = SVC(class_weight=dict(zip(list(np.unique(y_train_2018)), list(class_weight))))\n",
    "clf_2018.fit(scaler.transform(x_train_2018), y_train_2018)"
   ]
  },
  {
   "cell_type": "code",
   "execution_count": 45,
   "metadata": {},
   "outputs": [
    {
     "name": "stdout",
     "output_type": "stream",
     "text": [
      "答對：0.0785\n",
      "正負1：0.1937\n",
      "正負3：0.3246\n",
      "正負5：0.4974\n",
      "正負10：0.7330\n"
     ]
    }
   ],
   "source": [
    "t = 0\n",
    "a = 0\n",
    "b = 0\n",
    "c = 0\n",
    "d = 0\n",
    "g = []\n",
    "l = []\n",
    "m = []\n",
    "m1 = []\n",
    "n = []\n",
    "n1 = []\n",
    "p = []\n",
    "p1 = []\n",
    "q = []\n",
    "q1 = []\n",
    "predictions = clf_2018.predict(scaler.transform(x_test_2019))\n",
    "for i in range(len(y_test_2019)):\n",
    "    k = np.round(predictions)[i] - y_test_2019[i]\n",
    "    if abs(k) < 11:\n",
    "        d += 1\n",
    "        g.append(y_test_2019[i])\n",
    "        if abs(k) < 6:\n",
    "            c += 1\n",
    "            l.append(y_test_2019[i])\n",
    "            if abs(k) < 4:\n",
    "                b += 1\n",
    "                m.append(y_test_2019[i])\n",
    "                m1.append(i)\n",
    "                if abs(k) < 2:\n",
    "                    a += 1\n",
    "                    n.append(y_test_2019[i])\n",
    "                    n1.append(i)\n",
    "                    if abs(k) == 0:\n",
    "                        t += 1\n",
    "                        p.append(y_test_2019[i])\n",
    "                        p1.append(i)\n",
    "    else:\n",
    "        q.append(y_test_2019[i])\n",
    "        q1.append(i)\n",
    "print(\"correct answer：%.4f\" % (t/len(y_test_2019)))\n",
    "print(\"plus or minus 1：%.4f\" % (a/len(y_test_2019)))\n",
    "print(\"plus or minus 3：%.4f\" % (b/len(y_test_2019)))\n",
    "print(\"plus or minus 5：%.4f\" % (c/len(y_test_2019)))\n",
    "print(\"plus or minus 10：%.4f\" % (d/len(y_test_2019)))"
   ]
  },
  {
   "cell_type": "code",
   "execution_count": 46,
   "metadata": {},
   "outputs": [
    {
     "name": "stdout",
     "output_type": "stream",
     "text": [
      "mean_absolute_error: 7.780104712041885\n",
      "mean_squared_error: 115.63350785340315\n",
      "rmse: 10.753302183673773\n"
     ]
    }
   ],
   "source": [
    "print(\"mean_absolute_error:\",mean_absolute_error(predictions,y_test_2019))\n",
    "print(\"mean_squared_error:\",mean_squared_error(predictions,y_test_2019))\n",
    "print(\"rmse:\",sqrt(mean_squared_error(predictions,y_test_2019)))"
   ]
  },
  {
   "cell_type": "code",
   "execution_count": 47,
   "metadata": {},
   "outputs": [
    {
     "data": {
      "text/plain": [
       "Counter({2.0: 4,\n",
       "         7.0: 2,\n",
       "         23.0: 2,\n",
       "         1.0: 1,\n",
       "         3.0: 1,\n",
       "         6.0: 1,\n",
       "         11.0: 1,\n",
       "         12.0: 1,\n",
       "         13.0: 1,\n",
       "         14.0: 1})"
      ]
     },
     "execution_count": 47,
     "metadata": {},
     "output_type": "execute_result"
    }
   ],
   "source": [
    "Counter(sorted(p))"
   ]
  },
  {
   "cell_type": "code",
   "execution_count": 48,
   "metadata": {},
   "outputs": [
    {
     "data": {
      "text/plain": [
       "Counter({1.0: 5,\n",
       "         2.0: 4,\n",
       "         12.0: 4,\n",
       "         7.0: 3,\n",
       "         14.0: 3,\n",
       "         3.0: 2,\n",
       "         5.0: 2,\n",
       "         6.0: 2,\n",
       "         13.0: 2,\n",
       "         23.0: 2,\n",
       "         0.0: 1,\n",
       "         8.0: 1,\n",
       "         9.0: 1,\n",
       "         11.0: 1,\n",
       "         24.0: 1,\n",
       "         26.0: 1,\n",
       "         29.0: 1,\n",
       "         32.0: 1})"
      ]
     },
     "execution_count": 48,
     "metadata": {},
     "output_type": "execute_result"
    }
   ],
   "source": [
    "Counter(sorted(n))"
   ]
  },
  {
   "cell_type": "code",
   "execution_count": 49,
   "metadata": {},
   "outputs": [
    {
     "data": {
      "text/plain": [
       "Counter({2.0: 6,\n",
       "         12.0: 6,\n",
       "         1.0: 5,\n",
       "         5.0: 5,\n",
       "         3.0: 3,\n",
       "         7.0: 3,\n",
       "         9.0: 3,\n",
       "         11.0: 3,\n",
       "         13.0: 3,\n",
       "         14.0: 3,\n",
       "         0.0: 2,\n",
       "         6.0: 2,\n",
       "         20.0: 2,\n",
       "         22.0: 2,\n",
       "         23.0: 2,\n",
       "         29.0: 2,\n",
       "         4.0: 1,\n",
       "         8.0: 1,\n",
       "         24.0: 1,\n",
       "         25.0: 1,\n",
       "         26.0: 1,\n",
       "         27.0: 1,\n",
       "         28.0: 1,\n",
       "         32.0: 1,\n",
       "         34.0: 1,\n",
       "         41.0: 1})"
      ]
     },
     "execution_count": 49,
     "metadata": {},
     "output_type": "execute_result"
    }
   ],
   "source": [
    "Counter(sorted(m))"
   ]
  },
  {
   "cell_type": "code",
   "execution_count": 50,
   "metadata": {},
   "outputs": [
    {
     "data": {
      "text/plain": [
       "Counter({2.0: 6,\n",
       "         12.0: 4,\n",
       "         3.0: 3,\n",
       "         10.0: 3,\n",
       "         15.0: 3,\n",
       "         17.0: 3,\n",
       "         23.0: 3,\n",
       "         1.0: 2,\n",
       "         6.0: 2,\n",
       "         11.0: 2,\n",
       "         16.0: 2,\n",
       "         35.0: 2,\n",
       "         4.0: 1,\n",
       "         7.0: 1,\n",
       "         8.0: 1,\n",
       "         9.0: 1,\n",
       "         13.0: 1,\n",
       "         19.0: 1,\n",
       "         20.0: 1,\n",
       "         24.0: 1,\n",
       "         27.0: 1,\n",
       "         28.0: 1,\n",
       "         31.0: 1,\n",
       "         32.0: 1,\n",
       "         37.0: 1,\n",
       "         44.0: 1,\n",
       "         48.0: 1,\n",
       "         49.0: 1})"
      ]
     },
     "execution_count": 50,
     "metadata": {},
     "output_type": "execute_result"
    }
   ],
   "source": [
    "Counter(sorted(q))"
   ]
  },
  {
   "cell_type": "code",
   "execution_count": 51,
   "metadata": {},
   "outputs": [
    {
     "name": "stdout",
     "output_type": "stream",
     "text": [
      "0: [21, 23, 57, 67, 74, 80, 88, 90, 93, 119, 124, 148, 150, 154, 164]\n",
      "1: [2, 4, 13, 19, 21, 23, 42, 57, 67, 73, 74, 75, 80, 86, 88, 90, 91, 93, 94, 98, 110, 111, 119, 121, 124, 137, 138, 148, 149, 150, 153, 154, 157, 160, 164, 165, 175]\n",
      "3: [2, 4, 9, 13, 18, 19, 21, 23, 28, 31, 37, 38, 42, 44, 55, 57, 62, 67, 69, 73, 74, 75, 76, 78, 80, 82, 86, 88, 90, 91, 93, 94, 98, 104, 108, 109, 110, 111, 119, 121, 124, 130, 135, 136, 137, 138, 140, 142, 148, 149, 150, 153, 154, 155, 157, 159, 160, 164, 165, 171, 175, 186]\n",
      "NA: [1, 3, 5, 6, 14, 16, 26, 30, 36, 39, 40, 41, 45, 47, 49, 50, 52, 54, 56, 65, 66, 70, 71, 81, 87, 99, 100, 105, 106, 115, 122, 126, 128, 129, 141, 145, 147, 151, 152, 158, 161, 170, 173, 174, 176, 177, 181, 183, 187, 189, 190]\n"
     ]
    }
   ],
   "source": [
    "print('0:',p1)\n",
    "print('1:',n1)\n",
    "print('3:',m1)\n",
    "print('NA:',q1)"
   ]
  },
  {
   "cell_type": "code",
   "execution_count": 52,
   "metadata": {},
   "outputs": [],
   "source": [
    "SVM_2019_dataframe = testing_2019.copy()\n",
    "SVM_2019_dataframe['Prediction'] = np.round(predictions)\n",
    "SVM_2019_dataframe['Difference'] = SVM_2019_dataframe.SixthYear_HR - SVM_2019_dataframe.Prediction"
   ]
  },
  {
   "cell_type": "code",
   "execution_count": 53,
   "metadata": {},
   "outputs": [
    {
     "data": {
      "text/html": [
       "<div>\n",
       "<style scoped>\n",
       "    .dataframe tbody tr th:only-of-type {\n",
       "        vertical-align: middle;\n",
       "    }\n",
       "\n",
       "    .dataframe tbody tr th {\n",
       "        vertical-align: top;\n",
       "    }\n",
       "\n",
       "    .dataframe thead th {\n",
       "        text-align: right;\n",
       "    }\n",
       "</style>\n",
       "<table border=\"1\" class=\"dataframe\">\n",
       "  <thead>\n",
       "    <tr style=\"text-align: right;\">\n",
       "      <th></th>\n",
       "      <th>FirstYear_yearID</th>\n",
       "      <th>FirstYear_G</th>\n",
       "      <th>FirstYear_AB</th>\n",
       "      <th>FirstYear_R</th>\n",
       "      <th>FirstYear_H</th>\n",
       "      <th>FirstYear_2B</th>\n",
       "      <th>FirstYear_3B</th>\n",
       "      <th>FirstYear_HR</th>\n",
       "      <th>FirstYear_RBI</th>\n",
       "      <th>FirstYear_SB</th>\n",
       "      <th>...</th>\n",
       "      <th>SixthYear_SF</th>\n",
       "      <th>SixthYear_GIDP</th>\n",
       "      <th>SixthYear_nameFirst</th>\n",
       "      <th>SixthYear_nameLast</th>\n",
       "      <th>SixthYear_nameGiven</th>\n",
       "      <th>SixthYear_weight</th>\n",
       "      <th>SixthYear_height</th>\n",
       "      <th>SixthYear_age</th>\n",
       "      <th>Prediction</th>\n",
       "      <th>Difference</th>\n",
       "    </tr>\n",
       "  </thead>\n",
       "  <tbody>\n",
       "    <tr>\n",
       "      <th>8</th>\n",
       "      <td>2014</td>\n",
       "      <td>111.0</td>\n",
       "      <td>432.0</td>\n",
       "      <td>58.0</td>\n",
       "      <td>124.0</td>\n",
       "      <td>34.0</td>\n",
       "      <td>2.0</td>\n",
       "      <td>18.0</td>\n",
       "      <td>61.0</td>\n",
       "      <td>2.0</td>\n",
       "      <td>...</td>\n",
       "      <td>8.0</td>\n",
       "      <td>14.0</td>\n",
       "      <td>Nolan</td>\n",
       "      <td>Arenado</td>\n",
       "      <td>Nolan James</td>\n",
       "      <td>215.0</td>\n",
       "      <td>74.0</td>\n",
       "      <td>28.0</td>\n",
       "      <td>33.0</td>\n",
       "      <td>8.0</td>\n",
       "    </tr>\n",
       "    <tr>\n",
       "      <th>38</th>\n",
       "      <td>2014</td>\n",
       "      <td>159.0</td>\n",
       "      <td>613.0</td>\n",
       "      <td>87.0</td>\n",
       "      <td>166.0</td>\n",
       "      <td>32.0</td>\n",
       "      <td>2.0</td>\n",
       "      <td>40.0</td>\n",
       "      <td>108.0</td>\n",
       "      <td>4.0</td>\n",
       "      <td>...</td>\n",
       "      <td>3.0</td>\n",
       "      <td>14.0</td>\n",
       "      <td>Nelson</td>\n",
       "      <td>Cruz</td>\n",
       "      <td>Nelson Ramon</td>\n",
       "      <td>230.0</td>\n",
       "      <td>74.0</td>\n",
       "      <td>39.0</td>\n",
       "      <td>39.0</td>\n",
       "      <td>2.0</td>\n",
       "    </tr>\n",
       "    <tr>\n",
       "      <th>170</th>\n",
       "      <td>2014</td>\n",
       "      <td>24.0</td>\n",
       "      <td>89.0</td>\n",
       "      <td>11.0</td>\n",
       "      <td>26.0</td>\n",
       "      <td>8.0</td>\n",
       "      <td>1.0</td>\n",
       "      <td>5.0</td>\n",
       "      <td>20.0</td>\n",
       "      <td>1.0</td>\n",
       "      <td>...</td>\n",
       "      <td>4.0</td>\n",
       "      <td>16.0</td>\n",
       "      <td>Jorge</td>\n",
       "      <td>Soler</td>\n",
       "      <td>Jorge Carlos</td>\n",
       "      <td>235.0</td>\n",
       "      <td>76.0</td>\n",
       "      <td>27.0</td>\n",
       "      <td>7.0</td>\n",
       "      <td>41.0</td>\n",
       "    </tr>\n",
       "    <tr>\n",
       "      <th>174</th>\n",
       "      <td>2014</td>\n",
       "      <td>85.0</td>\n",
       "      <td>244.0</td>\n",
       "      <td>33.0</td>\n",
       "      <td>59.0</td>\n",
       "      <td>9.0</td>\n",
       "      <td>1.0</td>\n",
       "      <td>4.0</td>\n",
       "      <td>23.0</td>\n",
       "      <td>3.0</td>\n",
       "      <td>...</td>\n",
       "      <td>6.0</td>\n",
       "      <td>12.0</td>\n",
       "      <td>Eugenio</td>\n",
       "      <td>Suarez</td>\n",
       "      <td>Eugenio Alejandro</td>\n",
       "      <td>213.0</td>\n",
       "      <td>71.0</td>\n",
       "      <td>28.0</td>\n",
       "      <td>34.0</td>\n",
       "      <td>15.0</td>\n",
       "    </tr>\n",
       "    <tr>\n",
       "      <th>179</th>\n",
       "      <td>2014</td>\n",
       "      <td>157.0</td>\n",
       "      <td>602.0</td>\n",
       "      <td>115.0</td>\n",
       "      <td>173.0</td>\n",
       "      <td>39.0</td>\n",
       "      <td>9.0</td>\n",
       "      <td>36.0</td>\n",
       "      <td>111.0</td>\n",
       "      <td>16.0</td>\n",
       "      <td>...</td>\n",
       "      <td>4.0</td>\n",
       "      <td>5.0</td>\n",
       "      <td>Mike</td>\n",
       "      <td>Trout</td>\n",
       "      <td>Michael Nelson</td>\n",
       "      <td>235.0</td>\n",
       "      <td>74.0</td>\n",
       "      <td>28.0</td>\n",
       "      <td>39.0</td>\n",
       "      <td>6.0</td>\n",
       "    </tr>\n",
       "    <tr>\n",
       "      <th>187</th>\n",
       "      <td>2014</td>\n",
       "      <td>144.0</td>\n",
       "      <td>582.0</td>\n",
       "      <td>94.0</td>\n",
       "      <td>165.0</td>\n",
       "      <td>30.0</td>\n",
       "      <td>6.0</td>\n",
       "      <td>9.0</td>\n",
       "      <td>54.0</td>\n",
       "      <td>21.0</td>\n",
       "      <td>...</td>\n",
       "      <td>3.0</td>\n",
       "      <td>8.0</td>\n",
       "      <td>Christian</td>\n",
       "      <td>Yelich</td>\n",
       "      <td>Christian Stephen</td>\n",
       "      <td>195.0</td>\n",
       "      <td>75.0</td>\n",
       "      <td>28.0</td>\n",
       "      <td>29.0</td>\n",
       "      <td>15.0</td>\n",
       "    </tr>\n",
       "  </tbody>\n",
       "</table>\n",
       "<p>6 rows × 136 columns</p>\n",
       "</div>"
      ],
      "text/plain": [
       "     FirstYear_yearID  FirstYear_G  FirstYear_AB  FirstYear_R  FirstYear_H  \\\n",
       "8                2014        111.0         432.0         58.0        124.0   \n",
       "38               2014        159.0         613.0         87.0        166.0   \n",
       "170              2014         24.0          89.0         11.0         26.0   \n",
       "174              2014         85.0         244.0         33.0         59.0   \n",
       "179              2014        157.0         602.0        115.0        173.0   \n",
       "187              2014        144.0         582.0         94.0        165.0   \n",
       "\n",
       "     FirstYear_2B  FirstYear_3B  FirstYear_HR  FirstYear_RBI  FirstYear_SB  \\\n",
       "8            34.0           2.0          18.0           61.0           2.0   \n",
       "38           32.0           2.0          40.0          108.0           4.0   \n",
       "170           8.0           1.0           5.0           20.0           1.0   \n",
       "174           9.0           1.0           4.0           23.0           3.0   \n",
       "179          39.0           9.0          36.0          111.0          16.0   \n",
       "187          30.0           6.0           9.0           54.0          21.0   \n",
       "\n",
       "     ...  SixthYear_SF  SixthYear_GIDP  SixthYear_nameFirst  \\\n",
       "8    ...           8.0            14.0                Nolan   \n",
       "38   ...           3.0            14.0               Nelson   \n",
       "170  ...           4.0            16.0                Jorge   \n",
       "174  ...           6.0            12.0              Eugenio   \n",
       "179  ...           4.0             5.0                 Mike   \n",
       "187  ...           3.0             8.0            Christian   \n",
       "\n",
       "     SixthYear_nameLast  SixthYear_nameGiven  SixthYear_weight  \\\n",
       "8               Arenado          Nolan James             215.0   \n",
       "38                 Cruz         Nelson Ramon             230.0   \n",
       "170               Soler         Jorge Carlos             235.0   \n",
       "174              Suarez    Eugenio Alejandro             213.0   \n",
       "179               Trout       Michael Nelson             235.0   \n",
       "187              Yelich    Christian Stephen             195.0   \n",
       "\n",
       "     SixthYear_height  SixthYear_age  Prediction  Difference  \n",
       "8                74.0           28.0        33.0         8.0  \n",
       "38               74.0           39.0        39.0         2.0  \n",
       "170              76.0           27.0         7.0        41.0  \n",
       "174              71.0           28.0        34.0        15.0  \n",
       "179              74.0           28.0        39.0         6.0  \n",
       "187              75.0           28.0        29.0        15.0  \n",
       "\n",
       "[6 rows x 136 columns]"
      ]
     },
     "execution_count": 53,
     "metadata": {},
     "output_type": "execute_result"
    }
   ],
   "source": [
    "SVM_2019_dataframe[SVM_2019_dataframe.SixthYear_HR > 39]"
   ]
  },
  {
   "cell_type": "markdown",
   "metadata": {},
   "source": [
    "### Random Forest"
   ]
  },
  {
   "cell_type": "code",
   "execution_count": 54,
   "metadata": {},
   "outputs": [
    {
     "data": {
      "text/html": [
       "<style>#sk-container-id-5 {color: black;background-color: white;}#sk-container-id-5 pre{padding: 0;}#sk-container-id-5 div.sk-toggleable {background-color: white;}#sk-container-id-5 label.sk-toggleable__label {cursor: pointer;display: block;width: 100%;margin-bottom: 0;padding: 0.3em;box-sizing: border-box;text-align: center;}#sk-container-id-5 label.sk-toggleable__label-arrow:before {content: \"▸\";float: left;margin-right: 0.25em;color: #696969;}#sk-container-id-5 label.sk-toggleable__label-arrow:hover:before {color: black;}#sk-container-id-5 div.sk-estimator:hover label.sk-toggleable__label-arrow:before {color: black;}#sk-container-id-5 div.sk-toggleable__content {max-height: 0;max-width: 0;overflow: hidden;text-align: left;background-color: #f0f8ff;}#sk-container-id-5 div.sk-toggleable__content pre {margin: 0.2em;color: black;border-radius: 0.25em;background-color: #f0f8ff;}#sk-container-id-5 input.sk-toggleable__control:checked~div.sk-toggleable__content {max-height: 200px;max-width: 100%;overflow: auto;}#sk-container-id-5 input.sk-toggleable__control:checked~label.sk-toggleable__label-arrow:before {content: \"▾\";}#sk-container-id-5 div.sk-estimator input.sk-toggleable__control:checked~label.sk-toggleable__label {background-color: #d4ebff;}#sk-container-id-5 div.sk-label input.sk-toggleable__control:checked~label.sk-toggleable__label {background-color: #d4ebff;}#sk-container-id-5 input.sk-hidden--visually {border: 0;clip: rect(1px 1px 1px 1px);clip: rect(1px, 1px, 1px, 1px);height: 1px;margin: -1px;overflow: hidden;padding: 0;position: absolute;width: 1px;}#sk-container-id-5 div.sk-estimator {font-family: monospace;background-color: #f0f8ff;border: 1px dotted black;border-radius: 0.25em;box-sizing: border-box;margin-bottom: 0.5em;}#sk-container-id-5 div.sk-estimator:hover {background-color: #d4ebff;}#sk-container-id-5 div.sk-parallel-item::after {content: \"\";width: 100%;border-bottom: 1px solid gray;flex-grow: 1;}#sk-container-id-5 div.sk-label:hover label.sk-toggleable__label {background-color: #d4ebff;}#sk-container-id-5 div.sk-serial::before {content: \"\";position: absolute;border-left: 1px solid gray;box-sizing: border-box;top: 0;bottom: 0;left: 50%;z-index: 0;}#sk-container-id-5 div.sk-serial {display: flex;flex-direction: column;align-items: center;background-color: white;padding-right: 0.2em;padding-left: 0.2em;position: relative;}#sk-container-id-5 div.sk-item {position: relative;z-index: 1;}#sk-container-id-5 div.sk-parallel {display: flex;align-items: stretch;justify-content: center;background-color: white;position: relative;}#sk-container-id-5 div.sk-item::before, #sk-container-id-5 div.sk-parallel-item::before {content: \"\";position: absolute;border-left: 1px solid gray;box-sizing: border-box;top: 0;bottom: 0;left: 50%;z-index: -1;}#sk-container-id-5 div.sk-parallel-item {display: flex;flex-direction: column;z-index: 1;position: relative;background-color: white;}#sk-container-id-5 div.sk-parallel-item:first-child::after {align-self: flex-end;width: 50%;}#sk-container-id-5 div.sk-parallel-item:last-child::after {align-self: flex-start;width: 50%;}#sk-container-id-5 div.sk-parallel-item:only-child::after {width: 0;}#sk-container-id-5 div.sk-dashed-wrapped {border: 1px dashed gray;margin: 0 0.4em 0.5em 0.4em;box-sizing: border-box;padding-bottom: 0.4em;background-color: white;}#sk-container-id-5 div.sk-label label {font-family: monospace;font-weight: bold;display: inline-block;line-height: 1.2em;}#sk-container-id-5 div.sk-label-container {text-align: center;}#sk-container-id-5 div.sk-container {/* jupyter's `normalize.less` sets `[hidden] { display: none; }` but bootstrap.min.css set `[hidden] { display: none !important; }` so we also need the `!important` here to be able to override the default hidden behavior on the sphinx rendered scikit-learn.org. See: https://github.com/scikit-learn/scikit-learn/issues/21755 */display: inline-block !important;position: relative;}#sk-container-id-5 div.sk-text-repr-fallback {display: none;}</style><div id=\"sk-container-id-5\" class=\"sk-top-container\"><div class=\"sk-text-repr-fallback\"><pre>RandomForestClassifier(n_estimators=200)</pre><b>In a Jupyter environment, please rerun this cell to show the HTML representation or trust the notebook. <br />On GitHub, the HTML representation is unable to render, please try loading this page with nbviewer.org.</b></div><div class=\"sk-container\" hidden><div class=\"sk-item\"><div class=\"sk-estimator sk-toggleable\"><input class=\"sk-toggleable__control sk-hidden--visually\" id=\"sk-estimator-id-5\" type=\"checkbox\" checked><label for=\"sk-estimator-id-5\" class=\"sk-toggleable__label sk-toggleable__label-arrow\">RandomForestClassifier</label><div class=\"sk-toggleable__content\"><pre>RandomForestClassifier(n_estimators=200)</pre></div></div></div></div></div>"
      ],
      "text/plain": [
       "RandomForestClassifier(n_estimators=200)"
      ]
     },
     "execution_count": 54,
     "metadata": {},
     "output_type": "execute_result"
    }
   ],
   "source": [
    "forest_2017 = RandomForestClassifier(n_estimators=200)\n",
    "forest_2017.fit(x_train_2017, y_train_2017)"
   ]
  },
  {
   "cell_type": "code",
   "execution_count": 55,
   "metadata": {},
   "outputs": [
    {
     "name": "stdout",
     "output_type": "stream",
     "text": [
      "答對：0.0489\n",
      "正負1：0.2065\n",
      "正負3：0.3533\n",
      "正負5：0.5217\n",
      "正負10：0.7989\n"
     ]
    }
   ],
   "source": [
    "t = 0\n",
    "a = 0\n",
    "b = 0\n",
    "c = 0\n",
    "d = 0\n",
    "g = []\n",
    "l = []\n",
    "m = []\n",
    "m1 = []\n",
    "n = []\n",
    "n1 = []\n",
    "p = []\n",
    "p1 = []\n",
    "q = []\n",
    "q1 = []\n",
    "predictions = forest_2017.predict(x_test_2018)\n",
    "for i in range(len(y_test_2018)):\n",
    "    k = np.round(predictions)[i] - y_test_2018[i]\n",
    "    if abs(k) < 11:\n",
    "        d += 1\n",
    "        g.append(y_test_2018[i])\n",
    "        if abs(k) < 6:\n",
    "            c += 1\n",
    "            l.append(y_test_2018[i])\n",
    "            if abs(k) < 4:\n",
    "                b += 1\n",
    "                m.append(y_test_2018[i])\n",
    "                m1.append(i)\n",
    "                if abs(k) < 2:\n",
    "                    a += 1\n",
    "                    n.append(y_test_2018[i])\n",
    "                    n1.append(i)\n",
    "                    if abs(k) == 0:\n",
    "                        t += 1\n",
    "                        p.append(y_test_2018[i])\n",
    "                        p1.append(i)\n",
    "    else:\n",
    "        q.append(y_test_2018[i])\n",
    "        q1.append(i)\n",
    "print(\"correct answer：%.4f\" % (t/len(y_test_2018)))\n",
    "print(\"plus or minus 1：%.4f\" % (a/len(y_test_2018)))\n",
    "print(\"plus or minus 3：%.4f\" % (b/len(y_test_2018)))\n",
    "print(\"plus or minus 5：%.4f\" % (c/len(y_test_2018)))\n",
    "print(\"plus or minus 10：%.4f\" % (d/len(y_test_2018)))"
   ]
  },
  {
   "cell_type": "code",
   "execution_count": 56,
   "metadata": {},
   "outputs": [
    {
     "name": "stdout",
     "output_type": "stream",
     "text": [
      "mean_absolute_error: 6.586956521739131\n",
      "mean_squared_error: 74.07608695652173\n",
      "rmse: 8.606746595347264\n"
     ]
    }
   ],
   "source": [
    "print(\"mean_absolute_error:\",mean_absolute_error(predictions,y_test_2018))\n",
    "print(\"mean_squared_error:\",mean_squared_error(predictions,y_test_2018))\n",
    "print(\"rmse:\",sqrt(mean_squared_error(predictions,y_test_2018)))"
   ]
  },
  {
   "cell_type": "code",
   "execution_count": 57,
   "metadata": {},
   "outputs": [
    {
     "data": {
      "text/plain": [
       "Counter({0.0: 1,\n",
       "         3.0: 1,\n",
       "         4.0: 1,\n",
       "         11.0: 1,\n",
       "         12.0: 1,\n",
       "         14.0: 1,\n",
       "         20.0: 1,\n",
       "         23.0: 1,\n",
       "         27.0: 1})"
      ]
     },
     "execution_count": 57,
     "metadata": {},
     "output_type": "execute_result"
    }
   ],
   "source": [
    "Counter(sorted(p))"
   ]
  },
  {
   "cell_type": "code",
   "execution_count": 58,
   "metadata": {},
   "outputs": [
    {
     "data": {
      "text/plain": [
       "Counter({1.0: 6,\n",
       "         2.0: 3,\n",
       "         6.0: 3,\n",
       "         13.0: 3,\n",
       "         0.0: 2,\n",
       "         4.0: 2,\n",
       "         5.0: 2,\n",
       "         14.0: 2,\n",
       "         15.0: 2,\n",
       "         23.0: 2,\n",
       "         3.0: 1,\n",
       "         7.0: 1,\n",
       "         8.0: 1,\n",
       "         9.0: 1,\n",
       "         11.0: 1,\n",
       "         12.0: 1,\n",
       "         19.0: 1,\n",
       "         20.0: 1,\n",
       "         21.0: 1,\n",
       "         27.0: 1,\n",
       "         37.0: 1})"
      ]
     },
     "execution_count": 58,
     "metadata": {},
     "output_type": "execute_result"
    }
   ],
   "source": [
    "Counter(sorted(n))"
   ]
  },
  {
   "cell_type": "code",
   "execution_count": 59,
   "metadata": {},
   "outputs": [
    {
     "data": {
      "text/plain": [
       "Counter({1.0: 8,\n",
       "         4.0: 8,\n",
       "         2.0: 4,\n",
       "         7.0: 4,\n",
       "         14.0: 4,\n",
       "         0.0: 3,\n",
       "         3.0: 3,\n",
       "         6.0: 3,\n",
       "         8.0: 3,\n",
       "         11.0: 3,\n",
       "         13.0: 3,\n",
       "         5.0: 2,\n",
       "         9.0: 2,\n",
       "         15.0: 2,\n",
       "         19.0: 2,\n",
       "         21.0: 2,\n",
       "         23.0: 2,\n",
       "         10.0: 1,\n",
       "         12.0: 1,\n",
       "         20.0: 1,\n",
       "         27.0: 1,\n",
       "         30.0: 1,\n",
       "         33.0: 1,\n",
       "         37.0: 1})"
      ]
     },
     "execution_count": 59,
     "metadata": {},
     "output_type": "execute_result"
    }
   ],
   "source": [
    "Counter(sorted(m))"
   ]
  },
  {
   "cell_type": "code",
   "execution_count": 60,
   "metadata": {},
   "outputs": [
    {
     "data": {
      "text/plain": [
       "Counter({23.0: 6,\n",
       "         21.0: 3,\n",
       "         9.0: 2,\n",
       "         24.0: 2,\n",
       "         25.0: 2,\n",
       "         27.0: 2,\n",
       "         36.0: 2,\n",
       "         0.0: 1,\n",
       "         3.0: 1,\n",
       "         4.0: 1,\n",
       "         6.0: 1,\n",
       "         8.0: 1,\n",
       "         10.0: 1,\n",
       "         12.0: 1,\n",
       "         13.0: 1,\n",
       "         17.0: 1,\n",
       "         20.0: 1,\n",
       "         22.0: 1,\n",
       "         29.0: 1,\n",
       "         34.0: 1,\n",
       "         37.0: 1,\n",
       "         38.0: 1,\n",
       "         39.0: 1,\n",
       "         43.0: 1,\n",
       "         48.0: 1})"
      ]
     },
     "execution_count": 60,
     "metadata": {},
     "output_type": "execute_result"
    }
   ],
   "source": [
    "Counter(sorted(q))"
   ]
  },
  {
   "cell_type": "code",
   "execution_count": 61,
   "metadata": {},
   "outputs": [
    {
     "name": "stdout",
     "output_type": "stream",
     "text": [
      "0: [2, 17, 53, 117, 127, 131, 135, 155, 169]\n",
      "1: [2, 6, 13, 17, 31, 33, 35, 36, 46, 47, 49, 53, 58, 72, 77, 78, 86, 95, 96, 102, 115, 117, 120, 127, 131, 132, 134, 135, 136, 139, 144, 147, 151, 155, 158, 169, 172, 181]\n",
      "3: [2, 6, 8, 13, 15, 17, 22, 23, 31, 33, 34, 35, 36, 46, 47, 49, 51, 53, 54, 58, 66, 72, 73, 77, 78, 79, 85, 86, 93, 94, 95, 96, 98, 99, 101, 102, 115, 117, 118, 120, 121, 123, 127, 130, 131, 132, 134, 135, 136, 139, 142, 144, 147, 150, 151, 152, 155, 158, 169, 170, 172, 173, 176, 177, 181]\n",
      "NA: [0, 3, 4, 9, 12, 18, 19, 21, 24, 25, 29, 30, 32, 38, 41, 44, 52, 63, 64, 69, 75, 76, 80, 82, 87, 104, 106, 110, 111, 140, 143, 148, 149, 163, 165, 167, 179]\n"
     ]
    }
   ],
   "source": [
    "print('0:',p1)\n",
    "print('1:',n1)\n",
    "print('3:',m1)\n",
    "print('NA:',q1)"
   ]
  },
  {
   "cell_type": "code",
   "execution_count": 62,
   "metadata": {},
   "outputs": [],
   "source": [
    "RF_2018_dataframe = testing_2018.copy()\n",
    "RF_2018_dataframe['Prediction'] = np.round(predictions)\n",
    "RF_2018_dataframe['Difference'] = RF_2018_dataframe.SixthYear_HR - RF_2018_dataframe.Prediction"
   ]
  },
  {
   "cell_type": "code",
   "execution_count": 63,
   "metadata": {},
   "outputs": [
    {
     "data": {
      "text/html": [
       "<div>\n",
       "<style scoped>\n",
       "    .dataframe tbody tr th:only-of-type {\n",
       "        vertical-align: middle;\n",
       "    }\n",
       "\n",
       "    .dataframe tbody tr th {\n",
       "        vertical-align: top;\n",
       "    }\n",
       "\n",
       "    .dataframe thead th {\n",
       "        text-align: right;\n",
       "    }\n",
       "</style>\n",
       "<table border=\"1\" class=\"dataframe\">\n",
       "  <thead>\n",
       "    <tr style=\"text-align: right;\">\n",
       "      <th></th>\n",
       "      <th>FirstYear_yearID</th>\n",
       "      <th>FirstYear_G</th>\n",
       "      <th>FirstYear_AB</th>\n",
       "      <th>FirstYear_R</th>\n",
       "      <th>FirstYear_H</th>\n",
       "      <th>FirstYear_2B</th>\n",
       "      <th>FirstYear_3B</th>\n",
       "      <th>FirstYear_HR</th>\n",
       "      <th>FirstYear_RBI</th>\n",
       "      <th>FirstYear_SB</th>\n",
       "      <th>...</th>\n",
       "      <th>SixthYear_SF</th>\n",
       "      <th>SixthYear_GIDP</th>\n",
       "      <th>SixthYear_nameFirst</th>\n",
       "      <th>SixthYear_nameLast</th>\n",
       "      <th>SixthYear_nameGiven</th>\n",
       "      <th>SixthYear_weight</th>\n",
       "      <th>SixthYear_height</th>\n",
       "      <th>SixthYear_age</th>\n",
       "      <th>Prediction</th>\n",
       "      <th>Difference</th>\n",
       "    </tr>\n",
       "  </thead>\n",
       "  <tbody>\n",
       "    <tr>\n",
       "      <th>38</th>\n",
       "      <td>2013</td>\n",
       "      <td>56.0</td>\n",
       "      <td>136.0</td>\n",
       "      <td>27.0</td>\n",
       "      <td>38.0</td>\n",
       "      <td>10.0</td>\n",
       "      <td>0.0</td>\n",
       "      <td>11.0</td>\n",
       "      <td>27.0</td>\n",
       "      <td>3.0</td>\n",
       "      <td>...</td>\n",
       "      <td>7.0</td>\n",
       "      <td>16.0</td>\n",
       "      <td>Khris</td>\n",
       "      <td>Davis</td>\n",
       "      <td>Khristopher Adrian</td>\n",
       "      <td>205.0</td>\n",
       "      <td>71.0</td>\n",
       "      <td>31.0</td>\n",
       "      <td>23.0</td>\n",
       "      <td>25.0</td>\n",
       "    </tr>\n",
       "    <tr>\n",
       "      <th>111</th>\n",
       "      <td>2013</td>\n",
       "      <td>86.0</td>\n",
       "      <td>296.0</td>\n",
       "      <td>24.0</td>\n",
       "      <td>74.0</td>\n",
       "      <td>17.0</td>\n",
       "      <td>0.0</td>\n",
       "      <td>7.0</td>\n",
       "      <td>36.0</td>\n",
       "      <td>2.0</td>\n",
       "      <td>...</td>\n",
       "      <td>7.0</td>\n",
       "      <td>19.0</td>\n",
       "      <td>J. D.</td>\n",
       "      <td>Martinez</td>\n",
       "      <td>Julio Daniel</td>\n",
       "      <td>230.0</td>\n",
       "      <td>75.0</td>\n",
       "      <td>31.0</td>\n",
       "      <td>27.0</td>\n",
       "      <td>16.0</td>\n",
       "    </tr>\n",
       "  </tbody>\n",
       "</table>\n",
       "<p>2 rows × 136 columns</p>\n",
       "</div>"
      ],
      "text/plain": [
       "     FirstYear_yearID  FirstYear_G  FirstYear_AB  FirstYear_R  FirstYear_H  \\\n",
       "38               2013         56.0         136.0         27.0         38.0   \n",
       "111              2013         86.0         296.0         24.0         74.0   \n",
       "\n",
       "     FirstYear_2B  FirstYear_3B  FirstYear_HR  FirstYear_RBI  FirstYear_SB  \\\n",
       "38           10.0           0.0          11.0           27.0           3.0   \n",
       "111          17.0           0.0           7.0           36.0           2.0   \n",
       "\n",
       "     ...  SixthYear_SF  SixthYear_GIDP  SixthYear_nameFirst  \\\n",
       "38   ...           7.0            16.0                Khris   \n",
       "111  ...           7.0            19.0                J. D.   \n",
       "\n",
       "     SixthYear_nameLast  SixthYear_nameGiven  SixthYear_weight  \\\n",
       "38                Davis   Khristopher Adrian             205.0   \n",
       "111            Martinez         Julio Daniel             230.0   \n",
       "\n",
       "     SixthYear_height  SixthYear_age  Prediction  Difference  \n",
       "38               71.0           31.0        23.0        25.0  \n",
       "111              75.0           31.0        27.0        16.0  \n",
       "\n",
       "[2 rows x 136 columns]"
      ]
     },
     "execution_count": 63,
     "metadata": {},
     "output_type": "execute_result"
    }
   ],
   "source": [
    "RF_2018_dataframe[RF_2018_dataframe.SixthYear_HR > 39]"
   ]
  },
  {
   "cell_type": "code",
   "execution_count": 64,
   "metadata": {},
   "outputs": [
    {
     "data": {
      "text/html": [
       "<style>#sk-container-id-6 {color: black;background-color: white;}#sk-container-id-6 pre{padding: 0;}#sk-container-id-6 div.sk-toggleable {background-color: white;}#sk-container-id-6 label.sk-toggleable__label {cursor: pointer;display: block;width: 100%;margin-bottom: 0;padding: 0.3em;box-sizing: border-box;text-align: center;}#sk-container-id-6 label.sk-toggleable__label-arrow:before {content: \"▸\";float: left;margin-right: 0.25em;color: #696969;}#sk-container-id-6 label.sk-toggleable__label-arrow:hover:before {color: black;}#sk-container-id-6 div.sk-estimator:hover label.sk-toggleable__label-arrow:before {color: black;}#sk-container-id-6 div.sk-toggleable__content {max-height: 0;max-width: 0;overflow: hidden;text-align: left;background-color: #f0f8ff;}#sk-container-id-6 div.sk-toggleable__content pre {margin: 0.2em;color: black;border-radius: 0.25em;background-color: #f0f8ff;}#sk-container-id-6 input.sk-toggleable__control:checked~div.sk-toggleable__content {max-height: 200px;max-width: 100%;overflow: auto;}#sk-container-id-6 input.sk-toggleable__control:checked~label.sk-toggleable__label-arrow:before {content: \"▾\";}#sk-container-id-6 div.sk-estimator input.sk-toggleable__control:checked~label.sk-toggleable__label {background-color: #d4ebff;}#sk-container-id-6 div.sk-label input.sk-toggleable__control:checked~label.sk-toggleable__label {background-color: #d4ebff;}#sk-container-id-6 input.sk-hidden--visually {border: 0;clip: rect(1px 1px 1px 1px);clip: rect(1px, 1px, 1px, 1px);height: 1px;margin: -1px;overflow: hidden;padding: 0;position: absolute;width: 1px;}#sk-container-id-6 div.sk-estimator {font-family: monospace;background-color: #f0f8ff;border: 1px dotted black;border-radius: 0.25em;box-sizing: border-box;margin-bottom: 0.5em;}#sk-container-id-6 div.sk-estimator:hover {background-color: #d4ebff;}#sk-container-id-6 div.sk-parallel-item::after {content: \"\";width: 100%;border-bottom: 1px solid gray;flex-grow: 1;}#sk-container-id-6 div.sk-label:hover label.sk-toggleable__label {background-color: #d4ebff;}#sk-container-id-6 div.sk-serial::before {content: \"\";position: absolute;border-left: 1px solid gray;box-sizing: border-box;top: 0;bottom: 0;left: 50%;z-index: 0;}#sk-container-id-6 div.sk-serial {display: flex;flex-direction: column;align-items: center;background-color: white;padding-right: 0.2em;padding-left: 0.2em;position: relative;}#sk-container-id-6 div.sk-item {position: relative;z-index: 1;}#sk-container-id-6 div.sk-parallel {display: flex;align-items: stretch;justify-content: center;background-color: white;position: relative;}#sk-container-id-6 div.sk-item::before, #sk-container-id-6 div.sk-parallel-item::before {content: \"\";position: absolute;border-left: 1px solid gray;box-sizing: border-box;top: 0;bottom: 0;left: 50%;z-index: -1;}#sk-container-id-6 div.sk-parallel-item {display: flex;flex-direction: column;z-index: 1;position: relative;background-color: white;}#sk-container-id-6 div.sk-parallel-item:first-child::after {align-self: flex-end;width: 50%;}#sk-container-id-6 div.sk-parallel-item:last-child::after {align-self: flex-start;width: 50%;}#sk-container-id-6 div.sk-parallel-item:only-child::after {width: 0;}#sk-container-id-6 div.sk-dashed-wrapped {border: 1px dashed gray;margin: 0 0.4em 0.5em 0.4em;box-sizing: border-box;padding-bottom: 0.4em;background-color: white;}#sk-container-id-6 div.sk-label label {font-family: monospace;font-weight: bold;display: inline-block;line-height: 1.2em;}#sk-container-id-6 div.sk-label-container {text-align: center;}#sk-container-id-6 div.sk-container {/* jupyter's `normalize.less` sets `[hidden] { display: none; }` but bootstrap.min.css set `[hidden] { display: none !important; }` so we also need the `!important` here to be able to override the default hidden behavior on the sphinx rendered scikit-learn.org. See: https://github.com/scikit-learn/scikit-learn/issues/21755 */display: inline-block !important;position: relative;}#sk-container-id-6 div.sk-text-repr-fallback {display: none;}</style><div id=\"sk-container-id-6\" class=\"sk-top-container\"><div class=\"sk-text-repr-fallback\"><pre>RandomForestClassifier(n_estimators=200)</pre><b>In a Jupyter environment, please rerun this cell to show the HTML representation or trust the notebook. <br />On GitHub, the HTML representation is unable to render, please try loading this page with nbviewer.org.</b></div><div class=\"sk-container\" hidden><div class=\"sk-item\"><div class=\"sk-estimator sk-toggleable\"><input class=\"sk-toggleable__control sk-hidden--visually\" id=\"sk-estimator-id-6\" type=\"checkbox\" checked><label for=\"sk-estimator-id-6\" class=\"sk-toggleable__label sk-toggleable__label-arrow\">RandomForestClassifier</label><div class=\"sk-toggleable__content\"><pre>RandomForestClassifier(n_estimators=200)</pre></div></div></div></div></div>"
      ],
      "text/plain": [
       "RandomForestClassifier(n_estimators=200)"
      ]
     },
     "execution_count": 64,
     "metadata": {},
     "output_type": "execute_result"
    }
   ],
   "source": [
    "forest_2018 = RandomForestClassifier(n_estimators=200)\n",
    "forest_2018.fit(x_train_2018, y_train_2018)"
   ]
  },
  {
   "cell_type": "code",
   "execution_count": 74,
   "metadata": {},
   "outputs": [
    {
     "name": "stdout",
     "output_type": "stream",
     "text": [
      "答對：0.0366\n",
      "正負1：0.1466\n",
      "正負3：0.3194\n",
      "正負5：0.4503\n",
      "正負10：0.6545\n"
     ]
    }
   ],
   "source": [
    "t = 0\n",
    "a = 0\n",
    "b = 0\n",
    "c = 0\n",
    "d = 0\n",
    "g = []\n",
    "l = []\n",
    "m = []\n",
    "m1 = []\n",
    "n = []\n",
    "n1 = []\n",
    "p = []\n",
    "p1 = []\n",
    "q = []\n",
    "q1 = []\n",
    "predictions = forest_2018.predict(x_test_2019)\n",
    "for i in range(len(y_test_2019)):\n",
    "    k = np.round(predictions)[i] - y_test_2019[i]\n",
    "    if abs(k) < 11:\n",
    "        d += 1\n",
    "        g.append(y_test_2019[i])\n",
    "        if abs(k) < 6:\n",
    "            c += 1\n",
    "            l.append(y_test_2019[i])\n",
    "            if abs(k) < 4:\n",
    "                b += 1\n",
    "                m.append(y_test_2019[i])\n",
    "                m1.append(i)\n",
    "                if abs(k) < 2:\n",
    "                    a += 1\n",
    "                    n.append(y_test_2019[i])\n",
    "                    n1.append(i)\n",
    "                    if abs(k) == 0:\n",
    "                        t += 1\n",
    "                        p.append(y_test_2019[i])\n",
    "                        p1.append(i)\n",
    "    else:\n",
    "        q.append(y_test_2019[i])\n",
    "        q1.append(i)\n",
    "print(\"correct answer：%.4f\" % (t/len(y_test_2019)))\n",
    "print(\"plus or minus 1：%.4f\" % (a/len(y_test_2019)))\n",
    "print(\"plus or minus 3：%.4f\" % (b/len(y_test_2019)))\n",
    "print(\"plus or minus 5：%.4f\" % (c/len(y_test_2019)))\n",
    "print(\"plus or minus 10：%.4f\" % (d/len(y_test_2019)))"
   ]
  },
  {
   "cell_type": "code",
   "execution_count": 75,
   "metadata": {},
   "outputs": [
    {
     "name": "stdout",
     "output_type": "stream",
     "text": [
      "mean_absolute_error: 8.471204188481675\n",
      "mean_squared_error: 123.70680628272251\n",
      "rmse: 11.12235614798962\n"
     ]
    }
   ],
   "source": [
    "print(\"mean_absolute_error:\",mean_absolute_error(predictions,y_test_2019))\n",
    "print(\"mean_squared_error:\",mean_squared_error(predictions,y_test_2019))\n",
    "print(\"rmse:\",sqrt(mean_squared_error(predictions,y_test_2019)))"
   ]
  },
  {
   "cell_type": "code",
   "execution_count": 67,
   "metadata": {},
   "outputs": [
    {
     "data": {
      "text/plain": [
       "Counter({1.0: 3, 2.0: 2, 5.0: 1, 9.0: 1})"
      ]
     },
     "execution_count": 67,
     "metadata": {},
     "output_type": "execute_result"
    }
   ],
   "source": [
    "Counter(sorted(p))"
   ]
  },
  {
   "cell_type": "code",
   "execution_count": 68,
   "metadata": {},
   "outputs": [
    {
     "data": {
      "text/plain": [
       "Counter({2.0: 5,\n",
       "         1.0: 3,\n",
       "         5.0: 3,\n",
       "         7.0: 3,\n",
       "         12.0: 3,\n",
       "         0.0: 2,\n",
       "         3.0: 2,\n",
       "         9.0: 2,\n",
       "         6.0: 1,\n",
       "         11.0: 1,\n",
       "         14.0: 1,\n",
       "         15.0: 1,\n",
       "         20.0: 1})"
      ]
     },
     "execution_count": 68,
     "metadata": {},
     "output_type": "execute_result"
    }
   ],
   "source": [
    "Counter(sorted(n))"
   ]
  },
  {
   "cell_type": "code",
   "execution_count": 69,
   "metadata": {},
   "outputs": [
    {
     "data": {
      "text/plain": [
       "Counter({2.0: 9,\n",
       "         1.0: 6,\n",
       "         3.0: 6,\n",
       "         5.0: 5,\n",
       "         12.0: 5,\n",
       "         7.0: 4,\n",
       "         0.0: 3,\n",
       "         6.0: 3,\n",
       "         8.0: 3,\n",
       "         9.0: 3,\n",
       "         4.0: 2,\n",
       "         11.0: 2,\n",
       "         20.0: 2,\n",
       "         27.0: 2,\n",
       "         10.0: 1,\n",
       "         13.0: 1,\n",
       "         14.0: 1,\n",
       "         15.0: 1,\n",
       "         16.0: 1,\n",
       "         41.0: 1})"
      ]
     },
     "execution_count": 69,
     "metadata": {},
     "output_type": "execute_result"
    }
   ],
   "source": [
    "Counter(sorted(m))"
   ]
  },
  {
   "cell_type": "code",
   "execution_count": 70,
   "metadata": {},
   "outputs": [
    {
     "data": {
      "text/plain": [
       "Counter({23.0: 6,\n",
       "         17.0: 4,\n",
       "         24.0: 4,\n",
       "         21.0: 3,\n",
       "         22.0: 3,\n",
       "         33.0: 3,\n",
       "         34.0: 3,\n",
       "         2.0: 2,\n",
       "         12.0: 2,\n",
       "         13.0: 2,\n",
       "         16.0: 2,\n",
       "         19.0: 2,\n",
       "         20.0: 2,\n",
       "         26.0: 2,\n",
       "         28.0: 2,\n",
       "         29.0: 2,\n",
       "         35.0: 2,\n",
       "         1.0: 1,\n",
       "         3.0: 1,\n",
       "         6.0: 1,\n",
       "         14.0: 1,\n",
       "         15.0: 1,\n",
       "         18.0: 1,\n",
       "         25.0: 1,\n",
       "         27.0: 1,\n",
       "         30.0: 1,\n",
       "         31.0: 1,\n",
       "         32.0: 1,\n",
       "         36.0: 1,\n",
       "         37.0: 1,\n",
       "         38.0: 1,\n",
       "         39.0: 1,\n",
       "         41.0: 1,\n",
       "         44.0: 1,\n",
       "         45.0: 1,\n",
       "         48.0: 1,\n",
       "         49.0: 1})"
      ]
     },
     "execution_count": 70,
     "metadata": {},
     "output_type": "execute_result"
    }
   ],
   "source": [
    "Counter(sorted(q))"
   ]
  },
  {
   "cell_type": "code",
   "execution_count": 71,
   "metadata": {},
   "outputs": [
    {
     "name": "stdout",
     "output_type": "stream",
     "text": [
      "0: [4, 88, 93, 102, 138, 142, 160]\n",
      "1: [2, 4, 21, 23, 40, 44, 57, 67, 72, 74, 82, 86, 88, 90, 91, 93, 94, 95, 102, 119, 137, 138, 142, 151, 160, 165, 167, 175]\n",
      "3: [2, 4, 7, 8, 16, 21, 23, 28, 32, 36, 40, 42, 43, 44, 48, 57, 67, 70, 72, 73, 74, 78, 80, 82, 86, 88, 90, 91, 93, 94, 95, 96, 97, 102, 104, 105, 108, 110, 119, 122, 134, 137, 138, 140, 142, 147, 148, 151, 156, 157, 158, 159, 160, 161, 165, 167, 171, 175, 184, 189, 190]\n",
      "NA: [6, 10, 14, 15, 18, 19, 24, 30, 33, 34, 37, 38, 39, 47, 52, 53, 54, 58, 60, 61, 63, 64, 65, 66, 76, 87, 89, 92, 99, 100, 101, 106, 107, 109, 112, 115, 116, 121, 124, 126, 127, 129, 133, 135, 139, 141, 144, 145, 149, 150, 152, 155, 162, 163, 164, 166, 168, 170, 172, 173, 174, 176, 179, 180, 182, 187]\n"
     ]
    }
   ],
   "source": [
    "print('0:',p1)\n",
    "print('1:',n1)\n",
    "print('3:',m1)\n",
    "print('NA:',q1)"
   ]
  },
  {
   "cell_type": "code",
   "execution_count": 72,
   "metadata": {},
   "outputs": [],
   "source": [
    "RF_2019_dataframe = testing_2019.copy()\n",
    "RF_2019_dataframe['Prediction'] = np.round(predictions)\n",
    "RF_2019_dataframe['Difference'] = RF_2019_dataframe.SixthYear_HR - RF_2019_dataframe.Prediction"
   ]
  },
  {
   "cell_type": "code",
   "execution_count": 73,
   "metadata": {},
   "outputs": [
    {
     "data": {
      "text/html": [
       "<div>\n",
       "<style scoped>\n",
       "    .dataframe tbody tr th:only-of-type {\n",
       "        vertical-align: middle;\n",
       "    }\n",
       "\n",
       "    .dataframe tbody tr th {\n",
       "        vertical-align: top;\n",
       "    }\n",
       "\n",
       "    .dataframe thead th {\n",
       "        text-align: right;\n",
       "    }\n",
       "</style>\n",
       "<table border=\"1\" class=\"dataframe\">\n",
       "  <thead>\n",
       "    <tr style=\"text-align: right;\">\n",
       "      <th></th>\n",
       "      <th>FirstYear_yearID</th>\n",
       "      <th>FirstYear_G</th>\n",
       "      <th>FirstYear_AB</th>\n",
       "      <th>FirstYear_R</th>\n",
       "      <th>FirstYear_H</th>\n",
       "      <th>FirstYear_2B</th>\n",
       "      <th>FirstYear_3B</th>\n",
       "      <th>FirstYear_HR</th>\n",
       "      <th>FirstYear_RBI</th>\n",
       "      <th>FirstYear_SB</th>\n",
       "      <th>...</th>\n",
       "      <th>SixthYear_SF</th>\n",
       "      <th>SixthYear_GIDP</th>\n",
       "      <th>SixthYear_nameFirst</th>\n",
       "      <th>SixthYear_nameLast</th>\n",
       "      <th>SixthYear_nameGiven</th>\n",
       "      <th>SixthYear_weight</th>\n",
       "      <th>SixthYear_height</th>\n",
       "      <th>SixthYear_age</th>\n",
       "      <th>Prediction</th>\n",
       "      <th>Difference</th>\n",
       "    </tr>\n",
       "  </thead>\n",
       "  <tbody>\n",
       "    <tr>\n",
       "      <th>8</th>\n",
       "      <td>2014</td>\n",
       "      <td>111.0</td>\n",
       "      <td>432.0</td>\n",
       "      <td>58.0</td>\n",
       "      <td>124.0</td>\n",
       "      <td>34.0</td>\n",
       "      <td>2.0</td>\n",
       "      <td>18.0</td>\n",
       "      <td>61.0</td>\n",
       "      <td>2.0</td>\n",
       "      <td>...</td>\n",
       "      <td>8.0</td>\n",
       "      <td>14.0</td>\n",
       "      <td>Nolan</td>\n",
       "      <td>Arenado</td>\n",
       "      <td>Nolan James</td>\n",
       "      <td>215.0</td>\n",
       "      <td>74.0</td>\n",
       "      <td>28.0</td>\n",
       "      <td>38.0</td>\n",
       "      <td>3.0</td>\n",
       "    </tr>\n",
       "    <tr>\n",
       "      <th>38</th>\n",
       "      <td>2014</td>\n",
       "      <td>159.0</td>\n",
       "      <td>613.0</td>\n",
       "      <td>87.0</td>\n",
       "      <td>166.0</td>\n",
       "      <td>32.0</td>\n",
       "      <td>2.0</td>\n",
       "      <td>40.0</td>\n",
       "      <td>108.0</td>\n",
       "      <td>4.0</td>\n",
       "      <td>...</td>\n",
       "      <td>3.0</td>\n",
       "      <td>14.0</td>\n",
       "      <td>Nelson</td>\n",
       "      <td>Cruz</td>\n",
       "      <td>Nelson Ramon</td>\n",
       "      <td>230.0</td>\n",
       "      <td>74.0</td>\n",
       "      <td>39.0</td>\n",
       "      <td>16.0</td>\n",
       "      <td>25.0</td>\n",
       "    </tr>\n",
       "    <tr>\n",
       "      <th>170</th>\n",
       "      <td>2014</td>\n",
       "      <td>24.0</td>\n",
       "      <td>89.0</td>\n",
       "      <td>11.0</td>\n",
       "      <td>26.0</td>\n",
       "      <td>8.0</td>\n",
       "      <td>1.0</td>\n",
       "      <td>5.0</td>\n",
       "      <td>20.0</td>\n",
       "      <td>1.0</td>\n",
       "      <td>...</td>\n",
       "      <td>4.0</td>\n",
       "      <td>16.0</td>\n",
       "      <td>Jorge</td>\n",
       "      <td>Soler</td>\n",
       "      <td>Jorge Carlos</td>\n",
       "      <td>235.0</td>\n",
       "      <td>76.0</td>\n",
       "      <td>27.0</td>\n",
       "      <td>2.0</td>\n",
       "      <td>46.0</td>\n",
       "    </tr>\n",
       "    <tr>\n",
       "      <th>174</th>\n",
       "      <td>2014</td>\n",
       "      <td>85.0</td>\n",
       "      <td>244.0</td>\n",
       "      <td>33.0</td>\n",
       "      <td>59.0</td>\n",
       "      <td>9.0</td>\n",
       "      <td>1.0</td>\n",
       "      <td>4.0</td>\n",
       "      <td>23.0</td>\n",
       "      <td>3.0</td>\n",
       "      <td>...</td>\n",
       "      <td>6.0</td>\n",
       "      <td>12.0</td>\n",
       "      <td>Eugenio</td>\n",
       "      <td>Suarez</td>\n",
       "      <td>Eugenio Alejandro</td>\n",
       "      <td>213.0</td>\n",
       "      <td>71.0</td>\n",
       "      <td>28.0</td>\n",
       "      <td>19.0</td>\n",
       "      <td>30.0</td>\n",
       "    </tr>\n",
       "    <tr>\n",
       "      <th>179</th>\n",
       "      <td>2014</td>\n",
       "      <td>157.0</td>\n",
       "      <td>602.0</td>\n",
       "      <td>115.0</td>\n",
       "      <td>173.0</td>\n",
       "      <td>39.0</td>\n",
       "      <td>9.0</td>\n",
       "      <td>36.0</td>\n",
       "      <td>111.0</td>\n",
       "      <td>16.0</td>\n",
       "      <td>...</td>\n",
       "      <td>4.0</td>\n",
       "      <td>5.0</td>\n",
       "      <td>Mike</td>\n",
       "      <td>Trout</td>\n",
       "      <td>Michael Nelson</td>\n",
       "      <td>235.0</td>\n",
       "      <td>74.0</td>\n",
       "      <td>28.0</td>\n",
       "      <td>33.0</td>\n",
       "      <td>12.0</td>\n",
       "    </tr>\n",
       "    <tr>\n",
       "      <th>187</th>\n",
       "      <td>2014</td>\n",
       "      <td>144.0</td>\n",
       "      <td>582.0</td>\n",
       "      <td>94.0</td>\n",
       "      <td>165.0</td>\n",
       "      <td>30.0</td>\n",
       "      <td>6.0</td>\n",
       "      <td>9.0</td>\n",
       "      <td>54.0</td>\n",
       "      <td>21.0</td>\n",
       "      <td>...</td>\n",
       "      <td>3.0</td>\n",
       "      <td>8.0</td>\n",
       "      <td>Christian</td>\n",
       "      <td>Yelich</td>\n",
       "      <td>Christian Stephen</td>\n",
       "      <td>195.0</td>\n",
       "      <td>75.0</td>\n",
       "      <td>28.0</td>\n",
       "      <td>18.0</td>\n",
       "      <td>26.0</td>\n",
       "    </tr>\n",
       "  </tbody>\n",
       "</table>\n",
       "<p>6 rows × 136 columns</p>\n",
       "</div>"
      ],
      "text/plain": [
       "     FirstYear_yearID  FirstYear_G  FirstYear_AB  FirstYear_R  FirstYear_H  \\\n",
       "8                2014        111.0         432.0         58.0        124.0   \n",
       "38               2014        159.0         613.0         87.0        166.0   \n",
       "170              2014         24.0          89.0         11.0         26.0   \n",
       "174              2014         85.0         244.0         33.0         59.0   \n",
       "179              2014        157.0         602.0        115.0        173.0   \n",
       "187              2014        144.0         582.0         94.0        165.0   \n",
       "\n",
       "     FirstYear_2B  FirstYear_3B  FirstYear_HR  FirstYear_RBI  FirstYear_SB  \\\n",
       "8            34.0           2.0          18.0           61.0           2.0   \n",
       "38           32.0           2.0          40.0          108.0           4.0   \n",
       "170           8.0           1.0           5.0           20.0           1.0   \n",
       "174           9.0           1.0           4.0           23.0           3.0   \n",
       "179          39.0           9.0          36.0          111.0          16.0   \n",
       "187          30.0           6.0           9.0           54.0          21.0   \n",
       "\n",
       "     ...  SixthYear_SF  SixthYear_GIDP  SixthYear_nameFirst  \\\n",
       "8    ...           8.0            14.0                Nolan   \n",
       "38   ...           3.0            14.0               Nelson   \n",
       "170  ...           4.0            16.0                Jorge   \n",
       "174  ...           6.0            12.0              Eugenio   \n",
       "179  ...           4.0             5.0                 Mike   \n",
       "187  ...           3.0             8.0            Christian   \n",
       "\n",
       "     SixthYear_nameLast  SixthYear_nameGiven  SixthYear_weight  \\\n",
       "8               Arenado          Nolan James             215.0   \n",
       "38                 Cruz         Nelson Ramon             230.0   \n",
       "170               Soler         Jorge Carlos             235.0   \n",
       "174              Suarez    Eugenio Alejandro             213.0   \n",
       "179               Trout       Michael Nelson             235.0   \n",
       "187              Yelich    Christian Stephen             195.0   \n",
       "\n",
       "     SixthYear_height  SixthYear_age  Prediction  Difference  \n",
       "8                74.0           28.0        38.0         3.0  \n",
       "38               74.0           39.0        16.0        25.0  \n",
       "170              76.0           27.0         2.0        46.0  \n",
       "174              71.0           28.0        19.0        30.0  \n",
       "179              74.0           28.0        33.0        12.0  \n",
       "187              75.0           28.0        18.0        26.0  \n",
       "\n",
       "[6 rows x 136 columns]"
      ]
     },
     "execution_count": 73,
     "metadata": {},
     "output_type": "execute_result"
    }
   ],
   "source": [
    "RF_2019_dataframe[RF_2019_dataframe.SixthYear_HR > 39]"
   ]
  },
  {
   "cell_type": "markdown",
   "metadata": {},
   "source": [
    "### Neural Networks"
   ]
  },
  {
   "cell_type": "code",
   "execution_count": 76,
   "metadata": {},
   "outputs": [
    {
     "name": "stdout",
     "output_type": "stream",
     "text": [
      "Model: \"sequential\"\n",
      "_________________________________________________________________\n",
      " Layer (type)                Output Shape              Param #   \n",
      "=================================================================\n",
      " dense (Dense)               (None, 1024)              108544    \n",
      "                                                                 \n",
      " dropout (Dropout)           (None, 1024)              0         \n",
      "                                                                 \n",
      " dense_1 (Dense)             (None, 512)               524800    \n",
      "                                                                 \n",
      " dropout_1 (Dropout)         (None, 512)               0         \n",
      "                                                                 \n",
      " dense_2 (Dense)             (None, 128)               65664     \n",
      "                                                                 \n",
      " dense_3 (Dense)             (None, 1)                 129       \n",
      "                                                                 \n",
      "=================================================================\n",
      "Total params: 699,137\n",
      "Trainable params: 699,137\n",
      "Non-trainable params: 0\n",
      "_________________________________________________________________\n"
     ]
    },
    {
     "name": "stderr",
     "output_type": "stream",
     "text": [
      "/Users/andynguyen/anaconda3/envs/environment/lib/python3.10/site-packages/keras/optimizers/legacy/adam.py:117: UserWarning: The `lr` argument is deprecated, use `learning_rate` instead.\n",
      "  super().__init__(name, **kwargs)\n"
     ]
    }
   ],
   "source": [
    "model_2017 = Sequential()\n",
    "model_2017.add(Dense(1024, input_dim = 105))\n",
    "model_2017.add(Dropout(rate=0.5))\n",
    "model_2017.add(Dense(512, activation=\"relu\"))\n",
    "model_2017.add(Dropout(rate=0.5))\n",
    "model_2017.add(Dense(128, activation=\"relu\"))\n",
    "model_2017.add(Dense(1, activation='relu'))\n",
    "adam = optimizers.Adam(lr = 0.001)\n",
    "model_2017.compile(loss = \"mse\", optimizer=adam, metrics=[\"accuracy\"])\n",
    "model_2017.summary()"
   ]
  },
  {
   "cell_type": "code",
   "execution_count": 77,
   "metadata": {},
   "outputs": [
    {
     "name": "stdout",
     "output_type": "stream",
     "text": [
      "Model: \"sequential_1\"\n",
      "_________________________________________________________________\n",
      " Layer (type)                Output Shape              Param #   \n",
      "=================================================================\n"
     ]
    },
    {
     "name": "stdout",
     "output_type": "stream",
     "text": [
      " dense_4 (Dense)             (None, 1024)              108544    \n",
      "                                                                 \n",
      " dropout_2 (Dropout)         (None, 1024)              0         \n",
      "                                                                 \n",
      " dense_5 (Dense)             (None, 512)               524800    \n",
      "                                                                 \n",
      " dropout_3 (Dropout)         (None, 512)               0         \n",
      "                                                                 \n",
      " dense_6 (Dense)             (None, 128)               65664     \n",
      "                                                                 \n",
      " dense_7 (Dense)             (None, 1)                 129       \n",
      "                                                                 \n",
      "=================================================================\n",
      "Total params: 699,137\n",
      "Trainable params: 699,137\n",
      "Non-trainable params: 0\n",
      "_________________________________________________________________\n"
     ]
    }
   ],
   "source": [
    "#model_9 LSTM128, FC9\n",
    "\n",
    "model_2018 = Sequential()\n",
    "model_2018.add(Dense(1024, input_dim = 105))\n",
    "model_2018.add(Dropout(rate=0.5))\n",
    "model_2018.add(Dense(512, activation=\"relu\"))\n",
    "model_2018.add(Dropout(rate=0.5))\n",
    "model_2018.add(Dense(128, activation=\"relu\"))\n",
    "model_2018.add(Dense(1, activation='relu'))\n",
    "adam = optimizers.Adam(lr = 0.001)\n",
    "model_2018.compile(loss = \"mse\", optimizer=adam, metrics=[\"accuracy\"])\n",
    "model_2018.summary()"
   ]
  },
  {
   "cell_type": "markdown",
   "metadata": {},
   "source": [
    "### Training"
   ]
  },
  {
   "cell_type": "code",
   "execution_count": 95,
   "metadata": {},
   "outputs": [
    {
     "name": "stdout",
     "output_type": "stream",
     "text": [
      "Epoch 1/10\n",
      " 1/77 [..............................] - ETA: 2s - loss: 341.4172 - accuracy: 0.1328"
     ]
    },
    {
     "name": "stdout",
     "output_type": "stream",
     "text": [
      "75/77 [============================>.] - ETA: 0s - loss: 1467.4576 - accuracy: 0.0827\n",
      "Epoch 1: val_accuracy improved from -inf to 0.02717, saving model to saved-model-001-0.0272-2018.hdf5\n",
      "77/77 [==============================] - 1s 6ms/step - loss: 1447.0770 - accuracy: 0.0829 - val_loss: 273.4674 - val_accuracy: 0.0272\n",
      "Epoch 2/10\n",
      "74/77 [===========================>..] - ETA: 0s - loss: 1327.6136 - accuracy: 0.0821\n",
      "Epoch 2: val_accuracy did not improve from 0.02717\n",
      "77/77 [==============================] - 0s 6ms/step - loss: 1447.0768 - accuracy: 0.0829 - val_loss: 273.4674 - val_accuracy: 0.0272\n",
      "Epoch 3/10\n",
      "73/77 [===========================>..] - ETA: 0s - loss: 1481.4434 - accuracy: 0.0829\n",
      "Epoch 3: val_accuracy did not improve from 0.02717\n",
      "77/77 [==============================] - 0s 6ms/step - loss: 1447.0768 - accuracy: 0.0829 - val_loss: 273.4674 - val_accuracy: 0.0272\n",
      "Epoch 4/10\n",
      "72/77 [===========================>..] - ETA: 0s - loss: 1494.0851 - accuracy: 0.0841\n",
      "Epoch 4: val_accuracy did not improve from 0.02717\n",
      "77/77 [==============================] - 0s 6ms/step - loss: 1447.0773 - accuracy: 0.0829 - val_loss: 273.4674 - val_accuracy: 0.0272\n",
      "Epoch 5/10\n",
      "75/77 [============================>.] - ETA: 0s - loss: 1398.8484 - accuracy: 0.0830\n",
      "Epoch 5: val_accuracy did not improve from 0.02717\n",
      "77/77 [==============================] - 1s 7ms/step - loss: 1447.0769 - accuracy: 0.0829 - val_loss: 273.4674 - val_accuracy: 0.0272\n",
      "Epoch 6/10\n",
      "73/77 [===========================>..] - ETA: 0s - loss: 1417.2350 - accuracy: 0.0825\n",
      "Epoch 6: val_accuracy did not improve from 0.02717\n",
      "77/77 [==============================] - 0s 6ms/step - loss: 1447.0771 - accuracy: 0.0829 - val_loss: 273.4674 - val_accuracy: 0.0272\n",
      "Epoch 7/10\n",
      "69/77 [=========================>....] - ETA: 0s - loss: 1533.7524 - accuracy: 0.0816\n",
      "Epoch 7: val_accuracy did not improve from 0.02717\n",
      "77/77 [==============================] - 0s 6ms/step - loss: 1447.0769 - accuracy: 0.0829 - val_loss: 273.4674 - val_accuracy: 0.0272\n",
      "Epoch 8/10\n",
      "69/77 [=========================>....] - ETA: 0s - loss: 1534.2894 - accuracy: 0.0816\n",
      "Epoch 8: val_accuracy did not improve from 0.02717\n",
      "77/77 [==============================] - 1s 6ms/step - loss: 1447.0769 - accuracy: 0.0829 - val_loss: 273.4674 - val_accuracy: 0.0272\n",
      "Epoch 9/10\n",
      "74/77 [===========================>..] - ETA: 0s - loss: 1468.1638 - accuracy: 0.0821\n",
      "Epoch 9: val_accuracy did not improve from 0.02717\n",
      "77/77 [==============================] - 0s 6ms/step - loss: 1447.0768 - accuracy: 0.0829 - val_loss: 273.4674 - val_accuracy: 0.0272\n",
      "Epoch 10/10\n",
      "75/77 [============================>.] - ETA: 0s - loss: 1387.1099 - accuracy: 0.0828\n",
      "Epoch 10: val_accuracy did not improve from 0.02717\n",
      "77/77 [==============================] - 0s 6ms/step - loss: 1447.0769 - accuracy: 0.0829 - val_loss: 273.4674 - val_accuracy: 0.0272\n"
     ]
    }
   ],
   "source": [
    "from sklearn.utils import class_weight\n",
    "\"\"\" class_weight = class_weight.compute_class_weight(class_weight='balanced'\n",
    "                                               ,classes=np.unique(y_train_class)\n",
    "                                               ,y=y_train_class)\n",
    "# Convert the class weights to a dictionary because Keras expects class weights in this format\n",
    "class_weights_dict = dict(zip(np.unique(y_train_2017), class_weight))\n",
    "\n",
    "class_weights_dict_int_keys = {int(key): value for key, value in class_weights_dict.items()}\n",
    "\n",
    "filepath = \"saved-model-{epoch:03d}-{val_accuracy:.4f}-2018.hdf5\"\n",
    "checkpoint = ModelCheckpoint(filepath, monitor='val_accuracy', verbose=1, save_best_only=True, mode='max')\n",
    "model_2017_stat = model_2017.fit(x_train_2017, y_train_2017, \n",
    "                              batch_size=128, \n",
    "                              epochs=10, \n",
    "                              validation_data=(x_test_2018, y_test_2018),\n",
    "                              callbacks=[checkpoint],\n",
    "                              shuffle=True,\n",
    "                              class_weight=class_weights_dict_int_keys\n",
    "                             ) \"\"\"\n",
    "\n",
    "# Correctly compute class weights\n",
    "class_weights = class_weight.compute_class_weight(class_weight='balanced',\n",
    "                                                  classes=np.unique(y_train_2017),\n",
    "                                                  y=y_train_2017)\n",
    "\n",
    "# Convert the class weights to a dictionary because Keras expects class weights in this format\n",
    "class_weights_dict = dict(zip(np.unique(y_train_2017), class_weights))\n",
    "\n",
    "class_weights_dict_int_keys = {int(key): value for key, value in class_weights_dict.items()}\n",
    "\n",
    "# Detecting the highest class label\n",
    "max_class_label = max(class_weights_dict_int_keys.keys())\n",
    "\n",
    "# Ensuring continuity by replacing missing class with 0 as weight\n",
    "adjusted_class_weights = {i: class_weights_dict_int_keys.get(i, 0) for i in range(max_class_label + 1)}\n",
    "\n",
    "filepath = \"saved-model-{epoch:03d}-{val_accuracy:.4f}-2018.hdf5\"\n",
    "checkpoint = ModelCheckpoint(filepath, monitor='val_accuracy', verbose=1, save_best_only=True, mode='max')\n",
    "model_2017_stat = model_2017.fit(x_train_2017, y_train_2017, \n",
    "                              batch_size=128, \n",
    "                              epochs=10, \n",
    "                              validation_data=(x_test_2018, y_test_2018),\n",
    "                              callbacks=[checkpoint],\n",
    "                              shuffle=True,\n",
    "                              class_weight=adjusted_class_weights\n",
    "                             )"
   ]
  },
  {
   "cell_type": "code",
   "execution_count": 90,
   "metadata": {},
   "outputs": [
    {
     "data": {
      "text/plain": [
       "{0: 0.18552147239263803,\n",
       " 1: 0.17104072398190046,\n",
       " 2: 0.20712328767123286,\n",
       " 3: 0.2507462686567164,\n",
       " 4: 0.301195219123506,\n",
       " 5: 0.301195219123506,\n",
       " 6: 0.32238805970149254,\n",
       " 7: 0.4053619302949062,\n",
       " 8: 0.4108695652173913,\n",
       " 9: 0.45,\n",
       " 10: 0.504,\n",
       " 11: 0.5361702127659574,\n",
       " 12: 0.5073825503355704,\n",
       " 13: 0.5727272727272728,\n",
       " 14: 0.6096774193548387,\n",
       " 15: 0.6967741935483871,\n",
       " 16: 0.7411764705882353,\n",
       " 17: 0.723444976076555,\n",
       " 18: 0.8307692307692308,\n",
       " 19: 1.0216216216216216,\n",
       " 20: 0.8307692307692308,\n",
       " 21: 1.0285714285714285,\n",
       " 22: 0.9219512195121952,\n",
       " 23: 1.1368421052631579,\n",
       " 24: 1.1454545454545455,\n",
       " 25: 1.3147826086956522,\n",
       " 26: 1.6434782608695653,\n",
       " 27: 1.4679611650485438,\n",
       " 28: 1.7181818181818183,\n",
       " 29: 1.9894736842105263,\n",
       " 30: 2.1913043478260867,\n",
       " 31: 2.290909090909091,\n",
       " 32: 2.4,\n",
       " 33: 3.516279069767442,\n",
       " 34: 2.749090909090909,\n",
       " 35: 3.876923076923077,\n",
       " 36: 3.6878048780487807,\n",
       " 37: 4.0864864864864865,\n",
       " 38: 4.447058823529412,\n",
       " 39: 4.447058823529412,\n",
       " 40: 4.2,\n",
       " 41: 7.56,\n",
       " 42: 8.894117647058824,\n",
       " 43: 10.08,\n",
       " 44: 7.957894736842105,\n",
       " 45: 12.6,\n",
       " 46: 21.6,\n",
       " 47: 12.6,\n",
       " 48: 18.9,\n",
       " 49: 13.745454545454546,\n",
       " 50: 37.8,\n",
       " 51: 151.2,\n",
       " 52: 37.8,\n",
       " 53: 151.2,\n",
       " 54: 75.6,\n",
       " 56: 75.6,\n",
       " 57: 75.6,\n",
       " 58: 151.2,\n",
       " 59: 151.2,\n",
       " 63: 151.2,\n",
       " 64: 151.2,\n",
       " 65: 151.2,\n",
       " 66: 151.2,\n",
       " 70: 151.2,\n",
       " 73: 151.2}"
      ]
     },
     "execution_count": 90,
     "metadata": {},
     "output_type": "execute_result"
    }
   ],
   "source": [
    "class_weights_dict_int_keys"
   ]
  },
  {
   "cell_type": "code",
   "execution_count": 96,
   "metadata": {},
   "outputs": [
    {
     "name": "stdout",
     "output_type": "stream",
     "text": [
      "Epoch 1/10\n",
      " 1/79 [..............................] - ETA: 0s - loss: 773.3993 - accuracy: 0.1016"
     ]
    },
    {
     "name": "stdout",
     "output_type": "stream",
     "text": [
      "75/79 [===========================>..] - ETA: 0s - loss: 1484.2964 - accuracy: 0.0810\n",
      "Epoch 1: val_accuracy improved from -inf to 0.02094, saving model to saved-model-001-0.0209-2019.hdf5\n",
      "79/79 [==============================] - 1s 6ms/step - loss: 1447.0771 - accuracy: 0.0819 - val_loss: 360.3194 - val_accuracy: 0.0209\n",
      "Epoch 2/10\n",
      "76/79 [===========================>..] - ETA: 0s - loss: 1464.9736 - accuracy: 0.0818\n",
      "Epoch 2: val_accuracy did not improve from 0.02094\n",
      "79/79 [==============================] - 1s 7ms/step - loss: 1447.0768 - accuracy: 0.0819 - val_loss: 360.3194 - val_accuracy: 0.0209\n",
      "Epoch 3/10\n",
      "72/79 [==========================>...] - ETA: 0s - loss: 1522.2393 - accuracy: 0.0809\n",
      "Epoch 3: val_accuracy did not improve from 0.02094\n",
      "79/79 [==============================] - 0s 6ms/step - loss: 1447.0769 - accuracy: 0.0819 - val_loss: 360.3194 - val_accuracy: 0.0209\n",
      "Epoch 4/10\n",
      "73/79 [==========================>...] - ETA: 0s - loss: 1502.0682 - accuracy: 0.0815\n",
      "Epoch 4: val_accuracy did not improve from 0.02094\n",
      "79/79 [==============================] - 0s 6ms/step - loss: 1447.0767 - accuracy: 0.0819 - val_loss: 360.3194 - val_accuracy: 0.0209\n",
      "Epoch 5/10\n",
      "78/79 [============================>.] - ETA: 0s - loss: 1450.2247 - accuracy: 0.0821\n",
      "Epoch 5: val_accuracy did not improve from 0.02094\n",
      "79/79 [==============================] - 1s 7ms/step - loss: 1447.0767 - accuracy: 0.0819 - val_loss: 360.3194 - val_accuracy: 0.0209\n",
      "Epoch 6/10\n",
      "73/79 [==========================>...] - ETA: 0s - loss: 1508.4469 - accuracy: 0.0817\n",
      "Epoch 6: val_accuracy did not improve from 0.02094\n",
      "79/79 [==============================] - 1s 10ms/step - loss: 1447.0771 - accuracy: 0.0819 - val_loss: 360.3194 - val_accuracy: 0.0209\n",
      "Epoch 7/10\n",
      "73/79 [==========================>...] - ETA: 0s - loss: 1380.0531 - accuracy: 0.0825\n",
      "Epoch 7: val_accuracy did not improve from 0.02094\n",
      "79/79 [==============================] - 1s 8ms/step - loss: 1447.0769 - accuracy: 0.0819 - val_loss: 360.3194 - val_accuracy: 0.0209\n",
      "Epoch 8/10\n",
      "70/79 [=========================>....] - ETA: 0s - loss: 1514.4949 - accuracy: 0.0811\n",
      "Epoch 8: val_accuracy did not improve from 0.02094\n",
      "79/79 [==============================] - 1s 7ms/step - loss: 1447.0770 - accuracy: 0.0819 - val_loss: 360.3194 - val_accuracy: 0.0209\n",
      "Epoch 9/10\n",
      "76/79 [===========================>..] - ETA: 0s - loss: 1420.0148 - accuracy: 0.0815\n",
      "Epoch 9: val_accuracy did not improve from 0.02094\n",
      "79/79 [==============================] - 0s 6ms/step - loss: 1447.0768 - accuracy: 0.0819 - val_loss: 360.3194 - val_accuracy: 0.0209\n",
      "Epoch 10/10\n",
      "76/79 [===========================>..] - ETA: 0s - loss: 1474.8667 - accuracy: 0.0820\n",
      "Epoch 10: val_accuracy did not improve from 0.02094\n",
      "79/79 [==============================] - 0s 6ms/step - loss: 1447.0768 - accuracy: 0.0819 - val_loss: 360.3194 - val_accuracy: 0.0209\n"
     ]
    }
   ],
   "source": [
    "from sklearn.utils import class_weight\n",
    "\"\"\" class_weight = class_weight.compute_class_weight('balanced'\n",
    "                                               ,np.unique(y_train_class)\n",
    "                                               ,y_train_class)\n",
    "\n",
    "filepath = \"saved-model-{epoch:03d}-{val_acc:.4f}-2019.hdf5\"\n",
    "checkpoint = ModelCheckpoint(filepath, monitor='val_acc', verbose=1, save_best_only=True, mode='max')\n",
    "model_2018_stat = model_2018.fit(x_train_2018, y_train_2018, \n",
    "                              batch_size=128, \n",
    "                              epochs=10, \n",
    "                              validation_data=(x_test_2019, y_test_2019),\n",
    "                              callbacks=[checkpoint],\n",
    "                              shuffle=True,\n",
    "                              class_weight=class_weight\n",
    "                             )\n",
    "\n",
    " \"\"\"\n",
    "# Correctly compute class weights\n",
    "class_weights = class_weight.compute_class_weight(class_weight='balanced',\n",
    "                                                  classes=np.unique(y_train_2018),\n",
    "                                                  y=y_train_2018)\n",
    "\n",
    "# Convert the class weights to a dictionary because Keras expects class weights in this format\n",
    "class_weights_dict = dict(zip(np.unique(y_train_2018), class_weights))\n",
    "\n",
    "class_weights_dict_int_keys = {int(key): value for key, value in class_weights_dict.items()}\n",
    "\n",
    "# Detecting the highest class label\n",
    "max_class_label = max(class_weights_dict_int_keys.keys())\n",
    "\n",
    "# Ensuring continuity by replacing missing class with 0 as weight\n",
    "adjusted_class_weights = {i: class_weights_dict_int_keys.get(i, 0) for i in range(max_class_label + 1)}\n",
    "\n",
    "filepath = \"saved-model-{epoch:03d}-{val_accuracy:.4f}-2019.hdf5\"\n",
    "checkpoint = ModelCheckpoint(filepath, monitor='val_accuracy', verbose=1, save_best_only=True, mode='max')\n",
    "model_2017_stat = model_2017.fit(x_train_2018, y_train_2018, \n",
    "                              batch_size=128, \n",
    "                              epochs=10, \n",
    "                              validation_data=(x_test_2019, y_test_2019),\n",
    "                              callbacks=[checkpoint],\n",
    "                              shuffle=True,\n",
    "                              class_weight=adjusted_class_weights\n",
    "                             )"
   ]
  },
  {
   "cell_type": "code",
   "execution_count": 110,
   "metadata": {},
   "outputs": [],
   "source": [
    "BBB = load_model('ML/saved-model-001-0.0272-2018.hdf5')\n",
    "CCC = load_model('ML/saved-model-001-0.0209-2019.hdf5')"
   ]
  },
  {
   "cell_type": "code",
   "execution_count": 111,
   "metadata": {},
   "outputs": [
    {
     "name": "stdout",
     "output_type": "stream",
     "text": [
      "6/6 [==============================] - 0s 1ms/step\n",
      "答對：0.0272\n",
      "正負1：0.0978\n",
      "正負3：0.1522\n",
      "正負5：0.2391\n",
      "正負10：0.4457\n"
     ]
    }
   ],
   "source": [
    "t = 0\n",
    "a = 0\n",
    "b = 0\n",
    "c = 0\n",
    "d = 0\n",
    "g = []\n",
    "l = []\n",
    "m = []\n",
    "m1 = []\n",
    "n = []\n",
    "n1 = []\n",
    "p = []\n",
    "p1 = []\n",
    "q = []\n",
    "q1 = []\n",
    "predictions = BBB.predict(x_test_2018)\n",
    "for i in range(len(y_test_2018)):\n",
    "    k = np.round(predictions)[i] - y_test_2018[i]\n",
    "    if abs(k) < 11:\n",
    "        d += 1\n",
    "        g.append(y_test_2018[i])\n",
    "        if abs(k) < 6:\n",
    "            c += 1\n",
    "            l.append(y_test_2018[i])\n",
    "            if abs(k) < 4:\n",
    "                b += 1\n",
    "                m.append(y_test_2018[i])\n",
    "                m1.append(i)\n",
    "                if abs(k) < 2:\n",
    "                    a += 1\n",
    "                    n.append(y_test_2018[i])\n",
    "                    n1.append(i)\n",
    "                    if abs(k) == 0:\n",
    "                        t += 1\n",
    "                        p.append(y_test_2018[i])\n",
    "                        p1.append(i)\n",
    "    else:\n",
    "        q.append(y_test_2018[i])\n",
    "        q1.append(i)\n",
    "print(\"correct answer：%.4f\" % (t/len(y_test_2018)))\n",
    "print(\"plus or minus 1：%.4f\" % (a/len(y_test_2018)))\n",
    "print(\"plus or minus 3：%.4f\" % (b/len(y_test_2018)))\n",
    "print(\"plus or minus 5：%.4f\" % (c/len(y_test_2018)))\n",
    "print(\"plus or minus 10：%.4f\" % (d/len(y_test_2018)))"
   ]
  },
  {
   "cell_type": "code",
   "execution_count": 112,
   "metadata": {},
   "outputs": [
    {
     "name": "stdout",
     "output_type": "stream",
     "text": [
      "mean_absolute_error: 13.293478260869565\n",
      "mean_squared_error: 273.4673913043478\n",
      "rmse: 16.53684949754178\n"
     ]
    }
   ],
   "source": [
    "print(\"mean_absolute_error:\",mean_absolute_error(predictions,y_test_2018))\n",
    "print(\"mean_squared_error:\",mean_squared_error(predictions,y_test_2018))\n",
    "print(\"rmse:\",sqrt(mean_squared_error(predictions,y_test_2018)))"
   ]
  },
  {
   "cell_type": "code",
   "execution_count": 113,
   "metadata": {},
   "outputs": [
    {
     "data": {
      "text/plain": [
       "Counter({0.0: 5})"
      ]
     },
     "execution_count": 113,
     "metadata": {},
     "output_type": "execute_result"
    }
   ],
   "source": [
    "Counter(sorted(p))"
   ]
  },
  {
   "cell_type": "code",
   "execution_count": 114,
   "metadata": {},
   "outputs": [
    {
     "data": {
      "text/plain": [
       "Counter({1.0: 13, 0.0: 5})"
      ]
     },
     "execution_count": 114,
     "metadata": {},
     "output_type": "execute_result"
    }
   ],
   "source": [
    "Counter(sorted(n))"
   ]
  },
  {
   "cell_type": "code",
   "execution_count": 115,
   "metadata": {},
   "outputs": [
    {
     "data": {
      "text/plain": [
       "Counter({1.0: 13, 2.0: 6, 0.0: 5, 3.0: 4})"
      ]
     },
     "execution_count": 115,
     "metadata": {},
     "output_type": "execute_result"
    }
   ],
   "source": [
    "Counter(sorted(m))"
   ]
  },
  {
   "cell_type": "code",
   "execution_count": 116,
   "metadata": {},
   "outputs": [
    {
     "data": {
      "text/plain": [
       "Counter({11.0: 10,\n",
       "         13.0: 9,\n",
       "         15.0: 9,\n",
       "         23.0: 9,\n",
       "         14.0: 7,\n",
       "         21.0: 7,\n",
       "         12.0: 6,\n",
       "         16.0: 6,\n",
       "         20.0: 5,\n",
       "         18.0: 3,\n",
       "         19.0: 3,\n",
       "         24.0: 3,\n",
       "         25.0: 3,\n",
       "         27.0: 3,\n",
       "         17.0: 2,\n",
       "         22.0: 2,\n",
       "         36.0: 2,\n",
       "         37.0: 2,\n",
       "         38.0: 2,\n",
       "         28.0: 1,\n",
       "         29.0: 1,\n",
       "         30.0: 1,\n",
       "         32.0: 1,\n",
       "         33.0: 1,\n",
       "         34.0: 1,\n",
       "         39.0: 1,\n",
       "         43.0: 1,\n",
       "         48.0: 1})"
      ]
     },
     "execution_count": 116,
     "metadata": {},
     "output_type": "execute_result"
    }
   ],
   "source": [
    "Counter(sorted(q))"
   ]
  },
  {
   "cell_type": "code",
   "execution_count": 117,
   "metadata": {},
   "outputs": [
    {
     "name": "stdout",
     "output_type": "stream",
     "text": [
      "0: [65, 77, 82, 101, 155]\n",
      "1: [15, 27, 31, 36, 39, 49, 65, 77, 82, 101, 115, 137, 139, 142, 147, 155, 156, 171]\n",
      "3: [2, 13, 15, 21, 27, 31, 36, 39, 47, 49, 55, 65, 77, 82, 85, 88, 93, 94, 101, 115, 136, 137, 139, 142, 147, 155, 156, 171]\n",
      "NA: [0, 3, 4, 7, 10, 11, 12, 14, 16, 17, 19, 23, 25, 28, 29, 32, 34, 35, 37, 38, 40, 41, 42, 43, 45, 46, 50, 52, 53, 57, 58, 59, 60, 61, 62, 63, 64, 66, 67, 70, 71, 72, 74, 75, 76, 79, 80, 84, 87, 90, 92, 95, 97, 99, 100, 102, 103, 104, 106, 109, 110, 111, 112, 119, 122, 123, 124, 125, 126, 127, 128, 131, 133, 135, 138, 140, 143, 144, 146, 148, 149, 151, 153, 157, 158, 159, 161, 162, 163, 164, 165, 166, 167, 168, 169, 170, 174, 175, 176, 179, 181, 183]\n"
     ]
    }
   ],
   "source": [
    "print('0:',p1)\n",
    "print('1:',n1)\n",
    "print('3:',m1)\n",
    "print('NA:',q1)"
   ]
  },
  {
   "cell_type": "code",
   "execution_count": 118,
   "metadata": {},
   "outputs": [],
   "source": [
    "BB = testing_2018.copy()\n",
    "BB['Prediction'] = np.round(predictions)\n",
    "BB['Difference'] = BB.SixthYear_HR - BB.Prediction"
   ]
  },
  {
   "cell_type": "code",
   "execution_count": 119,
   "metadata": {},
   "outputs": [
    {
     "name": "stdout",
     "output_type": "stream",
     "text": [
      "1/6 [====>.........................] - ETA: 0s"
     ]
    },
    {
     "name": "stdout",
     "output_type": "stream",
     "text": [
      "6/6 [==============================] - 0s 1ms/step\n",
      "答對：0.0209\n",
      "正負1：0.0733\n",
      "正負3：0.1885\n",
      "正負5：0.2356\n",
      "正負10：0.3927\n"
     ]
    }
   ],
   "source": [
    "t = 0\n",
    "a = 0\n",
    "b = 0\n",
    "c = 0\n",
    "d = 0\n",
    "g = []\n",
    "l = []\n",
    "m = []\n",
    "m1 = []\n",
    "n = []\n",
    "n1 = []\n",
    "p = []\n",
    "p1 = []\n",
    "q = []\n",
    "q1 = []\n",
    "predictions = CCC.predict(x_test_2019)\n",
    "for i in range(len(y_test_2019)):\n",
    "    k = np.round(predictions)[i] - y_test_2019[i]\n",
    "    if abs(k) < 11:\n",
    "        d += 1\n",
    "        g.append(y_test_2019[i])\n",
    "        if abs(k) < 6:\n",
    "            c += 1\n",
    "            l.append(y_test_2019[i])\n",
    "            if abs(k) < 4:\n",
    "                b += 1\n",
    "                m.append(y_test_2019[i])\n",
    "                m1.append(i)\n",
    "                if abs(k) < 2:\n",
    "                    a += 1\n",
    "                    n.append(y_test_2019[i])\n",
    "                    n1.append(i)\n",
    "                    if abs(k) == 0:\n",
    "                        t += 1\n",
    "                        p.append(y_test_2019[i])\n",
    "                        p1.append(i)\n",
    "    else:\n",
    "        q.append(y_test_2019[i])\n",
    "        q1.append(i)\n",
    "print(\"correct answer：%.4f\" % (t/len(y_test_2019)))\n",
    "print(\"plus or minus 1：%.4f\" % (a/len(y_test_2019)))\n",
    "print(\"plus or minus 3：%.4f\" % (b/len(y_test_2019)))\n",
    "print(\"plus or minus 5：%.4f\" % (c/len(y_test_2019)))\n",
    "print(\"plus or minus 10：%.4f\" % (d/len(y_test_2019)))"
   ]
  },
  {
   "cell_type": "code",
   "execution_count": 120,
   "metadata": {},
   "outputs": [
    {
     "name": "stdout",
     "output_type": "stream",
     "text": [
      "mean_absolute_error: 15.178010471204189\n",
      "mean_squared_error: 360.3193717277487\n",
      "rmse: 18.982080279246233\n"
     ]
    }
   ],
   "source": [
    "print(\"mean_absolute_error:\",mean_absolute_error(predictions,y_test_2019))\n",
    "print(\"mean_squared_error:\",mean_squared_error(predictions,y_test_2019))\n",
    "print(\"rmse:\",sqrt(mean_squared_error(predictions,y_test_2019)))"
   ]
  },
  {
   "cell_type": "code",
   "execution_count": 121,
   "metadata": {},
   "outputs": [
    {
     "data": {
      "text/plain": [
       "Counter({0.0: 4})"
      ]
     },
     "execution_count": 121,
     "metadata": {},
     "output_type": "execute_result"
    }
   ],
   "source": [
    "Counter(sorted(p))"
   ]
  },
  {
   "cell_type": "code",
   "execution_count": 122,
   "metadata": {},
   "outputs": [
    {
     "data": {
      "text/plain": [
       "Counter({1.0: 10, 0.0: 4})"
      ]
     },
     "execution_count": 122,
     "metadata": {},
     "output_type": "execute_result"
    }
   ],
   "source": [
    "Counter(sorted(n))"
   ]
  },
  {
   "cell_type": "code",
   "execution_count": 123,
   "metadata": {},
   "outputs": [
    {
     "data": {
      "text/plain": [
       "Counter({2.0: 14, 1.0: 10, 3.0: 8, 0.0: 4})"
      ]
     },
     "execution_count": 123,
     "metadata": {},
     "output_type": "execute_result"
    }
   ],
   "source": [
    "Counter(sorted(m))"
   ]
  },
  {
   "cell_type": "code",
   "execution_count": 124,
   "metadata": {},
   "outputs": [
    {
     "data": {
      "text/plain": [
       "Counter({12.0: 15,\n",
       "         11.0: 8,\n",
       "         17.0: 7,\n",
       "         23.0: 7,\n",
       "         13.0: 5,\n",
       "         15.0: 5,\n",
       "         20.0: 5,\n",
       "         14.0: 4,\n",
       "         16.0: 4,\n",
       "         19.0: 4,\n",
       "         21.0: 4,\n",
       "         22.0: 4,\n",
       "         24.0: 4,\n",
       "         33.0: 4,\n",
       "         34.0: 4,\n",
       "         18.0: 3,\n",
       "         27.0: 3,\n",
       "         29.0: 3,\n",
       "         35.0: 3,\n",
       "         26.0: 2,\n",
       "         28.0: 2,\n",
       "         31.0: 2,\n",
       "         32.0: 2,\n",
       "         41.0: 2,\n",
       "         25.0: 1,\n",
       "         30.0: 1,\n",
       "         36.0: 1,\n",
       "         37.0: 1,\n",
       "         38.0: 1,\n",
       "         39.0: 1,\n",
       "         44.0: 1,\n",
       "         45.0: 1,\n",
       "         48.0: 1,\n",
       "         49.0: 1})"
      ]
     },
     "execution_count": 124,
     "metadata": {},
     "output_type": "execute_result"
    }
   ],
   "source": [
    "Counter(sorted(q))"
   ]
  },
  {
   "cell_type": "code",
   "execution_count": 125,
   "metadata": {},
   "outputs": [
    {
     "name": "stdout",
     "output_type": "stream",
     "text": [
      "0: [35, 82, 96, 175]\n",
      "1: [4, 35, 42, 82, 84, 88, 96, 99, 138, 157, 169, 175, 178, 189]\n",
      "3: [4, 32, 35, 42, 43, 66, 67, 70, 71, 74, 78, 81, 82, 84, 88, 91, 93, 96, 99, 119, 126, 128, 132, 134, 138, 142, 148, 151, 157, 161, 169, 171, 173, 175, 178, 189]\n",
      "NA: [0, 1, 3, 6, 7, 8, 10, 11, 12, 13, 14, 15, 17, 18, 19, 20, 22, 23, 24, 25, 26, 28, 29, 30, 31, 33, 34, 36, 37, 38, 39, 40, 41, 44, 45, 46, 47, 48, 52, 53, 54, 56, 58, 59, 60, 61, 62, 63, 64, 65, 68, 69, 72, 73, 75, 76, 77, 79, 83, 86, 87, 89, 90, 92, 97, 100, 101, 103, 106, 107, 109, 111, 112, 115, 116, 120, 121, 124, 127, 129, 130, 131, 133, 135, 139, 140, 141, 143, 144, 146, 149, 150, 152, 153, 154, 155, 158, 162, 163, 164, 165, 166, 168, 170, 172, 174, 176, 177, 179, 180, 181, 182, 183, 185, 186, 187]\n"
     ]
    }
   ],
   "source": [
    "print('0:',p1)\n",
    "print('1:',n1)\n",
    "print('3:',m1)\n",
    "print('NA:',q1)"
   ]
  },
  {
   "cell_type": "markdown",
   "metadata": {},
   "source": [
    "### Analysis"
   ]
  },
  {
   "cell_type": "code",
   "execution_count": 126,
   "metadata": {},
   "outputs": [],
   "source": [
    "CC = testing_2019.copy()\n",
    "CC['Prediction'] = np.round(predictions)\n",
    "CC['Difference'] = CC.SixthYear_HR - CC.Prediction"
   ]
  },
  {
   "cell_type": "code",
   "execution_count": 127,
   "metadata": {},
   "outputs": [
    {
     "data": {
      "text/html": [
       "<div>\n",
       "<style scoped>\n",
       "    .dataframe tbody tr th:only-of-type {\n",
       "        vertical-align: middle;\n",
       "    }\n",
       "\n",
       "    .dataframe tbody tr th {\n",
       "        vertical-align: top;\n",
       "    }\n",
       "\n",
       "    .dataframe thead th {\n",
       "        text-align: right;\n",
       "    }\n",
       "</style>\n",
       "<table border=\"1\" class=\"dataframe\">\n",
       "  <thead>\n",
       "    <tr style=\"text-align: right;\">\n",
       "      <th></th>\n",
       "      <th>FirstYear_yearID</th>\n",
       "      <th>FirstYear_G</th>\n",
       "      <th>FirstYear_AB</th>\n",
       "      <th>FirstYear_R</th>\n",
       "      <th>FirstYear_H</th>\n",
       "      <th>FirstYear_2B</th>\n",
       "      <th>FirstYear_3B</th>\n",
       "      <th>FirstYear_HR</th>\n",
       "      <th>FirstYear_RBI</th>\n",
       "      <th>FirstYear_SB</th>\n",
       "      <th>...</th>\n",
       "      <th>SixthYear_SF</th>\n",
       "      <th>SixthYear_GIDP</th>\n",
       "      <th>SixthYear_nameFirst</th>\n",
       "      <th>SixthYear_nameLast</th>\n",
       "      <th>SixthYear_nameGiven</th>\n",
       "      <th>SixthYear_weight</th>\n",
       "      <th>SixthYear_height</th>\n",
       "      <th>SixthYear_age</th>\n",
       "      <th>Prediction</th>\n",
       "      <th>Difference</th>\n",
       "    </tr>\n",
       "  </thead>\n",
       "  <tbody>\n",
       "  </tbody>\n",
       "</table>\n",
       "<p>0 rows × 136 columns</p>\n",
       "</div>"
      ],
      "text/plain": [
       "Empty DataFrame\n",
       "Columns: [FirstYear_yearID, FirstYear_G, FirstYear_AB, FirstYear_R, FirstYear_H, FirstYear_2B, FirstYear_3B, FirstYear_HR, FirstYear_RBI, FirstYear_SB, FirstYear_CS, FirstYear_BB, FirstYear_SO, FirstYear_IBB, FirstYear_HBP, FirstYear_SH, FirstYear_SF, FirstYear_GIDP, FirstYear_weight, FirstYear_height, FirstYear_age, SecondYear_yearID, SecondYear_G, SecondYear_AB, SecondYear_R, SecondYear_H, SecondYear_2B, SecondYear_3B, SecondYear_HR, SecondYear_RBI, SecondYear_SB, SecondYear_CS, SecondYear_BB, SecondYear_SO, SecondYear_IBB, SecondYear_HBP, SecondYear_SH, SecondYear_SF, SecondYear_GIDP, SecondYear_weight, SecondYear_height, SecondYear_age, ThirdYear_yearID, ThirdYear_G, ThirdYear_AB, ThirdYear_R, ThirdYear_H, ThirdYear_2B, ThirdYear_3B, ThirdYear_HR, ThirdYear_RBI, ThirdYear_SB, ThirdYear_CS, ThirdYear_BB, ThirdYear_SO, ThirdYear_IBB, ThirdYear_HBP, ThirdYear_SH, ThirdYear_SF, ThirdYear_GIDP, ThirdYear_weight, ThirdYear_height, ThirdYear_age, FourthYear_yearID, FourthYear_G, FourthYear_AB, FourthYear_R, FourthYear_H, FourthYear_2B, FourthYear_3B, FourthYear_HR, FourthYear_RBI, FourthYear_SB, FourthYear_CS, FourthYear_BB, FourthYear_SO, FourthYear_IBB, FourthYear_HBP, FourthYear_SH, FourthYear_SF, FourthYear_GIDP, FourthYear_weight, FourthYear_height, FourthYear_age, FifthYear_yearID, FifthYear_G, FifthYear_AB, FifthYear_R, FifthYear_H, FifthYear_2B, FifthYear_3B, FifthYear_HR, FifthYear_RBI, FifthYear_SB, FifthYear_CS, FifthYear_BB, FifthYear_SO, FifthYear_IBB, FifthYear_HBP, FifthYear_SH, ...]\n",
       "Index: []\n",
       "\n",
       "[0 rows x 136 columns]"
      ]
     },
     "execution_count": 127,
     "metadata": {},
     "output_type": "execute_result"
    }
   ],
   "source": [
    "regr_2018_dataframe[regr_2018_dataframe.Prediction > 39]"
   ]
  },
  {
   "cell_type": "code",
   "execution_count": 128,
   "metadata": {},
   "outputs": [
    {
     "data": {
      "text/plain": [
       "101"
      ]
     },
     "execution_count": 128,
     "metadata": {},
     "output_type": "execute_result"
    }
   ],
   "source": [
    "len(regr_2018_dataframe[regr_2018_dataframe.Difference < 0])"
   ]
  },
  {
   "cell_type": "code",
   "execution_count": 129,
   "metadata": {},
   "outputs": [
    {
     "data": {
      "text/plain": [
       "8"
      ]
     },
     "execution_count": 129,
     "metadata": {},
     "output_type": "execute_result"
    }
   ],
   "source": [
    "len(regr_2018_dataframe[regr_2018_dataframe.Difference == 0])"
   ]
  },
  {
   "cell_type": "code",
   "execution_count": 130,
   "metadata": {},
   "outputs": [
    {
     "data": {
      "text/plain": [
       "75"
      ]
     },
     "execution_count": 130,
     "metadata": {},
     "output_type": "execute_result"
    }
   ],
   "source": [
    "len(regr_2018_dataframe[regr_2018_dataframe.Difference > 0])"
   ]
  },
  {
   "cell_type": "code",
   "execution_count": 131,
   "metadata": {},
   "outputs": [
    {
     "data": {
      "text/html": [
       "<div>\n",
       "<style scoped>\n",
       "    .dataframe tbody tr th:only-of-type {\n",
       "        vertical-align: middle;\n",
       "    }\n",
       "\n",
       "    .dataframe tbody tr th {\n",
       "        vertical-align: top;\n",
       "    }\n",
       "\n",
       "    .dataframe thead th {\n",
       "        text-align: right;\n",
       "    }\n",
       "</style>\n",
       "<table border=\"1\" class=\"dataframe\">\n",
       "  <thead>\n",
       "    <tr style=\"text-align: right;\">\n",
       "      <th></th>\n",
       "      <th>FirstYear_yearID</th>\n",
       "      <th>FirstYear_G</th>\n",
       "      <th>FirstYear_AB</th>\n",
       "      <th>FirstYear_R</th>\n",
       "      <th>FirstYear_H</th>\n",
       "      <th>FirstYear_2B</th>\n",
       "      <th>FirstYear_3B</th>\n",
       "      <th>FirstYear_HR</th>\n",
       "      <th>FirstYear_RBI</th>\n",
       "      <th>FirstYear_SB</th>\n",
       "      <th>...</th>\n",
       "      <th>SixthYear_SF</th>\n",
       "      <th>SixthYear_GIDP</th>\n",
       "      <th>SixthYear_nameFirst</th>\n",
       "      <th>SixthYear_nameLast</th>\n",
       "      <th>SixthYear_nameGiven</th>\n",
       "      <th>SixthYear_weight</th>\n",
       "      <th>SixthYear_height</th>\n",
       "      <th>SixthYear_age</th>\n",
       "      <th>Prediction</th>\n",
       "      <th>Difference</th>\n",
       "    </tr>\n",
       "  </thead>\n",
       "  <tbody>\n",
       "    <tr>\n",
       "      <th>38</th>\n",
       "      <td>2013</td>\n",
       "      <td>56.0</td>\n",
       "      <td>136.0</td>\n",
       "      <td>27.0</td>\n",
       "      <td>38.0</td>\n",
       "      <td>10.0</td>\n",
       "      <td>0.0</td>\n",
       "      <td>11.0</td>\n",
       "      <td>27.0</td>\n",
       "      <td>3.0</td>\n",
       "      <td>...</td>\n",
       "      <td>7.0</td>\n",
       "      <td>16.0</td>\n",
       "      <td>Khris</td>\n",
       "      <td>Davis</td>\n",
       "      <td>Khristopher Adrian</td>\n",
       "      <td>205.0</td>\n",
       "      <td>71.0</td>\n",
       "      <td>31.0</td>\n",
       "      <td>43.0</td>\n",
       "      <td>5.0</td>\n",
       "    </tr>\n",
       "    <tr>\n",
       "      <th>111</th>\n",
       "      <td>2013</td>\n",
       "      <td>86.0</td>\n",
       "      <td>296.0</td>\n",
       "      <td>24.0</td>\n",
       "      <td>74.0</td>\n",
       "      <td>17.0</td>\n",
       "      <td>0.0</td>\n",
       "      <td>7.0</td>\n",
       "      <td>36.0</td>\n",
       "      <td>2.0</td>\n",
       "      <td>...</td>\n",
       "      <td>7.0</td>\n",
       "      <td>19.0</td>\n",
       "      <td>J. D.</td>\n",
       "      <td>Martinez</td>\n",
       "      <td>Julio Daniel</td>\n",
       "      <td>230.0</td>\n",
       "      <td>75.0</td>\n",
       "      <td>31.0</td>\n",
       "      <td>40.0</td>\n",
       "      <td>3.0</td>\n",
       "    </tr>\n",
       "  </tbody>\n",
       "</table>\n",
       "<p>2 rows × 136 columns</p>\n",
       "</div>"
      ],
      "text/plain": [
       "     FirstYear_yearID  FirstYear_G  FirstYear_AB  FirstYear_R  FirstYear_H  \\\n",
       "38               2013         56.0         136.0         27.0         38.0   \n",
       "111              2013         86.0         296.0         24.0         74.0   \n",
       "\n",
       "     FirstYear_2B  FirstYear_3B  FirstYear_HR  FirstYear_RBI  FirstYear_SB  \\\n",
       "38           10.0           0.0          11.0           27.0           3.0   \n",
       "111          17.0           0.0           7.0           36.0           2.0   \n",
       "\n",
       "     ...  SixthYear_SF  SixthYear_GIDP  SixthYear_nameFirst  \\\n",
       "38   ...           7.0            16.0                Khris   \n",
       "111  ...           7.0            19.0                J. D.   \n",
       "\n",
       "     SixthYear_nameLast  SixthYear_nameGiven  SixthYear_weight  \\\n",
       "38                Davis   Khristopher Adrian             205.0   \n",
       "111            Martinez         Julio Daniel             230.0   \n",
       "\n",
       "     SixthYear_height  SixthYear_age  Prediction  Difference  \n",
       "38               71.0           31.0        43.0         5.0  \n",
       "111              75.0           31.0        40.0         3.0  \n",
       "\n",
       "[2 rows x 136 columns]"
      ]
     },
     "execution_count": 131,
     "metadata": {},
     "output_type": "execute_result"
    }
   ],
   "source": [
    "SVM_2018_dataframe[SVM_2018_dataframe.Prediction > 39]"
   ]
  },
  {
   "cell_type": "code",
   "execution_count": 132,
   "metadata": {},
   "outputs": [
    {
     "data": {
      "text/plain": [
       "115"
      ]
     },
     "execution_count": 132,
     "metadata": {},
     "output_type": "execute_result"
    }
   ],
   "source": [
    "len(SVM_2018_dataframe[SVM_2018_dataframe.Difference < 0])"
   ]
  },
  {
   "cell_type": "code",
   "execution_count": 133,
   "metadata": {},
   "outputs": [
    {
     "data": {
      "text/plain": [
       "16"
      ]
     },
     "execution_count": 133,
     "metadata": {},
     "output_type": "execute_result"
    }
   ],
   "source": [
    "len(SVM_2018_dataframe[SVM_2018_dataframe.Difference == 0])"
   ]
  },
  {
   "cell_type": "code",
   "execution_count": 134,
   "metadata": {},
   "outputs": [
    {
     "data": {
      "text/plain": [
       "53"
      ]
     },
     "execution_count": 134,
     "metadata": {},
     "output_type": "execute_result"
    }
   ],
   "source": [
    "len(SVM_2018_dataframe[SVM_2018_dataframe.Difference > 0])"
   ]
  },
  {
   "cell_type": "code",
   "execution_count": 135,
   "metadata": {},
   "outputs": [
    {
     "data": {
      "text/html": [
       "<div>\n",
       "<style scoped>\n",
       "    .dataframe tbody tr th:only-of-type {\n",
       "        vertical-align: middle;\n",
       "    }\n",
       "\n",
       "    .dataframe tbody tr th {\n",
       "        vertical-align: top;\n",
       "    }\n",
       "\n",
       "    .dataframe thead th {\n",
       "        text-align: right;\n",
       "    }\n",
       "</style>\n",
       "<table border=\"1\" class=\"dataframe\">\n",
       "  <thead>\n",
       "    <tr style=\"text-align: right;\">\n",
       "      <th></th>\n",
       "      <th>FirstYear_yearID</th>\n",
       "      <th>FirstYear_G</th>\n",
       "      <th>FirstYear_AB</th>\n",
       "      <th>FirstYear_R</th>\n",
       "      <th>FirstYear_H</th>\n",
       "      <th>FirstYear_2B</th>\n",
       "      <th>FirstYear_3B</th>\n",
       "      <th>FirstYear_HR</th>\n",
       "      <th>FirstYear_RBI</th>\n",
       "      <th>FirstYear_SB</th>\n",
       "      <th>...</th>\n",
       "      <th>SixthYear_SF</th>\n",
       "      <th>SixthYear_GIDP</th>\n",
       "      <th>SixthYear_nameFirst</th>\n",
       "      <th>SixthYear_nameLast</th>\n",
       "      <th>SixthYear_nameGiven</th>\n",
       "      <th>SixthYear_weight</th>\n",
       "      <th>SixthYear_height</th>\n",
       "      <th>SixthYear_age</th>\n",
       "      <th>Prediction</th>\n",
       "      <th>Difference</th>\n",
       "    </tr>\n",
       "  </thead>\n",
       "  <tbody>\n",
       "  </tbody>\n",
       "</table>\n",
       "<p>0 rows × 136 columns</p>\n",
       "</div>"
      ],
      "text/plain": [
       "Empty DataFrame\n",
       "Columns: [FirstYear_yearID, FirstYear_G, FirstYear_AB, FirstYear_R, FirstYear_H, FirstYear_2B, FirstYear_3B, FirstYear_HR, FirstYear_RBI, FirstYear_SB, FirstYear_CS, FirstYear_BB, FirstYear_SO, FirstYear_IBB, FirstYear_HBP, FirstYear_SH, FirstYear_SF, FirstYear_GIDP, FirstYear_weight, FirstYear_height, FirstYear_age, SecondYear_yearID, SecondYear_G, SecondYear_AB, SecondYear_R, SecondYear_H, SecondYear_2B, SecondYear_3B, SecondYear_HR, SecondYear_RBI, SecondYear_SB, SecondYear_CS, SecondYear_BB, SecondYear_SO, SecondYear_IBB, SecondYear_HBP, SecondYear_SH, SecondYear_SF, SecondYear_GIDP, SecondYear_weight, SecondYear_height, SecondYear_age, ThirdYear_yearID, ThirdYear_G, ThirdYear_AB, ThirdYear_R, ThirdYear_H, ThirdYear_2B, ThirdYear_3B, ThirdYear_HR, ThirdYear_RBI, ThirdYear_SB, ThirdYear_CS, ThirdYear_BB, ThirdYear_SO, ThirdYear_IBB, ThirdYear_HBP, ThirdYear_SH, ThirdYear_SF, ThirdYear_GIDP, ThirdYear_weight, ThirdYear_height, ThirdYear_age, FourthYear_yearID, FourthYear_G, FourthYear_AB, FourthYear_R, FourthYear_H, FourthYear_2B, FourthYear_3B, FourthYear_HR, FourthYear_RBI, FourthYear_SB, FourthYear_CS, FourthYear_BB, FourthYear_SO, FourthYear_IBB, FourthYear_HBP, FourthYear_SH, FourthYear_SF, FourthYear_GIDP, FourthYear_weight, FourthYear_height, FourthYear_age, FifthYear_yearID, FifthYear_G, FifthYear_AB, FifthYear_R, FifthYear_H, FifthYear_2B, FifthYear_3B, FifthYear_HR, FifthYear_RBI, FifthYear_SB, FifthYear_CS, FifthYear_BB, FifthYear_SO, FifthYear_IBB, FifthYear_HBP, FifthYear_SH, ...]\n",
       "Index: []\n",
       "\n",
       "[0 rows x 136 columns]"
      ]
     },
     "execution_count": 135,
     "metadata": {},
     "output_type": "execute_result"
    }
   ],
   "source": [
    "RF_2018_dataframe[RF_2018_dataframe.Prediction > 39]"
   ]
  },
  {
   "cell_type": "code",
   "execution_count": 136,
   "metadata": {},
   "outputs": [
    {
     "data": {
      "text/plain": [
       "68"
      ]
     },
     "execution_count": 136,
     "metadata": {},
     "output_type": "execute_result"
    }
   ],
   "source": [
    "len(RF_2018_dataframe[RF_2018_dataframe.Difference < 0])"
   ]
  },
  {
   "cell_type": "code",
   "execution_count": 137,
   "metadata": {},
   "outputs": [
    {
     "data": {
      "text/plain": [
       "9"
      ]
     },
     "execution_count": 137,
     "metadata": {},
     "output_type": "execute_result"
    }
   ],
   "source": [
    "len(RF_2018_dataframe[RF_2018_dataframe.Difference == 0])"
   ]
  },
  {
   "cell_type": "code",
   "execution_count": 138,
   "metadata": {},
   "outputs": [
    {
     "data": {
      "text/plain": [
       "107"
      ]
     },
     "execution_count": 138,
     "metadata": {},
     "output_type": "execute_result"
    }
   ],
   "source": [
    "len(RF_2018_dataframe[RF_2018_dataframe.Difference > 0])"
   ]
  },
  {
   "cell_type": "code",
   "execution_count": 139,
   "metadata": {},
   "outputs": [
    {
     "data": {
      "text/html": [
       "<div>\n",
       "<style scoped>\n",
       "    .dataframe tbody tr th:only-of-type {\n",
       "        vertical-align: middle;\n",
       "    }\n",
       "\n",
       "    .dataframe tbody tr th {\n",
       "        vertical-align: top;\n",
       "    }\n",
       "\n",
       "    .dataframe thead th {\n",
       "        text-align: right;\n",
       "    }\n",
       "</style>\n",
       "<table border=\"1\" class=\"dataframe\">\n",
       "  <thead>\n",
       "    <tr style=\"text-align: right;\">\n",
       "      <th></th>\n",
       "      <th>FirstYear_yearID</th>\n",
       "      <th>FirstYear_G</th>\n",
       "      <th>FirstYear_AB</th>\n",
       "      <th>FirstYear_R</th>\n",
       "      <th>FirstYear_H</th>\n",
       "      <th>FirstYear_2B</th>\n",
       "      <th>FirstYear_3B</th>\n",
       "      <th>FirstYear_HR</th>\n",
       "      <th>FirstYear_RBI</th>\n",
       "      <th>FirstYear_SB</th>\n",
       "      <th>...</th>\n",
       "      <th>SixthYear_SF</th>\n",
       "      <th>SixthYear_GIDP</th>\n",
       "      <th>SixthYear_nameFirst</th>\n",
       "      <th>SixthYear_nameLast</th>\n",
       "      <th>SixthYear_nameGiven</th>\n",
       "      <th>SixthYear_weight</th>\n",
       "      <th>SixthYear_height</th>\n",
       "      <th>SixthYear_age</th>\n",
       "      <th>Prediction</th>\n",
       "      <th>Difference</th>\n",
       "    </tr>\n",
       "  </thead>\n",
       "  <tbody>\n",
       "    <tr>\n",
       "      <th>38</th>\n",
       "      <td>2013</td>\n",
       "      <td>56.0</td>\n",
       "      <td>136.0</td>\n",
       "      <td>27.0</td>\n",
       "      <td>38.0</td>\n",
       "      <td>10.0</td>\n",
       "      <td>0.0</td>\n",
       "      <td>11.0</td>\n",
       "      <td>27.0</td>\n",
       "      <td>3.0</td>\n",
       "      <td>...</td>\n",
       "      <td>7.0</td>\n",
       "      <td>16.0</td>\n",
       "      <td>Khris</td>\n",
       "      <td>Davis</td>\n",
       "      <td>Khristopher Adrian</td>\n",
       "      <td>205.0</td>\n",
       "      <td>71.0</td>\n",
       "      <td>31.0</td>\n",
       "      <td>0.0</td>\n",
       "      <td>48.0</td>\n",
       "    </tr>\n",
       "    <tr>\n",
       "      <th>111</th>\n",
       "      <td>2013</td>\n",
       "      <td>86.0</td>\n",
       "      <td>296.0</td>\n",
       "      <td>24.0</td>\n",
       "      <td>74.0</td>\n",
       "      <td>17.0</td>\n",
       "      <td>0.0</td>\n",
       "      <td>7.0</td>\n",
       "      <td>36.0</td>\n",
       "      <td>2.0</td>\n",
       "      <td>...</td>\n",
       "      <td>7.0</td>\n",
       "      <td>19.0</td>\n",
       "      <td>J. D.</td>\n",
       "      <td>Martinez</td>\n",
       "      <td>Julio Daniel</td>\n",
       "      <td>230.0</td>\n",
       "      <td>75.0</td>\n",
       "      <td>31.0</td>\n",
       "      <td>0.0</td>\n",
       "      <td>43.0</td>\n",
       "    </tr>\n",
       "  </tbody>\n",
       "</table>\n",
       "<p>2 rows × 136 columns</p>\n",
       "</div>"
      ],
      "text/plain": [
       "     FirstYear_yearID  FirstYear_G  FirstYear_AB  FirstYear_R  FirstYear_H  \\\n",
       "38               2013         56.0         136.0         27.0         38.0   \n",
       "111              2013         86.0         296.0         24.0         74.0   \n",
       "\n",
       "     FirstYear_2B  FirstYear_3B  FirstYear_HR  FirstYear_RBI  FirstYear_SB  \\\n",
       "38           10.0           0.0          11.0           27.0           3.0   \n",
       "111          17.0           0.0           7.0           36.0           2.0   \n",
       "\n",
       "     ...  SixthYear_SF  SixthYear_GIDP  SixthYear_nameFirst  \\\n",
       "38   ...           7.0            16.0                Khris   \n",
       "111  ...           7.0            19.0                J. D.   \n",
       "\n",
       "     SixthYear_nameLast  SixthYear_nameGiven  SixthYear_weight  \\\n",
       "38                Davis   Khristopher Adrian             205.0   \n",
       "111            Martinez         Julio Daniel             230.0   \n",
       "\n",
       "     SixthYear_height  SixthYear_age  Prediction  Difference  \n",
       "38               71.0           31.0         0.0        48.0  \n",
       "111              75.0           31.0         0.0        43.0  \n",
       "\n",
       "[2 rows x 136 columns]"
      ]
     },
     "execution_count": 139,
     "metadata": {},
     "output_type": "execute_result"
    }
   ],
   "source": [
    "BB[BB.SixthYear_HR > 39]"
   ]
  },
  {
   "cell_type": "code",
   "execution_count": 140,
   "metadata": {},
   "outputs": [
    {
     "data": {
      "text/plain": [
       "0"
      ]
     },
     "execution_count": 140,
     "metadata": {},
     "output_type": "execute_result"
    }
   ],
   "source": [
    "len(BB[BB.Difference < 0])"
   ]
  },
  {
   "cell_type": "code",
   "execution_count": 141,
   "metadata": {},
   "outputs": [
    {
     "data": {
      "text/plain": [
       "5"
      ]
     },
     "execution_count": 141,
     "metadata": {},
     "output_type": "execute_result"
    }
   ],
   "source": [
    "len(BB[BB.Difference == 0])"
   ]
  },
  {
   "cell_type": "code",
   "execution_count": 142,
   "metadata": {},
   "outputs": [
    {
     "data": {
      "text/plain": [
       "179"
      ]
     },
     "execution_count": 142,
     "metadata": {},
     "output_type": "execute_result"
    }
   ],
   "source": [
    "len(BB[BB.Difference > 0])"
   ]
  },
  {
   "cell_type": "code",
   "execution_count": 143,
   "metadata": {},
   "outputs": [
    {
     "data": {
      "text/html": [
       "<div>\n",
       "<style scoped>\n",
       "    .dataframe tbody tr th:only-of-type {\n",
       "        vertical-align: middle;\n",
       "    }\n",
       "\n",
       "    .dataframe tbody tr th {\n",
       "        vertical-align: top;\n",
       "    }\n",
       "\n",
       "    .dataframe thead th {\n",
       "        text-align: right;\n",
       "    }\n",
       "</style>\n",
       "<table border=\"1\" class=\"dataframe\">\n",
       "  <thead>\n",
       "    <tr style=\"text-align: right;\">\n",
       "      <th></th>\n",
       "      <th>FirstYear_yearID</th>\n",
       "      <th>FirstYear_G</th>\n",
       "      <th>FirstYear_AB</th>\n",
       "      <th>FirstYear_R</th>\n",
       "      <th>FirstYear_H</th>\n",
       "      <th>FirstYear_2B</th>\n",
       "      <th>FirstYear_3B</th>\n",
       "      <th>FirstYear_HR</th>\n",
       "      <th>FirstYear_RBI</th>\n",
       "      <th>FirstYear_SB</th>\n",
       "      <th>...</th>\n",
       "      <th>SixthYear_SF</th>\n",
       "      <th>SixthYear_GIDP</th>\n",
       "      <th>SixthYear_nameFirst</th>\n",
       "      <th>SixthYear_nameLast</th>\n",
       "      <th>SixthYear_nameGiven</th>\n",
       "      <th>SixthYear_weight</th>\n",
       "      <th>SixthYear_height</th>\n",
       "      <th>SixthYear_age</th>\n",
       "      <th>Prediction</th>\n",
       "      <th>Difference</th>\n",
       "    </tr>\n",
       "  </thead>\n",
       "  <tbody>\n",
       "  </tbody>\n",
       "</table>\n",
       "<p>0 rows × 136 columns</p>\n",
       "</div>"
      ],
      "text/plain": [
       "Empty DataFrame\n",
       "Columns: [FirstYear_yearID, FirstYear_G, FirstYear_AB, FirstYear_R, FirstYear_H, FirstYear_2B, FirstYear_3B, FirstYear_HR, FirstYear_RBI, FirstYear_SB, FirstYear_CS, FirstYear_BB, FirstYear_SO, FirstYear_IBB, FirstYear_HBP, FirstYear_SH, FirstYear_SF, FirstYear_GIDP, FirstYear_weight, FirstYear_height, FirstYear_age, SecondYear_yearID, SecondYear_G, SecondYear_AB, SecondYear_R, SecondYear_H, SecondYear_2B, SecondYear_3B, SecondYear_HR, SecondYear_RBI, SecondYear_SB, SecondYear_CS, SecondYear_BB, SecondYear_SO, SecondYear_IBB, SecondYear_HBP, SecondYear_SH, SecondYear_SF, SecondYear_GIDP, SecondYear_weight, SecondYear_height, SecondYear_age, ThirdYear_yearID, ThirdYear_G, ThirdYear_AB, ThirdYear_R, ThirdYear_H, ThirdYear_2B, ThirdYear_3B, ThirdYear_HR, ThirdYear_RBI, ThirdYear_SB, ThirdYear_CS, ThirdYear_BB, ThirdYear_SO, ThirdYear_IBB, ThirdYear_HBP, ThirdYear_SH, ThirdYear_SF, ThirdYear_GIDP, ThirdYear_weight, ThirdYear_height, ThirdYear_age, FourthYear_yearID, FourthYear_G, FourthYear_AB, FourthYear_R, FourthYear_H, FourthYear_2B, FourthYear_3B, FourthYear_HR, FourthYear_RBI, FourthYear_SB, FourthYear_CS, FourthYear_BB, FourthYear_SO, FourthYear_IBB, FourthYear_HBP, FourthYear_SH, FourthYear_SF, FourthYear_GIDP, FourthYear_weight, FourthYear_height, FourthYear_age, FifthYear_yearID, FifthYear_G, FifthYear_AB, FifthYear_R, FifthYear_H, FifthYear_2B, FifthYear_3B, FifthYear_HR, FifthYear_RBI, FifthYear_SB, FifthYear_CS, FifthYear_BB, FifthYear_SO, FifthYear_IBB, FifthYear_HBP, FifthYear_SH, ...]\n",
       "Index: []\n",
       "\n",
       "[0 rows x 136 columns]"
      ]
     },
     "execution_count": 143,
     "metadata": {},
     "output_type": "execute_result"
    }
   ],
   "source": [
    "regr_2019_dataframe[regr_2019_dataframe.Prediction > 39]"
   ]
  },
  {
   "cell_type": "code",
   "execution_count": 144,
   "metadata": {},
   "outputs": [
    {
     "data": {
      "text/plain": [
       "71"
      ]
     },
     "execution_count": 144,
     "metadata": {},
     "output_type": "execute_result"
    }
   ],
   "source": [
    "len(regr_2019_dataframe[regr_2019_dataframe.Difference < 0])"
   ]
  },
  {
   "cell_type": "code",
   "execution_count": 145,
   "metadata": {},
   "outputs": [
    {
     "data": {
      "text/plain": [
       "6"
      ]
     },
     "execution_count": 145,
     "metadata": {},
     "output_type": "execute_result"
    }
   ],
   "source": [
    "len(regr_2019_dataframe[regr_2019_dataframe.Difference == 0])"
   ]
  },
  {
   "cell_type": "code",
   "execution_count": 146,
   "metadata": {},
   "outputs": [
    {
     "data": {
      "text/plain": [
       "114"
      ]
     },
     "execution_count": 146,
     "metadata": {},
     "output_type": "execute_result"
    }
   ],
   "source": [
    "len(regr_2019_dataframe[regr_2019_dataframe.Difference > 0])"
   ]
  },
  {
   "cell_type": "code",
   "execution_count": 147,
   "metadata": {},
   "outputs": [
    {
     "data": {
      "text/html": [
       "<div>\n",
       "<style scoped>\n",
       "    .dataframe tbody tr th:only-of-type {\n",
       "        vertical-align: middle;\n",
       "    }\n",
       "\n",
       "    .dataframe tbody tr th {\n",
       "        vertical-align: top;\n",
       "    }\n",
       "\n",
       "    .dataframe thead th {\n",
       "        text-align: right;\n",
       "    }\n",
       "</style>\n",
       "<table border=\"1\" class=\"dataframe\">\n",
       "  <thead>\n",
       "    <tr style=\"text-align: right;\">\n",
       "      <th></th>\n",
       "      <th>FirstYear_yearID</th>\n",
       "      <th>FirstYear_G</th>\n",
       "      <th>FirstYear_AB</th>\n",
       "      <th>FirstYear_R</th>\n",
       "      <th>FirstYear_H</th>\n",
       "      <th>FirstYear_2B</th>\n",
       "      <th>FirstYear_3B</th>\n",
       "      <th>FirstYear_HR</th>\n",
       "      <th>FirstYear_RBI</th>\n",
       "      <th>FirstYear_SB</th>\n",
       "      <th>...</th>\n",
       "      <th>SixthYear_SF</th>\n",
       "      <th>SixthYear_GIDP</th>\n",
       "      <th>SixthYear_nameFirst</th>\n",
       "      <th>SixthYear_nameLast</th>\n",
       "      <th>SixthYear_nameGiven</th>\n",
       "      <th>SixthYear_weight</th>\n",
       "      <th>SixthYear_height</th>\n",
       "      <th>SixthYear_age</th>\n",
       "      <th>Prediction</th>\n",
       "      <th>Difference</th>\n",
       "    </tr>\n",
       "  </thead>\n",
       "  <tbody>\n",
       "    <tr>\n",
       "      <th>83</th>\n",
       "      <td>2014</td>\n",
       "      <td>100.0</td>\n",
       "      <td>352.0</td>\n",
       "      <td>41.0</td>\n",
       "      <td>96.0</td>\n",
       "      <td>10.0</td>\n",
       "      <td>2.0</td>\n",
       "      <td>13.0</td>\n",
       "      <td>32.0</td>\n",
       "      <td>2.0</td>\n",
       "      <td>...</td>\n",
       "      <td>4.0</td>\n",
       "      <td>10.0</td>\n",
       "      <td>Bryce</td>\n",
       "      <td>Harper</td>\n",
       "      <td>Bryce Aron Max</td>\n",
       "      <td>210.0</td>\n",
       "      <td>75.0</td>\n",
       "      <td>27.0</td>\n",
       "      <td>40.0</td>\n",
       "      <td>-5.0</td>\n",
       "    </tr>\n",
       "    <tr>\n",
       "      <th>116</th>\n",
       "      <td>2014</td>\n",
       "      <td>123.0</td>\n",
       "      <td>441.0</td>\n",
       "      <td>57.0</td>\n",
       "      <td>139.0</td>\n",
       "      <td>30.0</td>\n",
       "      <td>3.0</td>\n",
       "      <td>23.0</td>\n",
       "      <td>76.0</td>\n",
       "      <td>6.0</td>\n",
       "      <td>...</td>\n",
       "      <td>5.0</td>\n",
       "      <td>19.0</td>\n",
       "      <td>J. D.</td>\n",
       "      <td>Martinez</td>\n",
       "      <td>Julio Daniel</td>\n",
       "      <td>230.0</td>\n",
       "      <td>75.0</td>\n",
       "      <td>32.0</td>\n",
       "      <td>44.0</td>\n",
       "      <td>-8.0</td>\n",
       "    </tr>\n",
       "  </tbody>\n",
       "</table>\n",
       "<p>2 rows × 136 columns</p>\n",
       "</div>"
      ],
      "text/plain": [
       "     FirstYear_yearID  FirstYear_G  FirstYear_AB  FirstYear_R  FirstYear_H  \\\n",
       "83               2014        100.0         352.0         41.0         96.0   \n",
       "116              2014        123.0         441.0         57.0        139.0   \n",
       "\n",
       "     FirstYear_2B  FirstYear_3B  FirstYear_HR  FirstYear_RBI  FirstYear_SB  \\\n",
       "83           10.0           2.0          13.0           32.0           2.0   \n",
       "116          30.0           3.0          23.0           76.0           6.0   \n",
       "\n",
       "     ...  SixthYear_SF  SixthYear_GIDP  SixthYear_nameFirst  \\\n",
       "83   ...           4.0            10.0                Bryce   \n",
       "116  ...           5.0            19.0                J. D.   \n",
       "\n",
       "     SixthYear_nameLast  SixthYear_nameGiven  SixthYear_weight  \\\n",
       "83               Harper       Bryce Aron Max             210.0   \n",
       "116            Martinez         Julio Daniel             230.0   \n",
       "\n",
       "     SixthYear_height  SixthYear_age  Prediction  Difference  \n",
       "83               75.0           27.0        40.0        -5.0  \n",
       "116              75.0           32.0        44.0        -8.0  \n",
       "\n",
       "[2 rows x 136 columns]"
      ]
     },
     "execution_count": 147,
     "metadata": {},
     "output_type": "execute_result"
    }
   ],
   "source": [
    "SVM_2019_dataframe[SVM_2019_dataframe.Prediction > 39]"
   ]
  },
  {
   "cell_type": "code",
   "execution_count": 148,
   "metadata": {},
   "outputs": [
    {
     "data": {
      "text/plain": [
       "99"
      ]
     },
     "execution_count": 148,
     "metadata": {},
     "output_type": "execute_result"
    }
   ],
   "source": [
    "len(SVM_2019_dataframe[SVM_2019_dataframe.Difference < 0])"
   ]
  },
  {
   "cell_type": "code",
   "execution_count": 149,
   "metadata": {},
   "outputs": [
    {
     "data": {
      "text/plain": [
       "15"
      ]
     },
     "execution_count": 149,
     "metadata": {},
     "output_type": "execute_result"
    }
   ],
   "source": [
    "len(SVM_2019_dataframe[SVM_2019_dataframe.Difference == 0])"
   ]
  },
  {
   "cell_type": "code",
   "execution_count": 150,
   "metadata": {},
   "outputs": [
    {
     "data": {
      "text/plain": [
       "77"
      ]
     },
     "execution_count": 150,
     "metadata": {},
     "output_type": "execute_result"
    }
   ],
   "source": [
    "len(SVM_2019_dataframe[SVM_2019_dataframe.Difference > 0])"
   ]
  },
  {
   "cell_type": "code",
   "execution_count": 151,
   "metadata": {},
   "outputs": [
    {
     "data": {
      "text/html": [
       "<div>\n",
       "<style scoped>\n",
       "    .dataframe tbody tr th:only-of-type {\n",
       "        vertical-align: middle;\n",
       "    }\n",
       "\n",
       "    .dataframe tbody tr th {\n",
       "        vertical-align: top;\n",
       "    }\n",
       "\n",
       "    .dataframe thead th {\n",
       "        text-align: right;\n",
       "    }\n",
       "</style>\n",
       "<table border=\"1\" class=\"dataframe\">\n",
       "  <thead>\n",
       "    <tr style=\"text-align: right;\">\n",
       "      <th></th>\n",
       "      <th>FirstYear_yearID</th>\n",
       "      <th>FirstYear_G</th>\n",
       "      <th>FirstYear_AB</th>\n",
       "      <th>FirstYear_R</th>\n",
       "      <th>FirstYear_H</th>\n",
       "      <th>FirstYear_2B</th>\n",
       "      <th>FirstYear_3B</th>\n",
       "      <th>FirstYear_HR</th>\n",
       "      <th>FirstYear_RBI</th>\n",
       "      <th>FirstYear_SB</th>\n",
       "      <th>...</th>\n",
       "      <th>SixthYear_SF</th>\n",
       "      <th>SixthYear_GIDP</th>\n",
       "      <th>SixthYear_nameFirst</th>\n",
       "      <th>SixthYear_nameLast</th>\n",
       "      <th>SixthYear_nameGiven</th>\n",
       "      <th>SixthYear_weight</th>\n",
       "      <th>SixthYear_height</th>\n",
       "      <th>SixthYear_age</th>\n",
       "      <th>Prediction</th>\n",
       "      <th>Difference</th>\n",
       "    </tr>\n",
       "  </thead>\n",
       "  <tbody>\n",
       "  </tbody>\n",
       "</table>\n",
       "<p>0 rows × 136 columns</p>\n",
       "</div>"
      ],
      "text/plain": [
       "Empty DataFrame\n",
       "Columns: [FirstYear_yearID, FirstYear_G, FirstYear_AB, FirstYear_R, FirstYear_H, FirstYear_2B, FirstYear_3B, FirstYear_HR, FirstYear_RBI, FirstYear_SB, FirstYear_CS, FirstYear_BB, FirstYear_SO, FirstYear_IBB, FirstYear_HBP, FirstYear_SH, FirstYear_SF, FirstYear_GIDP, FirstYear_weight, FirstYear_height, FirstYear_age, SecondYear_yearID, SecondYear_G, SecondYear_AB, SecondYear_R, SecondYear_H, SecondYear_2B, SecondYear_3B, SecondYear_HR, SecondYear_RBI, SecondYear_SB, SecondYear_CS, SecondYear_BB, SecondYear_SO, SecondYear_IBB, SecondYear_HBP, SecondYear_SH, SecondYear_SF, SecondYear_GIDP, SecondYear_weight, SecondYear_height, SecondYear_age, ThirdYear_yearID, ThirdYear_G, ThirdYear_AB, ThirdYear_R, ThirdYear_H, ThirdYear_2B, ThirdYear_3B, ThirdYear_HR, ThirdYear_RBI, ThirdYear_SB, ThirdYear_CS, ThirdYear_BB, ThirdYear_SO, ThirdYear_IBB, ThirdYear_HBP, ThirdYear_SH, ThirdYear_SF, ThirdYear_GIDP, ThirdYear_weight, ThirdYear_height, ThirdYear_age, FourthYear_yearID, FourthYear_G, FourthYear_AB, FourthYear_R, FourthYear_H, FourthYear_2B, FourthYear_3B, FourthYear_HR, FourthYear_RBI, FourthYear_SB, FourthYear_CS, FourthYear_BB, FourthYear_SO, FourthYear_IBB, FourthYear_HBP, FourthYear_SH, FourthYear_SF, FourthYear_GIDP, FourthYear_weight, FourthYear_height, FourthYear_age, FifthYear_yearID, FifthYear_G, FifthYear_AB, FifthYear_R, FifthYear_H, FifthYear_2B, FifthYear_3B, FifthYear_HR, FifthYear_RBI, FifthYear_SB, FifthYear_CS, FifthYear_BB, FifthYear_SO, FifthYear_IBB, FifthYear_HBP, FifthYear_SH, ...]\n",
       "Index: []\n",
       "\n",
       "[0 rows x 136 columns]"
      ]
     },
     "execution_count": 151,
     "metadata": {},
     "output_type": "execute_result"
    }
   ],
   "source": [
    "RF_2019_dataframe[RF_2019_dataframe.Prediction > 39]"
   ]
  },
  {
   "cell_type": "code",
   "execution_count": 152,
   "metadata": {},
   "outputs": [
    {
     "data": {
      "text/plain": [
       "43"
      ]
     },
     "execution_count": 152,
     "metadata": {},
     "output_type": "execute_result"
    }
   ],
   "source": [
    "len(RF_2019_dataframe[RF_2019_dataframe.Difference < 0])"
   ]
  },
  {
   "cell_type": "code",
   "execution_count": 153,
   "metadata": {},
   "outputs": [
    {
     "data": {
      "text/plain": [
       "7"
      ]
     },
     "execution_count": 153,
     "metadata": {},
     "output_type": "execute_result"
    }
   ],
   "source": [
    "len(RF_2019_dataframe[RF_2019_dataframe.Difference == 0])"
   ]
  },
  {
   "cell_type": "code",
   "execution_count": 154,
   "metadata": {},
   "outputs": [
    {
     "data": {
      "text/plain": [
       "141"
      ]
     },
     "execution_count": 154,
     "metadata": {},
     "output_type": "execute_result"
    }
   ],
   "source": [
    "len(RF_2019_dataframe[RF_2019_dataframe.Difference > 0])"
   ]
  },
  {
   "cell_type": "code",
   "execution_count": 155,
   "metadata": {},
   "outputs": [
    {
     "data": {
      "text/html": [
       "<div>\n",
       "<style scoped>\n",
       "    .dataframe tbody tr th:only-of-type {\n",
       "        vertical-align: middle;\n",
       "    }\n",
       "\n",
       "    .dataframe tbody tr th {\n",
       "        vertical-align: top;\n",
       "    }\n",
       "\n",
       "    .dataframe thead th {\n",
       "        text-align: right;\n",
       "    }\n",
       "</style>\n",
       "<table border=\"1\" class=\"dataframe\">\n",
       "  <thead>\n",
       "    <tr style=\"text-align: right;\">\n",
       "      <th></th>\n",
       "      <th>FirstYear_yearID</th>\n",
       "      <th>FirstYear_G</th>\n",
       "      <th>FirstYear_AB</th>\n",
       "      <th>FirstYear_R</th>\n",
       "      <th>FirstYear_H</th>\n",
       "      <th>FirstYear_2B</th>\n",
       "      <th>FirstYear_3B</th>\n",
       "      <th>FirstYear_HR</th>\n",
       "      <th>FirstYear_RBI</th>\n",
       "      <th>FirstYear_SB</th>\n",
       "      <th>...</th>\n",
       "      <th>SixthYear_SF</th>\n",
       "      <th>SixthYear_GIDP</th>\n",
       "      <th>SixthYear_nameFirst</th>\n",
       "      <th>SixthYear_nameLast</th>\n",
       "      <th>SixthYear_nameGiven</th>\n",
       "      <th>SixthYear_weight</th>\n",
       "      <th>SixthYear_height</th>\n",
       "      <th>SixthYear_age</th>\n",
       "      <th>Prediction</th>\n",
       "      <th>Difference</th>\n",
       "    </tr>\n",
       "  </thead>\n",
       "  <tbody>\n",
       "    <tr>\n",
       "      <th>8</th>\n",
       "      <td>2014</td>\n",
       "      <td>111.0</td>\n",
       "      <td>432.0</td>\n",
       "      <td>58.0</td>\n",
       "      <td>124.0</td>\n",
       "      <td>34.0</td>\n",
       "      <td>2.0</td>\n",
       "      <td>18.0</td>\n",
       "      <td>61.0</td>\n",
       "      <td>2.0</td>\n",
       "      <td>...</td>\n",
       "      <td>8.0</td>\n",
       "      <td>14.0</td>\n",
       "      <td>Nolan</td>\n",
       "      <td>Arenado</td>\n",
       "      <td>Nolan James</td>\n",
       "      <td>215.0</td>\n",
       "      <td>74.0</td>\n",
       "      <td>28.0</td>\n",
       "      <td>0.0</td>\n",
       "      <td>41.0</td>\n",
       "    </tr>\n",
       "    <tr>\n",
       "      <th>38</th>\n",
       "      <td>2014</td>\n",
       "      <td>159.0</td>\n",
       "      <td>613.0</td>\n",
       "      <td>87.0</td>\n",
       "      <td>166.0</td>\n",
       "      <td>32.0</td>\n",
       "      <td>2.0</td>\n",
       "      <td>40.0</td>\n",
       "      <td>108.0</td>\n",
       "      <td>4.0</td>\n",
       "      <td>...</td>\n",
       "      <td>3.0</td>\n",
       "      <td>14.0</td>\n",
       "      <td>Nelson</td>\n",
       "      <td>Cruz</td>\n",
       "      <td>Nelson Ramon</td>\n",
       "      <td>230.0</td>\n",
       "      <td>74.0</td>\n",
       "      <td>39.0</td>\n",
       "      <td>0.0</td>\n",
       "      <td>41.0</td>\n",
       "    </tr>\n",
       "    <tr>\n",
       "      <th>170</th>\n",
       "      <td>2014</td>\n",
       "      <td>24.0</td>\n",
       "      <td>89.0</td>\n",
       "      <td>11.0</td>\n",
       "      <td>26.0</td>\n",
       "      <td>8.0</td>\n",
       "      <td>1.0</td>\n",
       "      <td>5.0</td>\n",
       "      <td>20.0</td>\n",
       "      <td>1.0</td>\n",
       "      <td>...</td>\n",
       "      <td>4.0</td>\n",
       "      <td>16.0</td>\n",
       "      <td>Jorge</td>\n",
       "      <td>Soler</td>\n",
       "      <td>Jorge Carlos</td>\n",
       "      <td>235.0</td>\n",
       "      <td>76.0</td>\n",
       "      <td>27.0</td>\n",
       "      <td>0.0</td>\n",
       "      <td>48.0</td>\n",
       "    </tr>\n",
       "    <tr>\n",
       "      <th>174</th>\n",
       "      <td>2014</td>\n",
       "      <td>85.0</td>\n",
       "      <td>244.0</td>\n",
       "      <td>33.0</td>\n",
       "      <td>59.0</td>\n",
       "      <td>9.0</td>\n",
       "      <td>1.0</td>\n",
       "      <td>4.0</td>\n",
       "      <td>23.0</td>\n",
       "      <td>3.0</td>\n",
       "      <td>...</td>\n",
       "      <td>6.0</td>\n",
       "      <td>12.0</td>\n",
       "      <td>Eugenio</td>\n",
       "      <td>Suarez</td>\n",
       "      <td>Eugenio Alejandro</td>\n",
       "      <td>213.0</td>\n",
       "      <td>71.0</td>\n",
       "      <td>28.0</td>\n",
       "      <td>0.0</td>\n",
       "      <td>49.0</td>\n",
       "    </tr>\n",
       "    <tr>\n",
       "      <th>179</th>\n",
       "      <td>2014</td>\n",
       "      <td>157.0</td>\n",
       "      <td>602.0</td>\n",
       "      <td>115.0</td>\n",
       "      <td>173.0</td>\n",
       "      <td>39.0</td>\n",
       "      <td>9.0</td>\n",
       "      <td>36.0</td>\n",
       "      <td>111.0</td>\n",
       "      <td>16.0</td>\n",
       "      <td>...</td>\n",
       "      <td>4.0</td>\n",
       "      <td>5.0</td>\n",
       "      <td>Mike</td>\n",
       "      <td>Trout</td>\n",
       "      <td>Michael Nelson</td>\n",
       "      <td>235.0</td>\n",
       "      <td>74.0</td>\n",
       "      <td>28.0</td>\n",
       "      <td>0.0</td>\n",
       "      <td>45.0</td>\n",
       "    </tr>\n",
       "    <tr>\n",
       "      <th>187</th>\n",
       "      <td>2014</td>\n",
       "      <td>144.0</td>\n",
       "      <td>582.0</td>\n",
       "      <td>94.0</td>\n",
       "      <td>165.0</td>\n",
       "      <td>30.0</td>\n",
       "      <td>6.0</td>\n",
       "      <td>9.0</td>\n",
       "      <td>54.0</td>\n",
       "      <td>21.0</td>\n",
       "      <td>...</td>\n",
       "      <td>3.0</td>\n",
       "      <td>8.0</td>\n",
       "      <td>Christian</td>\n",
       "      <td>Yelich</td>\n",
       "      <td>Christian Stephen</td>\n",
       "      <td>195.0</td>\n",
       "      <td>75.0</td>\n",
       "      <td>28.0</td>\n",
       "      <td>0.0</td>\n",
       "      <td>44.0</td>\n",
       "    </tr>\n",
       "  </tbody>\n",
       "</table>\n",
       "<p>6 rows × 136 columns</p>\n",
       "</div>"
      ],
      "text/plain": [
       "     FirstYear_yearID  FirstYear_G  FirstYear_AB  FirstYear_R  FirstYear_H  \\\n",
       "8                2014        111.0         432.0         58.0        124.0   \n",
       "38               2014        159.0         613.0         87.0        166.0   \n",
       "170              2014         24.0          89.0         11.0         26.0   \n",
       "174              2014         85.0         244.0         33.0         59.0   \n",
       "179              2014        157.0         602.0        115.0        173.0   \n",
       "187              2014        144.0         582.0         94.0        165.0   \n",
       "\n",
       "     FirstYear_2B  FirstYear_3B  FirstYear_HR  FirstYear_RBI  FirstYear_SB  \\\n",
       "8            34.0           2.0          18.0           61.0           2.0   \n",
       "38           32.0           2.0          40.0          108.0           4.0   \n",
       "170           8.0           1.0           5.0           20.0           1.0   \n",
       "174           9.0           1.0           4.0           23.0           3.0   \n",
       "179          39.0           9.0          36.0          111.0          16.0   \n",
       "187          30.0           6.0           9.0           54.0          21.0   \n",
       "\n",
       "     ...  SixthYear_SF  SixthYear_GIDP  SixthYear_nameFirst  \\\n",
       "8    ...           8.0            14.0                Nolan   \n",
       "38   ...           3.0            14.0               Nelson   \n",
       "170  ...           4.0            16.0                Jorge   \n",
       "174  ...           6.0            12.0              Eugenio   \n",
       "179  ...           4.0             5.0                 Mike   \n",
       "187  ...           3.0             8.0            Christian   \n",
       "\n",
       "     SixthYear_nameLast  SixthYear_nameGiven  SixthYear_weight  \\\n",
       "8               Arenado          Nolan James             215.0   \n",
       "38                 Cruz         Nelson Ramon             230.0   \n",
       "170               Soler         Jorge Carlos             235.0   \n",
       "174              Suarez    Eugenio Alejandro             213.0   \n",
       "179               Trout       Michael Nelson             235.0   \n",
       "187              Yelich    Christian Stephen             195.0   \n",
       "\n",
       "     SixthYear_height  SixthYear_age  Prediction  Difference  \n",
       "8                74.0           28.0         0.0        41.0  \n",
       "38               74.0           39.0         0.0        41.0  \n",
       "170              76.0           27.0         0.0        48.0  \n",
       "174              71.0           28.0         0.0        49.0  \n",
       "179              74.0           28.0         0.0        45.0  \n",
       "187              75.0           28.0         0.0        44.0  \n",
       "\n",
       "[6 rows x 136 columns]"
      ]
     },
     "execution_count": 155,
     "metadata": {},
     "output_type": "execute_result"
    }
   ],
   "source": [
    "CC[CC.SixthYear_HR > 39]"
   ]
  },
  {
   "cell_type": "code",
   "execution_count": 156,
   "metadata": {},
   "outputs": [
    {
     "data": {
      "text/plain": [
       "0"
      ]
     },
     "execution_count": 156,
     "metadata": {},
     "output_type": "execute_result"
    }
   ],
   "source": [
    "len(CC[CC.Difference < 0])"
   ]
  },
  {
   "cell_type": "code",
   "execution_count": 157,
   "metadata": {},
   "outputs": [
    {
     "data": {
      "text/plain": [
       "4"
      ]
     },
     "execution_count": 157,
     "metadata": {},
     "output_type": "execute_result"
    }
   ],
   "source": [
    "len(CC[CC.Difference == 0])"
   ]
  },
  {
   "cell_type": "code",
   "execution_count": 158,
   "metadata": {},
   "outputs": [
    {
     "data": {
      "text/plain": [
       "187"
      ]
     },
     "execution_count": 158,
     "metadata": {},
     "output_type": "execute_result"
    }
   ],
   "source": [
    "len(CC[CC.Difference > 0])"
   ]
  },
  {
   "cell_type": "markdown",
   "metadata": {},
   "source": [
    "### Save Models"
   ]
  },
  {
   "cell_type": "code",
   "execution_count": 161,
   "metadata": {},
   "outputs": [],
   "source": [
    "import joblib"
   ]
  },
  {
   "cell_type": "code",
   "execution_count": 162,
   "metadata": {},
   "outputs": [
    {
     "ename": "NameError",
     "evalue": "name 'regr' is not defined",
     "output_type": "error",
     "traceback": [
      "\u001b[0;31m---------------------------------------------------------------------------\u001b[0m",
      "\u001b[0;31mNameError\u001b[0m                                 Traceback (most recent call last)",
      "Cell \u001b[0;32mIn[162], line 1\u001b[0m\n\u001b[0;32m----> 1\u001b[0m joblib\u001b[39m.\u001b[39mdump(regr, \u001b[39m'\u001b[39m\u001b[39mLR.pkl\u001b[39m\u001b[39m'\u001b[39m)\n",
      "\u001b[0;31mNameError\u001b[0m: name 'regr' is not defined"
     ]
    }
   ],
   "source": [
    "joblib.dump(regr, 'LR.pkl')"
   ]
  },
  {
   "cell_type": "code",
   "execution_count": 163,
   "metadata": {},
   "outputs": [
    {
     "data": {
      "text/plain": [
       "['LR_2017.pkl']"
      ]
     },
     "execution_count": 163,
     "metadata": {},
     "output_type": "execute_result"
    }
   ],
   "source": [
    "joblib.dump(regr_2017, 'LR_2017.pkl')"
   ]
  },
  {
   "cell_type": "code",
   "execution_count": 164,
   "metadata": {},
   "outputs": [
    {
     "data": {
      "text/plain": [
       "['LR_2018.pkl']"
      ]
     },
     "execution_count": 164,
     "metadata": {},
     "output_type": "execute_result"
    }
   ],
   "source": [
    "joblib.dump(regr_2018, 'LR_2018.pkl')"
   ]
  },
  {
   "cell_type": "code",
   "execution_count": 165,
   "metadata": {},
   "outputs": [
    {
     "ename": "NameError",
     "evalue": "name 'clf' is not defined",
     "output_type": "error",
     "traceback": [
      "\u001b[0;31m---------------------------------------------------------------------------\u001b[0m",
      "\u001b[0;31mNameError\u001b[0m                                 Traceback (most recent call last)",
      "Cell \u001b[0;32mIn[165], line 1\u001b[0m\n\u001b[0;32m----> 1\u001b[0m joblib\u001b[39m.\u001b[39mdump(clf, \u001b[39m'\u001b[39m\u001b[39mSVM.pkl\u001b[39m\u001b[39m'\u001b[39m)\n",
      "\u001b[0;31mNameError\u001b[0m: name 'clf' is not defined"
     ]
    }
   ],
   "source": [
    "joblib.dump(clf, 'SVM.pkl')"
   ]
  },
  {
   "cell_type": "code",
   "execution_count": 166,
   "metadata": {},
   "outputs": [
    {
     "data": {
      "text/plain": [
       "['SVM_2017.pkl']"
      ]
     },
     "execution_count": 166,
     "metadata": {},
     "output_type": "execute_result"
    }
   ],
   "source": [
    "joblib.dump(clf_2017, 'SVM_2017.pkl')"
   ]
  },
  {
   "cell_type": "code",
   "execution_count": 167,
   "metadata": {},
   "outputs": [
    {
     "data": {
      "text/plain": [
       "['SVM_2018.pkl']"
      ]
     },
     "execution_count": 167,
     "metadata": {},
     "output_type": "execute_result"
    }
   ],
   "source": [
    "joblib.dump(clf_2018, 'SVM_2018.pkl')"
   ]
  },
  {
   "cell_type": "code",
   "execution_count": 168,
   "metadata": {},
   "outputs": [
    {
     "ename": "NameError",
     "evalue": "name 'forest' is not defined",
     "output_type": "error",
     "traceback": [
      "\u001b[0;31m---------------------------------------------------------------------------\u001b[0m",
      "\u001b[0;31mNameError\u001b[0m                                 Traceback (most recent call last)",
      "Cell \u001b[0;32mIn[168], line 1\u001b[0m\n\u001b[0;32m----> 1\u001b[0m joblib\u001b[39m.\u001b[39mdump(forest, \u001b[39m'\u001b[39m\u001b[39mRF.pkl\u001b[39m\u001b[39m'\u001b[39m)\n",
      "\u001b[0;31mNameError\u001b[0m: name 'forest' is not defined"
     ]
    }
   ],
   "source": [
    "joblib.dump(forest, 'RF.pkl')"
   ]
  },
  {
   "cell_type": "code",
   "execution_count": 169,
   "metadata": {},
   "outputs": [
    {
     "data": {
      "text/plain": [
       "['RF_2017.pkl']"
      ]
     },
     "execution_count": 169,
     "metadata": {},
     "output_type": "execute_result"
    }
   ],
   "source": [
    "joblib.dump(forest_2017, 'RF_2017.pkl')"
   ]
  },
  {
   "cell_type": "code",
   "execution_count": 170,
   "metadata": {},
   "outputs": [
    {
     "data": {
      "text/plain": [
       "['RF_2018.pkl']"
      ]
     },
     "execution_count": 170,
     "metadata": {},
     "output_type": "execute_result"
    }
   ],
   "source": [
    "joblib.dump(forest_2018, 'RF_2018.pkl')"
   ]
  },
  {
   "cell_type": "code",
   "execution_count": null,
   "metadata": {},
   "outputs": [],
   "source": []
  },
  {
   "cell_type": "code",
   "execution_count": null,
   "metadata": {},
   "outputs": [],
   "source": []
  }
 ],
 "metadata": {
  "kernelspec": {
   "display_name": "Python 3",
   "language": "python",
   "name": "python3"
  },
  "language_info": {
   "codemirror_mode": {
    "name": "ipython",
    "version": 3
   },
   "file_extension": ".py",
   "mimetype": "text/x-python",
   "name": "python",
   "nbconvert_exporter": "python",
   "pygments_lexer": "ipython3",
   "version": "3.10.13"
  }
 },
 "nbformat": 4,
 "nbformat_minor": 2
}
