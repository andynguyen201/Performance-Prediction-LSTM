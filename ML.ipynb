{
 "cells": [
  {
   "cell_type": "markdown",
   "metadata": {},
   "source": [
    "### Import Module"
   ]
  },
  {
   "cell_type": "code",
   "execution_count": 1,
   "metadata": {},
   "outputs": [
    {
     "name": "stderr",
     "output_type": "stream",
     "text": [
      "Using TensorFlow backend.\n",
      "/Users/jason/anaconda/lib/python3.6/site-packages/tensorflow/python/framework/dtypes.py:455: FutureWarning: Passing (type, 1) or '1type' as a synonym of type is deprecated; in a future version of numpy, it will be understood as (type, (1,)) / '(1,)type'.\n",
      "  _np_qint8 = np.dtype([(\"qint8\", np.int8, 1)])\n",
      "/Users/jason/anaconda/lib/python3.6/site-packages/tensorflow/python/framework/dtypes.py:456: FutureWarning: Passing (type, 1) or '1type' as a synonym of type is deprecated; in a future version of numpy, it will be understood as (type, (1,)) / '(1,)type'.\n",
      "  _np_quint8 = np.dtype([(\"quint8\", np.uint8, 1)])\n",
      "/Users/jason/anaconda/lib/python3.6/site-packages/tensorflow/python/framework/dtypes.py:457: FutureWarning: Passing (type, 1) or '1type' as a synonym of type is deprecated; in a future version of numpy, it will be understood as (type, (1,)) / '(1,)type'.\n",
      "  _np_qint16 = np.dtype([(\"qint16\", np.int16, 1)])\n",
      "/Users/jason/anaconda/lib/python3.6/site-packages/tensorflow/python/framework/dtypes.py:458: FutureWarning: Passing (type, 1) or '1type' as a synonym of type is deprecated; in a future version of numpy, it will be understood as (type, (1,)) / '(1,)type'.\n",
      "  _np_quint16 = np.dtype([(\"quint16\", np.uint16, 1)])\n",
      "/Users/jason/anaconda/lib/python3.6/site-packages/tensorflow/python/framework/dtypes.py:459: FutureWarning: Passing (type, 1) or '1type' as a synonym of type is deprecated; in a future version of numpy, it will be understood as (type, (1,)) / '(1,)type'.\n",
      "  _np_qint32 = np.dtype([(\"qint32\", np.int32, 1)])\n",
      "/Users/jason/anaconda/lib/python3.6/site-packages/sklearn/ensemble/weight_boosting.py:29: DeprecationWarning: numpy.core.umath_tests is an internal NumPy module and should not be imported. It will be removed in a future NumPy release.\n",
      "  from numpy.core.umath_tests import inner1d\n"
     ]
    }
   ],
   "source": [
    "import matplotlib.pyplot as plt\n",
    "import numpy as np\n",
    "import pandas as pd\n",
    "import seaborn as sns\n",
    "\n",
    "from keras import optimizers\n",
    "from keras.models import Sequential, load_model\n",
    "from keras.layers import Dense,Activation, LSTM, Dropout, TimeDistributed, Flatten\n",
    "from keras.layers.normalization import BatchNormalization\n",
    "from keras.utils import np_utils\n",
    "from keras.callbacks import ModelCheckpoint\n",
    "\n",
    "from sklearn.utils import class_weight\n",
    "from sklearn.linear_model import LinearRegression\n",
    "from sklearn.svm import SVC \n",
    "from sklearn.cluster import KMeans\n",
    "from sklearn.ensemble import RandomForestClassifier\n",
    "from sklearn.metrics import confusion_matrix\n",
    "from sklearn.metrics import classification_report\n",
    "from sklearn.preprocessing import StandardScaler\n",
    "from math import sqrt\n",
    "from sklearn.metrics import mean_absolute_error\n",
    "from sklearn.metrics import mean_squared_error"
   ]
  },
  {
   "cell_type": "markdown",
   "metadata": {},
   "source": [
    "### Data Preparation"
   ]
  },
  {
   "cell_type": "code",
   "execution_count": 2,
   "metadata": {},
   "outputs": [],
   "source": [
    "training_load = pd.read_csv('training_1961_2016.csv', delimiter=',')\n",
    "testing_2017_load = pd.read_csv('testing_2017.csv', delimiter=',')\n",
    "testing_2018_load = pd.read_csv('testing_2018.csv', delimiter=',')\n",
    "testing_2019_load = pd.read_csv('testing_2019.csv', delimiter=',')"
   ]
  },
  {
   "cell_type": "code",
   "execution_count": 3,
   "metadata": {},
   "outputs": [
    {
     "data": {
      "text/html": [
       "<div>\n",
       "<style scoped>\n",
       "    .dataframe tbody tr th:only-of-type {\n",
       "        vertical-align: middle;\n",
       "    }\n",
       "\n",
       "    .dataframe tbody tr th {\n",
       "        vertical-align: top;\n",
       "    }\n",
       "\n",
       "    .dataframe thead th {\n",
       "        text-align: right;\n",
       "    }\n",
       "</style>\n",
       "<table border=\"1\" class=\"dataframe\">\n",
       "  <thead>\n",
       "    <tr style=\"text-align: right;\">\n",
       "      <th></th>\n",
       "      <th>FirstYear_index</th>\n",
       "      <th>FirstYear_playerID</th>\n",
       "      <th>FirstYear_yearID</th>\n",
       "      <th>FirstYear_teamID</th>\n",
       "      <th>FirstYear_lgID</th>\n",
       "      <th>FirstYear_stint</th>\n",
       "      <th>FirstYear_G</th>\n",
       "      <th>FirstYear_AB</th>\n",
       "      <th>FirstYear_R</th>\n",
       "      <th>FirstYear_H</th>\n",
       "      <th>...</th>\n",
       "      <th>SixthYear_HBP</th>\n",
       "      <th>SixthYear_SH</th>\n",
       "      <th>SixthYear_SF</th>\n",
       "      <th>SixthYear_GIDP</th>\n",
       "      <th>SixthYear_nameFirst</th>\n",
       "      <th>SixthYear_nameLast</th>\n",
       "      <th>SixthYear_nameGiven</th>\n",
       "      <th>SixthYear_weight</th>\n",
       "      <th>SixthYear_height</th>\n",
       "      <th>SixthYear_age</th>\n",
       "    </tr>\n",
       "  </thead>\n",
       "  <tbody>\n",
       "    <tr>\n",
       "      <th>0</th>\n",
       "      <td>41261</td>\n",
       "      <td>aaronha01</td>\n",
       "      <td>1961</td>\n",
       "      <td>ML1</td>\n",
       "      <td>NL</td>\n",
       "      <td>1.0</td>\n",
       "      <td>155.0</td>\n",
       "      <td>603.0</td>\n",
       "      <td>115.0</td>\n",
       "      <td>197.0</td>\n",
       "      <td>...</td>\n",
       "      <td>1.0</td>\n",
       "      <td>0.0</td>\n",
       "      <td>8.0</td>\n",
       "      <td>14.0</td>\n",
       "      <td>Hank</td>\n",
       "      <td>Aaron</td>\n",
       "      <td>Henry Louis</td>\n",
       "      <td>180.0</td>\n",
       "      <td>72.0</td>\n",
       "      <td>32.0</td>\n",
       "    </tr>\n",
       "    <tr>\n",
       "      <th>1</th>\n",
       "      <td>41959</td>\n",
       "      <td>aaronha01</td>\n",
       "      <td>1962</td>\n",
       "      <td>ML1</td>\n",
       "      <td>NL</td>\n",
       "      <td>1.0</td>\n",
       "      <td>156.0</td>\n",
       "      <td>592.0</td>\n",
       "      <td>127.0</td>\n",
       "      <td>191.0</td>\n",
       "      <td>...</td>\n",
       "      <td>0.0</td>\n",
       "      <td>0.0</td>\n",
       "      <td>6.0</td>\n",
       "      <td>11.0</td>\n",
       "      <td>Hank</td>\n",
       "      <td>Aaron</td>\n",
       "      <td>Henry Louis</td>\n",
       "      <td>180.0</td>\n",
       "      <td>72.0</td>\n",
       "      <td>33.0</td>\n",
       "    </tr>\n",
       "    <tr>\n",
       "      <th>2</th>\n",
       "      <td>42719</td>\n",
       "      <td>aaronha01</td>\n",
       "      <td>1963</td>\n",
       "      <td>ML1</td>\n",
       "      <td>NL</td>\n",
       "      <td>1.0</td>\n",
       "      <td>161.0</td>\n",
       "      <td>631.0</td>\n",
       "      <td>121.0</td>\n",
       "      <td>201.0</td>\n",
       "      <td>...</td>\n",
       "      <td>1.0</td>\n",
       "      <td>0.0</td>\n",
       "      <td>5.0</td>\n",
       "      <td>21.0</td>\n",
       "      <td>Hank</td>\n",
       "      <td>Aaron</td>\n",
       "      <td>Henry Louis</td>\n",
       "      <td>180.0</td>\n",
       "      <td>72.0</td>\n",
       "      <td>34.0</td>\n",
       "    </tr>\n",
       "    <tr>\n",
       "      <th>3</th>\n",
       "      <td>43471</td>\n",
       "      <td>aaronha01</td>\n",
       "      <td>1964</td>\n",
       "      <td>ML1</td>\n",
       "      <td>NL</td>\n",
       "      <td>1.0</td>\n",
       "      <td>145.0</td>\n",
       "      <td>570.0</td>\n",
       "      <td>103.0</td>\n",
       "      <td>187.0</td>\n",
       "      <td>...</td>\n",
       "      <td>2.0</td>\n",
       "      <td>0.0</td>\n",
       "      <td>3.0</td>\n",
       "      <td>14.0</td>\n",
       "      <td>Hank</td>\n",
       "      <td>Aaron</td>\n",
       "      <td>Henry Louis</td>\n",
       "      <td>180.0</td>\n",
       "      <td>72.0</td>\n",
       "      <td>35.0</td>\n",
       "    </tr>\n",
       "    <tr>\n",
       "      <th>4</th>\n",
       "      <td>44225</td>\n",
       "      <td>aaronha01</td>\n",
       "      <td>1965</td>\n",
       "      <td>ML1</td>\n",
       "      <td>NL</td>\n",
       "      <td>1.0</td>\n",
       "      <td>150.0</td>\n",
       "      <td>570.0</td>\n",
       "      <td>109.0</td>\n",
       "      <td>181.0</td>\n",
       "      <td>...</td>\n",
       "      <td>2.0</td>\n",
       "      <td>0.0</td>\n",
       "      <td>6.0</td>\n",
       "      <td>13.0</td>\n",
       "      <td>Hank</td>\n",
       "      <td>Aaron</td>\n",
       "      <td>Henry Louis</td>\n",
       "      <td>180.0</td>\n",
       "      <td>72.0</td>\n",
       "      <td>36.0</td>\n",
       "    </tr>\n",
       "  </tbody>\n",
       "</table>\n",
       "<p>5 rows × 174 columns</p>\n",
       "</div>"
      ],
      "text/plain": [
       "   FirstYear_index FirstYear_playerID  FirstYear_yearID FirstYear_teamID  \\\n",
       "0            41261          aaronha01              1961              ML1   \n",
       "1            41959          aaronha01              1962              ML1   \n",
       "2            42719          aaronha01              1963              ML1   \n",
       "3            43471          aaronha01              1964              ML1   \n",
       "4            44225          aaronha01              1965              ML1   \n",
       "\n",
       "  FirstYear_lgID  FirstYear_stint  FirstYear_G  FirstYear_AB  FirstYear_R  \\\n",
       "0             NL              1.0        155.0         603.0        115.0   \n",
       "1             NL              1.0        156.0         592.0        127.0   \n",
       "2             NL              1.0        161.0         631.0        121.0   \n",
       "3             NL              1.0        145.0         570.0        103.0   \n",
       "4             NL              1.0        150.0         570.0        109.0   \n",
       "\n",
       "   FirstYear_H  ...  SixthYear_HBP  SixthYear_SH  SixthYear_SF  \\\n",
       "0        197.0  ...            1.0           0.0           8.0   \n",
       "1        191.0  ...            0.0           0.0           6.0   \n",
       "2        201.0  ...            1.0           0.0           5.0   \n",
       "3        187.0  ...            2.0           0.0           3.0   \n",
       "4        181.0  ...            2.0           0.0           6.0   \n",
       "\n",
       "   SixthYear_GIDP  SixthYear_nameFirst  SixthYear_nameLast  \\\n",
       "0            14.0                 Hank               Aaron   \n",
       "1            11.0                 Hank               Aaron   \n",
       "2            21.0                 Hank               Aaron   \n",
       "3            14.0                 Hank               Aaron   \n",
       "4            13.0                 Hank               Aaron   \n",
       "\n",
       "   SixthYear_nameGiven  SixthYear_weight  SixthYear_height  SixthYear_age  \n",
       "0          Henry Louis             180.0              72.0           32.0  \n",
       "1          Henry Louis             180.0              72.0           33.0  \n",
       "2          Henry Louis             180.0              72.0           34.0  \n",
       "3          Henry Louis             180.0              72.0           35.0  \n",
       "4          Henry Louis             180.0              72.0           36.0  \n",
       "\n",
       "[5 rows x 174 columns]"
      ]
     },
     "execution_count": 3,
     "metadata": {},
     "output_type": "execute_result"
    }
   ],
   "source": [
    "training_load.head(5)"
   ]
  },
  {
   "cell_type": "code",
   "execution_count": 4,
   "metadata": {},
   "outputs": [],
   "source": [
    "var_name = ['index', 'playerID', 'teamID', 'lgID', 'stint','nameFirst', 'nameLast', 'nameGiven']\n",
    "\n",
    "First = []\n",
    "for i in range(len(var_name)):\n",
    "    First.append(f\"FirstYear_{var_name[i]}\")\n",
    "\n",
    "Second = []\n",
    "for i in range(len(var_name)):\n",
    "    Second.append(f\"SecondYear_{var_name[i]}\")\n",
    "\n",
    "Third = []\n",
    "for i in range(len(var_name)):\n",
    "    Third.append(f\"ThirdYear_{var_name[i]}\")\n",
    "    \n",
    "Fourth = []\n",
    "for i in range(len(var_name)):\n",
    "    Fourth.append(f\"FourthYear_{var_name[i]}\")\n",
    "    \n",
    "Fifth = []\n",
    "for i in range(len(var_name)):\n",
    "    Fifth.append(f\"FifthYear_{var_name[i]}\")\n",
    "    \n",
    "FileColumnName = First + Second + Third + Fourth + Fifth"
   ]
  },
  {
   "cell_type": "code",
   "execution_count": 5,
   "metadata": {},
   "outputs": [],
   "source": [
    "x_train = training_load.iloc[:,0:-29].drop(FileColumnName, axis=1).values\n",
    "y_train = training_load['SixthYear_HR'].values\n",
    "x_test_2017 = testing_2017_load.iloc[:,0:-29].drop(FileColumnName, axis=1).values\n",
    "y_test_2017 = testing_2017_load['SixthYear_HR'].values\n",
    "x_test_2018 = testing_2018_load.iloc[:,0:-29].drop(FileColumnName, axis=1).values\n",
    "y_test_2018 = testing_2018_load['SixthYear_HR'].values\n",
    "x_test_2019 = testing_2019_load.iloc[:,0:-29].drop(FileColumnName, axis=1).values\n",
    "y_test_2019 = testing_2019_load['SixthYear_HR'].values"
   ]
  },
  {
   "cell_type": "code",
   "execution_count": 6,
   "metadata": {},
   "outputs": [],
   "source": [
    "y_train_class = np.select([np.floor(y_train/5) < 8, np.floor(y_train/5) > 7], [np.floor(y_train/5), 8])\n",
    "y_test_2017_class = np.select([np.floor(y_test_2017/5) < 8, np.floor(y_test_2017/5) > 7], [np.floor(y_test_2017/5), 8])\n",
    "y_test_2018_class = np.select([np.floor(y_test_2018/5) < 8, np.floor(y_test_2018/5) > 7], [np.floor(y_test_2018/5), 8])\n",
    "y_test_2019_class = np.select([np.floor(y_test_2019/5) < 8, np.floor(y_test_2019/5) > 7], [np.floor(y_test_2019/5), 8])"
   ]
  },
  {
   "cell_type": "code",
   "execution_count": 7,
   "metadata": {},
   "outputs": [],
   "source": [
    "y_train_cat = np_utils.to_categorical(y_train_class, 9)\n",
    "y_test_2017_cat = np_utils.to_categorical(y_test_2017_class, 9)\n",
    "y_test_2018_cat = np_utils.to_categorical(y_test_2018_class, 9)\n",
    "y_test_2019_cat = np_utils.to_categorical(y_test_2019_class, 9)"
   ]
  },
  {
   "cell_type": "code",
   "execution_count": 8,
   "metadata": {},
   "outputs": [],
   "source": [
    "x_train_2017 = np.concatenate((x_train, x_test_2017))\n",
    "y_train_2017 = np.concatenate((y_train, y_test_2017))\n",
    "y_train_2017_class = np.concatenate((y_train_class, y_test_2017_class))\n",
    "y_train_2017_cat = np.concatenate((y_train_cat, y_test_2017_cat))"
   ]
  },
  {
   "cell_type": "code",
   "execution_count": 9,
   "metadata": {},
   "outputs": [],
   "source": [
    "x_train_2018 = np.concatenate((x_train, x_test_2017, x_test_2018))\n",
    "y_train_2018 = np.concatenate((y_train, y_test_2017, y_test_2018))\n",
    "y_train_2018_class = np.concatenate((y_train_class, y_test_2017_class, y_test_2018_class))\n",
    "y_train_2018_cat = np.concatenate((y_train_cat, y_test_2017_cat, y_test_2018_cat))"
   ]
  },
  {
   "cell_type": "code",
   "execution_count": 107,
   "metadata": {},
   "outputs": [],
   "source": [
    "testing_2018 = testing_2018_load.drop(FileColumnName, axis=1).copy()\n",
    "testing_2019 = testing_2019_load.drop(FileColumnName, axis=1).copy()"
   ]
  },
  {
   "cell_type": "code",
   "execution_count": 10,
   "metadata": {},
   "outputs": [],
   "source": [
    "from sklearn.utils import class_weight\n",
    "class_weight = np.array(class_weight.compute_class_weight('balanced'\n",
    "                                               ,np.unique(y_train_class)\n",
    "                                               ,y_train_class))"
   ]
  },
  {
   "cell_type": "code",
   "execution_count": 11,
   "metadata": {},
   "outputs": [],
   "source": [
    "scaler = StandardScaler().fit(training_load.iloc[:,0:-29].drop(FileColumnName, axis=1).values)"
   ]
  },
  {
   "cell_type": "markdown",
   "metadata": {},
   "source": [
    "### Linear Regression"
   ]
  },
  {
   "cell_type": "code",
   "execution_count": 21,
   "metadata": {},
   "outputs": [
    {
     "data": {
      "text/plain": [
       "LinearRegression(copy_X=True, fit_intercept=True, n_jobs=1, normalize=False)"
      ]
     },
     "execution_count": 21,
     "metadata": {},
     "output_type": "execute_result"
    }
   ],
   "source": [
    "regr_2017 = LinearRegression()\n",
    "regr_2017.fit(x_train_2017,y_train_2017)"
   ]
  },
  {
   "cell_type": "code",
   "execution_count": 108,
   "metadata": {},
   "outputs": [
    {
     "name": "stdout",
     "output_type": "stream",
     "text": [
      "答對：0.0435\n",
      "正負1：0.1739\n",
      "正負3：0.4130\n",
      "正負5：0.6033\n",
      "正負10：0.9022\n"
     ]
    }
   ],
   "source": [
    "t = 0\n",
    "a = 0\n",
    "b = 0\n",
    "c = 0\n",
    "d = 0\n",
    "g = []\n",
    "l = []\n",
    "m = []\n",
    "m1 = []\n",
    "n = []\n",
    "n1 = []\n",
    "p = []\n",
    "p1 = []\n",
    "q = []\n",
    "q1 = []\n",
    "predictions = regr_2017.predict(x_test_2018)\n",
    "for i in range(len(y_test_2018)):\n",
    "    k = np.round(predictions)[i] - y_test_2018[i]\n",
    "    if abs(k) < 11:\n",
    "        d += 1\n",
    "        g.append(y_test_2018[i])\n",
    "        if abs(k) < 6:\n",
    "            c += 1\n",
    "            l.append(y_test_2018[i])\n",
    "            if abs(k) < 4:\n",
    "                b += 1\n",
    "                m.append(y_test_2018[i])\n",
    "                m1.append(i)\n",
    "                if abs(k) < 2:\n",
    "                    a += 1\n",
    "                    n.append(y_test_2018[i])\n",
    "                    n1.append(i)\n",
    "                    if abs(k) == 0:\n",
    "                        t += 1\n",
    "                        p.append(y_test_2018[i])\n",
    "                        p1.append(i)\n",
    "    else:\n",
    "        q.append(y_test_2018[i])\n",
    "        q1.append(i)\n",
    "print(\"答對：%.4f\" % (t/len(y_test_2018)))\n",
    "print(\"正負1：%.4f\" % (a/len(y_test_2018)))\n",
    "print(\"正負3：%.4f\" % (b/len(y_test_2018)))\n",
    "print(\"正負5：%.4f\" % (c/len(y_test_2018)))\n",
    "print(\"正負10：%.4f\" % (d/len(y_test_2018)))"
   ]
  },
  {
   "cell_type": "code",
   "execution_count": 109,
   "metadata": {},
   "outputs": [
    {
     "name": "stdout",
     "output_type": "stream",
     "text": [
      "mean_absolute_error: 5.205107357191003\n",
      "mean_squared_error: 43.38290756464203\n",
      "rmse: 6.586570242898958\n"
     ]
    }
   ],
   "source": [
    "print(\"mean_absolute_error:\",mean_absolute_error(predictions,y_test_2018))\n",
    "print(\"mean_squared_error:\",mean_squared_error(predictions,y_test_2018))\n",
    "print(\"rmse:\",sqrt(mean_squared_error(predictions,y_test_2018)))"
   ]
  },
  {
   "cell_type": "code",
   "execution_count": 110,
   "metadata": {},
   "outputs": [
    {
     "data": {
      "text/plain": [
       "Counter({0.0: 1, 5.0: 1, 10.0: 2, 16.0: 1, 20.0: 1, 22.0: 1, 23.0: 1})"
      ]
     },
     "execution_count": 110,
     "metadata": {},
     "output_type": "execute_result"
    }
   ],
   "source": [
    "Counter(sorted(p))"
   ]
  },
  {
   "cell_type": "code",
   "execution_count": 111,
   "metadata": {},
   "outputs": [
    {
     "data": {
      "text/plain": [
       "Counter({0.0: 2,\n",
       "         1.0: 1,\n",
       "         2.0: 2,\n",
       "         3.0: 1,\n",
       "         4.0: 2,\n",
       "         5.0: 2,\n",
       "         6.0: 1,\n",
       "         9.0: 3,\n",
       "         10.0: 3,\n",
       "         11.0: 2,\n",
       "         12.0: 1,\n",
       "         13.0: 1,\n",
       "         14.0: 1,\n",
       "         15.0: 1,\n",
       "         16.0: 1,\n",
       "         19.0: 1,\n",
       "         20.0: 1,\n",
       "         21.0: 2,\n",
       "         22.0: 1,\n",
       "         23.0: 2,\n",
       "         32.0: 1})"
      ]
     },
     "execution_count": 111,
     "metadata": {},
     "output_type": "execute_result"
    }
   ],
   "source": [
    "Counter(sorted(n))"
   ]
  },
  {
   "cell_type": "code",
   "execution_count": 112,
   "metadata": {},
   "outputs": [
    {
     "data": {
      "text/plain": [
       "Counter({0.0: 2,\n",
       "         1.0: 6,\n",
       "         2.0: 3,\n",
       "         3.0: 2,\n",
       "         4.0: 4,\n",
       "         5.0: 4,\n",
       "         6.0: 5,\n",
       "         7.0: 1,\n",
       "         8.0: 4,\n",
       "         9.0: 5,\n",
       "         10.0: 6,\n",
       "         11.0: 5,\n",
       "         12.0: 3,\n",
       "         13.0: 2,\n",
       "         14.0: 4,\n",
       "         15.0: 4,\n",
       "         16.0: 2,\n",
       "         18.0: 1,\n",
       "         19.0: 2,\n",
       "         20.0: 2,\n",
       "         21.0: 3,\n",
       "         22.0: 1,\n",
       "         23.0: 2,\n",
       "         24.0: 1,\n",
       "         32.0: 1,\n",
       "         38.0: 1})"
      ]
     },
     "execution_count": 112,
     "metadata": {},
     "output_type": "execute_result"
    }
   ],
   "source": [
    "Counter(sorted(m))"
   ]
  },
  {
   "cell_type": "code",
   "execution_count": 113,
   "metadata": {},
   "outputs": [
    {
     "data": {
      "text/plain": [
       "Counter({2.0: 1,\n",
       "         3.0: 1,\n",
       "         4.0: 1,\n",
       "         6.0: 1,\n",
       "         8.0: 1,\n",
       "         9.0: 2,\n",
       "         10.0: 1,\n",
       "         12.0: 1,\n",
       "         22.0: 1,\n",
       "         23.0: 2,\n",
       "         27.0: 1,\n",
       "         36.0: 2,\n",
       "         39.0: 1,\n",
       "         43.0: 1,\n",
       "         48.0: 1})"
      ]
     },
     "execution_count": 113,
     "metadata": {},
     "output_type": "execute_result"
    }
   ],
   "source": [
    "Counter(sorted(q))"
   ]
  },
  {
   "cell_type": "code",
   "execution_count": 114,
   "metadata": {},
   "outputs": [
    {
     "name": "stdout",
     "output_type": "stream",
     "text": [
      "0: [71, 77, 83, 108, 119, 129, 131, 159]\n",
      "1: [2, 11, 13, 16, 22, 34, 47, 50, 58, 62, 71, 73, 77, 83, 107, 108, 114, 115, 119, 123, 129, 131, 133, 144, 152, 154, 155, 158, 159, 162, 180, 182]\n",
      "3: [1, 2, 8, 10, 11, 13, 15, 16, 17, 22, 23, 28, 34, 39, 47, 48, 49, 50, 51, 54, 58, 59, 60, 62, 69, 70, 71, 73, 77, 78, 81, 83, 86, 90, 91, 92, 94, 97, 98, 99, 107, 108, 113, 114, 115, 116, 119, 120, 123, 124, 129, 131, 133, 136, 142, 144, 146, 152, 154, 155, 157, 158, 159, 160, 161, 162, 165, 166, 169, 171, 173, 176, 177, 178, 180, 182]\n",
      "NA: [9, 18, 21, 24, 25, 30, 38, 41, 44, 52, 87, 88, 104, 111, 145, 167, 175, 179]\n"
     ]
    }
   ],
   "source": [
    "print('0:',p1)\n",
    "print('1:',n1)\n",
    "print('3:',m1)\n",
    "print('NA:',q1)"
   ]
  },
  {
   "cell_type": "code",
   "execution_count": 116,
   "metadata": {},
   "outputs": [],
   "source": [
    "regr_2018_dataframe = testing_2018.copy()\n",
    "regr_2018_dataframe['Prediction'] = np.round(predictions)\n",
    "regr_2018_dataframe['Difference'] = regr_2018_dataframe.SixthYear_HR - regr_2018_dataframe.Prediction"
   ]
  },
  {
   "cell_type": "code",
   "execution_count": 185,
   "metadata": {},
   "outputs": [
    {
     "data": {
      "text/html": [
       "<div>\n",
       "<style scoped>\n",
       "    .dataframe tbody tr th:only-of-type {\n",
       "        vertical-align: middle;\n",
       "    }\n",
       "\n",
       "    .dataframe tbody tr th {\n",
       "        vertical-align: top;\n",
       "    }\n",
       "\n",
       "    .dataframe thead th {\n",
       "        text-align: right;\n",
       "    }\n",
       "</style>\n",
       "<table border=\"1\" class=\"dataframe\">\n",
       "  <thead>\n",
       "    <tr style=\"text-align: right;\">\n",
       "      <th></th>\n",
       "      <th>FirstYear_yearID</th>\n",
       "      <th>FirstYear_G</th>\n",
       "      <th>FirstYear_AB</th>\n",
       "      <th>FirstYear_R</th>\n",
       "      <th>FirstYear_H</th>\n",
       "      <th>FirstYear_2B</th>\n",
       "      <th>FirstYear_3B</th>\n",
       "      <th>FirstYear_HR</th>\n",
       "      <th>FirstYear_RBI</th>\n",
       "      <th>FirstYear_SB</th>\n",
       "      <th>...</th>\n",
       "      <th>SixthYear_SF</th>\n",
       "      <th>SixthYear_GIDP</th>\n",
       "      <th>SixthYear_nameFirst</th>\n",
       "      <th>SixthYear_nameLast</th>\n",
       "      <th>SixthYear_nameGiven</th>\n",
       "      <th>SixthYear_weight</th>\n",
       "      <th>SixthYear_height</th>\n",
       "      <th>SixthYear_age</th>\n",
       "      <th>Prediction</th>\n",
       "      <th>Difference</th>\n",
       "    </tr>\n",
       "  </thead>\n",
       "  <tbody>\n",
       "    <tr>\n",
       "      <th>38</th>\n",
       "      <td>2013</td>\n",
       "      <td>56.0</td>\n",
       "      <td>136.0</td>\n",
       "      <td>27.0</td>\n",
       "      <td>38.0</td>\n",
       "      <td>10.0</td>\n",
       "      <td>0.0</td>\n",
       "      <td>11.0</td>\n",
       "      <td>27.0</td>\n",
       "      <td>3.0</td>\n",
       "      <td>...</td>\n",
       "      <td>7.0</td>\n",
       "      <td>16.0</td>\n",
       "      <td>Khris</td>\n",
       "      <td>Davis</td>\n",
       "      <td>Khristopher Adrian</td>\n",
       "      <td>205.0</td>\n",
       "      <td>71.0</td>\n",
       "      <td>31.0</td>\n",
       "      <td>30.0</td>\n",
       "      <td>18.0</td>\n",
       "    </tr>\n",
       "    <tr>\n",
       "      <th>111</th>\n",
       "      <td>2013</td>\n",
       "      <td>86.0</td>\n",
       "      <td>296.0</td>\n",
       "      <td>24.0</td>\n",
       "      <td>74.0</td>\n",
       "      <td>17.0</td>\n",
       "      <td>0.0</td>\n",
       "      <td>7.0</td>\n",
       "      <td>36.0</td>\n",
       "      <td>2.0</td>\n",
       "      <td>...</td>\n",
       "      <td>7.0</td>\n",
       "      <td>19.0</td>\n",
       "      <td>J. D.</td>\n",
       "      <td>Martinez</td>\n",
       "      <td>Julio Daniel</td>\n",
       "      <td>230.0</td>\n",
       "      <td>75.0</td>\n",
       "      <td>31.0</td>\n",
       "      <td>29.0</td>\n",
       "      <td>14.0</td>\n",
       "    </tr>\n",
       "  </tbody>\n",
       "</table>\n",
       "<p>2 rows × 136 columns</p>\n",
       "</div>"
      ],
      "text/plain": [
       "     FirstYear_yearID  FirstYear_G  FirstYear_AB  FirstYear_R  FirstYear_H  \\\n",
       "38               2013         56.0         136.0         27.0         38.0   \n",
       "111              2013         86.0         296.0         24.0         74.0   \n",
       "\n",
       "     FirstYear_2B  FirstYear_3B  FirstYear_HR  FirstYear_RBI  FirstYear_SB  \\\n",
       "38           10.0           0.0          11.0           27.0           3.0   \n",
       "111          17.0           0.0           7.0           36.0           2.0   \n",
       "\n",
       "     ...  SixthYear_SF  SixthYear_GIDP  SixthYear_nameFirst  \\\n",
       "38   ...           7.0            16.0                Khris   \n",
       "111  ...           7.0            19.0                J. D.   \n",
       "\n",
       "     SixthYear_nameLast  SixthYear_nameGiven  SixthYear_weight  \\\n",
       "38                Davis   Khristopher Adrian             205.0   \n",
       "111            Martinez         Julio Daniel             230.0   \n",
       "\n",
       "     SixthYear_height  SixthYear_age  Prediction  Difference  \n",
       "38               71.0           31.0        30.0        18.0  \n",
       "111              75.0           31.0        29.0        14.0  \n",
       "\n",
       "[2 rows x 136 columns]"
      ]
     },
     "execution_count": 185,
     "metadata": {},
     "output_type": "execute_result"
    }
   ],
   "source": [
    "regr_2018_dataframe[regr_2018_dataframe.SixthYear_HR > 39]"
   ]
  },
  {
   "cell_type": "code",
   "execution_count": 29,
   "metadata": {},
   "outputs": [
    {
     "data": {
      "text/plain": [
       "LinearRegression(copy_X=True, fit_intercept=True, n_jobs=1, normalize=False)"
      ]
     },
     "execution_count": 29,
     "metadata": {},
     "output_type": "execute_result"
    }
   ],
   "source": [
    "regr_2018 = LinearRegression()\n",
    "regr_2018.fit(x_train_2018,y_train_2018)"
   ]
  },
  {
   "cell_type": "code",
   "execution_count": 167,
   "metadata": {},
   "outputs": [
    {
     "name": "stdout",
     "output_type": "stream",
     "text": [
      "答對：0.0314\n",
      "正負1：0.1466\n",
      "正負3：0.3874\n",
      "正負5：0.5131\n",
      "正負10：0.8010\n"
     ]
    }
   ],
   "source": [
    "t = 0\n",
    "a = 0\n",
    "b = 0\n",
    "c = 0\n",
    "d = 0\n",
    "g = []\n",
    "l = []\n",
    "m = []\n",
    "m1 = []\n",
    "n = []\n",
    "n1 = []\n",
    "p = []\n",
    "p1 = []\n",
    "q = []\n",
    "q1 = []\n",
    "predictions = regr_2018.predict(x_test_2019)\n",
    "for i in range(len(y_test_2019)):\n",
    "    k = np.round(predictions)[i] - y_test_2019[i]\n",
    "    if abs(k) < 11:\n",
    "        d += 1\n",
    "        g.append(y_test_2019[i])\n",
    "        if abs(k) < 6:\n",
    "            c += 1\n",
    "            l.append(y_test_2019[i])\n",
    "            if abs(k) < 4:\n",
    "                b += 1\n",
    "                m.append(y_test_2019[i])\n",
    "                m1.append(i)\n",
    "                if abs(k) < 2:\n",
    "                    a += 1\n",
    "                    n.append(y_test_2019[i])\n",
    "                    n1.append(i)\n",
    "                    if abs(k) == 0:\n",
    "                        t += 1\n",
    "                        p.append(y_test_2019[i])\n",
    "                        p1.append(i)\n",
    "    else:\n",
    "        q.append(y_test_2019[i])\n",
    "        q1.append(i)\n",
    "print(\"答對：%.4f\" % (t/len(y_test_2019)))\n",
    "print(\"正負1：%.4f\" % (a/len(y_test_2019)))\n",
    "print(\"正負3：%.4f\" % (b/len(y_test_2019)))\n",
    "print(\"正負5：%.4f\" % (c/len(y_test_2019)))\n",
    "print(\"正負10：%.4f\" % (d/len(y_test_2019)))"
   ]
  },
  {
   "cell_type": "code",
   "execution_count": 168,
   "metadata": {},
   "outputs": [
    {
     "name": "stdout",
     "output_type": "stream",
     "text": [
      "mean_absolute_error: 6.702678261002945\n",
      "mean_squared_error: 79.7636809415237\n",
      "rmse: 8.931051502568089\n"
     ]
    }
   ],
   "source": [
    "print(\"mean_absolute_error:\",mean_absolute_error(predictions,y_test_2019))\n",
    "print(\"mean_squared_error:\",mean_squared_error(predictions,y_test_2019))\n",
    "print(\"rmse:\",sqrt(mean_squared_error(predictions,y_test_2019)))"
   ]
  },
  {
   "cell_type": "code",
   "execution_count": 169,
   "metadata": {},
   "outputs": [
    {
     "data": {
      "text/plain": [
       "Counter({5.0: 3, 7.0: 1, 12.0: 1, 15.0: 1})"
      ]
     },
     "execution_count": 169,
     "metadata": {},
     "output_type": "execute_result"
    }
   ],
   "source": [
    "Counter(sorted(p))"
   ]
  },
  {
   "cell_type": "code",
   "execution_count": 170,
   "metadata": {},
   "outputs": [
    {
     "data": {
      "text/plain": [
       "Counter({1.0: 1,\n",
       "         2.0: 3,\n",
       "         3.0: 1,\n",
       "         5.0: 4,\n",
       "         6.0: 1,\n",
       "         7.0: 2,\n",
       "         9.0: 3,\n",
       "         10.0: 1,\n",
       "         11.0: 1,\n",
       "         12.0: 4,\n",
       "         13.0: 2,\n",
       "         14.0: 1,\n",
       "         15.0: 1,\n",
       "         16.0: 1,\n",
       "         17.0: 1,\n",
       "         32.0: 1})"
      ]
     },
     "execution_count": 170,
     "metadata": {},
     "output_type": "execute_result"
    }
   ],
   "source": [
    "Counter(sorted(n))"
   ]
  },
  {
   "cell_type": "code",
   "execution_count": 171,
   "metadata": {},
   "outputs": [
    {
     "data": {
      "text/plain": [
       "Counter({0.0: 2,\n",
       "         1.0: 4,\n",
       "         2.0: 4,\n",
       "         3.0: 4,\n",
       "         4.0: 1,\n",
       "         5.0: 5,\n",
       "         6.0: 3,\n",
       "         7.0: 5,\n",
       "         8.0: 3,\n",
       "         9.0: 7,\n",
       "         10.0: 2,\n",
       "         11.0: 5,\n",
       "         12.0: 9,\n",
       "         13.0: 3,\n",
       "         14.0: 2,\n",
       "         15.0: 2,\n",
       "         16.0: 1,\n",
       "         17.0: 2,\n",
       "         18.0: 2,\n",
       "         20.0: 1,\n",
       "         21.0: 1,\n",
       "         22.0: 1,\n",
       "         23.0: 2,\n",
       "         27.0: 1,\n",
       "         29.0: 1,\n",
       "         32.0: 1})"
      ]
     },
     "execution_count": 171,
     "metadata": {},
     "output_type": "execute_result"
    }
   ],
   "source": [
    "Counter(sorted(m))"
   ]
  },
  {
   "cell_type": "code",
   "execution_count": 172,
   "metadata": {},
   "outputs": [
    {
     "data": {
      "text/plain": [
       "Counter({1.0: 2,\n",
       "         2.0: 3,\n",
       "         3.0: 2,\n",
       "         6.0: 1,\n",
       "         12.0: 1,\n",
       "         16.0: 1,\n",
       "         17.0: 1,\n",
       "         18.0: 1,\n",
       "         21.0: 1,\n",
       "         23.0: 2,\n",
       "         24.0: 2,\n",
       "         26.0: 1,\n",
       "         27.0: 1,\n",
       "         28.0: 1,\n",
       "         31.0: 2,\n",
       "         33.0: 4,\n",
       "         34.0: 2,\n",
       "         35.0: 2,\n",
       "         37.0: 1,\n",
       "         38.0: 1,\n",
       "         39.0: 1,\n",
       "         41.0: 1,\n",
       "         44.0: 1,\n",
       "         45.0: 1,\n",
       "         48.0: 1,\n",
       "         49.0: 1})"
      ]
     },
     "execution_count": 172,
     "metadata": {},
     "output_type": "execute_result"
    }
   ],
   "source": [
    "Counter(sorted(q))"
   ]
  },
  {
   "cell_type": "code",
   "execution_count": 173,
   "metadata": {},
   "outputs": [
    {
     "name": "stdout",
     "output_type": "stream",
     "text": [
      "0: [2, 72, 75, 98, 136, 160]\n",
      "1: [2, 21, 22, 25, 36, 42, 59, 67, 72, 75, 80, 91, 97, 98, 108, 111, 113, 114, 117, 119, 123, 130, 136, 148, 153, 160, 165, 177]\n",
      "3: [2, 4, 7, 9, 11, 13, 20, 21, 22, 23, 25, 27, 29, 36, 42, 48, 55, 56, 57, 59, 60, 67, 69, 72, 74, 75, 78, 80, 88, 91, 94, 95, 96, 97, 98, 102, 103, 108, 110, 111, 113, 114, 117, 118, 119, 121, 123, 124, 125, 130, 131, 134, 136, 137, 140, 142, 146, 147, 148, 153, 154, 157, 158, 159, 160, 163, 164, 165, 167, 168, 175, 177, 184, 185]\n",
      "NA: [0, 6, 15, 24, 34, 38, 41, 47, 54, 61, 63, 65, 66, 71, 79, 89, 99, 100, 106, 107, 126, 128, 129, 139, 141, 145, 155, 162, 166, 169, 170, 172, 173, 174, 179, 180, 181, 187]\n"
     ]
    }
   ],
   "source": [
    "print('0:',p1)\n",
    "print('1:',n1)\n",
    "print('3:',m1)\n",
    "print('NA:',q1)"
   ]
  },
  {
   "cell_type": "code",
   "execution_count": 174,
   "metadata": {},
   "outputs": [],
   "source": [
    "regr_2019_dataframe = testing_2019.copy()\n",
    "regr_2019_dataframe['Prediction'] = np.round(predictions)\n",
    "regr_2019_dataframe['Difference'] = regr_2019_dataframe.SixthYear_HR - regr_2019_dataframe.Prediction"
   ]
  },
  {
   "cell_type": "code",
   "execution_count": 186,
   "metadata": {},
   "outputs": [
    {
     "data": {
      "text/html": [
       "<div>\n",
       "<style scoped>\n",
       "    .dataframe tbody tr th:only-of-type {\n",
       "        vertical-align: middle;\n",
       "    }\n",
       "\n",
       "    .dataframe tbody tr th {\n",
       "        vertical-align: top;\n",
       "    }\n",
       "\n",
       "    .dataframe thead th {\n",
       "        text-align: right;\n",
       "    }\n",
       "</style>\n",
       "<table border=\"1\" class=\"dataframe\">\n",
       "  <thead>\n",
       "    <tr style=\"text-align: right;\">\n",
       "      <th></th>\n",
       "      <th>FirstYear_yearID</th>\n",
       "      <th>FirstYear_G</th>\n",
       "      <th>FirstYear_AB</th>\n",
       "      <th>FirstYear_R</th>\n",
       "      <th>FirstYear_H</th>\n",
       "      <th>FirstYear_2B</th>\n",
       "      <th>FirstYear_3B</th>\n",
       "      <th>FirstYear_HR</th>\n",
       "      <th>FirstYear_RBI</th>\n",
       "      <th>FirstYear_SB</th>\n",
       "      <th>...</th>\n",
       "      <th>SixthYear_SF</th>\n",
       "      <th>SixthYear_GIDP</th>\n",
       "      <th>SixthYear_nameFirst</th>\n",
       "      <th>SixthYear_nameLast</th>\n",
       "      <th>SixthYear_nameGiven</th>\n",
       "      <th>SixthYear_weight</th>\n",
       "      <th>SixthYear_height</th>\n",
       "      <th>SixthYear_age</th>\n",
       "      <th>Prediction</th>\n",
       "      <th>Difference</th>\n",
       "    </tr>\n",
       "  </thead>\n",
       "  <tbody>\n",
       "    <tr>\n",
       "      <th>8</th>\n",
       "      <td>2014</td>\n",
       "      <td>111.0</td>\n",
       "      <td>432.0</td>\n",
       "      <td>58.0</td>\n",
       "      <td>124.0</td>\n",
       "      <td>34.0</td>\n",
       "      <td>2.0</td>\n",
       "      <td>18.0</td>\n",
       "      <td>61.0</td>\n",
       "      <td>2.0</td>\n",
       "      <td>...</td>\n",
       "      <td>8.0</td>\n",
       "      <td>14.0</td>\n",
       "      <td>Nolan</td>\n",
       "      <td>Arenado</td>\n",
       "      <td>Nolan James</td>\n",
       "      <td>215.0</td>\n",
       "      <td>74.0</td>\n",
       "      <td>28.0</td>\n",
       "      <td>33.0</td>\n",
       "      <td>8.0</td>\n",
       "    </tr>\n",
       "    <tr>\n",
       "      <th>38</th>\n",
       "      <td>2014</td>\n",
       "      <td>159.0</td>\n",
       "      <td>613.0</td>\n",
       "      <td>87.0</td>\n",
       "      <td>166.0</td>\n",
       "      <td>32.0</td>\n",
       "      <td>2.0</td>\n",
       "      <td>40.0</td>\n",
       "      <td>108.0</td>\n",
       "      <td>4.0</td>\n",
       "      <td>...</td>\n",
       "      <td>3.0</td>\n",
       "      <td>14.0</td>\n",
       "      <td>Nelson</td>\n",
       "      <td>Cruz</td>\n",
       "      <td>Nelson Ramon</td>\n",
       "      <td>230.0</td>\n",
       "      <td>74.0</td>\n",
       "      <td>39.0</td>\n",
       "      <td>28.0</td>\n",
       "      <td>13.0</td>\n",
       "    </tr>\n",
       "    <tr>\n",
       "      <th>170</th>\n",
       "      <td>2014</td>\n",
       "      <td>24.0</td>\n",
       "      <td>89.0</td>\n",
       "      <td>11.0</td>\n",
       "      <td>26.0</td>\n",
       "      <td>8.0</td>\n",
       "      <td>1.0</td>\n",
       "      <td>5.0</td>\n",
       "      <td>20.0</td>\n",
       "      <td>1.0</td>\n",
       "      <td>...</td>\n",
       "      <td>4.0</td>\n",
       "      <td>16.0</td>\n",
       "      <td>Jorge</td>\n",
       "      <td>Soler</td>\n",
       "      <td>Jorge Carlos</td>\n",
       "      <td>235.0</td>\n",
       "      <td>76.0</td>\n",
       "      <td>27.0</td>\n",
       "      <td>10.0</td>\n",
       "      <td>38.0</td>\n",
       "    </tr>\n",
       "    <tr>\n",
       "      <th>174</th>\n",
       "      <td>2014</td>\n",
       "      <td>85.0</td>\n",
       "      <td>244.0</td>\n",
       "      <td>33.0</td>\n",
       "      <td>59.0</td>\n",
       "      <td>9.0</td>\n",
       "      <td>1.0</td>\n",
       "      <td>4.0</td>\n",
       "      <td>23.0</td>\n",
       "      <td>3.0</td>\n",
       "      <td>...</td>\n",
       "      <td>6.0</td>\n",
       "      <td>12.0</td>\n",
       "      <td>Eugenio</td>\n",
       "      <td>Suarez</td>\n",
       "      <td>Eugenio Alejandro</td>\n",
       "      <td>213.0</td>\n",
       "      <td>71.0</td>\n",
       "      <td>28.0</td>\n",
       "      <td>24.0</td>\n",
       "      <td>25.0</td>\n",
       "    </tr>\n",
       "    <tr>\n",
       "      <th>179</th>\n",
       "      <td>2014</td>\n",
       "      <td>157.0</td>\n",
       "      <td>602.0</td>\n",
       "      <td>115.0</td>\n",
       "      <td>173.0</td>\n",
       "      <td>39.0</td>\n",
       "      <td>9.0</td>\n",
       "      <td>36.0</td>\n",
       "      <td>111.0</td>\n",
       "      <td>16.0</td>\n",
       "      <td>...</td>\n",
       "      <td>4.0</td>\n",
       "      <td>5.0</td>\n",
       "      <td>Mike</td>\n",
       "      <td>Trout</td>\n",
       "      <td>Michael Nelson</td>\n",
       "      <td>235.0</td>\n",
       "      <td>74.0</td>\n",
       "      <td>28.0</td>\n",
       "      <td>33.0</td>\n",
       "      <td>12.0</td>\n",
       "    </tr>\n",
       "    <tr>\n",
       "      <th>187</th>\n",
       "      <td>2014</td>\n",
       "      <td>144.0</td>\n",
       "      <td>582.0</td>\n",
       "      <td>94.0</td>\n",
       "      <td>165.0</td>\n",
       "      <td>30.0</td>\n",
       "      <td>6.0</td>\n",
       "      <td>9.0</td>\n",
       "      <td>54.0</td>\n",
       "      <td>21.0</td>\n",
       "      <td>...</td>\n",
       "      <td>3.0</td>\n",
       "      <td>8.0</td>\n",
       "      <td>Christian</td>\n",
       "      <td>Yelich</td>\n",
       "      <td>Christian Stephen</td>\n",
       "      <td>195.0</td>\n",
       "      <td>75.0</td>\n",
       "      <td>28.0</td>\n",
       "      <td>24.0</td>\n",
       "      <td>20.0</td>\n",
       "    </tr>\n",
       "  </tbody>\n",
       "</table>\n",
       "<p>6 rows × 136 columns</p>\n",
       "</div>"
      ],
      "text/plain": [
       "     FirstYear_yearID  FirstYear_G  FirstYear_AB  FirstYear_R  FirstYear_H  \\\n",
       "8                2014        111.0         432.0         58.0        124.0   \n",
       "38               2014        159.0         613.0         87.0        166.0   \n",
       "170              2014         24.0          89.0         11.0         26.0   \n",
       "174              2014         85.0         244.0         33.0         59.0   \n",
       "179              2014        157.0         602.0        115.0        173.0   \n",
       "187              2014        144.0         582.0         94.0        165.0   \n",
       "\n",
       "     FirstYear_2B  FirstYear_3B  FirstYear_HR  FirstYear_RBI  FirstYear_SB  \\\n",
       "8            34.0           2.0          18.0           61.0           2.0   \n",
       "38           32.0           2.0          40.0          108.0           4.0   \n",
       "170           8.0           1.0           5.0           20.0           1.0   \n",
       "174           9.0           1.0           4.0           23.0           3.0   \n",
       "179          39.0           9.0          36.0          111.0          16.0   \n",
       "187          30.0           6.0           9.0           54.0          21.0   \n",
       "\n",
       "     ...  SixthYear_SF  SixthYear_GIDP  SixthYear_nameFirst  \\\n",
       "8    ...           8.0            14.0                Nolan   \n",
       "38   ...           3.0            14.0               Nelson   \n",
       "170  ...           4.0            16.0                Jorge   \n",
       "174  ...           6.0            12.0              Eugenio   \n",
       "179  ...           4.0             5.0                 Mike   \n",
       "187  ...           3.0             8.0            Christian   \n",
       "\n",
       "     SixthYear_nameLast  SixthYear_nameGiven  SixthYear_weight  \\\n",
       "8               Arenado          Nolan James             215.0   \n",
       "38                 Cruz         Nelson Ramon             230.0   \n",
       "170               Soler         Jorge Carlos             235.0   \n",
       "174              Suarez    Eugenio Alejandro             213.0   \n",
       "179               Trout       Michael Nelson             235.0   \n",
       "187              Yelich    Christian Stephen             195.0   \n",
       "\n",
       "     SixthYear_height  SixthYear_age  Prediction  Difference  \n",
       "8                74.0           28.0        33.0         8.0  \n",
       "38               74.0           39.0        28.0        13.0  \n",
       "170              76.0           27.0        10.0        38.0  \n",
       "174              71.0           28.0        24.0        25.0  \n",
       "179              74.0           28.0        33.0        12.0  \n",
       "187              75.0           28.0        24.0        20.0  \n",
       "\n",
       "[6 rows x 136 columns]"
      ]
     },
     "execution_count": 186,
     "metadata": {},
     "output_type": "execute_result"
    }
   ],
   "source": [
    "regr_2019_dataframe[regr_2019_dataframe.SixthYear_HR > 39]"
   ]
  },
  {
   "cell_type": "markdown",
   "metadata": {},
   "source": [
    "### SVM"
   ]
  },
  {
   "cell_type": "code",
   "execution_count": 45,
   "metadata": {},
   "outputs": [
    {
     "data": {
      "text/plain": [
       "SVC(C=1.0, cache_size=200,\n",
       "  class_weight={0.0: 0.18552147239263803, 1.0: 0.17104072398190046, 2.0: 0.20712328767123286, 3.0: 0.2507462686567164, 4.0: 0.301195219123506, 5.0: 0.301195219123506, 6.0: 0.32238805970149254, 7.0: 0.4053619302949062, 8.0: 0.4108695652173913, 9.0: 0.45, 10.0: 0.504, 11.0: 0.5361702127659574, 12.0: 0.5...0: 151.2, 59.0: 151.2, 63.0: 151.2, 64.0: 151.2, 65.0: 151.2, 66.0: 151.2, 70.0: 151.2, 73.0: 151.2},\n",
       "  coef0=0.0, decision_function_shape='ovr', degree=3, gamma='auto',\n",
       "  kernel='rbf', max_iter=-1, probability=False, random_state=None,\n",
       "  shrinking=True, tol=0.001, verbose=False)"
      ]
     },
     "execution_count": 45,
     "metadata": {},
     "output_type": "execute_result"
    }
   ],
   "source": [
    "from sklearn.utils import class_weight\n",
    "class_weight = np.array(class_weight.compute_class_weight('balanced'\n",
    "                                               ,np.unique(y_train_2017)\n",
    "                                               ,y_train_2017))\n",
    "\n",
    "clf_2017 = SVC(class_weight=dict(zip(list(np.unique(y_train_2017)), list(class_weight))))\n",
    "clf_2017.fit(scaler.transform(x_train_2017), y_train_2017)"
   ]
  },
  {
   "cell_type": "code",
   "execution_count": 118,
   "metadata": {},
   "outputs": [
    {
     "name": "stdout",
     "output_type": "stream",
     "text": [
      "答對：0.0870\n",
      "正負1：0.1467\n",
      "正負3：0.3641\n",
      "正負5：0.5217\n",
      "正負10：0.7880\n"
     ]
    }
   ],
   "source": [
    "t = 0\n",
    "a = 0\n",
    "b = 0\n",
    "c = 0\n",
    "d = 0\n",
    "g = []\n",
    "l = []\n",
    "m = []\n",
    "m1 = []\n",
    "n = []\n",
    "n1 = []\n",
    "p = []\n",
    "p1 = []\n",
    "q = []\n",
    "q1 = []\n",
    "predictions = clf_2017.predict(scaler.transform(x_test_2018))\n",
    "for i in range(len(y_test_2018)):\n",
    "    k = np.round(predictions)[i] - y_test_2018[i]\n",
    "    if abs(k) < 11:\n",
    "        d += 1\n",
    "        g.append(y_test_2018[i])\n",
    "        if abs(k) < 6:\n",
    "            c += 1\n",
    "            l.append(y_test_2018[i])\n",
    "            if abs(k) < 4:\n",
    "                b += 1\n",
    "                m.append(y_test_2018[i])\n",
    "                m1.append(i)\n",
    "                if abs(k) < 2:\n",
    "                    a += 1\n",
    "                    n.append(y_test_2018[i])\n",
    "                    n1.append(i)\n",
    "                    if abs(k) == 0:\n",
    "                        t += 1\n",
    "                        p.append(y_test_2018[i])\n",
    "                        p1.append(i)\n",
    "    else:\n",
    "        q.append(y_test_2018[i])\n",
    "        q1.append(i)\n",
    "print(\"答對：%.4f\" % (t/len(y_test_2018)))\n",
    "print(\"正負1：%.4f\" % (a/len(y_test_2018)))\n",
    "print(\"正負3：%.4f\" % (b/len(y_test_2018)))\n",
    "print(\"正負5：%.4f\" % (c/len(y_test_2018)))\n",
    "print(\"正負10：%.4f\" % (d/len(y_test_2018)))"
   ]
  },
  {
   "cell_type": "code",
   "execution_count": 119,
   "metadata": {},
   "outputs": [
    {
     "name": "stdout",
     "output_type": "stream",
     "text": [
      "mean_absolute_error: 6.706521739130435\n",
      "mean_squared_error: 78.3913043478261\n",
      "rmse: 8.853886397951246\n"
     ]
    }
   ],
   "source": [
    "print(\"mean_absolute_error:\",mean_absolute_error(predictions,y_test_2018))\n",
    "print(\"mean_squared_error:\",mean_squared_error(predictions,y_test_2018))\n",
    "print(\"rmse:\",sqrt(mean_squared_error(predictions,y_test_2018)))"
   ]
  },
  {
   "cell_type": "code",
   "execution_count": 120,
   "metadata": {},
   "outputs": [
    {
     "data": {
      "text/plain": [
       "Counter({0.0: 1,\n",
       "         1.0: 1,\n",
       "         2.0: 2,\n",
       "         7.0: 1,\n",
       "         8.0: 1,\n",
       "         13.0: 1,\n",
       "         14.0: 4,\n",
       "         22.0: 1,\n",
       "         27.0: 1,\n",
       "         34.0: 1,\n",
       "         38.0: 2})"
      ]
     },
     "execution_count": 120,
     "metadata": {},
     "output_type": "execute_result"
    }
   ],
   "source": [
    "Counter(sorted(p))"
   ]
  },
  {
   "cell_type": "code",
   "execution_count": 121,
   "metadata": {},
   "outputs": [
    {
     "data": {
      "text/plain": [
       "Counter({0.0: 1,\n",
       "         1.0: 3,\n",
       "         2.0: 4,\n",
       "         3.0: 2,\n",
       "         5.0: 1,\n",
       "         7.0: 1,\n",
       "         8.0: 1,\n",
       "         10.0: 1,\n",
       "         13.0: 2,\n",
       "         14.0: 4,\n",
       "         15.0: 1,\n",
       "         22.0: 1,\n",
       "         27.0: 1,\n",
       "         33.0: 1,\n",
       "         34.0: 1,\n",
       "         38.0: 2})"
      ]
     },
     "execution_count": 121,
     "metadata": {},
     "output_type": "execute_result"
    }
   ],
   "source": [
    "Counter(sorted(n))"
   ]
  },
  {
   "cell_type": "code",
   "execution_count": 122,
   "metadata": {},
   "outputs": [
    {
     "data": {
      "text/plain": [
       "Counter({0.0: 2,\n",
       "         1.0: 5,\n",
       "         2.0: 4,\n",
       "         3.0: 2,\n",
       "         4.0: 5,\n",
       "         5.0: 5,\n",
       "         6.0: 1,\n",
       "         7.0: 1,\n",
       "         8.0: 2,\n",
       "         9.0: 3,\n",
       "         10.0: 4,\n",
       "         11.0: 5,\n",
       "         12.0: 1,\n",
       "         13.0: 3,\n",
       "         14.0: 5,\n",
       "         15.0: 2,\n",
       "         16.0: 3,\n",
       "         20.0: 1,\n",
       "         21.0: 3,\n",
       "         22.0: 1,\n",
       "         27.0: 2,\n",
       "         28.0: 1,\n",
       "         33.0: 1,\n",
       "         34.0: 1,\n",
       "         37.0: 1,\n",
       "         38.0: 2,\n",
       "         43.0: 1})"
      ]
     },
     "execution_count": 122,
     "metadata": {},
     "output_type": "execute_result"
    }
   ],
   "source": [
    "Counter(sorted(m))"
   ]
  },
  {
   "cell_type": "code",
   "execution_count": 123,
   "metadata": {},
   "outputs": [
    {
     "data": {
      "text/plain": [
       "Counter({0.0: 1,\n",
       "         1.0: 3,\n",
       "         2.0: 2,\n",
       "         3.0: 1,\n",
       "         4.0: 1,\n",
       "         5.0: 1,\n",
       "         6.0: 2,\n",
       "         7.0: 2,\n",
       "         8.0: 3,\n",
       "         9.0: 3,\n",
       "         10.0: 1,\n",
       "         11.0: 2,\n",
       "         12.0: 3,\n",
       "         13.0: 5,\n",
       "         15.0: 2,\n",
       "         18.0: 1,\n",
       "         21.0: 1,\n",
       "         23.0: 2,\n",
       "         27.0: 1,\n",
       "         36.0: 1,\n",
       "         37.0: 1})"
      ]
     },
     "execution_count": 123,
     "metadata": {},
     "output_type": "execute_result"
    }
   ],
   "source": [
    "Counter(sorted(q))"
   ]
  },
  {
   "cell_type": "code",
   "execution_count": 124,
   "metadata": {},
   "outputs": [
    {
     "name": "stdout",
     "output_type": "stream",
     "text": [
      "0: [7, 8, 13, 15, 34, 41, 60, 77, 80, 81, 109, 135, 136, 165, 169, 174]\n",
      "1: [2, 7, 8, 13, 15, 16, 22, 34, 41, 47, 49, 60, 66, 77, 78, 80, 81, 85, 94, 102, 109, 115, 135, 136, 165, 169, 174]\n",
      "3: [0, 2, 4, 7, 8, 13, 15, 16, 17, 22, 32, 33, 34, 35, 41, 43, 47, 48, 49, 51, 59, 60, 62, 66, 67, 71, 76, 77, 78, 79, 80, 81, 83, 85, 94, 98, 99, 102, 107, 109, 111, 112, 113, 115, 117, 123, 126, 129, 130, 132, 135, 136, 138, 152, 154, 155, 156, 160, 162, 164, 165, 169, 171, 172, 173, 174, 177]\n",
      "NA: [9, 18, 21, 24, 27, 28, 30, 40, 42, 44, 45, 52, 55, 56, 57, 68, 69, 74, 82, 86, 87, 88, 104, 106, 118, 121, 124, 125, 127, 128, 137, 139, 141, 145, 151, 175, 176, 179, 181]\n"
     ]
    }
   ],
   "source": [
    "print('0:',p1)\n",
    "print('1:',n1)\n",
    "print('3:',m1)\n",
    "print('NA:',q1)"
   ]
  },
  {
   "cell_type": "code",
   "execution_count": 125,
   "metadata": {},
   "outputs": [],
   "source": [
    "SVM_2018_dataframe = testing_2018.copy()\n",
    "SVM_2018_dataframe['Prediction'] = np.round(predictions)\n",
    "SVM_2018_dataframe['Difference'] = SVM_2018_dataframe.SixthYear_HR - SVM_2018_dataframe.Prediction"
   ]
  },
  {
   "cell_type": "code",
   "execution_count": 187,
   "metadata": {},
   "outputs": [
    {
     "data": {
      "text/html": [
       "<div>\n",
       "<style scoped>\n",
       "    .dataframe tbody tr th:only-of-type {\n",
       "        vertical-align: middle;\n",
       "    }\n",
       "\n",
       "    .dataframe tbody tr th {\n",
       "        vertical-align: top;\n",
       "    }\n",
       "\n",
       "    .dataframe thead th {\n",
       "        text-align: right;\n",
       "    }\n",
       "</style>\n",
       "<table border=\"1\" class=\"dataframe\">\n",
       "  <thead>\n",
       "    <tr style=\"text-align: right;\">\n",
       "      <th></th>\n",
       "      <th>FirstYear_yearID</th>\n",
       "      <th>FirstYear_G</th>\n",
       "      <th>FirstYear_AB</th>\n",
       "      <th>FirstYear_R</th>\n",
       "      <th>FirstYear_H</th>\n",
       "      <th>FirstYear_2B</th>\n",
       "      <th>FirstYear_3B</th>\n",
       "      <th>FirstYear_HR</th>\n",
       "      <th>FirstYear_RBI</th>\n",
       "      <th>FirstYear_SB</th>\n",
       "      <th>...</th>\n",
       "      <th>SixthYear_SF</th>\n",
       "      <th>SixthYear_GIDP</th>\n",
       "      <th>SixthYear_nameFirst</th>\n",
       "      <th>SixthYear_nameLast</th>\n",
       "      <th>SixthYear_nameGiven</th>\n",
       "      <th>SixthYear_weight</th>\n",
       "      <th>SixthYear_height</th>\n",
       "      <th>SixthYear_age</th>\n",
       "      <th>Prediction</th>\n",
       "      <th>Difference</th>\n",
       "    </tr>\n",
       "  </thead>\n",
       "  <tbody>\n",
       "    <tr>\n",
       "      <th>38</th>\n",
       "      <td>2013</td>\n",
       "      <td>56.0</td>\n",
       "      <td>136.0</td>\n",
       "      <td>27.0</td>\n",
       "      <td>38.0</td>\n",
       "      <td>10.0</td>\n",
       "      <td>0.0</td>\n",
       "      <td>11.0</td>\n",
       "      <td>27.0</td>\n",
       "      <td>3.0</td>\n",
       "      <td>...</td>\n",
       "      <td>7.0</td>\n",
       "      <td>16.0</td>\n",
       "      <td>Khris</td>\n",
       "      <td>Davis</td>\n",
       "      <td>Khristopher Adrian</td>\n",
       "      <td>205.0</td>\n",
       "      <td>71.0</td>\n",
       "      <td>31.0</td>\n",
       "      <td>43.0</td>\n",
       "      <td>5.0</td>\n",
       "    </tr>\n",
       "    <tr>\n",
       "      <th>111</th>\n",
       "      <td>2013</td>\n",
       "      <td>86.0</td>\n",
       "      <td>296.0</td>\n",
       "      <td>24.0</td>\n",
       "      <td>74.0</td>\n",
       "      <td>17.0</td>\n",
       "      <td>0.0</td>\n",
       "      <td>7.0</td>\n",
       "      <td>36.0</td>\n",
       "      <td>2.0</td>\n",
       "      <td>...</td>\n",
       "      <td>7.0</td>\n",
       "      <td>19.0</td>\n",
       "      <td>J. D.</td>\n",
       "      <td>Martinez</td>\n",
       "      <td>Julio Daniel</td>\n",
       "      <td>230.0</td>\n",
       "      <td>75.0</td>\n",
       "      <td>31.0</td>\n",
       "      <td>40.0</td>\n",
       "      <td>3.0</td>\n",
       "    </tr>\n",
       "  </tbody>\n",
       "</table>\n",
       "<p>2 rows × 136 columns</p>\n",
       "</div>"
      ],
      "text/plain": [
       "     FirstYear_yearID  FirstYear_G  FirstYear_AB  FirstYear_R  FirstYear_H  \\\n",
       "38               2013         56.0         136.0         27.0         38.0   \n",
       "111              2013         86.0         296.0         24.0         74.0   \n",
       "\n",
       "     FirstYear_2B  FirstYear_3B  FirstYear_HR  FirstYear_RBI  FirstYear_SB  \\\n",
       "38           10.0           0.0          11.0           27.0           3.0   \n",
       "111          17.0           0.0           7.0           36.0           2.0   \n",
       "\n",
       "     ...  SixthYear_SF  SixthYear_GIDP  SixthYear_nameFirst  \\\n",
       "38   ...           7.0            16.0                Khris   \n",
       "111  ...           7.0            19.0                J. D.   \n",
       "\n",
       "     SixthYear_nameLast  SixthYear_nameGiven  SixthYear_weight  \\\n",
       "38                Davis   Khristopher Adrian             205.0   \n",
       "111            Martinez         Julio Daniel             230.0   \n",
       "\n",
       "     SixthYear_height  SixthYear_age  Prediction  Difference  \n",
       "38               71.0           31.0        43.0         5.0  \n",
       "111              75.0           31.0        40.0         3.0  \n",
       "\n",
       "[2 rows x 136 columns]"
      ]
     },
     "execution_count": 187,
     "metadata": {},
     "output_type": "execute_result"
    }
   ],
   "source": [
    "SVM_2018_dataframe[SVM_2018_dataframe.SixthYear_HR > 39]"
   ]
  },
  {
   "cell_type": "code",
   "execution_count": 53,
   "metadata": {},
   "outputs": [
    {
     "data": {
      "text/plain": [
       "SVC(C=1.0, cache_size=200,\n",
       "  class_weight={0.0: 0.1878424015009381, 1.0: 0.1717176914501329, 2.0: 0.2092809364548495, 3.0: 0.25375744519072363, 4.0: 0.30084134615384617, 5.0: 0.3032101756511205, 6.0: 0.32156736791392326, 7.0: 0.4074888074888075, 8.0: 0.4107487179487179, 9.0: 0.4464659977703456, 10.0: 0.5017288900025056, 11.0: 0...0: 154.03076923076924, 66.0: 154.03076923076924, 70.0: 154.03076923076924, 73.0: 154.03076923076924},\n",
       "  coef0=0.0, decision_function_shape='ovr', degree=3, gamma='auto',\n",
       "  kernel='rbf', max_iter=-1, probability=False, random_state=None,\n",
       "  shrinking=True, tol=0.001, verbose=False)"
      ]
     },
     "execution_count": 53,
     "metadata": {},
     "output_type": "execute_result"
    }
   ],
   "source": [
    "from sklearn.utils import class_weight\n",
    "class_weight = np.array(class_weight.compute_class_weight('balanced'\n",
    "                                               ,np.unique(y_train_2018)\n",
    "                                               ,y_train_2018))\n",
    "\n",
    "clf_2018 = SVC(class_weight=dict(zip(list(np.unique(y_train_2018)), list(class_weight))))\n",
    "clf_2018.fit(scaler.transform(x_train_2018), y_train_2018)"
   ]
  },
  {
   "cell_type": "code",
   "execution_count": 159,
   "metadata": {},
   "outputs": [
    {
     "name": "stdout",
     "output_type": "stream",
     "text": [
      "答對：0.0785\n",
      "正負1：0.1937\n",
      "正負3：0.3246\n",
      "正負5：0.4974\n",
      "正負10：0.7330\n"
     ]
    }
   ],
   "source": [
    "t = 0\n",
    "a = 0\n",
    "b = 0\n",
    "c = 0\n",
    "d = 0\n",
    "g = []\n",
    "l = []\n",
    "m = []\n",
    "m1 = []\n",
    "n = []\n",
    "n1 = []\n",
    "p = []\n",
    "p1 = []\n",
    "q = []\n",
    "q1 = []\n",
    "predictions = clf_2018.predict(scaler.transform(x_test_2019))\n",
    "for i in range(len(y_test_2019)):\n",
    "    k = np.round(predictions)[i] - y_test_2019[i]\n",
    "    if abs(k) < 11:\n",
    "        d += 1\n",
    "        g.append(y_test_2019[i])\n",
    "        if abs(k) < 6:\n",
    "            c += 1\n",
    "            l.append(y_test_2019[i])\n",
    "            if abs(k) < 4:\n",
    "                b += 1\n",
    "                m.append(y_test_2019[i])\n",
    "                m1.append(i)\n",
    "                if abs(k) < 2:\n",
    "                    a += 1\n",
    "                    n.append(y_test_2019[i])\n",
    "                    n1.append(i)\n",
    "                    if abs(k) == 0:\n",
    "                        t += 1\n",
    "                        p.append(y_test_2019[i])\n",
    "                        p1.append(i)\n",
    "    else:\n",
    "        q.append(y_test_2019[i])\n",
    "        q1.append(i)\n",
    "print(\"答對：%.4f\" % (t/len(y_test_2019)))\n",
    "print(\"正負1：%.4f\" % (a/len(y_test_2019)))\n",
    "print(\"正負3：%.4f\" % (b/len(y_test_2019)))\n",
    "print(\"正負5：%.4f\" % (c/len(y_test_2019)))\n",
    "print(\"正負10：%.4f\" % (d/len(y_test_2019)))"
   ]
  },
  {
   "cell_type": "code",
   "execution_count": 160,
   "metadata": {},
   "outputs": [
    {
     "name": "stdout",
     "output_type": "stream",
     "text": [
      "mean_absolute_error: 7.780104712041885\n",
      "mean_squared_error: 115.63350785340315\n",
      "rmse: 10.753302183673773\n"
     ]
    }
   ],
   "source": [
    "print(\"mean_absolute_error:\",mean_absolute_error(predictions,y_test_2019))\n",
    "print(\"mean_squared_error:\",mean_squared_error(predictions,y_test_2019))\n",
    "print(\"rmse:\",sqrt(mean_squared_error(predictions,y_test_2019)))"
   ]
  },
  {
   "cell_type": "code",
   "execution_count": 161,
   "metadata": {},
   "outputs": [
    {
     "data": {
      "text/plain": [
       "Counter({1.0: 1,\n",
       "         2.0: 4,\n",
       "         3.0: 1,\n",
       "         6.0: 1,\n",
       "         7.0: 2,\n",
       "         11.0: 1,\n",
       "         12.0: 1,\n",
       "         13.0: 1,\n",
       "         14.0: 1,\n",
       "         23.0: 2})"
      ]
     },
     "execution_count": 161,
     "metadata": {},
     "output_type": "execute_result"
    }
   ],
   "source": [
    "Counter(sorted(p))"
   ]
  },
  {
   "cell_type": "code",
   "execution_count": 162,
   "metadata": {},
   "outputs": [
    {
     "data": {
      "text/plain": [
       "Counter({0.0: 1,\n",
       "         1.0: 5,\n",
       "         2.0: 4,\n",
       "         3.0: 2,\n",
       "         5.0: 2,\n",
       "         6.0: 2,\n",
       "         7.0: 3,\n",
       "         8.0: 1,\n",
       "         9.0: 1,\n",
       "         11.0: 1,\n",
       "         12.0: 4,\n",
       "         13.0: 2,\n",
       "         14.0: 3,\n",
       "         23.0: 2,\n",
       "         24.0: 1,\n",
       "         26.0: 1,\n",
       "         29.0: 1,\n",
       "         32.0: 1})"
      ]
     },
     "execution_count": 162,
     "metadata": {},
     "output_type": "execute_result"
    }
   ],
   "source": [
    "Counter(sorted(n))"
   ]
  },
  {
   "cell_type": "code",
   "execution_count": 163,
   "metadata": {},
   "outputs": [
    {
     "data": {
      "text/plain": [
       "Counter({0.0: 2,\n",
       "         1.0: 5,\n",
       "         2.0: 6,\n",
       "         3.0: 3,\n",
       "         4.0: 1,\n",
       "         5.0: 5,\n",
       "         6.0: 2,\n",
       "         7.0: 3,\n",
       "         8.0: 1,\n",
       "         9.0: 3,\n",
       "         11.0: 3,\n",
       "         12.0: 6,\n",
       "         13.0: 3,\n",
       "         14.0: 3,\n",
       "         20.0: 2,\n",
       "         22.0: 2,\n",
       "         23.0: 2,\n",
       "         24.0: 1,\n",
       "         25.0: 1,\n",
       "         26.0: 1,\n",
       "         27.0: 1,\n",
       "         28.0: 1,\n",
       "         29.0: 2,\n",
       "         32.0: 1,\n",
       "         34.0: 1,\n",
       "         41.0: 1})"
      ]
     },
     "execution_count": 163,
     "metadata": {},
     "output_type": "execute_result"
    }
   ],
   "source": [
    "Counter(sorted(m))"
   ]
  },
  {
   "cell_type": "code",
   "execution_count": 164,
   "metadata": {},
   "outputs": [
    {
     "data": {
      "text/plain": [
       "Counter({1.0: 2,\n",
       "         2.0: 6,\n",
       "         3.0: 3,\n",
       "         4.0: 1,\n",
       "         6.0: 2,\n",
       "         7.0: 1,\n",
       "         8.0: 1,\n",
       "         9.0: 1,\n",
       "         10.0: 3,\n",
       "         11.0: 2,\n",
       "         12.0: 4,\n",
       "         13.0: 1,\n",
       "         15.0: 3,\n",
       "         16.0: 2,\n",
       "         17.0: 3,\n",
       "         19.0: 1,\n",
       "         20.0: 1,\n",
       "         23.0: 3,\n",
       "         24.0: 1,\n",
       "         27.0: 1,\n",
       "         28.0: 1,\n",
       "         31.0: 1,\n",
       "         32.0: 1,\n",
       "         35.0: 2,\n",
       "         37.0: 1,\n",
       "         44.0: 1,\n",
       "         48.0: 1,\n",
       "         49.0: 1})"
      ]
     },
     "execution_count": 164,
     "metadata": {},
     "output_type": "execute_result"
    }
   ],
   "source": [
    "Counter(sorted(q))"
   ]
  },
  {
   "cell_type": "code",
   "execution_count": 165,
   "metadata": {},
   "outputs": [
    {
     "name": "stdout",
     "output_type": "stream",
     "text": [
      "0: [21, 23, 57, 67, 74, 80, 88, 90, 93, 119, 124, 148, 150, 154, 164]\n",
      "1: [2, 4, 13, 19, 21, 23, 42, 57, 67, 73, 74, 75, 80, 86, 88, 90, 91, 93, 94, 98, 110, 111, 119, 121, 124, 137, 138, 148, 149, 150, 153, 154, 157, 160, 164, 165, 175]\n",
      "3: [2, 4, 9, 13, 18, 19, 21, 23, 28, 31, 37, 38, 42, 44, 55, 57, 62, 67, 69, 73, 74, 75, 76, 78, 80, 82, 86, 88, 90, 91, 93, 94, 98, 104, 108, 109, 110, 111, 119, 121, 124, 130, 135, 136, 137, 138, 140, 142, 148, 149, 150, 153, 154, 155, 157, 159, 160, 164, 165, 171, 175, 186]\n",
      "NA: [1, 3, 5, 6, 14, 16, 26, 30, 36, 39, 40, 41, 45, 47, 49, 50, 52, 54, 56, 65, 66, 70, 71, 81, 87, 99, 100, 105, 106, 115, 122, 126, 128, 129, 141, 145, 147, 151, 152, 158, 161, 170, 173, 174, 176, 177, 181, 183, 187, 189, 190]\n"
     ]
    }
   ],
   "source": [
    "print('0:',p1)\n",
    "print('1:',n1)\n",
    "print('3:',m1)\n",
    "print('NA:',q1)"
   ]
  },
  {
   "cell_type": "code",
   "execution_count": 166,
   "metadata": {},
   "outputs": [],
   "source": [
    "SVM_2019_dataframe = testing_2019.copy()\n",
    "SVM_2019_dataframe['Prediction'] = np.round(predictions)\n",
    "SVM_2019_dataframe['Difference'] = SVM_2019_dataframe.SixthYear_HR - SVM_2019_dataframe.Prediction"
   ]
  },
  {
   "cell_type": "code",
   "execution_count": 188,
   "metadata": {},
   "outputs": [
    {
     "data": {
      "text/html": [
       "<div>\n",
       "<style scoped>\n",
       "    .dataframe tbody tr th:only-of-type {\n",
       "        vertical-align: middle;\n",
       "    }\n",
       "\n",
       "    .dataframe tbody tr th {\n",
       "        vertical-align: top;\n",
       "    }\n",
       "\n",
       "    .dataframe thead th {\n",
       "        text-align: right;\n",
       "    }\n",
       "</style>\n",
       "<table border=\"1\" class=\"dataframe\">\n",
       "  <thead>\n",
       "    <tr style=\"text-align: right;\">\n",
       "      <th></th>\n",
       "      <th>FirstYear_yearID</th>\n",
       "      <th>FirstYear_G</th>\n",
       "      <th>FirstYear_AB</th>\n",
       "      <th>FirstYear_R</th>\n",
       "      <th>FirstYear_H</th>\n",
       "      <th>FirstYear_2B</th>\n",
       "      <th>FirstYear_3B</th>\n",
       "      <th>FirstYear_HR</th>\n",
       "      <th>FirstYear_RBI</th>\n",
       "      <th>FirstYear_SB</th>\n",
       "      <th>...</th>\n",
       "      <th>SixthYear_SF</th>\n",
       "      <th>SixthYear_GIDP</th>\n",
       "      <th>SixthYear_nameFirst</th>\n",
       "      <th>SixthYear_nameLast</th>\n",
       "      <th>SixthYear_nameGiven</th>\n",
       "      <th>SixthYear_weight</th>\n",
       "      <th>SixthYear_height</th>\n",
       "      <th>SixthYear_age</th>\n",
       "      <th>Prediction</th>\n",
       "      <th>Difference</th>\n",
       "    </tr>\n",
       "  </thead>\n",
       "  <tbody>\n",
       "    <tr>\n",
       "      <th>8</th>\n",
       "      <td>2014</td>\n",
       "      <td>111.0</td>\n",
       "      <td>432.0</td>\n",
       "      <td>58.0</td>\n",
       "      <td>124.0</td>\n",
       "      <td>34.0</td>\n",
       "      <td>2.0</td>\n",
       "      <td>18.0</td>\n",
       "      <td>61.0</td>\n",
       "      <td>2.0</td>\n",
       "      <td>...</td>\n",
       "      <td>8.0</td>\n",
       "      <td>14.0</td>\n",
       "      <td>Nolan</td>\n",
       "      <td>Arenado</td>\n",
       "      <td>Nolan James</td>\n",
       "      <td>215.0</td>\n",
       "      <td>74.0</td>\n",
       "      <td>28.0</td>\n",
       "      <td>33.0</td>\n",
       "      <td>8.0</td>\n",
       "    </tr>\n",
       "    <tr>\n",
       "      <th>38</th>\n",
       "      <td>2014</td>\n",
       "      <td>159.0</td>\n",
       "      <td>613.0</td>\n",
       "      <td>87.0</td>\n",
       "      <td>166.0</td>\n",
       "      <td>32.0</td>\n",
       "      <td>2.0</td>\n",
       "      <td>40.0</td>\n",
       "      <td>108.0</td>\n",
       "      <td>4.0</td>\n",
       "      <td>...</td>\n",
       "      <td>3.0</td>\n",
       "      <td>14.0</td>\n",
       "      <td>Nelson</td>\n",
       "      <td>Cruz</td>\n",
       "      <td>Nelson Ramon</td>\n",
       "      <td>230.0</td>\n",
       "      <td>74.0</td>\n",
       "      <td>39.0</td>\n",
       "      <td>39.0</td>\n",
       "      <td>2.0</td>\n",
       "    </tr>\n",
       "    <tr>\n",
       "      <th>170</th>\n",
       "      <td>2014</td>\n",
       "      <td>24.0</td>\n",
       "      <td>89.0</td>\n",
       "      <td>11.0</td>\n",
       "      <td>26.0</td>\n",
       "      <td>8.0</td>\n",
       "      <td>1.0</td>\n",
       "      <td>5.0</td>\n",
       "      <td>20.0</td>\n",
       "      <td>1.0</td>\n",
       "      <td>...</td>\n",
       "      <td>4.0</td>\n",
       "      <td>16.0</td>\n",
       "      <td>Jorge</td>\n",
       "      <td>Soler</td>\n",
       "      <td>Jorge Carlos</td>\n",
       "      <td>235.0</td>\n",
       "      <td>76.0</td>\n",
       "      <td>27.0</td>\n",
       "      <td>7.0</td>\n",
       "      <td>41.0</td>\n",
       "    </tr>\n",
       "    <tr>\n",
       "      <th>174</th>\n",
       "      <td>2014</td>\n",
       "      <td>85.0</td>\n",
       "      <td>244.0</td>\n",
       "      <td>33.0</td>\n",
       "      <td>59.0</td>\n",
       "      <td>9.0</td>\n",
       "      <td>1.0</td>\n",
       "      <td>4.0</td>\n",
       "      <td>23.0</td>\n",
       "      <td>3.0</td>\n",
       "      <td>...</td>\n",
       "      <td>6.0</td>\n",
       "      <td>12.0</td>\n",
       "      <td>Eugenio</td>\n",
       "      <td>Suarez</td>\n",
       "      <td>Eugenio Alejandro</td>\n",
       "      <td>213.0</td>\n",
       "      <td>71.0</td>\n",
       "      <td>28.0</td>\n",
       "      <td>34.0</td>\n",
       "      <td>15.0</td>\n",
       "    </tr>\n",
       "    <tr>\n",
       "      <th>179</th>\n",
       "      <td>2014</td>\n",
       "      <td>157.0</td>\n",
       "      <td>602.0</td>\n",
       "      <td>115.0</td>\n",
       "      <td>173.0</td>\n",
       "      <td>39.0</td>\n",
       "      <td>9.0</td>\n",
       "      <td>36.0</td>\n",
       "      <td>111.0</td>\n",
       "      <td>16.0</td>\n",
       "      <td>...</td>\n",
       "      <td>4.0</td>\n",
       "      <td>5.0</td>\n",
       "      <td>Mike</td>\n",
       "      <td>Trout</td>\n",
       "      <td>Michael Nelson</td>\n",
       "      <td>235.0</td>\n",
       "      <td>74.0</td>\n",
       "      <td>28.0</td>\n",
       "      <td>39.0</td>\n",
       "      <td>6.0</td>\n",
       "    </tr>\n",
       "    <tr>\n",
       "      <th>187</th>\n",
       "      <td>2014</td>\n",
       "      <td>144.0</td>\n",
       "      <td>582.0</td>\n",
       "      <td>94.0</td>\n",
       "      <td>165.0</td>\n",
       "      <td>30.0</td>\n",
       "      <td>6.0</td>\n",
       "      <td>9.0</td>\n",
       "      <td>54.0</td>\n",
       "      <td>21.0</td>\n",
       "      <td>...</td>\n",
       "      <td>3.0</td>\n",
       "      <td>8.0</td>\n",
       "      <td>Christian</td>\n",
       "      <td>Yelich</td>\n",
       "      <td>Christian Stephen</td>\n",
       "      <td>195.0</td>\n",
       "      <td>75.0</td>\n",
       "      <td>28.0</td>\n",
       "      <td>29.0</td>\n",
       "      <td>15.0</td>\n",
       "    </tr>\n",
       "  </tbody>\n",
       "</table>\n",
       "<p>6 rows × 136 columns</p>\n",
       "</div>"
      ],
      "text/plain": [
       "     FirstYear_yearID  FirstYear_G  FirstYear_AB  FirstYear_R  FirstYear_H  \\\n",
       "8                2014        111.0         432.0         58.0        124.0   \n",
       "38               2014        159.0         613.0         87.0        166.0   \n",
       "170              2014         24.0          89.0         11.0         26.0   \n",
       "174              2014         85.0         244.0         33.0         59.0   \n",
       "179              2014        157.0         602.0        115.0        173.0   \n",
       "187              2014        144.0         582.0         94.0        165.0   \n",
       "\n",
       "     FirstYear_2B  FirstYear_3B  FirstYear_HR  FirstYear_RBI  FirstYear_SB  \\\n",
       "8            34.0           2.0          18.0           61.0           2.0   \n",
       "38           32.0           2.0          40.0          108.0           4.0   \n",
       "170           8.0           1.0           5.0           20.0           1.0   \n",
       "174           9.0           1.0           4.0           23.0           3.0   \n",
       "179          39.0           9.0          36.0          111.0          16.0   \n",
       "187          30.0           6.0           9.0           54.0          21.0   \n",
       "\n",
       "     ...  SixthYear_SF  SixthYear_GIDP  SixthYear_nameFirst  \\\n",
       "8    ...           8.0            14.0                Nolan   \n",
       "38   ...           3.0            14.0               Nelson   \n",
       "170  ...           4.0            16.0                Jorge   \n",
       "174  ...           6.0            12.0              Eugenio   \n",
       "179  ...           4.0             5.0                 Mike   \n",
       "187  ...           3.0             8.0            Christian   \n",
       "\n",
       "     SixthYear_nameLast  SixthYear_nameGiven  SixthYear_weight  \\\n",
       "8               Arenado          Nolan James             215.0   \n",
       "38                 Cruz         Nelson Ramon             230.0   \n",
       "170               Soler         Jorge Carlos             235.0   \n",
       "174              Suarez    Eugenio Alejandro             213.0   \n",
       "179               Trout       Michael Nelson             235.0   \n",
       "187              Yelich    Christian Stephen             195.0   \n",
       "\n",
       "     SixthYear_height  SixthYear_age  Prediction  Difference  \n",
       "8                74.0           28.0        33.0         8.0  \n",
       "38               74.0           39.0        39.0         2.0  \n",
       "170              76.0           27.0         7.0        41.0  \n",
       "174              71.0           28.0        34.0        15.0  \n",
       "179              74.0           28.0        39.0         6.0  \n",
       "187              75.0           28.0        29.0        15.0  \n",
       "\n",
       "[6 rows x 136 columns]"
      ]
     },
     "execution_count": 188,
     "metadata": {},
     "output_type": "execute_result"
    }
   ],
   "source": [
    "SVM_2019_dataframe[SVM_2019_dataframe.SixthYear_HR > 39]"
   ]
  },
  {
   "cell_type": "markdown",
   "metadata": {},
   "source": [
    "### Random Forest"
   ]
  },
  {
   "cell_type": "code",
   "execution_count": 90,
   "metadata": {},
   "outputs": [
    {
     "data": {
      "text/plain": [
       "RandomForestClassifier(bootstrap=True, class_weight=None, criterion='gini',\n",
       "            max_depth=None, max_features='auto', max_leaf_nodes=None,\n",
       "            min_impurity_decrease=0.0, min_impurity_split=None,\n",
       "            min_samples_leaf=1, min_samples_split=2,\n",
       "            min_weight_fraction_leaf=0.0, n_estimators=200, n_jobs=1,\n",
       "            oob_score=False, random_state=None, verbose=0,\n",
       "            warm_start=False)"
      ]
     },
     "execution_count": 90,
     "metadata": {},
     "output_type": "execute_result"
    }
   ],
   "source": [
    "forest_2017 = RandomForestClassifier(n_estimators=200)\n",
    "forest_2017.fit(x_train_2017, y_train_2017)"
   ]
  },
  {
   "cell_type": "code",
   "execution_count": 126,
   "metadata": {},
   "outputs": [
    {
     "name": "stdout",
     "output_type": "stream",
     "text": [
      "答對：0.0543\n",
      "正負1：0.1739\n",
      "正負3：0.3207\n",
      "正負5：0.4565\n",
      "正負10：0.7446\n"
     ]
    }
   ],
   "source": [
    "t = 0\n",
    "a = 0\n",
    "b = 0\n",
    "c = 0\n",
    "d = 0\n",
    "g = []\n",
    "l = []\n",
    "m = []\n",
    "m1 = []\n",
    "n = []\n",
    "n1 = []\n",
    "p = []\n",
    "p1 = []\n",
    "q = []\n",
    "q1 = []\n",
    "predictions = forest_2017.predict(x_test_2018)\n",
    "for i in range(len(y_test_2018)):\n",
    "    k = np.round(predictions)[i] - y_test_2018[i]\n",
    "    if abs(k) < 11:\n",
    "        d += 1\n",
    "        g.append(y_test_2018[i])\n",
    "        if abs(k) < 6:\n",
    "            c += 1\n",
    "            l.append(y_test_2018[i])\n",
    "            if abs(k) < 4:\n",
    "                b += 1\n",
    "                m.append(y_test_2018[i])\n",
    "                m1.append(i)\n",
    "                if abs(k) < 2:\n",
    "                    a += 1\n",
    "                    n.append(y_test_2018[i])\n",
    "                    n1.append(i)\n",
    "                    if abs(k) == 0:\n",
    "                        t += 1\n",
    "                        p.append(y_test_2018[i])\n",
    "                        p1.append(i)\n",
    "    else:\n",
    "        q.append(y_test_2018[i])\n",
    "        q1.append(i)\n",
    "print(\"答對：%.4f\" % (t/len(y_test_2018)))\n",
    "print(\"正負1：%.4f\" % (a/len(y_test_2018)))\n",
    "print(\"正負3：%.4f\" % (b/len(y_test_2018)))\n",
    "print(\"正負5：%.4f\" % (c/len(y_test_2018)))\n",
    "print(\"正負10：%.4f\" % (d/len(y_test_2018)))"
   ]
  },
  {
   "cell_type": "code",
   "execution_count": 127,
   "metadata": {},
   "outputs": [
    {
     "name": "stdout",
     "output_type": "stream",
     "text": [
      "mean_absolute_error: 7.331521739130435\n",
      "mean_squared_error: 88.44021739130434\n",
      "rmse: 9.404265914536039\n"
     ]
    }
   ],
   "source": [
    "print(\"mean_absolute_error:\",mean_absolute_error(predictions,y_test_2018))\n",
    "print(\"mean_squared_error:\",mean_squared_error(predictions,y_test_2018))\n",
    "print(\"rmse:\",sqrt(mean_squared_error(predictions,y_test_2018)))"
   ]
  },
  {
   "cell_type": "code",
   "execution_count": 128,
   "metadata": {},
   "outputs": [
    {
     "data": {
      "text/plain": [
       "Counter({0.0: 2, 1.0: 4, 3.0: 1, 6.0: 1, 8.0: 1, 11.0: 1})"
      ]
     },
     "execution_count": 128,
     "metadata": {},
     "output_type": "execute_result"
    }
   ],
   "source": [
    "Counter(sorted(p))"
   ]
  },
  {
   "cell_type": "code",
   "execution_count": 129,
   "metadata": {},
   "outputs": [
    {
     "data": {
      "text/plain": [
       "Counter({0.0: 2,\n",
       "         1.0: 8,\n",
       "         2.0: 2,\n",
       "         3.0: 2,\n",
       "         4.0: 2,\n",
       "         5.0: 2,\n",
       "         6.0: 2,\n",
       "         8.0: 2,\n",
       "         10.0: 2,\n",
       "         11.0: 1,\n",
       "         12.0: 1,\n",
       "         13.0: 2,\n",
       "         14.0: 2,\n",
       "         15.0: 1,\n",
       "         24.0: 1})"
      ]
     },
     "execution_count": 129,
     "metadata": {},
     "output_type": "execute_result"
    }
   ],
   "source": [
    "Counter(sorted(n))"
   ]
  },
  {
   "cell_type": "code",
   "execution_count": 130,
   "metadata": {},
   "outputs": [
    {
     "data": {
      "text/plain": [
       "Counter({0.0: 3,\n",
       "         1.0: 8,\n",
       "         2.0: 5,\n",
       "         3.0: 3,\n",
       "         4.0: 9,\n",
       "         5.0: 2,\n",
       "         6.0: 5,\n",
       "         7.0: 1,\n",
       "         8.0: 4,\n",
       "         9.0: 1,\n",
       "         10.0: 3,\n",
       "         11.0: 2,\n",
       "         12.0: 2,\n",
       "         13.0: 2,\n",
       "         14.0: 4,\n",
       "         15.0: 2,\n",
       "         16.0: 1,\n",
       "         21.0: 1,\n",
       "         24.0: 1})"
      ]
     },
     "execution_count": 130,
     "metadata": {},
     "output_type": "execute_result"
    }
   ],
   "source": [
    "Counter(sorted(m))"
   ]
  },
  {
   "cell_type": "code",
   "execution_count": 131,
   "metadata": {},
   "outputs": [
    {
     "data": {
      "text/plain": [
       "Counter({0.0: 1,\n",
       "         2.0: 1,\n",
       "         4.0: 1,\n",
       "         7.0: 1,\n",
       "         8.0: 1,\n",
       "         9.0: 2,\n",
       "         10.0: 1,\n",
       "         13.0: 2,\n",
       "         15.0: 3,\n",
       "         16.0: 1,\n",
       "         17.0: 1,\n",
       "         18.0: 1,\n",
       "         20.0: 3,\n",
       "         21.0: 3,\n",
       "         22.0: 1,\n",
       "         23.0: 8,\n",
       "         24.0: 2,\n",
       "         25.0: 1,\n",
       "         27.0: 3,\n",
       "         28.0: 1,\n",
       "         36.0: 2,\n",
       "         37.0: 2,\n",
       "         38.0: 2,\n",
       "         39.0: 1,\n",
       "         43.0: 1,\n",
       "         48.0: 1})"
      ]
     },
     "execution_count": 131,
     "metadata": {},
     "output_type": "execute_result"
    }
   ],
   "source": [
    "Counter(sorted(q))"
   ]
  },
  {
   "cell_type": "code",
   "execution_count": 132,
   "metadata": {},
   "outputs": [
    {
     "name": "stdout",
     "output_type": "stream",
     "text": [
      "0: [2, 15, 26, 56, 77, 115, 128, 147, 155, 156]\n",
      "1: [2, 11, 13, 15, 22, 26, 33, 36, 46, 49, 51, 56, 62, 72, 77, 78, 86, 94, 99, 105, 113, 115, 128, 132, 136, 139, 142, 147, 151, 155, 156, 157]\n",
      "3: [2, 6, 11, 13, 15, 22, 26, 33, 34, 36, 46, 47, 49, 51, 55, 56, 59, 62, 69, 71, 72, 73, 77, 78, 81, 85, 86, 93, 94, 96, 98, 99, 101, 105, 113, 115, 116, 117, 123, 125, 127, 128, 130, 132, 134, 136, 139, 142, 147, 150, 151, 152, 155, 156, 157, 160, 169, 177, 182]\n",
      "NA: [0, 3, 4, 7, 9, 14, 18, 19, 24, 25, 30, 32, 35, 38, 40, 41, 44, 52, 57, 58, 63, 64, 67, 75, 76, 82, 84, 87, 88, 95, 104, 106, 110, 111, 118, 122, 126, 135, 140, 143, 146, 148, 149, 165, 167, 179, 183]\n"
     ]
    }
   ],
   "source": [
    "print('0:',p1)\n",
    "print('1:',n1)\n",
    "print('3:',m1)\n",
    "print('NA:',q1)"
   ]
  },
  {
   "cell_type": "code",
   "execution_count": 133,
   "metadata": {},
   "outputs": [],
   "source": [
    "RF_2018_dataframe = testing_2018.copy()\n",
    "RF_2018_dataframe['Prediction'] = np.round(predictions)\n",
    "RF_2018_dataframe['Difference'] = RF_2018_dataframe.SixthYear_HR - RF_2018_dataframe.Prediction"
   ]
  },
  {
   "cell_type": "code",
   "execution_count": 190,
   "metadata": {},
   "outputs": [
    {
     "data": {
      "text/html": [
       "<div>\n",
       "<style scoped>\n",
       "    .dataframe tbody tr th:only-of-type {\n",
       "        vertical-align: middle;\n",
       "    }\n",
       "\n",
       "    .dataframe tbody tr th {\n",
       "        vertical-align: top;\n",
       "    }\n",
       "\n",
       "    .dataframe thead th {\n",
       "        text-align: right;\n",
       "    }\n",
       "</style>\n",
       "<table border=\"1\" class=\"dataframe\">\n",
       "  <thead>\n",
       "    <tr style=\"text-align: right;\">\n",
       "      <th></th>\n",
       "      <th>FirstYear_yearID</th>\n",
       "      <th>FirstYear_G</th>\n",
       "      <th>FirstYear_AB</th>\n",
       "      <th>FirstYear_R</th>\n",
       "      <th>FirstYear_H</th>\n",
       "      <th>FirstYear_2B</th>\n",
       "      <th>FirstYear_3B</th>\n",
       "      <th>FirstYear_HR</th>\n",
       "      <th>FirstYear_RBI</th>\n",
       "      <th>FirstYear_SB</th>\n",
       "      <th>...</th>\n",
       "      <th>SixthYear_SF</th>\n",
       "      <th>SixthYear_GIDP</th>\n",
       "      <th>SixthYear_nameFirst</th>\n",
       "      <th>SixthYear_nameLast</th>\n",
       "      <th>SixthYear_nameGiven</th>\n",
       "      <th>SixthYear_weight</th>\n",
       "      <th>SixthYear_height</th>\n",
       "      <th>SixthYear_age</th>\n",
       "      <th>Prediction</th>\n",
       "      <th>Difference</th>\n",
       "    </tr>\n",
       "  </thead>\n",
       "  <tbody>\n",
       "    <tr>\n",
       "      <th>38</th>\n",
       "      <td>2013</td>\n",
       "      <td>56.0</td>\n",
       "      <td>136.0</td>\n",
       "      <td>27.0</td>\n",
       "      <td>38.0</td>\n",
       "      <td>10.0</td>\n",
       "      <td>0.0</td>\n",
       "      <td>11.0</td>\n",
       "      <td>27.0</td>\n",
       "      <td>3.0</td>\n",
       "      <td>...</td>\n",
       "      <td>7.0</td>\n",
       "      <td>16.0</td>\n",
       "      <td>Khris</td>\n",
       "      <td>Davis</td>\n",
       "      <td>Khristopher Adrian</td>\n",
       "      <td>205.0</td>\n",
       "      <td>71.0</td>\n",
       "      <td>31.0</td>\n",
       "      <td>28.0</td>\n",
       "      <td>20.0</td>\n",
       "    </tr>\n",
       "    <tr>\n",
       "      <th>111</th>\n",
       "      <td>2013</td>\n",
       "      <td>86.0</td>\n",
       "      <td>296.0</td>\n",
       "      <td>24.0</td>\n",
       "      <td>74.0</td>\n",
       "      <td>17.0</td>\n",
       "      <td>0.0</td>\n",
       "      <td>7.0</td>\n",
       "      <td>36.0</td>\n",
       "      <td>2.0</td>\n",
       "      <td>...</td>\n",
       "      <td>7.0</td>\n",
       "      <td>19.0</td>\n",
       "      <td>J. D.</td>\n",
       "      <td>Martinez</td>\n",
       "      <td>Julio Daniel</td>\n",
       "      <td>230.0</td>\n",
       "      <td>75.0</td>\n",
       "      <td>31.0</td>\n",
       "      <td>24.0</td>\n",
       "      <td>19.0</td>\n",
       "    </tr>\n",
       "  </tbody>\n",
       "</table>\n",
       "<p>2 rows × 136 columns</p>\n",
       "</div>"
      ],
      "text/plain": [
       "     FirstYear_yearID  FirstYear_G  FirstYear_AB  FirstYear_R  FirstYear_H  \\\n",
       "38               2013         56.0         136.0         27.0         38.0   \n",
       "111              2013         86.0         296.0         24.0         74.0   \n",
       "\n",
       "     FirstYear_2B  FirstYear_3B  FirstYear_HR  FirstYear_RBI  FirstYear_SB  \\\n",
       "38           10.0           0.0          11.0           27.0           3.0   \n",
       "111          17.0           0.0           7.0           36.0           2.0   \n",
       "\n",
       "     ...  SixthYear_SF  SixthYear_GIDP  SixthYear_nameFirst  \\\n",
       "38   ...           7.0            16.0                Khris   \n",
       "111  ...           7.0            19.0                J. D.   \n",
       "\n",
       "     SixthYear_nameLast  SixthYear_nameGiven  SixthYear_weight  \\\n",
       "38                Davis   Khristopher Adrian             205.0   \n",
       "111            Martinez         Julio Daniel             230.0   \n",
       "\n",
       "     SixthYear_height  SixthYear_age  Prediction  Difference  \n",
       "38               71.0           31.0        28.0        20.0  \n",
       "111              75.0           31.0        24.0        19.0  \n",
       "\n",
       "[2 rows x 136 columns]"
      ]
     },
     "execution_count": 190,
     "metadata": {},
     "output_type": "execute_result"
    }
   ],
   "source": [
    "RF_2018_dataframe[RF_2018_dataframe.SixthYear_HR > 39]"
   ]
  },
  {
   "cell_type": "code",
   "execution_count": 99,
   "metadata": {},
   "outputs": [
    {
     "data": {
      "text/plain": [
       "RandomForestClassifier(bootstrap=True, class_weight=None, criterion='gini',\n",
       "            max_depth=None, max_features='auto', max_leaf_nodes=None,\n",
       "            min_impurity_decrease=0.0, min_impurity_split=None,\n",
       "            min_samples_leaf=1, min_samples_split=2,\n",
       "            min_weight_fraction_leaf=0.0, n_estimators=200, n_jobs=1,\n",
       "            oob_score=False, random_state=None, verbose=0,\n",
       "            warm_start=False)"
      ]
     },
     "execution_count": 99,
     "metadata": {},
     "output_type": "execute_result"
    }
   ],
   "source": [
    "forest_2018 = RandomForestClassifier(n_estimators=200)\n",
    "forest_2018.fit(x_train_2018, y_train_2018)"
   ]
  },
  {
   "cell_type": "code",
   "execution_count": 151,
   "metadata": {},
   "outputs": [
    {
     "name": "stdout",
     "output_type": "stream",
     "text": [
      "答對：0.0681\n",
      "正負1：0.1780\n",
      "正負3：0.2984\n",
      "正負5：0.4346\n",
      "正負10：0.6387\n"
     ]
    }
   ],
   "source": [
    "t = 0\n",
    "a = 0\n",
    "b = 0\n",
    "c = 0\n",
    "d = 0\n",
    "g = []\n",
    "l = []\n",
    "m = []\n",
    "m1 = []\n",
    "n = []\n",
    "n1 = []\n",
    "p = []\n",
    "p1 = []\n",
    "q = []\n",
    "q1 = []\n",
    "predictions = forest_2018.predict(x_test_2019)\n",
    "for i in range(len(y_test_2019)):\n",
    "    k = np.round(predictions)[i] - y_test_2019[i]\n",
    "    if abs(k) < 11:\n",
    "        d += 1\n",
    "        g.append(y_test_2019[i])\n",
    "        if abs(k) < 6:\n",
    "            c += 1\n",
    "            l.append(y_test_2019[i])\n",
    "            if abs(k) < 4:\n",
    "                b += 1\n",
    "                m.append(y_test_2019[i])\n",
    "                m1.append(i)\n",
    "                if abs(k) < 2:\n",
    "                    a += 1\n",
    "                    n.append(y_test_2019[i])\n",
    "                    n1.append(i)\n",
    "                    if abs(k) == 0:\n",
    "                        t += 1\n",
    "                        p.append(y_test_2019[i])\n",
    "                        p1.append(i)\n",
    "    else:\n",
    "        q.append(y_test_2019[i])\n",
    "        q1.append(i)\n",
    "print(\"答對：%.4f\" % (t/len(y_test_2019)))\n",
    "print(\"正負1：%.4f\" % (a/len(y_test_2019)))\n",
    "print(\"正負3：%.4f\" % (b/len(y_test_2019)))\n",
    "print(\"正負5：%.4f\" % (c/len(y_test_2019)))\n",
    "print(\"正負10：%.4f\" % (d/len(y_test_2019)))"
   ]
  },
  {
   "cell_type": "code",
   "execution_count": 152,
   "metadata": {},
   "outputs": [
    {
     "name": "stdout",
     "output_type": "stream",
     "text": [
      "mean_absolute_error: 8.397905759162304\n",
      "mean_squared_error: 122.47120418848168\n",
      "rmse: 11.066670871968755\n"
     ]
    }
   ],
   "source": [
    "print(\"mean_absolute_error:\",mean_absolute_error(predictions,y_test_2019))\n",
    "print(\"mean_squared_error:\",mean_squared_error(predictions,y_test_2019))\n",
    "print(\"rmse:\",sqrt(mean_squared_error(predictions,y_test_2019)))"
   ]
  },
  {
   "cell_type": "code",
   "execution_count": 153,
   "metadata": {},
   "outputs": [
    {
     "data": {
      "text/plain": [
       "Counter({1.0: 4, 2.0: 2, 3.0: 1, 6.0: 2, 8.0: 1, 9.0: 1, 12.0: 1, 13.0: 1})"
      ]
     },
     "execution_count": 153,
     "metadata": {},
     "output_type": "execute_result"
    }
   ],
   "source": [
    "Counter(sorted(p))"
   ]
  },
  {
   "cell_type": "code",
   "execution_count": 154,
   "metadata": {},
   "outputs": [
    {
     "data": {
      "text/plain": [
       "Counter({0.0: 3,\n",
       "         1.0: 5,\n",
       "         2.0: 8,\n",
       "         3.0: 2,\n",
       "         5.0: 1,\n",
       "         6.0: 3,\n",
       "         7.0: 2,\n",
       "         8.0: 1,\n",
       "         9.0: 2,\n",
       "         12.0: 2,\n",
       "         13.0: 2,\n",
       "         15.0: 1,\n",
       "         22.0: 1,\n",
       "         34.0: 1})"
      ]
     },
     "execution_count": 154,
     "metadata": {},
     "output_type": "execute_result"
    }
   ],
   "source": [
    "Counter(sorted(n))"
   ]
  },
  {
   "cell_type": "code",
   "execution_count": 155,
   "metadata": {},
   "outputs": [
    {
     "data": {
      "text/plain": [
       "Counter({0.0: 4,\n",
       "         1.0: 5,\n",
       "         2.0: 8,\n",
       "         3.0: 6,\n",
       "         4.0: 2,\n",
       "         5.0: 2,\n",
       "         6.0: 3,\n",
       "         7.0: 2,\n",
       "         8.0: 2,\n",
       "         9.0: 5,\n",
       "         10.0: 2,\n",
       "         12.0: 4,\n",
       "         13.0: 2,\n",
       "         14.0: 1,\n",
       "         15.0: 1,\n",
       "         17.0: 1,\n",
       "         20.0: 1,\n",
       "         22.0: 1,\n",
       "         25.0: 1,\n",
       "         27.0: 1,\n",
       "         32.0: 1,\n",
       "         34.0: 2})"
      ]
     },
     "execution_count": 155,
     "metadata": {},
     "output_type": "execute_result"
    }
   ],
   "source": [
    "Counter(sorted(m))"
   ]
  },
  {
   "cell_type": "code",
   "execution_count": 156,
   "metadata": {},
   "outputs": [
    {
     "data": {
      "text/plain": [
       "Counter({2.0: 1,\n",
       "         3.0: 1,\n",
       "         6.0: 1,\n",
       "         12.0: 4,\n",
       "         13.0: 2,\n",
       "         15.0: 2,\n",
       "         16.0: 2,\n",
       "         17.0: 4,\n",
       "         18.0: 2,\n",
       "         19.0: 3,\n",
       "         20.0: 2,\n",
       "         21.0: 4,\n",
       "         22.0: 3,\n",
       "         23.0: 6,\n",
       "         24.0: 4,\n",
       "         26.0: 2,\n",
       "         27.0: 2,\n",
       "         28.0: 2,\n",
       "         29.0: 3,\n",
       "         30.0: 1,\n",
       "         31.0: 2,\n",
       "         32.0: 1,\n",
       "         33.0: 4,\n",
       "         34.0: 2,\n",
       "         35.0: 2,\n",
       "         37.0: 1,\n",
       "         38.0: 1,\n",
       "         39.0: 1,\n",
       "         41.0: 1,\n",
       "         44.0: 1,\n",
       "         48.0: 1,\n",
       "         49.0: 1})"
      ]
     },
     "execution_count": 156,
     "metadata": {},
     "output_type": "execute_result"
    }
   ],
   "source": [
    "Counter(sorted(q))"
   ]
  },
  {
   "cell_type": "code",
   "execution_count": 157,
   "metadata": {},
   "outputs": [
    {
     "name": "stdout",
     "output_type": "stream",
     "text": [
      "0: [4, 42, 73, 80, 91, 93, 105, 123, 138, 140, 142, 157, 184]\n",
      "1: [4, 21, 25, 32, 35, 42, 43, 55, 67, 68, 72, 73, 80, 82, 88, 90, 91, 92, 93, 94, 95, 105, 119, 123, 138, 140, 142, 148, 151, 157, 167, 171, 175, 184]\n",
      "3: [4, 5, 9, 21, 25, 32, 35, 37, 42, 43, 44, 45, 50, 53, 55, 67, 68, 70, 72, 73, 74, 75, 78, 80, 82, 88, 90, 91, 92, 93, 94, 95, 96, 103, 105, 108, 110, 111, 119, 123, 134, 137, 138, 140, 142, 148, 151, 154, 156, 157, 158, 159, 167, 171, 175, 184, 190]\n",
      "NA: [0, 1, 6, 10, 13, 14, 15, 17, 18, 19, 24, 26, 28, 29, 30, 31, 33, 34, 38, 39, 41, 46, 47, 52, 54, 58, 60, 61, 63, 64, 65, 76, 79, 87, 89, 100, 106, 107, 115, 121, 124, 126, 127, 129, 131, 133, 135, 139, 141, 143, 144, 145, 149, 152, 155, 162, 163, 164, 166, 168, 170, 172, 173, 174, 176, 180, 181, 182, 187]\n"
     ]
    }
   ],
   "source": [
    "print('0:',p1)\n",
    "print('1:',n1)\n",
    "print('3:',m1)\n",
    "print('NA:',q1)"
   ]
  },
  {
   "cell_type": "code",
   "execution_count": 158,
   "metadata": {},
   "outputs": [],
   "source": [
    "RF_2019_dataframe = testing_2019.copy()\n",
    "RF_2019_dataframe['Prediction'] = np.round(predictions)\n",
    "RF_2019_dataframe['Difference'] = RF_2019_dataframe.SixthYear_HR - RF_2019_dataframe.Prediction"
   ]
  },
  {
   "cell_type": "code",
   "execution_count": 191,
   "metadata": {},
   "outputs": [
    {
     "data": {
      "text/html": [
       "<div>\n",
       "<style scoped>\n",
       "    .dataframe tbody tr th:only-of-type {\n",
       "        vertical-align: middle;\n",
       "    }\n",
       "\n",
       "    .dataframe tbody tr th {\n",
       "        vertical-align: top;\n",
       "    }\n",
       "\n",
       "    .dataframe thead th {\n",
       "        text-align: right;\n",
       "    }\n",
       "</style>\n",
       "<table border=\"1\" class=\"dataframe\">\n",
       "  <thead>\n",
       "    <tr style=\"text-align: right;\">\n",
       "      <th></th>\n",
       "      <th>FirstYear_yearID</th>\n",
       "      <th>FirstYear_G</th>\n",
       "      <th>FirstYear_AB</th>\n",
       "      <th>FirstYear_R</th>\n",
       "      <th>FirstYear_H</th>\n",
       "      <th>FirstYear_2B</th>\n",
       "      <th>FirstYear_3B</th>\n",
       "      <th>FirstYear_HR</th>\n",
       "      <th>FirstYear_RBI</th>\n",
       "      <th>FirstYear_SB</th>\n",
       "      <th>...</th>\n",
       "      <th>SixthYear_SF</th>\n",
       "      <th>SixthYear_GIDP</th>\n",
       "      <th>SixthYear_nameFirst</th>\n",
       "      <th>SixthYear_nameLast</th>\n",
       "      <th>SixthYear_nameGiven</th>\n",
       "      <th>SixthYear_weight</th>\n",
       "      <th>SixthYear_height</th>\n",
       "      <th>SixthYear_age</th>\n",
       "      <th>Prediction</th>\n",
       "      <th>Difference</th>\n",
       "    </tr>\n",
       "  </thead>\n",
       "  <tbody>\n",
       "    <tr>\n",
       "      <th>8</th>\n",
       "      <td>2014</td>\n",
       "      <td>111.0</td>\n",
       "      <td>432.0</td>\n",
       "      <td>58.0</td>\n",
       "      <td>124.0</td>\n",
       "      <td>34.0</td>\n",
       "      <td>2.0</td>\n",
       "      <td>18.0</td>\n",
       "      <td>61.0</td>\n",
       "      <td>2.0</td>\n",
       "      <td>...</td>\n",
       "      <td>8.0</td>\n",
       "      <td>14.0</td>\n",
       "      <td>Nolan</td>\n",
       "      <td>Arenado</td>\n",
       "      <td>Nolan James</td>\n",
       "      <td>215.0</td>\n",
       "      <td>74.0</td>\n",
       "      <td>28.0</td>\n",
       "      <td>33.0</td>\n",
       "      <td>8.0</td>\n",
       "    </tr>\n",
       "    <tr>\n",
       "      <th>38</th>\n",
       "      <td>2014</td>\n",
       "      <td>159.0</td>\n",
       "      <td>613.0</td>\n",
       "      <td>87.0</td>\n",
       "      <td>166.0</td>\n",
       "      <td>32.0</td>\n",
       "      <td>2.0</td>\n",
       "      <td>40.0</td>\n",
       "      <td>108.0</td>\n",
       "      <td>4.0</td>\n",
       "      <td>...</td>\n",
       "      <td>3.0</td>\n",
       "      <td>14.0</td>\n",
       "      <td>Nelson</td>\n",
       "      <td>Cruz</td>\n",
       "      <td>Nelson Ramon</td>\n",
       "      <td>230.0</td>\n",
       "      <td>74.0</td>\n",
       "      <td>39.0</td>\n",
       "      <td>16.0</td>\n",
       "      <td>25.0</td>\n",
       "    </tr>\n",
       "    <tr>\n",
       "      <th>170</th>\n",
       "      <td>2014</td>\n",
       "      <td>24.0</td>\n",
       "      <td>89.0</td>\n",
       "      <td>11.0</td>\n",
       "      <td>26.0</td>\n",
       "      <td>8.0</td>\n",
       "      <td>1.0</td>\n",
       "      <td>5.0</td>\n",
       "      <td>20.0</td>\n",
       "      <td>1.0</td>\n",
       "      <td>...</td>\n",
       "      <td>4.0</td>\n",
       "      <td>16.0</td>\n",
       "      <td>Jorge</td>\n",
       "      <td>Soler</td>\n",
       "      <td>Jorge Carlos</td>\n",
       "      <td>235.0</td>\n",
       "      <td>76.0</td>\n",
       "      <td>27.0</td>\n",
       "      <td>2.0</td>\n",
       "      <td>46.0</td>\n",
       "    </tr>\n",
       "    <tr>\n",
       "      <th>174</th>\n",
       "      <td>2014</td>\n",
       "      <td>85.0</td>\n",
       "      <td>244.0</td>\n",
       "      <td>33.0</td>\n",
       "      <td>59.0</td>\n",
       "      <td>9.0</td>\n",
       "      <td>1.0</td>\n",
       "      <td>4.0</td>\n",
       "      <td>23.0</td>\n",
       "      <td>3.0</td>\n",
       "      <td>...</td>\n",
       "      <td>6.0</td>\n",
       "      <td>12.0</td>\n",
       "      <td>Eugenio</td>\n",
       "      <td>Suarez</td>\n",
       "      <td>Eugenio Alejandro</td>\n",
       "      <td>213.0</td>\n",
       "      <td>71.0</td>\n",
       "      <td>28.0</td>\n",
       "      <td>15.0</td>\n",
       "      <td>34.0</td>\n",
       "    </tr>\n",
       "    <tr>\n",
       "      <th>179</th>\n",
       "      <td>2014</td>\n",
       "      <td>157.0</td>\n",
       "      <td>602.0</td>\n",
       "      <td>115.0</td>\n",
       "      <td>173.0</td>\n",
       "      <td>39.0</td>\n",
       "      <td>9.0</td>\n",
       "      <td>36.0</td>\n",
       "      <td>111.0</td>\n",
       "      <td>16.0</td>\n",
       "      <td>...</td>\n",
       "      <td>4.0</td>\n",
       "      <td>5.0</td>\n",
       "      <td>Mike</td>\n",
       "      <td>Trout</td>\n",
       "      <td>Michael Nelson</td>\n",
       "      <td>235.0</td>\n",
       "      <td>74.0</td>\n",
       "      <td>28.0</td>\n",
       "      <td>39.0</td>\n",
       "      <td>6.0</td>\n",
       "    </tr>\n",
       "    <tr>\n",
       "      <th>187</th>\n",
       "      <td>2014</td>\n",
       "      <td>144.0</td>\n",
       "      <td>582.0</td>\n",
       "      <td>94.0</td>\n",
       "      <td>165.0</td>\n",
       "      <td>30.0</td>\n",
       "      <td>6.0</td>\n",
       "      <td>9.0</td>\n",
       "      <td>54.0</td>\n",
       "      <td>21.0</td>\n",
       "      <td>...</td>\n",
       "      <td>3.0</td>\n",
       "      <td>8.0</td>\n",
       "      <td>Christian</td>\n",
       "      <td>Yelich</td>\n",
       "      <td>Christian Stephen</td>\n",
       "      <td>195.0</td>\n",
       "      <td>75.0</td>\n",
       "      <td>28.0</td>\n",
       "      <td>13.0</td>\n",
       "      <td>31.0</td>\n",
       "    </tr>\n",
       "  </tbody>\n",
       "</table>\n",
       "<p>6 rows × 136 columns</p>\n",
       "</div>"
      ],
      "text/plain": [
       "     FirstYear_yearID  FirstYear_G  FirstYear_AB  FirstYear_R  FirstYear_H  \\\n",
       "8                2014        111.0         432.0         58.0        124.0   \n",
       "38               2014        159.0         613.0         87.0        166.0   \n",
       "170              2014         24.0          89.0         11.0         26.0   \n",
       "174              2014         85.0         244.0         33.0         59.0   \n",
       "179              2014        157.0         602.0        115.0        173.0   \n",
       "187              2014        144.0         582.0         94.0        165.0   \n",
       "\n",
       "     FirstYear_2B  FirstYear_3B  FirstYear_HR  FirstYear_RBI  FirstYear_SB  \\\n",
       "8            34.0           2.0          18.0           61.0           2.0   \n",
       "38           32.0           2.0          40.0          108.0           4.0   \n",
       "170           8.0           1.0           5.0           20.0           1.0   \n",
       "174           9.0           1.0           4.0           23.0           3.0   \n",
       "179          39.0           9.0          36.0          111.0          16.0   \n",
       "187          30.0           6.0           9.0           54.0          21.0   \n",
       "\n",
       "     ...  SixthYear_SF  SixthYear_GIDP  SixthYear_nameFirst  \\\n",
       "8    ...           8.0            14.0                Nolan   \n",
       "38   ...           3.0            14.0               Nelson   \n",
       "170  ...           4.0            16.0                Jorge   \n",
       "174  ...           6.0            12.0              Eugenio   \n",
       "179  ...           4.0             5.0                 Mike   \n",
       "187  ...           3.0             8.0            Christian   \n",
       "\n",
       "     SixthYear_nameLast  SixthYear_nameGiven  SixthYear_weight  \\\n",
       "8               Arenado          Nolan James             215.0   \n",
       "38                 Cruz         Nelson Ramon             230.0   \n",
       "170               Soler         Jorge Carlos             235.0   \n",
       "174              Suarez    Eugenio Alejandro             213.0   \n",
       "179               Trout       Michael Nelson             235.0   \n",
       "187              Yelich    Christian Stephen             195.0   \n",
       "\n",
       "     SixthYear_height  SixthYear_age  Prediction  Difference  \n",
       "8                74.0           28.0        33.0         8.0  \n",
       "38               74.0           39.0        16.0        25.0  \n",
       "170              76.0           27.0         2.0        46.0  \n",
       "174              71.0           28.0        15.0        34.0  \n",
       "179              74.0           28.0        39.0         6.0  \n",
       "187              75.0           28.0        13.0        31.0  \n",
       "\n",
       "[6 rows x 136 columns]"
      ]
     },
     "execution_count": 191,
     "metadata": {},
     "output_type": "execute_result"
    }
   ],
   "source": [
    "RF_2019_dataframe[RF_2019_dataframe.SixthYear_HR > 39]"
   ]
  },
  {
   "cell_type": "markdown",
   "metadata": {},
   "source": [
    "### Neural Networks"
   ]
  },
  {
   "cell_type": "code",
   "execution_count": 303,
   "metadata": {},
   "outputs": [
    {
     "name": "stdout",
     "output_type": "stream",
     "text": [
      "_________________________________________________________________\n",
      "Layer (type)                 Output Shape              Param #   \n",
      "=================================================================\n",
      "dense_68 (Dense)             (None, 1024)              108544    \n",
      "_________________________________________________________________\n",
      "dropout_33 (Dropout)         (None, 1024)              0         \n",
      "_________________________________________________________________\n",
      "dense_69 (Dense)             (None, 512)               524800    \n",
      "_________________________________________________________________\n",
      "dropout_34 (Dropout)         (None, 512)               0         \n",
      "_________________________________________________________________\n",
      "dense_70 (Dense)             (None, 128)               65664     \n",
      "_________________________________________________________________\n",
      "dense_71 (Dense)             (None, 1)                 129       \n",
      "=================================================================\n",
      "Total params: 699,137\n",
      "Trainable params: 699,137\n",
      "Non-trainable params: 0\n",
      "_________________________________________________________________\n"
     ]
    }
   ],
   "source": [
    "model_2017 = Sequential()\n",
    "model_2017.add(Dense(1024, input_dim = 105))\n",
    "model_2017.add(Dropout(rate=0.5))\n",
    "model_2017.add(Dense(512, activation=\"relu\"))\n",
    "model_2017.add(Dropout(rate=0.5))\n",
    "model_2017.add(Dense(128, activation=\"relu\"))\n",
    "model_2017.add(Dense(1, activation='relu'))\n",
    "adam = optimizers.Adam(lr = 0.001)\n",
    "model_2017.compile(loss = \"mse\", optimizer=adam, metrics=[\"accuracy\"])\n",
    "model_2017.summary()"
   ]
  },
  {
   "cell_type": "code",
   "execution_count": 304,
   "metadata": {},
   "outputs": [
    {
     "name": "stdout",
     "output_type": "stream",
     "text": [
      "_________________________________________________________________\n",
      "Layer (type)                 Output Shape              Param #   \n",
      "=================================================================\n",
      "dense_72 (Dense)             (None, 1024)              108544    \n",
      "_________________________________________________________________\n",
      "dropout_35 (Dropout)         (None, 1024)              0         \n",
      "_________________________________________________________________\n",
      "dense_73 (Dense)             (None, 512)               524800    \n",
      "_________________________________________________________________\n",
      "dropout_36 (Dropout)         (None, 512)               0         \n",
      "_________________________________________________________________\n",
      "dense_74 (Dense)             (None, 128)               65664     \n",
      "_________________________________________________________________\n",
      "dense_75 (Dense)             (None, 1)                 129       \n",
      "=================================================================\n",
      "Total params: 699,137\n",
      "Trainable params: 699,137\n",
      "Non-trainable params: 0\n",
      "_________________________________________________________________\n"
     ]
    }
   ],
   "source": [
    "#model_9 LSTM128, FC9\n",
    "\n",
    "model_2018 = Sequential()\n",
    "model_2018.add(Dense(1024, input_dim = 105))\n",
    "model_2018.add(Dropout(rate=0.5))\n",
    "model_2018.add(Dense(512, activation=\"relu\"))\n",
    "model_2018.add(Dropout(rate=0.5))\n",
    "model_2018.add(Dense(128, activation=\"relu\"))\n",
    "model_2018.add(Dense(1, activation='relu'))\n",
    "adam = optimizers.Adam(lr = 0.001)\n",
    "model_2018.compile(loss = \"mse\", optimizer=adam, metrics=[\"accuracy\"])\n",
    "model_2018.summary()"
   ]
  },
  {
   "cell_type": "markdown",
   "metadata": {},
   "source": [
    "### Training"
   ]
  },
  {
   "cell_type": "code",
   "execution_count": 305,
   "metadata": {},
   "outputs": [
    {
     "name": "stdout",
     "output_type": "stream",
     "text": [
      "Train on 9828 samples, validate on 184 samples\n",
      "Epoch 1/10\n",
      "9828/9828 [==============================] - 6s 617us/step - loss: 962.2643 - acc: 0.0819 - val_loss: 273.4674 - val_acc: 0.0272\n",
      "\n",
      "Epoch 00001: val_acc improved from -inf to 0.02717, saving model to B/saved-model-001-0.0272.hdf5\n",
      "Epoch 2/10\n",
      "9828/9828 [==============================] - 3s 284us/step - loss: 226.1759 - acc: 0.0829 - val_loss: 273.4674 - val_acc: 0.0272\n",
      "\n",
      "Epoch 00002: val_acc did not improve\n",
      "Epoch 3/10\n",
      "9828/9828 [==============================] - 3s 277us/step - loss: 226.1759 - acc: 0.0829 - val_loss: 273.4674 - val_acc: 0.0272\n",
      "\n",
      "Epoch 00003: val_acc did not improve\n",
      "Epoch 4/10\n",
      "9828/9828 [==============================] - 3s 295us/step - loss: 226.1759 - acc: 0.0829 - val_loss: 273.4674 - val_acc: 0.0272\n",
      "\n",
      "Epoch 00004: val_acc did not improve\n",
      "Epoch 5/10\n",
      "9828/9828 [==============================] - 3s 272us/step - loss: 226.1759 - acc: 0.0829 - val_loss: 273.4674 - val_acc: 0.0272\n",
      "\n",
      "Epoch 00005: val_acc did not improve\n",
      "Epoch 6/10\n",
      "9828/9828 [==============================] - 3s 297us/step - loss: 226.1759 - acc: 0.0829 - val_loss: 273.4674 - val_acc: 0.0272\n",
      "\n",
      "Epoch 00006: val_acc did not improve\n",
      "Epoch 7/10\n",
      "9828/9828 [==============================] - 4s 372us/step - loss: 226.1759 - acc: 0.0829 - val_loss: 273.4674 - val_acc: 0.0272\n",
      "\n",
      "Epoch 00007: val_acc did not improve\n",
      "Epoch 8/10\n",
      "9828/9828 [==============================] - 3s 322us/step - loss: 226.1759 - acc: 0.0829 - val_loss: 273.4674 - val_acc: 0.0272\n",
      "\n",
      "Epoch 00008: val_acc did not improve\n",
      "Epoch 9/10\n",
      "9828/9828 [==============================] - 3s 308us/step - loss: 226.1759 - acc: 0.0829 - val_loss: 273.4674 - val_acc: 0.0272\n",
      "\n",
      "Epoch 00009: val_acc did not improve\n",
      "Epoch 10/10\n",
      "9828/9828 [==============================] - 3s 322us/step - loss: 226.1759 - acc: 0.0829 - val_loss: 273.4674 - val_acc: 0.0272\n",
      "\n",
      "Epoch 00010: val_acc did not improve\n"
     ]
    }
   ],
   "source": [
    "from sklearn.utils import class_weight\n",
    "class_weight = class_weight.compute_class_weight('balanced'\n",
    "                                               ,np.unique(y_train_class)\n",
    "                                               ,y_train_class)\n",
    "\n",
    "filepath = \"saved-model-{epoch:03d}-{val_acc:.4f}-2018.hdf5\"\n",
    "checkpoint = ModelCheckpoint(filepath, monitor='val_acc', verbose=1, save_best_only=True, mode='max')\n",
    "model_2017_stat = model_2017.fit(x_train_2017, y_train_2017, \n",
    "                              batch_size=128, \n",
    "                              epochs=10, \n",
    "                              validation_data=(x_test_2018, y_test_2018),\n",
    "                              callbacks=[checkpoint],\n",
    "                              shuffle=True,\n",
    "                              class_weight=class_weight\n",
    "                             )"
   ]
  },
  {
   "cell_type": "code",
   "execution_count": 306,
   "metadata": {},
   "outputs": [
    {
     "name": "stdout",
     "output_type": "stream",
     "text": [
      "Train on 10012 samples, validate on 191 samples\n",
      "Epoch 1/10\n",
      "10012/10012 [==============================] - 4s 366us/step - loss: 440.4897 - acc: 0.0815 - val_loss: 360.3194 - val_acc: 0.0209\n",
      "\n",
      "Epoch 00001: val_acc improved from -inf to 0.02094, saving model to C/saved-model-001-0.0209.hdf5\n",
      "Epoch 2/10\n",
      "10012/10012 [==============================] - 3s 293us/step - loss: 227.0450 - acc: 0.0819 - val_loss: 360.3194 - val_acc: 0.0209\n",
      "\n",
      "Epoch 00002: val_acc did not improve\n",
      "Epoch 3/10\n",
      "10012/10012 [==============================] - 3s 256us/step - loss: 227.0450 - acc: 0.0819 - val_loss: 360.3194 - val_acc: 0.0209\n",
      "\n",
      "Epoch 00003: val_acc did not improve\n",
      "Epoch 4/10\n",
      "10012/10012 [==============================] - 3s 259us/step - loss: 227.0450 - acc: 0.0819 - val_loss: 360.3194 - val_acc: 0.0209\n",
      "\n",
      "Epoch 00004: val_acc did not improve\n",
      "Epoch 5/10\n",
      "10012/10012 [==============================] - 3s 258us/step - loss: 227.0450 - acc: 0.0819 - val_loss: 360.3194 - val_acc: 0.0209\n",
      "\n",
      "Epoch 00005: val_acc did not improve\n",
      "Epoch 6/10\n",
      "10012/10012 [==============================] - 3s 259us/step - loss: 227.0450 - acc: 0.0819 - val_loss: 360.3194 - val_acc: 0.0209\n",
      "\n",
      "Epoch 00006: val_acc did not improve\n",
      "Epoch 7/10\n",
      "10012/10012 [==============================] - 3s 293us/step - loss: 227.0450 - acc: 0.0819 - val_loss: 360.3194 - val_acc: 0.0209\n",
      "\n",
      "Epoch 00007: val_acc did not improve\n",
      "Epoch 8/10\n",
      "10012/10012 [==============================] - 4s 397us/step - loss: 227.0450 - acc: 0.0819 - val_loss: 360.3194 - val_acc: 0.0209\n",
      "\n",
      "Epoch 00008: val_acc did not improve\n",
      "Epoch 9/10\n",
      "10012/10012 [==============================] - 3s 316us/step - loss: 227.0450 - acc: 0.0819 - val_loss: 360.3194 - val_acc: 0.0209\n",
      "\n",
      "Epoch 00009: val_acc did not improve\n",
      "Epoch 10/10\n",
      "10012/10012 [==============================] - 3s 267us/step - loss: 227.0450 - acc: 0.0819 - val_loss: 360.3194 - val_acc: 0.0209\n",
      "\n",
      "Epoch 00010: val_acc did not improve\n"
     ]
    }
   ],
   "source": [
    "from sklearn.utils import class_weight\n",
    "class_weight = class_weight.compute_class_weight('balanced'\n",
    "                                               ,np.unique(y_train_class)\n",
    "                                               ,y_train_class)\n",
    "\n",
    "filepath = \"saved-model-{epoch:03d}-{val_acc:.4f}-2019.hdf5\"\n",
    "checkpoint = ModelCheckpoint(filepath, monitor='val_acc', verbose=1, save_best_only=True, mode='max')\n",
    "model_2018_stat = model_2018.fit(x_train_2018, y_train_2018, \n",
    "                              batch_size=128, \n",
    "                              epochs=10, \n",
    "                              validation_data=(x_test_2019, y_test_2019),\n",
    "                              callbacks=[checkpoint],\n",
    "                              shuffle=True,\n",
    "                              class_weight=class_weight\n",
    "                             )"
   ]
  },
  {
   "cell_type": "code",
   "execution_count": 73,
   "metadata": {},
   "outputs": [],
   "source": [
    "BBB = load_model('ML/saved-model-001-0.0272-2018.hdf5')\n",
    "CCC = load_model('ML/saved-model-001-0.0209-2019.hdf5')"
   ]
  },
  {
   "cell_type": "code",
   "execution_count": 134,
   "metadata": {},
   "outputs": [
    {
     "name": "stdout",
     "output_type": "stream",
     "text": [
      "答對：0.0272\n",
      "正負1：0.0978\n",
      "正負3：0.1522\n",
      "正負5：0.2391\n",
      "正負10：0.4457\n"
     ]
    }
   ],
   "source": [
    "t = 0\n",
    "a = 0\n",
    "b = 0\n",
    "c = 0\n",
    "d = 0\n",
    "g = []\n",
    "l = []\n",
    "m = []\n",
    "m1 = []\n",
    "n = []\n",
    "n1 = []\n",
    "p = []\n",
    "p1 = []\n",
    "q = []\n",
    "q1 = []\n",
    "predictions = BBB.predict(x_test_2018)\n",
    "for i in range(len(y_test_2018)):\n",
    "    k = np.round(predictions)[i] - y_test_2018[i]\n",
    "    if abs(k) < 11:\n",
    "        d += 1\n",
    "        g.append(y_test_2018[i])\n",
    "        if abs(k) < 6:\n",
    "            c += 1\n",
    "            l.append(y_test_2018[i])\n",
    "            if abs(k) < 4:\n",
    "                b += 1\n",
    "                m.append(y_test_2018[i])\n",
    "                m1.append(i)\n",
    "                if abs(k) < 2:\n",
    "                    a += 1\n",
    "                    n.append(y_test_2018[i])\n",
    "                    n1.append(i)\n",
    "                    if abs(k) == 0:\n",
    "                        t += 1\n",
    "                        p.append(y_test_2018[i])\n",
    "                        p1.append(i)\n",
    "    else:\n",
    "        q.append(y_test_2018[i])\n",
    "        q1.append(i)\n",
    "print(\"答對：%.4f\" % (t/len(y_test_2018)))\n",
    "print(\"正負1：%.4f\" % (a/len(y_test_2018)))\n",
    "print(\"正負3：%.4f\" % (b/len(y_test_2018)))\n",
    "print(\"正負5：%.4f\" % (c/len(y_test_2018)))\n",
    "print(\"正負10：%.4f\" % (d/len(y_test_2018)))"
   ]
  },
  {
   "cell_type": "code",
   "execution_count": 135,
   "metadata": {},
   "outputs": [
    {
     "name": "stdout",
     "output_type": "stream",
     "text": [
      "mean_absolute_error: 13.293478260869565\n",
      "mean_squared_error: 273.4673913043478\n",
      "rmse: 16.53684949754178\n"
     ]
    }
   ],
   "source": [
    "print(\"mean_absolute_error:\",mean_absolute_error(predictions,y_test_2018))\n",
    "print(\"mean_squared_error:\",mean_squared_error(predictions,y_test_2018))\n",
    "print(\"rmse:\",sqrt(mean_squared_error(predictions,y_test_2018)))"
   ]
  },
  {
   "cell_type": "code",
   "execution_count": 136,
   "metadata": {},
   "outputs": [
    {
     "data": {
      "text/plain": [
       "Counter({0.0: 5})"
      ]
     },
     "execution_count": 136,
     "metadata": {},
     "output_type": "execute_result"
    }
   ],
   "source": [
    "Counter(sorted(p))"
   ]
  },
  {
   "cell_type": "code",
   "execution_count": 137,
   "metadata": {},
   "outputs": [
    {
     "data": {
      "text/plain": [
       "Counter({0.0: 5, 1.0: 13})"
      ]
     },
     "execution_count": 137,
     "metadata": {},
     "output_type": "execute_result"
    }
   ],
   "source": [
    "Counter(sorted(n))"
   ]
  },
  {
   "cell_type": "code",
   "execution_count": 138,
   "metadata": {},
   "outputs": [
    {
     "data": {
      "text/plain": [
       "Counter({0.0: 5, 1.0: 13, 2.0: 6, 3.0: 4})"
      ]
     },
     "execution_count": 138,
     "metadata": {},
     "output_type": "execute_result"
    }
   ],
   "source": [
    "Counter(sorted(m))"
   ]
  },
  {
   "cell_type": "code",
   "execution_count": 139,
   "metadata": {},
   "outputs": [
    {
     "data": {
      "text/plain": [
       "Counter({11.0: 10,\n",
       "         12.0: 6,\n",
       "         13.0: 9,\n",
       "         14.0: 7,\n",
       "         15.0: 9,\n",
       "         16.0: 6,\n",
       "         17.0: 2,\n",
       "         18.0: 3,\n",
       "         19.0: 3,\n",
       "         20.0: 5,\n",
       "         21.0: 7,\n",
       "         22.0: 2,\n",
       "         23.0: 9,\n",
       "         24.0: 3,\n",
       "         25.0: 3,\n",
       "         27.0: 3,\n",
       "         28.0: 1,\n",
       "         29.0: 1,\n",
       "         30.0: 1,\n",
       "         32.0: 1,\n",
       "         33.0: 1,\n",
       "         34.0: 1,\n",
       "         36.0: 2,\n",
       "         37.0: 2,\n",
       "         38.0: 2,\n",
       "         39.0: 1,\n",
       "         43.0: 1,\n",
       "         48.0: 1})"
      ]
     },
     "execution_count": 139,
     "metadata": {},
     "output_type": "execute_result"
    }
   ],
   "source": [
    "Counter(sorted(q))"
   ]
  },
  {
   "cell_type": "code",
   "execution_count": 140,
   "metadata": {},
   "outputs": [
    {
     "name": "stdout",
     "output_type": "stream",
     "text": [
      "0: [65, 77, 82, 101, 155]\n",
      "1: [15, 27, 31, 36, 39, 49, 65, 77, 82, 101, 115, 137, 139, 142, 147, 155, 156, 171]\n",
      "3: [2, 13, 15, 21, 27, 31, 36, 39, 47, 49, 55, 65, 77, 82, 85, 88, 93, 94, 101, 115, 136, 137, 139, 142, 147, 155, 156, 171]\n",
      "NA: [0, 3, 4, 7, 10, 11, 12, 14, 16, 17, 19, 23, 25, 28, 29, 32, 34, 35, 37, 38, 40, 41, 42, 43, 45, 46, 50, 52, 53, 57, 58, 59, 60, 61, 62, 63, 64, 66, 67, 70, 71, 72, 74, 75, 76, 79, 80, 84, 87, 90, 92, 95, 97, 99, 100, 102, 103, 104, 106, 109, 110, 111, 112, 119, 122, 123, 124, 125, 126, 127, 128, 131, 133, 135, 138, 140, 143, 144, 146, 148, 149, 151, 153, 157, 158, 159, 161, 162, 163, 164, 165, 166, 167, 168, 169, 170, 174, 175, 176, 179, 181, 183]\n"
     ]
    }
   ],
   "source": [
    "print('0:',p1)\n",
    "print('1:',n1)\n",
    "print('3:',m1)\n",
    "print('NA:',q1)"
   ]
  },
  {
   "cell_type": "code",
   "execution_count": 141,
   "metadata": {},
   "outputs": [],
   "source": [
    "BB = testing_2018.copy()\n",
    "BB['Prediction'] = np.round(predictions)\n",
    "BB['Difference'] = BB.SixthYear_HR - BB.Prediction"
   ]
  },
  {
   "cell_type": "code",
   "execution_count": 143,
   "metadata": {},
   "outputs": [
    {
     "name": "stdout",
     "output_type": "stream",
     "text": [
      "答對：0.0209\n",
      "正負1：0.0733\n",
      "正負3：0.1885\n",
      "正負5：0.2356\n",
      "正負10：0.3927\n"
     ]
    }
   ],
   "source": [
    "t = 0\n",
    "a = 0\n",
    "b = 0\n",
    "c = 0\n",
    "d = 0\n",
    "g = []\n",
    "l = []\n",
    "m = []\n",
    "m1 = []\n",
    "n = []\n",
    "n1 = []\n",
    "p = []\n",
    "p1 = []\n",
    "q = []\n",
    "q1 = []\n",
    "predictions = CCC.predict(x_test_2019)\n",
    "for i in range(len(y_test_2019)):\n",
    "    k = np.round(predictions)[i] - y_test_2019[i]\n",
    "    if abs(k) < 11:\n",
    "        d += 1\n",
    "        g.append(y_test_2019[i])\n",
    "        if abs(k) < 6:\n",
    "            c += 1\n",
    "            l.append(y_test_2019[i])\n",
    "            if abs(k) < 4:\n",
    "                b += 1\n",
    "                m.append(y_test_2019[i])\n",
    "                m1.append(i)\n",
    "                if abs(k) < 2:\n",
    "                    a += 1\n",
    "                    n.append(y_test_2019[i])\n",
    "                    n1.append(i)\n",
    "                    if abs(k) == 0:\n",
    "                        t += 1\n",
    "                        p.append(y_test_2019[i])\n",
    "                        p1.append(i)\n",
    "    else:\n",
    "        q.append(y_test_2019[i])\n",
    "        q1.append(i)\n",
    "print(\"答對：%.4f\" % (t/len(y_test_2019)))\n",
    "print(\"正負1：%.4f\" % (a/len(y_test_2019)))\n",
    "print(\"正負3：%.4f\" % (b/len(y_test_2019)))\n",
    "print(\"正負5：%.4f\" % (c/len(y_test_2019)))\n",
    "print(\"正負10：%.4f\" % (d/len(y_test_2019)))"
   ]
  },
  {
   "cell_type": "code",
   "execution_count": 144,
   "metadata": {},
   "outputs": [
    {
     "name": "stdout",
     "output_type": "stream",
     "text": [
      "mean_absolute_error: 15.178010471204189\n",
      "mean_squared_error: 360.3193717277487\n",
      "rmse: 18.982080279246233\n"
     ]
    }
   ],
   "source": [
    "print(\"mean_absolute_error:\",mean_absolute_error(predictions,y_test_2019))\n",
    "print(\"mean_squared_error:\",mean_squared_error(predictions,y_test_2019))\n",
    "print(\"rmse:\",sqrt(mean_squared_error(predictions,y_test_2019)))"
   ]
  },
  {
   "cell_type": "code",
   "execution_count": 145,
   "metadata": {},
   "outputs": [
    {
     "data": {
      "text/plain": [
       "Counter({0.0: 4})"
      ]
     },
     "execution_count": 145,
     "metadata": {},
     "output_type": "execute_result"
    }
   ],
   "source": [
    "Counter(sorted(p))"
   ]
  },
  {
   "cell_type": "code",
   "execution_count": 146,
   "metadata": {},
   "outputs": [
    {
     "data": {
      "text/plain": [
       "Counter({0.0: 4, 1.0: 10})"
      ]
     },
     "execution_count": 146,
     "metadata": {},
     "output_type": "execute_result"
    }
   ],
   "source": [
    "Counter(sorted(n))"
   ]
  },
  {
   "cell_type": "code",
   "execution_count": 147,
   "metadata": {},
   "outputs": [
    {
     "data": {
      "text/plain": [
       "Counter({0.0: 4, 1.0: 10, 2.0: 14, 3.0: 8})"
      ]
     },
     "execution_count": 147,
     "metadata": {},
     "output_type": "execute_result"
    }
   ],
   "source": [
    "Counter(sorted(m))"
   ]
  },
  {
   "cell_type": "code",
   "execution_count": 148,
   "metadata": {},
   "outputs": [
    {
     "data": {
      "text/plain": [
       "Counter({11.0: 8,\n",
       "         12.0: 15,\n",
       "         13.0: 5,\n",
       "         14.0: 4,\n",
       "         15.0: 5,\n",
       "         16.0: 4,\n",
       "         17.0: 7,\n",
       "         18.0: 3,\n",
       "         19.0: 4,\n",
       "         20.0: 5,\n",
       "         21.0: 4,\n",
       "         22.0: 4,\n",
       "         23.0: 7,\n",
       "         24.0: 4,\n",
       "         25.0: 1,\n",
       "         26.0: 2,\n",
       "         27.0: 3,\n",
       "         28.0: 2,\n",
       "         29.0: 3,\n",
       "         30.0: 1,\n",
       "         31.0: 2,\n",
       "         32.0: 2,\n",
       "         33.0: 4,\n",
       "         34.0: 4,\n",
       "         35.0: 3,\n",
       "         36.0: 1,\n",
       "         37.0: 1,\n",
       "         38.0: 1,\n",
       "         39.0: 1,\n",
       "         41.0: 2,\n",
       "         44.0: 1,\n",
       "         45.0: 1,\n",
       "         48.0: 1,\n",
       "         49.0: 1})"
      ]
     },
     "execution_count": 148,
     "metadata": {},
     "output_type": "execute_result"
    }
   ],
   "source": [
    "Counter(sorted(q))"
   ]
  },
  {
   "cell_type": "code",
   "execution_count": 149,
   "metadata": {},
   "outputs": [
    {
     "name": "stdout",
     "output_type": "stream",
     "text": [
      "0: [35, 82, 96, 175]\n",
      "1: [4, 35, 42, 82, 84, 88, 96, 99, 138, 157, 169, 175, 178, 189]\n",
      "3: [4, 32, 35, 42, 43, 66, 67, 70, 71, 74, 78, 81, 82, 84, 88, 91, 93, 96, 99, 119, 126, 128, 132, 134, 138, 142, 148, 151, 157, 161, 169, 171, 173, 175, 178, 189]\n",
      "NA: [0, 1, 3, 6, 7, 8, 10, 11, 12, 13, 14, 15, 17, 18, 19, 20, 22, 23, 24, 25, 26, 28, 29, 30, 31, 33, 34, 36, 37, 38, 39, 40, 41, 44, 45, 46, 47, 48, 52, 53, 54, 56, 58, 59, 60, 61, 62, 63, 64, 65, 68, 69, 72, 73, 75, 76, 77, 79, 83, 86, 87, 89, 90, 92, 97, 100, 101, 103, 106, 107, 109, 111, 112, 115, 116, 120, 121, 124, 127, 129, 130, 131, 133, 135, 139, 140, 141, 143, 144, 146, 149, 150, 152, 153, 154, 155, 158, 162, 163, 164, 165, 166, 168, 170, 172, 174, 176, 177, 179, 180, 181, 182, 183, 185, 186, 187]\n"
     ]
    }
   ],
   "source": [
    "print('0:',p1)\n",
    "print('1:',n1)\n",
    "print('3:',m1)\n",
    "print('NA:',q1)"
   ]
  },
  {
   "cell_type": "markdown",
   "metadata": {},
   "source": [
    "### Analysis"
   ]
  },
  {
   "cell_type": "code",
   "execution_count": 150,
   "metadata": {},
   "outputs": [],
   "source": [
    "CC = testing_2019.copy()\n",
    "CC['Prediction'] = np.round(predictions)\n",
    "CC['Difference'] = CC.SixthYear_HR - CC.Prediction"
   ]
  },
  {
   "cell_type": "code",
   "execution_count": 197,
   "metadata": {},
   "outputs": [
    {
     "data": {
      "text/html": [
       "<div>\n",
       "<style scoped>\n",
       "    .dataframe tbody tr th:only-of-type {\n",
       "        vertical-align: middle;\n",
       "    }\n",
       "\n",
       "    .dataframe tbody tr th {\n",
       "        vertical-align: top;\n",
       "    }\n",
       "\n",
       "    .dataframe thead th {\n",
       "        text-align: right;\n",
       "    }\n",
       "</style>\n",
       "<table border=\"1\" class=\"dataframe\">\n",
       "  <thead>\n",
       "    <tr style=\"text-align: right;\">\n",
       "      <th></th>\n",
       "      <th>FirstYear_yearID</th>\n",
       "      <th>FirstYear_G</th>\n",
       "      <th>FirstYear_AB</th>\n",
       "      <th>FirstYear_R</th>\n",
       "      <th>FirstYear_H</th>\n",
       "      <th>FirstYear_2B</th>\n",
       "      <th>FirstYear_3B</th>\n",
       "      <th>FirstYear_HR</th>\n",
       "      <th>FirstYear_RBI</th>\n",
       "      <th>FirstYear_SB</th>\n",
       "      <th>...</th>\n",
       "      <th>SixthYear_SF</th>\n",
       "      <th>SixthYear_GIDP</th>\n",
       "      <th>SixthYear_nameFirst</th>\n",
       "      <th>SixthYear_nameLast</th>\n",
       "      <th>SixthYear_nameGiven</th>\n",
       "      <th>SixthYear_weight</th>\n",
       "      <th>SixthYear_height</th>\n",
       "      <th>SixthYear_age</th>\n",
       "      <th>Prediction</th>\n",
       "      <th>Difference</th>\n",
       "    </tr>\n",
       "  </thead>\n",
       "  <tbody>\n",
       "  </tbody>\n",
       "</table>\n",
       "<p>0 rows × 136 columns</p>\n",
       "</div>"
      ],
      "text/plain": [
       "Empty DataFrame\n",
       "Columns: [FirstYear_yearID, FirstYear_G, FirstYear_AB, FirstYear_R, FirstYear_H, FirstYear_2B, FirstYear_3B, FirstYear_HR, FirstYear_RBI, FirstYear_SB, FirstYear_CS, FirstYear_BB, FirstYear_SO, FirstYear_IBB, FirstYear_HBP, FirstYear_SH, FirstYear_SF, FirstYear_GIDP, FirstYear_weight, FirstYear_height, FirstYear_age, SecondYear_yearID, SecondYear_G, SecondYear_AB, SecondYear_R, SecondYear_H, SecondYear_2B, SecondYear_3B, SecondYear_HR, SecondYear_RBI, SecondYear_SB, SecondYear_CS, SecondYear_BB, SecondYear_SO, SecondYear_IBB, SecondYear_HBP, SecondYear_SH, SecondYear_SF, SecondYear_GIDP, SecondYear_weight, SecondYear_height, SecondYear_age, ThirdYear_yearID, ThirdYear_G, ThirdYear_AB, ThirdYear_R, ThirdYear_H, ThirdYear_2B, ThirdYear_3B, ThirdYear_HR, ThirdYear_RBI, ThirdYear_SB, ThirdYear_CS, ThirdYear_BB, ThirdYear_SO, ThirdYear_IBB, ThirdYear_HBP, ThirdYear_SH, ThirdYear_SF, ThirdYear_GIDP, ThirdYear_weight, ThirdYear_height, ThirdYear_age, FourthYear_yearID, FourthYear_G, FourthYear_AB, FourthYear_R, FourthYear_H, FourthYear_2B, FourthYear_3B, FourthYear_HR, FourthYear_RBI, FourthYear_SB, FourthYear_CS, FourthYear_BB, FourthYear_SO, FourthYear_IBB, FourthYear_HBP, FourthYear_SH, FourthYear_SF, FourthYear_GIDP, FourthYear_weight, FourthYear_height, FourthYear_age, FifthYear_yearID, FifthYear_G, FifthYear_AB, FifthYear_R, FifthYear_H, FifthYear_2B, FifthYear_3B, FifthYear_HR, FifthYear_RBI, FifthYear_SB, FifthYear_CS, FifthYear_BB, FifthYear_SO, FifthYear_IBB, FifthYear_HBP, FifthYear_SH, ...]\n",
       "Index: []\n",
       "\n",
       "[0 rows x 136 columns]"
      ]
     },
     "execution_count": 197,
     "metadata": {},
     "output_type": "execute_result"
    }
   ],
   "source": [
    "regr_2018_dataframe[regr_2018_dataframe.Prediction > 39]"
   ]
  },
  {
   "cell_type": "code",
   "execution_count": 204,
   "metadata": {},
   "outputs": [
    {
     "data": {
      "text/plain": [
       "101"
      ]
     },
     "execution_count": 204,
     "metadata": {},
     "output_type": "execute_result"
    }
   ],
   "source": [
    "len(regr_2018_dataframe[regr_2018_dataframe.Difference < 0])"
   ]
  },
  {
   "cell_type": "code",
   "execution_count": 205,
   "metadata": {},
   "outputs": [
    {
     "data": {
      "text/plain": [
       "8"
      ]
     },
     "execution_count": 205,
     "metadata": {},
     "output_type": "execute_result"
    }
   ],
   "source": [
    "len(regr_2018_dataframe[regr_2018_dataframe.Difference == 0])"
   ]
  },
  {
   "cell_type": "code",
   "execution_count": 206,
   "metadata": {},
   "outputs": [
    {
     "data": {
      "text/plain": [
       "75"
      ]
     },
     "execution_count": 206,
     "metadata": {},
     "output_type": "execute_result"
    }
   ],
   "source": [
    "len(regr_2018_dataframe[regr_2018_dataframe.Difference > 0])"
   ]
  },
  {
   "cell_type": "code",
   "execution_count": 196,
   "metadata": {},
   "outputs": [
    {
     "data": {
      "text/html": [
       "<div>\n",
       "<style scoped>\n",
       "    .dataframe tbody tr th:only-of-type {\n",
       "        vertical-align: middle;\n",
       "    }\n",
       "\n",
       "    .dataframe tbody tr th {\n",
       "        vertical-align: top;\n",
       "    }\n",
       "\n",
       "    .dataframe thead th {\n",
       "        text-align: right;\n",
       "    }\n",
       "</style>\n",
       "<table border=\"1\" class=\"dataframe\">\n",
       "  <thead>\n",
       "    <tr style=\"text-align: right;\">\n",
       "      <th></th>\n",
       "      <th>FirstYear_yearID</th>\n",
       "      <th>FirstYear_G</th>\n",
       "      <th>FirstYear_AB</th>\n",
       "      <th>FirstYear_R</th>\n",
       "      <th>FirstYear_H</th>\n",
       "      <th>FirstYear_2B</th>\n",
       "      <th>FirstYear_3B</th>\n",
       "      <th>FirstYear_HR</th>\n",
       "      <th>FirstYear_RBI</th>\n",
       "      <th>FirstYear_SB</th>\n",
       "      <th>...</th>\n",
       "      <th>SixthYear_SF</th>\n",
       "      <th>SixthYear_GIDP</th>\n",
       "      <th>SixthYear_nameFirst</th>\n",
       "      <th>SixthYear_nameLast</th>\n",
       "      <th>SixthYear_nameGiven</th>\n",
       "      <th>SixthYear_weight</th>\n",
       "      <th>SixthYear_height</th>\n",
       "      <th>SixthYear_age</th>\n",
       "      <th>Prediction</th>\n",
       "      <th>Difference</th>\n",
       "    </tr>\n",
       "  </thead>\n",
       "  <tbody>\n",
       "    <tr>\n",
       "      <th>38</th>\n",
       "      <td>2013</td>\n",
       "      <td>56.0</td>\n",
       "      <td>136.0</td>\n",
       "      <td>27.0</td>\n",
       "      <td>38.0</td>\n",
       "      <td>10.0</td>\n",
       "      <td>0.0</td>\n",
       "      <td>11.0</td>\n",
       "      <td>27.0</td>\n",
       "      <td>3.0</td>\n",
       "      <td>...</td>\n",
       "      <td>7.0</td>\n",
       "      <td>16.0</td>\n",
       "      <td>Khris</td>\n",
       "      <td>Davis</td>\n",
       "      <td>Khristopher Adrian</td>\n",
       "      <td>205.0</td>\n",
       "      <td>71.0</td>\n",
       "      <td>31.0</td>\n",
       "      <td>43.0</td>\n",
       "      <td>5.0</td>\n",
       "    </tr>\n",
       "    <tr>\n",
       "      <th>111</th>\n",
       "      <td>2013</td>\n",
       "      <td>86.0</td>\n",
       "      <td>296.0</td>\n",
       "      <td>24.0</td>\n",
       "      <td>74.0</td>\n",
       "      <td>17.0</td>\n",
       "      <td>0.0</td>\n",
       "      <td>7.0</td>\n",
       "      <td>36.0</td>\n",
       "      <td>2.0</td>\n",
       "      <td>...</td>\n",
       "      <td>7.0</td>\n",
       "      <td>19.0</td>\n",
       "      <td>J. D.</td>\n",
       "      <td>Martinez</td>\n",
       "      <td>Julio Daniel</td>\n",
       "      <td>230.0</td>\n",
       "      <td>75.0</td>\n",
       "      <td>31.0</td>\n",
       "      <td>40.0</td>\n",
       "      <td>3.0</td>\n",
       "    </tr>\n",
       "  </tbody>\n",
       "</table>\n",
       "<p>2 rows × 136 columns</p>\n",
       "</div>"
      ],
      "text/plain": [
       "     FirstYear_yearID  FirstYear_G  FirstYear_AB  FirstYear_R  FirstYear_H  \\\n",
       "38               2013         56.0         136.0         27.0         38.0   \n",
       "111              2013         86.0         296.0         24.0         74.0   \n",
       "\n",
       "     FirstYear_2B  FirstYear_3B  FirstYear_HR  FirstYear_RBI  FirstYear_SB  \\\n",
       "38           10.0           0.0          11.0           27.0           3.0   \n",
       "111          17.0           0.0           7.0           36.0           2.0   \n",
       "\n",
       "     ...  SixthYear_SF  SixthYear_GIDP  SixthYear_nameFirst  \\\n",
       "38   ...           7.0            16.0                Khris   \n",
       "111  ...           7.0            19.0                J. D.   \n",
       "\n",
       "     SixthYear_nameLast  SixthYear_nameGiven  SixthYear_weight  \\\n",
       "38                Davis   Khristopher Adrian             205.0   \n",
       "111            Martinez         Julio Daniel             230.0   \n",
       "\n",
       "     SixthYear_height  SixthYear_age  Prediction  Difference  \n",
       "38               71.0           31.0        43.0         5.0  \n",
       "111              75.0           31.0        40.0         3.0  \n",
       "\n",
       "[2 rows x 136 columns]"
      ]
     },
     "execution_count": 196,
     "metadata": {},
     "output_type": "execute_result"
    }
   ],
   "source": [
    "SVM_2018_dataframe[SVM_2018_dataframe.Prediction > 39]"
   ]
  },
  {
   "cell_type": "code",
   "execution_count": 203,
   "metadata": {},
   "outputs": [
    {
     "data": {
      "text/plain": [
       "115"
      ]
     },
     "execution_count": 203,
     "metadata": {},
     "output_type": "execute_result"
    }
   ],
   "source": [
    "len(SVM_2018_dataframe[SVM_2018_dataframe.Difference < 0])"
   ]
  },
  {
   "cell_type": "code",
   "execution_count": 207,
   "metadata": {},
   "outputs": [
    {
     "data": {
      "text/plain": [
       "16"
      ]
     },
     "execution_count": 207,
     "metadata": {},
     "output_type": "execute_result"
    }
   ],
   "source": [
    "len(SVM_2018_dataframe[SVM_2018_dataframe.Difference == 0])"
   ]
  },
  {
   "cell_type": "code",
   "execution_count": 208,
   "metadata": {},
   "outputs": [
    {
     "data": {
      "text/plain": [
       "53"
      ]
     },
     "execution_count": 208,
     "metadata": {},
     "output_type": "execute_result"
    }
   ],
   "source": [
    "len(SVM_2018_dataframe[SVM_2018_dataframe.Difference > 0])"
   ]
  },
  {
   "cell_type": "code",
   "execution_count": 195,
   "metadata": {},
   "outputs": [
    {
     "data": {
      "text/html": [
       "<div>\n",
       "<style scoped>\n",
       "    .dataframe tbody tr th:only-of-type {\n",
       "        vertical-align: middle;\n",
       "    }\n",
       "\n",
       "    .dataframe tbody tr th {\n",
       "        vertical-align: top;\n",
       "    }\n",
       "\n",
       "    .dataframe thead th {\n",
       "        text-align: right;\n",
       "    }\n",
       "</style>\n",
       "<table border=\"1\" class=\"dataframe\">\n",
       "  <thead>\n",
       "    <tr style=\"text-align: right;\">\n",
       "      <th></th>\n",
       "      <th>FirstYear_yearID</th>\n",
       "      <th>FirstYear_G</th>\n",
       "      <th>FirstYear_AB</th>\n",
       "      <th>FirstYear_R</th>\n",
       "      <th>FirstYear_H</th>\n",
       "      <th>FirstYear_2B</th>\n",
       "      <th>FirstYear_3B</th>\n",
       "      <th>FirstYear_HR</th>\n",
       "      <th>FirstYear_RBI</th>\n",
       "      <th>FirstYear_SB</th>\n",
       "      <th>...</th>\n",
       "      <th>SixthYear_SF</th>\n",
       "      <th>SixthYear_GIDP</th>\n",
       "      <th>SixthYear_nameFirst</th>\n",
       "      <th>SixthYear_nameLast</th>\n",
       "      <th>SixthYear_nameGiven</th>\n",
       "      <th>SixthYear_weight</th>\n",
       "      <th>SixthYear_height</th>\n",
       "      <th>SixthYear_age</th>\n",
       "      <th>Prediction</th>\n",
       "      <th>Difference</th>\n",
       "    </tr>\n",
       "  </thead>\n",
       "  <tbody>\n",
       "  </tbody>\n",
       "</table>\n",
       "<p>0 rows × 136 columns</p>\n",
       "</div>"
      ],
      "text/plain": [
       "Empty DataFrame\n",
       "Columns: [FirstYear_yearID, FirstYear_G, FirstYear_AB, FirstYear_R, FirstYear_H, FirstYear_2B, FirstYear_3B, FirstYear_HR, FirstYear_RBI, FirstYear_SB, FirstYear_CS, FirstYear_BB, FirstYear_SO, FirstYear_IBB, FirstYear_HBP, FirstYear_SH, FirstYear_SF, FirstYear_GIDP, FirstYear_weight, FirstYear_height, FirstYear_age, SecondYear_yearID, SecondYear_G, SecondYear_AB, SecondYear_R, SecondYear_H, SecondYear_2B, SecondYear_3B, SecondYear_HR, SecondYear_RBI, SecondYear_SB, SecondYear_CS, SecondYear_BB, SecondYear_SO, SecondYear_IBB, SecondYear_HBP, SecondYear_SH, SecondYear_SF, SecondYear_GIDP, SecondYear_weight, SecondYear_height, SecondYear_age, ThirdYear_yearID, ThirdYear_G, ThirdYear_AB, ThirdYear_R, ThirdYear_H, ThirdYear_2B, ThirdYear_3B, ThirdYear_HR, ThirdYear_RBI, ThirdYear_SB, ThirdYear_CS, ThirdYear_BB, ThirdYear_SO, ThirdYear_IBB, ThirdYear_HBP, ThirdYear_SH, ThirdYear_SF, ThirdYear_GIDP, ThirdYear_weight, ThirdYear_height, ThirdYear_age, FourthYear_yearID, FourthYear_G, FourthYear_AB, FourthYear_R, FourthYear_H, FourthYear_2B, FourthYear_3B, FourthYear_HR, FourthYear_RBI, FourthYear_SB, FourthYear_CS, FourthYear_BB, FourthYear_SO, FourthYear_IBB, FourthYear_HBP, FourthYear_SH, FourthYear_SF, FourthYear_GIDP, FourthYear_weight, FourthYear_height, FourthYear_age, FifthYear_yearID, FifthYear_G, FifthYear_AB, FifthYear_R, FifthYear_H, FifthYear_2B, FifthYear_3B, FifthYear_HR, FifthYear_RBI, FifthYear_SB, FifthYear_CS, FifthYear_BB, FifthYear_SO, FifthYear_IBB, FifthYear_HBP, FifthYear_SH, ...]\n",
       "Index: []\n",
       "\n",
       "[0 rows x 136 columns]"
      ]
     },
     "execution_count": 195,
     "metadata": {},
     "output_type": "execute_result"
    }
   ],
   "source": [
    "RF_2018_dataframe[RF_2018_dataframe.Prediction > 39]"
   ]
  },
  {
   "cell_type": "code",
   "execution_count": 202,
   "metadata": {},
   "outputs": [
    {
     "data": {
      "text/plain": [
       "64"
      ]
     },
     "execution_count": 202,
     "metadata": {},
     "output_type": "execute_result"
    }
   ],
   "source": [
    "len(RF_2018_dataframe[RF_2018_dataframe.Difference < 0])"
   ]
  },
  {
   "cell_type": "code",
   "execution_count": 209,
   "metadata": {},
   "outputs": [
    {
     "data": {
      "text/plain": [
       "10"
      ]
     },
     "execution_count": 209,
     "metadata": {},
     "output_type": "execute_result"
    }
   ],
   "source": [
    "len(RF_2018_dataframe[RF_2018_dataframe.Difference == 0])"
   ]
  },
  {
   "cell_type": "code",
   "execution_count": 210,
   "metadata": {},
   "outputs": [
    {
     "data": {
      "text/plain": [
       "110"
      ]
     },
     "execution_count": 210,
     "metadata": {},
     "output_type": "execute_result"
    }
   ],
   "source": [
    "len(RF_2018_dataframe[RF_2018_dataframe.Difference > 0])"
   ]
  },
  {
   "cell_type": "code",
   "execution_count": 183,
   "metadata": {},
   "outputs": [
    {
     "data": {
      "text/html": [
       "<div>\n",
       "<style scoped>\n",
       "    .dataframe tbody tr th:only-of-type {\n",
       "        vertical-align: middle;\n",
       "    }\n",
       "\n",
       "    .dataframe tbody tr th {\n",
       "        vertical-align: top;\n",
       "    }\n",
       "\n",
       "    .dataframe thead th {\n",
       "        text-align: right;\n",
       "    }\n",
       "</style>\n",
       "<table border=\"1\" class=\"dataframe\">\n",
       "  <thead>\n",
       "    <tr style=\"text-align: right;\">\n",
       "      <th></th>\n",
       "      <th>FirstYear_yearID</th>\n",
       "      <th>FirstYear_G</th>\n",
       "      <th>FirstYear_AB</th>\n",
       "      <th>FirstYear_R</th>\n",
       "      <th>FirstYear_H</th>\n",
       "      <th>FirstYear_2B</th>\n",
       "      <th>FirstYear_3B</th>\n",
       "      <th>FirstYear_HR</th>\n",
       "      <th>FirstYear_RBI</th>\n",
       "      <th>FirstYear_SB</th>\n",
       "      <th>...</th>\n",
       "      <th>SixthYear_SF</th>\n",
       "      <th>SixthYear_GIDP</th>\n",
       "      <th>SixthYear_nameFirst</th>\n",
       "      <th>SixthYear_nameLast</th>\n",
       "      <th>SixthYear_nameGiven</th>\n",
       "      <th>SixthYear_weight</th>\n",
       "      <th>SixthYear_height</th>\n",
       "      <th>SixthYear_age</th>\n",
       "      <th>Prediction</th>\n",
       "      <th>Difference</th>\n",
       "    </tr>\n",
       "  </thead>\n",
       "  <tbody>\n",
       "    <tr>\n",
       "      <th>38</th>\n",
       "      <td>2013</td>\n",
       "      <td>56.0</td>\n",
       "      <td>136.0</td>\n",
       "      <td>27.0</td>\n",
       "      <td>38.0</td>\n",
       "      <td>10.0</td>\n",
       "      <td>0.0</td>\n",
       "      <td>11.0</td>\n",
       "      <td>27.0</td>\n",
       "      <td>3.0</td>\n",
       "      <td>...</td>\n",
       "      <td>7.0</td>\n",
       "      <td>16.0</td>\n",
       "      <td>Khris</td>\n",
       "      <td>Davis</td>\n",
       "      <td>Khristopher Adrian</td>\n",
       "      <td>205.0</td>\n",
       "      <td>71.0</td>\n",
       "      <td>31.0</td>\n",
       "      <td>0.0</td>\n",
       "      <td>48.0</td>\n",
       "    </tr>\n",
       "    <tr>\n",
       "      <th>111</th>\n",
       "      <td>2013</td>\n",
       "      <td>86.0</td>\n",
       "      <td>296.0</td>\n",
       "      <td>24.0</td>\n",
       "      <td>74.0</td>\n",
       "      <td>17.0</td>\n",
       "      <td>0.0</td>\n",
       "      <td>7.0</td>\n",
       "      <td>36.0</td>\n",
       "      <td>2.0</td>\n",
       "      <td>...</td>\n",
       "      <td>7.0</td>\n",
       "      <td>19.0</td>\n",
       "      <td>J. D.</td>\n",
       "      <td>Martinez</td>\n",
       "      <td>Julio Daniel</td>\n",
       "      <td>230.0</td>\n",
       "      <td>75.0</td>\n",
       "      <td>31.0</td>\n",
       "      <td>0.0</td>\n",
       "      <td>43.0</td>\n",
       "    </tr>\n",
       "  </tbody>\n",
       "</table>\n",
       "<p>2 rows × 136 columns</p>\n",
       "</div>"
      ],
      "text/plain": [
       "     FirstYear_yearID  FirstYear_G  FirstYear_AB  FirstYear_R  FirstYear_H  \\\n",
       "38               2013         56.0         136.0         27.0         38.0   \n",
       "111              2013         86.0         296.0         24.0         74.0   \n",
       "\n",
       "     FirstYear_2B  FirstYear_3B  FirstYear_HR  FirstYear_RBI  FirstYear_SB  \\\n",
       "38           10.0           0.0          11.0           27.0           3.0   \n",
       "111          17.0           0.0           7.0           36.0           2.0   \n",
       "\n",
       "     ...  SixthYear_SF  SixthYear_GIDP  SixthYear_nameFirst  \\\n",
       "38   ...           7.0            16.0                Khris   \n",
       "111  ...           7.0            19.0                J. D.   \n",
       "\n",
       "     SixthYear_nameLast  SixthYear_nameGiven  SixthYear_weight  \\\n",
       "38                Davis   Khristopher Adrian             205.0   \n",
       "111            Martinez         Julio Daniel             230.0   \n",
       "\n",
       "     SixthYear_height  SixthYear_age  Prediction  Difference  \n",
       "38               71.0           31.0         0.0        48.0  \n",
       "111              75.0           31.0         0.0        43.0  \n",
       "\n",
       "[2 rows x 136 columns]"
      ]
     },
     "execution_count": 183,
     "metadata": {},
     "output_type": "execute_result"
    }
   ],
   "source": [
    "BB[BB.SixthYear_HR > 39]"
   ]
  },
  {
   "cell_type": "code",
   "execution_count": 211,
   "metadata": {},
   "outputs": [
    {
     "data": {
      "text/plain": [
       "0"
      ]
     },
     "execution_count": 211,
     "metadata": {},
     "output_type": "execute_result"
    }
   ],
   "source": [
    "len(BB[BB.Difference < 0])"
   ]
  },
  {
   "cell_type": "code",
   "execution_count": 212,
   "metadata": {},
   "outputs": [
    {
     "data": {
      "text/plain": [
       "5"
      ]
     },
     "execution_count": 212,
     "metadata": {},
     "output_type": "execute_result"
    }
   ],
   "source": [
    "len(BB[BB.Difference == 0])"
   ]
  },
  {
   "cell_type": "code",
   "execution_count": 213,
   "metadata": {},
   "outputs": [
    {
     "data": {
      "text/plain": [
       "179"
      ]
     },
     "execution_count": 213,
     "metadata": {},
     "output_type": "execute_result"
    }
   ],
   "source": [
    "len(BB[BB.Difference > 0])"
   ]
  },
  {
   "cell_type": "code",
   "execution_count": 194,
   "metadata": {},
   "outputs": [
    {
     "data": {
      "text/html": [
       "<div>\n",
       "<style scoped>\n",
       "    .dataframe tbody tr th:only-of-type {\n",
       "        vertical-align: middle;\n",
       "    }\n",
       "\n",
       "    .dataframe tbody tr th {\n",
       "        vertical-align: top;\n",
       "    }\n",
       "\n",
       "    .dataframe thead th {\n",
       "        text-align: right;\n",
       "    }\n",
       "</style>\n",
       "<table border=\"1\" class=\"dataframe\">\n",
       "  <thead>\n",
       "    <tr style=\"text-align: right;\">\n",
       "      <th></th>\n",
       "      <th>FirstYear_yearID</th>\n",
       "      <th>FirstYear_G</th>\n",
       "      <th>FirstYear_AB</th>\n",
       "      <th>FirstYear_R</th>\n",
       "      <th>FirstYear_H</th>\n",
       "      <th>FirstYear_2B</th>\n",
       "      <th>FirstYear_3B</th>\n",
       "      <th>FirstYear_HR</th>\n",
       "      <th>FirstYear_RBI</th>\n",
       "      <th>FirstYear_SB</th>\n",
       "      <th>...</th>\n",
       "      <th>SixthYear_SF</th>\n",
       "      <th>SixthYear_GIDP</th>\n",
       "      <th>SixthYear_nameFirst</th>\n",
       "      <th>SixthYear_nameLast</th>\n",
       "      <th>SixthYear_nameGiven</th>\n",
       "      <th>SixthYear_weight</th>\n",
       "      <th>SixthYear_height</th>\n",
       "      <th>SixthYear_age</th>\n",
       "      <th>Prediction</th>\n",
       "      <th>Difference</th>\n",
       "    </tr>\n",
       "  </thead>\n",
       "  <tbody>\n",
       "  </tbody>\n",
       "</table>\n",
       "<p>0 rows × 136 columns</p>\n",
       "</div>"
      ],
      "text/plain": [
       "Empty DataFrame\n",
       "Columns: [FirstYear_yearID, FirstYear_G, FirstYear_AB, FirstYear_R, FirstYear_H, FirstYear_2B, FirstYear_3B, FirstYear_HR, FirstYear_RBI, FirstYear_SB, FirstYear_CS, FirstYear_BB, FirstYear_SO, FirstYear_IBB, FirstYear_HBP, FirstYear_SH, FirstYear_SF, FirstYear_GIDP, FirstYear_weight, FirstYear_height, FirstYear_age, SecondYear_yearID, SecondYear_G, SecondYear_AB, SecondYear_R, SecondYear_H, SecondYear_2B, SecondYear_3B, SecondYear_HR, SecondYear_RBI, SecondYear_SB, SecondYear_CS, SecondYear_BB, SecondYear_SO, SecondYear_IBB, SecondYear_HBP, SecondYear_SH, SecondYear_SF, SecondYear_GIDP, SecondYear_weight, SecondYear_height, SecondYear_age, ThirdYear_yearID, ThirdYear_G, ThirdYear_AB, ThirdYear_R, ThirdYear_H, ThirdYear_2B, ThirdYear_3B, ThirdYear_HR, ThirdYear_RBI, ThirdYear_SB, ThirdYear_CS, ThirdYear_BB, ThirdYear_SO, ThirdYear_IBB, ThirdYear_HBP, ThirdYear_SH, ThirdYear_SF, ThirdYear_GIDP, ThirdYear_weight, ThirdYear_height, ThirdYear_age, FourthYear_yearID, FourthYear_G, FourthYear_AB, FourthYear_R, FourthYear_H, FourthYear_2B, FourthYear_3B, FourthYear_HR, FourthYear_RBI, FourthYear_SB, FourthYear_CS, FourthYear_BB, FourthYear_SO, FourthYear_IBB, FourthYear_HBP, FourthYear_SH, FourthYear_SF, FourthYear_GIDP, FourthYear_weight, FourthYear_height, FourthYear_age, FifthYear_yearID, FifthYear_G, FifthYear_AB, FifthYear_R, FifthYear_H, FifthYear_2B, FifthYear_3B, FifthYear_HR, FifthYear_RBI, FifthYear_SB, FifthYear_CS, FifthYear_BB, FifthYear_SO, FifthYear_IBB, FifthYear_HBP, FifthYear_SH, ...]\n",
       "Index: []\n",
       "\n",
       "[0 rows x 136 columns]"
      ]
     },
     "execution_count": 194,
     "metadata": {},
     "output_type": "execute_result"
    }
   ],
   "source": [
    "regr_2019_dataframe[regr_2019_dataframe.Prediction > 39]"
   ]
  },
  {
   "cell_type": "code",
   "execution_count": 201,
   "metadata": {},
   "outputs": [
    {
     "data": {
      "text/plain": [
       "71"
      ]
     },
     "execution_count": 201,
     "metadata": {},
     "output_type": "execute_result"
    }
   ],
   "source": [
    "len(regr_2019_dataframe[regr_2019_dataframe.Difference < 0])"
   ]
  },
  {
   "cell_type": "code",
   "execution_count": 214,
   "metadata": {},
   "outputs": [
    {
     "data": {
      "text/plain": [
       "6"
      ]
     },
     "execution_count": 214,
     "metadata": {},
     "output_type": "execute_result"
    }
   ],
   "source": [
    "len(regr_2019_dataframe[regr_2019_dataframe.Difference == 0])"
   ]
  },
  {
   "cell_type": "code",
   "execution_count": 215,
   "metadata": {},
   "outputs": [
    {
     "data": {
      "text/plain": [
       "114"
      ]
     },
     "execution_count": 215,
     "metadata": {},
     "output_type": "execute_result"
    }
   ],
   "source": [
    "len(regr_2019_dataframe[regr_2019_dataframe.Difference > 0])"
   ]
  },
  {
   "cell_type": "code",
   "execution_count": 193,
   "metadata": {},
   "outputs": [
    {
     "data": {
      "text/html": [
       "<div>\n",
       "<style scoped>\n",
       "    .dataframe tbody tr th:only-of-type {\n",
       "        vertical-align: middle;\n",
       "    }\n",
       "\n",
       "    .dataframe tbody tr th {\n",
       "        vertical-align: top;\n",
       "    }\n",
       "\n",
       "    .dataframe thead th {\n",
       "        text-align: right;\n",
       "    }\n",
       "</style>\n",
       "<table border=\"1\" class=\"dataframe\">\n",
       "  <thead>\n",
       "    <tr style=\"text-align: right;\">\n",
       "      <th></th>\n",
       "      <th>FirstYear_yearID</th>\n",
       "      <th>FirstYear_G</th>\n",
       "      <th>FirstYear_AB</th>\n",
       "      <th>FirstYear_R</th>\n",
       "      <th>FirstYear_H</th>\n",
       "      <th>FirstYear_2B</th>\n",
       "      <th>FirstYear_3B</th>\n",
       "      <th>FirstYear_HR</th>\n",
       "      <th>FirstYear_RBI</th>\n",
       "      <th>FirstYear_SB</th>\n",
       "      <th>...</th>\n",
       "      <th>SixthYear_SF</th>\n",
       "      <th>SixthYear_GIDP</th>\n",
       "      <th>SixthYear_nameFirst</th>\n",
       "      <th>SixthYear_nameLast</th>\n",
       "      <th>SixthYear_nameGiven</th>\n",
       "      <th>SixthYear_weight</th>\n",
       "      <th>SixthYear_height</th>\n",
       "      <th>SixthYear_age</th>\n",
       "      <th>Prediction</th>\n",
       "      <th>Difference</th>\n",
       "    </tr>\n",
       "  </thead>\n",
       "  <tbody>\n",
       "    <tr>\n",
       "      <th>83</th>\n",
       "      <td>2014</td>\n",
       "      <td>100.0</td>\n",
       "      <td>352.0</td>\n",
       "      <td>41.0</td>\n",
       "      <td>96.0</td>\n",
       "      <td>10.0</td>\n",
       "      <td>2.0</td>\n",
       "      <td>13.0</td>\n",
       "      <td>32.0</td>\n",
       "      <td>2.0</td>\n",
       "      <td>...</td>\n",
       "      <td>4.0</td>\n",
       "      <td>10.0</td>\n",
       "      <td>Bryce</td>\n",
       "      <td>Harper</td>\n",
       "      <td>Bryce Aron Max</td>\n",
       "      <td>210.0</td>\n",
       "      <td>75.0</td>\n",
       "      <td>27.0</td>\n",
       "      <td>40.0</td>\n",
       "      <td>-5.0</td>\n",
       "    </tr>\n",
       "    <tr>\n",
       "      <th>116</th>\n",
       "      <td>2014</td>\n",
       "      <td>123.0</td>\n",
       "      <td>441.0</td>\n",
       "      <td>57.0</td>\n",
       "      <td>139.0</td>\n",
       "      <td>30.0</td>\n",
       "      <td>3.0</td>\n",
       "      <td>23.0</td>\n",
       "      <td>76.0</td>\n",
       "      <td>6.0</td>\n",
       "      <td>...</td>\n",
       "      <td>5.0</td>\n",
       "      <td>19.0</td>\n",
       "      <td>J. D.</td>\n",
       "      <td>Martinez</td>\n",
       "      <td>Julio Daniel</td>\n",
       "      <td>230.0</td>\n",
       "      <td>75.0</td>\n",
       "      <td>32.0</td>\n",
       "      <td>44.0</td>\n",
       "      <td>-8.0</td>\n",
       "    </tr>\n",
       "  </tbody>\n",
       "</table>\n",
       "<p>2 rows × 136 columns</p>\n",
       "</div>"
      ],
      "text/plain": [
       "     FirstYear_yearID  FirstYear_G  FirstYear_AB  FirstYear_R  FirstYear_H  \\\n",
       "83               2014        100.0         352.0         41.0         96.0   \n",
       "116              2014        123.0         441.0         57.0        139.0   \n",
       "\n",
       "     FirstYear_2B  FirstYear_3B  FirstYear_HR  FirstYear_RBI  FirstYear_SB  \\\n",
       "83           10.0           2.0          13.0           32.0           2.0   \n",
       "116          30.0           3.0          23.0           76.0           6.0   \n",
       "\n",
       "     ...  SixthYear_SF  SixthYear_GIDP  SixthYear_nameFirst  \\\n",
       "83   ...           4.0            10.0                Bryce   \n",
       "116  ...           5.0            19.0                J. D.   \n",
       "\n",
       "     SixthYear_nameLast  SixthYear_nameGiven  SixthYear_weight  \\\n",
       "83               Harper       Bryce Aron Max             210.0   \n",
       "116            Martinez         Julio Daniel             230.0   \n",
       "\n",
       "     SixthYear_height  SixthYear_age  Prediction  Difference  \n",
       "83               75.0           27.0        40.0        -5.0  \n",
       "116              75.0           32.0        44.0        -8.0  \n",
       "\n",
       "[2 rows x 136 columns]"
      ]
     },
     "execution_count": 193,
     "metadata": {},
     "output_type": "execute_result"
    }
   ],
   "source": [
    "SVM_2019_dataframe[SVM_2019_dataframe.Prediction > 39]"
   ]
  },
  {
   "cell_type": "code",
   "execution_count": 200,
   "metadata": {},
   "outputs": [
    {
     "data": {
      "text/plain": [
       "99"
      ]
     },
     "execution_count": 200,
     "metadata": {},
     "output_type": "execute_result"
    }
   ],
   "source": [
    "len(SVM_2019_dataframe[SVM_2019_dataframe.Difference < 0])"
   ]
  },
  {
   "cell_type": "code",
   "execution_count": 216,
   "metadata": {},
   "outputs": [
    {
     "data": {
      "text/plain": [
       "15"
      ]
     },
     "execution_count": 216,
     "metadata": {},
     "output_type": "execute_result"
    }
   ],
   "source": [
    "len(SVM_2019_dataframe[SVM_2019_dataframe.Difference == 0])"
   ]
  },
  {
   "cell_type": "code",
   "execution_count": 217,
   "metadata": {},
   "outputs": [
    {
     "data": {
      "text/plain": [
       "77"
      ]
     },
     "execution_count": 217,
     "metadata": {},
     "output_type": "execute_result"
    }
   ],
   "source": [
    "len(SVM_2019_dataframe[SVM_2019_dataframe.Difference > 0])"
   ]
  },
  {
   "cell_type": "code",
   "execution_count": 192,
   "metadata": {},
   "outputs": [
    {
     "data": {
      "text/html": [
       "<div>\n",
       "<style scoped>\n",
       "    .dataframe tbody tr th:only-of-type {\n",
       "        vertical-align: middle;\n",
       "    }\n",
       "\n",
       "    .dataframe tbody tr th {\n",
       "        vertical-align: top;\n",
       "    }\n",
       "\n",
       "    .dataframe thead th {\n",
       "        text-align: right;\n",
       "    }\n",
       "</style>\n",
       "<table border=\"1\" class=\"dataframe\">\n",
       "  <thead>\n",
       "    <tr style=\"text-align: right;\">\n",
       "      <th></th>\n",
       "      <th>FirstYear_yearID</th>\n",
       "      <th>FirstYear_G</th>\n",
       "      <th>FirstYear_AB</th>\n",
       "      <th>FirstYear_R</th>\n",
       "      <th>FirstYear_H</th>\n",
       "      <th>FirstYear_2B</th>\n",
       "      <th>FirstYear_3B</th>\n",
       "      <th>FirstYear_HR</th>\n",
       "      <th>FirstYear_RBI</th>\n",
       "      <th>FirstYear_SB</th>\n",
       "      <th>...</th>\n",
       "      <th>SixthYear_SF</th>\n",
       "      <th>SixthYear_GIDP</th>\n",
       "      <th>SixthYear_nameFirst</th>\n",
       "      <th>SixthYear_nameLast</th>\n",
       "      <th>SixthYear_nameGiven</th>\n",
       "      <th>SixthYear_weight</th>\n",
       "      <th>SixthYear_height</th>\n",
       "      <th>SixthYear_age</th>\n",
       "      <th>Prediction</th>\n",
       "      <th>Difference</th>\n",
       "    </tr>\n",
       "  </thead>\n",
       "  <tbody>\n",
       "    <tr>\n",
       "      <th>83</th>\n",
       "      <td>2014</td>\n",
       "      <td>100.0</td>\n",
       "      <td>352.0</td>\n",
       "      <td>41.0</td>\n",
       "      <td>96.0</td>\n",
       "      <td>10.0</td>\n",
       "      <td>2.0</td>\n",
       "      <td>13.0</td>\n",
       "      <td>32.0</td>\n",
       "      <td>2.0</td>\n",
       "      <td>...</td>\n",
       "      <td>4.0</td>\n",
       "      <td>10.0</td>\n",
       "      <td>Bryce</td>\n",
       "      <td>Harper</td>\n",
       "      <td>Bryce Aron Max</td>\n",
       "      <td>210.0</td>\n",
       "      <td>75.0</td>\n",
       "      <td>27.0</td>\n",
       "      <td>40.0</td>\n",
       "      <td>-5.0</td>\n",
       "    </tr>\n",
       "  </tbody>\n",
       "</table>\n",
       "<p>1 rows × 136 columns</p>\n",
       "</div>"
      ],
      "text/plain": [
       "    FirstYear_yearID  FirstYear_G  FirstYear_AB  FirstYear_R  FirstYear_H  \\\n",
       "83              2014        100.0         352.0         41.0         96.0   \n",
       "\n",
       "    FirstYear_2B  FirstYear_3B  FirstYear_HR  FirstYear_RBI  FirstYear_SB  \\\n",
       "83          10.0           2.0          13.0           32.0           2.0   \n",
       "\n",
       "    ...  SixthYear_SF  SixthYear_GIDP  SixthYear_nameFirst  \\\n",
       "83  ...           4.0            10.0                Bryce   \n",
       "\n",
       "    SixthYear_nameLast  SixthYear_nameGiven  SixthYear_weight  \\\n",
       "83              Harper       Bryce Aron Max             210.0   \n",
       "\n",
       "    SixthYear_height  SixthYear_age  Prediction  Difference  \n",
       "83              75.0           27.0        40.0        -5.0  \n",
       "\n",
       "[1 rows x 136 columns]"
      ]
     },
     "execution_count": 192,
     "metadata": {},
     "output_type": "execute_result"
    }
   ],
   "source": [
    "RF_2019_dataframe[RF_2019_dataframe.Prediction > 39]"
   ]
  },
  {
   "cell_type": "code",
   "execution_count": 199,
   "metadata": {},
   "outputs": [
    {
     "data": {
      "text/plain": [
       "43"
      ]
     },
     "execution_count": 199,
     "metadata": {},
     "output_type": "execute_result"
    }
   ],
   "source": [
    "len(RF_2019_dataframe[RF_2019_dataframe.Difference < 0])"
   ]
  },
  {
   "cell_type": "code",
   "execution_count": 218,
   "metadata": {},
   "outputs": [
    {
     "data": {
      "text/plain": [
       "13"
      ]
     },
     "execution_count": 218,
     "metadata": {},
     "output_type": "execute_result"
    }
   ],
   "source": [
    "len(RF_2019_dataframe[RF_2019_dataframe.Difference == 0])"
   ]
  },
  {
   "cell_type": "code",
   "execution_count": 219,
   "metadata": {},
   "outputs": [
    {
     "data": {
      "text/plain": [
       "135"
      ]
     },
     "execution_count": 219,
     "metadata": {},
     "output_type": "execute_result"
    }
   ],
   "source": [
    "len(RF_2019_dataframe[RF_2019_dataframe.Difference > 0])"
   ]
  },
  {
   "cell_type": "code",
   "execution_count": 184,
   "metadata": {},
   "outputs": [
    {
     "data": {
      "text/html": [
       "<div>\n",
       "<style scoped>\n",
       "    .dataframe tbody tr th:only-of-type {\n",
       "        vertical-align: middle;\n",
       "    }\n",
       "\n",
       "    .dataframe tbody tr th {\n",
       "        vertical-align: top;\n",
       "    }\n",
       "\n",
       "    .dataframe thead th {\n",
       "        text-align: right;\n",
       "    }\n",
       "</style>\n",
       "<table border=\"1\" class=\"dataframe\">\n",
       "  <thead>\n",
       "    <tr style=\"text-align: right;\">\n",
       "      <th></th>\n",
       "      <th>FirstYear_yearID</th>\n",
       "      <th>FirstYear_G</th>\n",
       "      <th>FirstYear_AB</th>\n",
       "      <th>FirstYear_R</th>\n",
       "      <th>FirstYear_H</th>\n",
       "      <th>FirstYear_2B</th>\n",
       "      <th>FirstYear_3B</th>\n",
       "      <th>FirstYear_HR</th>\n",
       "      <th>FirstYear_RBI</th>\n",
       "      <th>FirstYear_SB</th>\n",
       "      <th>...</th>\n",
       "      <th>SixthYear_SF</th>\n",
       "      <th>SixthYear_GIDP</th>\n",
       "      <th>SixthYear_nameFirst</th>\n",
       "      <th>SixthYear_nameLast</th>\n",
       "      <th>SixthYear_nameGiven</th>\n",
       "      <th>SixthYear_weight</th>\n",
       "      <th>SixthYear_height</th>\n",
       "      <th>SixthYear_age</th>\n",
       "      <th>Prediction</th>\n",
       "      <th>Difference</th>\n",
       "    </tr>\n",
       "  </thead>\n",
       "  <tbody>\n",
       "    <tr>\n",
       "      <th>8</th>\n",
       "      <td>2014</td>\n",
       "      <td>111.0</td>\n",
       "      <td>432.0</td>\n",
       "      <td>58.0</td>\n",
       "      <td>124.0</td>\n",
       "      <td>34.0</td>\n",
       "      <td>2.0</td>\n",
       "      <td>18.0</td>\n",
       "      <td>61.0</td>\n",
       "      <td>2.0</td>\n",
       "      <td>...</td>\n",
       "      <td>8.0</td>\n",
       "      <td>14.0</td>\n",
       "      <td>Nolan</td>\n",
       "      <td>Arenado</td>\n",
       "      <td>Nolan James</td>\n",
       "      <td>215.0</td>\n",
       "      <td>74.0</td>\n",
       "      <td>28.0</td>\n",
       "      <td>0.0</td>\n",
       "      <td>41.0</td>\n",
       "    </tr>\n",
       "    <tr>\n",
       "      <th>38</th>\n",
       "      <td>2014</td>\n",
       "      <td>159.0</td>\n",
       "      <td>613.0</td>\n",
       "      <td>87.0</td>\n",
       "      <td>166.0</td>\n",
       "      <td>32.0</td>\n",
       "      <td>2.0</td>\n",
       "      <td>40.0</td>\n",
       "      <td>108.0</td>\n",
       "      <td>4.0</td>\n",
       "      <td>...</td>\n",
       "      <td>3.0</td>\n",
       "      <td>14.0</td>\n",
       "      <td>Nelson</td>\n",
       "      <td>Cruz</td>\n",
       "      <td>Nelson Ramon</td>\n",
       "      <td>230.0</td>\n",
       "      <td>74.0</td>\n",
       "      <td>39.0</td>\n",
       "      <td>0.0</td>\n",
       "      <td>41.0</td>\n",
       "    </tr>\n",
       "    <tr>\n",
       "      <th>170</th>\n",
       "      <td>2014</td>\n",
       "      <td>24.0</td>\n",
       "      <td>89.0</td>\n",
       "      <td>11.0</td>\n",
       "      <td>26.0</td>\n",
       "      <td>8.0</td>\n",
       "      <td>1.0</td>\n",
       "      <td>5.0</td>\n",
       "      <td>20.0</td>\n",
       "      <td>1.0</td>\n",
       "      <td>...</td>\n",
       "      <td>4.0</td>\n",
       "      <td>16.0</td>\n",
       "      <td>Jorge</td>\n",
       "      <td>Soler</td>\n",
       "      <td>Jorge Carlos</td>\n",
       "      <td>235.0</td>\n",
       "      <td>76.0</td>\n",
       "      <td>27.0</td>\n",
       "      <td>0.0</td>\n",
       "      <td>48.0</td>\n",
       "    </tr>\n",
       "    <tr>\n",
       "      <th>174</th>\n",
       "      <td>2014</td>\n",
       "      <td>85.0</td>\n",
       "      <td>244.0</td>\n",
       "      <td>33.0</td>\n",
       "      <td>59.0</td>\n",
       "      <td>9.0</td>\n",
       "      <td>1.0</td>\n",
       "      <td>4.0</td>\n",
       "      <td>23.0</td>\n",
       "      <td>3.0</td>\n",
       "      <td>...</td>\n",
       "      <td>6.0</td>\n",
       "      <td>12.0</td>\n",
       "      <td>Eugenio</td>\n",
       "      <td>Suarez</td>\n",
       "      <td>Eugenio Alejandro</td>\n",
       "      <td>213.0</td>\n",
       "      <td>71.0</td>\n",
       "      <td>28.0</td>\n",
       "      <td>0.0</td>\n",
       "      <td>49.0</td>\n",
       "    </tr>\n",
       "    <tr>\n",
       "      <th>179</th>\n",
       "      <td>2014</td>\n",
       "      <td>157.0</td>\n",
       "      <td>602.0</td>\n",
       "      <td>115.0</td>\n",
       "      <td>173.0</td>\n",
       "      <td>39.0</td>\n",
       "      <td>9.0</td>\n",
       "      <td>36.0</td>\n",
       "      <td>111.0</td>\n",
       "      <td>16.0</td>\n",
       "      <td>...</td>\n",
       "      <td>4.0</td>\n",
       "      <td>5.0</td>\n",
       "      <td>Mike</td>\n",
       "      <td>Trout</td>\n",
       "      <td>Michael Nelson</td>\n",
       "      <td>235.0</td>\n",
       "      <td>74.0</td>\n",
       "      <td>28.0</td>\n",
       "      <td>0.0</td>\n",
       "      <td>45.0</td>\n",
       "    </tr>\n",
       "    <tr>\n",
       "      <th>187</th>\n",
       "      <td>2014</td>\n",
       "      <td>144.0</td>\n",
       "      <td>582.0</td>\n",
       "      <td>94.0</td>\n",
       "      <td>165.0</td>\n",
       "      <td>30.0</td>\n",
       "      <td>6.0</td>\n",
       "      <td>9.0</td>\n",
       "      <td>54.0</td>\n",
       "      <td>21.0</td>\n",
       "      <td>...</td>\n",
       "      <td>3.0</td>\n",
       "      <td>8.0</td>\n",
       "      <td>Christian</td>\n",
       "      <td>Yelich</td>\n",
       "      <td>Christian Stephen</td>\n",
       "      <td>195.0</td>\n",
       "      <td>75.0</td>\n",
       "      <td>28.0</td>\n",
       "      <td>0.0</td>\n",
       "      <td>44.0</td>\n",
       "    </tr>\n",
       "  </tbody>\n",
       "</table>\n",
       "<p>6 rows × 136 columns</p>\n",
       "</div>"
      ],
      "text/plain": [
       "     FirstYear_yearID  FirstYear_G  FirstYear_AB  FirstYear_R  FirstYear_H  \\\n",
       "8                2014        111.0         432.0         58.0        124.0   \n",
       "38               2014        159.0         613.0         87.0        166.0   \n",
       "170              2014         24.0          89.0         11.0         26.0   \n",
       "174              2014         85.0         244.0         33.0         59.0   \n",
       "179              2014        157.0         602.0        115.0        173.0   \n",
       "187              2014        144.0         582.0         94.0        165.0   \n",
       "\n",
       "     FirstYear_2B  FirstYear_3B  FirstYear_HR  FirstYear_RBI  FirstYear_SB  \\\n",
       "8            34.0           2.0          18.0           61.0           2.0   \n",
       "38           32.0           2.0          40.0          108.0           4.0   \n",
       "170           8.0           1.0           5.0           20.0           1.0   \n",
       "174           9.0           1.0           4.0           23.0           3.0   \n",
       "179          39.0           9.0          36.0          111.0          16.0   \n",
       "187          30.0           6.0           9.0           54.0          21.0   \n",
       "\n",
       "     ...  SixthYear_SF  SixthYear_GIDP  SixthYear_nameFirst  \\\n",
       "8    ...           8.0            14.0                Nolan   \n",
       "38   ...           3.0            14.0               Nelson   \n",
       "170  ...           4.0            16.0                Jorge   \n",
       "174  ...           6.0            12.0              Eugenio   \n",
       "179  ...           4.0             5.0                 Mike   \n",
       "187  ...           3.0             8.0            Christian   \n",
       "\n",
       "     SixthYear_nameLast  SixthYear_nameGiven  SixthYear_weight  \\\n",
       "8               Arenado          Nolan James             215.0   \n",
       "38                 Cruz         Nelson Ramon             230.0   \n",
       "170               Soler         Jorge Carlos             235.0   \n",
       "174              Suarez    Eugenio Alejandro             213.0   \n",
       "179               Trout       Michael Nelson             235.0   \n",
       "187              Yelich    Christian Stephen             195.0   \n",
       "\n",
       "     SixthYear_height  SixthYear_age  Prediction  Difference  \n",
       "8                74.0           28.0         0.0        41.0  \n",
       "38               74.0           39.0         0.0        41.0  \n",
       "170              76.0           27.0         0.0        48.0  \n",
       "174              71.0           28.0         0.0        49.0  \n",
       "179              74.0           28.0         0.0        45.0  \n",
       "187              75.0           28.0         0.0        44.0  \n",
       "\n",
       "[6 rows x 136 columns]"
      ]
     },
     "execution_count": 184,
     "metadata": {},
     "output_type": "execute_result"
    }
   ],
   "source": [
    "CC[CC.SixthYear_HR > 39]"
   ]
  },
  {
   "cell_type": "code",
   "execution_count": 220,
   "metadata": {},
   "outputs": [
    {
     "data": {
      "text/plain": [
       "0"
      ]
     },
     "execution_count": 220,
     "metadata": {},
     "output_type": "execute_result"
    }
   ],
   "source": [
    "len(CC[CC.Difference < 0])"
   ]
  },
  {
   "cell_type": "code",
   "execution_count": 221,
   "metadata": {},
   "outputs": [
    {
     "data": {
      "text/plain": [
       "4"
      ]
     },
     "execution_count": 221,
     "metadata": {},
     "output_type": "execute_result"
    }
   ],
   "source": [
    "len(CC[CC.Difference == 0])"
   ]
  },
  {
   "cell_type": "code",
   "execution_count": 222,
   "metadata": {},
   "outputs": [
    {
     "data": {
      "text/plain": [
       "187"
      ]
     },
     "execution_count": 222,
     "metadata": {},
     "output_type": "execute_result"
    }
   ],
   "source": [
    "len(CC[CC.Difference > 0])"
   ]
  },
  {
   "cell_type": "markdown",
   "metadata": {},
   "source": [
    "### Save Models"
   ]
  },
  {
   "cell_type": "code",
   "execution_count": 223,
   "metadata": {},
   "outputs": [],
   "source": [
    "from sklearn.externals import joblib"
   ]
  },
  {
   "cell_type": "code",
   "execution_count": 224,
   "metadata": {},
   "outputs": [
    {
     "data": {
      "text/plain": [
       "['LR.pkl']"
      ]
     },
     "execution_count": 224,
     "metadata": {},
     "output_type": "execute_result"
    }
   ],
   "source": [
    "joblib.dump(regr, 'LR.pkl')"
   ]
  },
  {
   "cell_type": "code",
   "execution_count": 225,
   "metadata": {},
   "outputs": [
    {
     "data": {
      "text/plain": [
       "['LR_2017.pkl']"
      ]
     },
     "execution_count": 225,
     "metadata": {},
     "output_type": "execute_result"
    }
   ],
   "source": [
    "joblib.dump(regr_2017, 'LR_2017.pkl')"
   ]
  },
  {
   "cell_type": "code",
   "execution_count": 226,
   "metadata": {},
   "outputs": [
    {
     "data": {
      "text/plain": [
       "['LR_2018.pkl']"
      ]
     },
     "execution_count": 226,
     "metadata": {},
     "output_type": "execute_result"
    }
   ],
   "source": [
    "joblib.dump(regr_2018, 'LR_2018.pkl')"
   ]
  },
  {
   "cell_type": "code",
   "execution_count": 228,
   "metadata": {},
   "outputs": [
    {
     "data": {
      "text/plain": [
       "['SVM.pkl']"
      ]
     },
     "execution_count": 228,
     "metadata": {},
     "output_type": "execute_result"
    }
   ],
   "source": [
    "joblib.dump(clf, 'SVM.pkl')"
   ]
  },
  {
   "cell_type": "code",
   "execution_count": 229,
   "metadata": {},
   "outputs": [
    {
     "data": {
      "text/plain": [
       "['SVM_2017.pkl']"
      ]
     },
     "execution_count": 229,
     "metadata": {},
     "output_type": "execute_result"
    }
   ],
   "source": [
    "joblib.dump(clf_2017, 'SVM_2017.pkl')"
   ]
  },
  {
   "cell_type": "code",
   "execution_count": 230,
   "metadata": {},
   "outputs": [
    {
     "data": {
      "text/plain": [
       "['SVM_2018.pkl']"
      ]
     },
     "execution_count": 230,
     "metadata": {},
     "output_type": "execute_result"
    }
   ],
   "source": [
    "joblib.dump(clf_2018, 'SVM_2018.pkl')"
   ]
  },
  {
   "cell_type": "code",
   "execution_count": 231,
   "metadata": {},
   "outputs": [
    {
     "data": {
      "text/plain": [
       "['RF.pkl']"
      ]
     },
     "execution_count": 231,
     "metadata": {},
     "output_type": "execute_result"
    }
   ],
   "source": [
    "joblib.dump(forest, 'RF.pkl')"
   ]
  },
  {
   "cell_type": "code",
   "execution_count": 232,
   "metadata": {},
   "outputs": [
    {
     "data": {
      "text/plain": [
       "['RF_2017.pkl']"
      ]
     },
     "execution_count": 232,
     "metadata": {},
     "output_type": "execute_result"
    }
   ],
   "source": [
    "joblib.dump(forest_2017, 'RF_2017.pkl')"
   ]
  },
  {
   "cell_type": "code",
   "execution_count": 233,
   "metadata": {},
   "outputs": [
    {
     "data": {
      "text/plain": [
       "['RF_2018.pkl']"
      ]
     },
     "execution_count": 233,
     "metadata": {},
     "output_type": "execute_result"
    }
   ],
   "source": [
    "joblib.dump(forest_2018, 'RF_2018.pkl')"
   ]
  },
  {
   "cell_type": "code",
   "execution_count": null,
   "metadata": {},
   "outputs": [],
   "source": []
  }
 ],
 "metadata": {
  "kernelspec": {
   "display_name": "Python 3",
   "language": "python",
   "name": "python3"
  },
  "language_info": {
   "codemirror_mode": {
    "name": "ipython",
    "version": 3
   },
   "file_extension": ".py",
   "mimetype": "text/x-python",
   "name": "python",
   "nbconvert_exporter": "python",
   "pygments_lexer": "ipython3",
   "version": "3.6.0"
  }
 },
 "nbformat": 4,
 "nbformat_minor": 2
}
